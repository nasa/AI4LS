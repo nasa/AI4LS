{
 "cells": [
  {
   "cell_type": "code",
   "execution_count": 5,
   "id": "initial_id",
   "metadata": {
    "collapsed": true,
    "ExecuteTime": {
     "end_time": "2025-06-20T22:28:49.223405100Z",
     "start_time": "2025-06-20T22:28:49.214029100Z"
    }
   },
   "outputs": [],
   "source": [
    "import utils\n",
    "import anndata\n",
    "import numpy as np\n",
    "import pandas as pd\n",
    "import requests\n",
    "import scanpy as sc\n",
    "import scanpy.external as sce\n",
    "import scanorama\n",
    "import os\n",
    "import anndata\n",
    "from typing import List, Optional"
   ]
  },
  {
   "cell_type": "code",
   "execution_count": 6,
   "outputs": [],
   "source": [
    "path = os.getcwd()[:-3]"
   ],
   "metadata": {
    "collapsed": false,
    "ExecuteTime": {
     "end_time": "2025-06-20T22:28:49.531080800Z",
     "start_time": "2025-06-20T22:28:49.524059200Z"
    }
   },
   "id": "3ace85137b5341c3"
  },
  {
   "cell_type": "code",
   "execution_count": 7,
   "outputs": [],
   "source": [
    "processed_612 = sc.read_h5ad(path+'data/processed_612_data.h5ad')\n",
    "processed_613 = sc.read_h5ad(path+'data/processed_613_data.h5ad')\n",
    "processed_352 = sc.read_h5ad(path+'data/processed_352_data.h5ad')"
   ],
   "metadata": {
    "collapsed": false,
    "ExecuteTime": {
     "end_time": "2025-06-20T22:29:00.932245800Z",
     "start_time": "2025-06-20T22:28:49.793320100Z"
    }
   },
   "id": "aeb22df3e3a69a49"
  },
  {
   "cell_type": "code",
   "execution_count": 8,
   "outputs": [],
   "source": [
    "processed_data = [processed_352, processed_612, processed_613]"
   ],
   "metadata": {
    "collapsed": false,
    "ExecuteTime": {
     "end_time": "2025-06-20T22:30:28.734379300Z",
     "start_time": "2025-06-20T22:30:28.728091300Z"
    }
   },
   "id": "3ac6beeb25c5e8e7"
  },
  {
   "cell_type": "code",
   "execution_count": 9,
   "outputs": [],
   "source": [
    "def gene_overlap_check(adata_list: list[sc.AnnData]):\n",
    "    \"\"\"Quick check of gene overlap between datasets\"\"\"\n",
    "    gene_sets = [set(adata.var.index) for adata in adata_list]\n",
    "    common_genes = set.intersection(*gene_sets)\n",
    "    all_genes = set.union(*gene_sets)\n",
    "\n",
    "    print(f\"Gene overlap summary:\")\n",
    "    print(f\"  Genes common to ALL datasets: {len(common_genes)}\")\n",
    "    print(f\"  Total unique genes: {len(all_genes)}\")\n",
    "    print(f\"  Overlap percentage: {len(common_genes) / len(all_genes) * 100:.1f}%\")\n",
    "    return common_genes\n",
    "\n",
    "def merge_anndata_on_shared_vars(\n",
    "        adata_list: List[sc.AnnData],\n",
    "        output_path: Optional[str] = None\n",
    ") -> sc.AnnData:\n",
    "    \"\"\"\n",
    "    Merge multiple AnnData objects on shared var indices (genes).\n",
    "    Assumes each dataset already has a 'dataset' column in .obs.\n",
    "\n",
    "    Parameters:\n",
    "    -----------\n",
    "    adata_list : List[sc.AnnData]\n",
    "        List of AnnData objects to merge\n",
    "    output_path : Optional[str]\n",
    "        Path to save the merged object as h5ad file\n",
    "\n",
    "    Returns:\n",
    "    --------\n",
    "    sc.AnnData\n",
    "        Merged AnnData object with only shared genes\n",
    "    \"\"\"\n",
    "\n",
    "    # Validate inputs\n",
    "    if len(adata_list) < 2:\n",
    "        raise ValueError(\"Need at least 2 AnnData objects to merge\")\n",
    "\n",
    "    print(f\"Merging {len(adata_list)} AnnData objects on shared variables...\")\n",
    "\n",
    "    # Print basic info about each dataset\n",
    "    for i, adata in enumerate(adata_list):\n",
    "        dataset_info = adata.obs['dataset'].value_counts()\n",
    "        print(f\"Dataset {i}: {adata.n_obs} cells × {adata.n_vars} genes\")\n",
    "        print(f\"  Dataset labels: {list(dataset_info.index)}\")\n",
    "\n",
    "    # Merge datasets using inner join (only shared genes)\n",
    "    merged_adata = sc.concat(\n",
    "        adata_list,\n",
    "        join='inner',  # Only keep genes present in ALL datasets\n",
    "        index_unique=None\n",
    "    )\n",
    "\n",
    "    print(f\"\\nMerged dataset: {merged_adata.n_obs} cells × {merged_adata.n_vars} genes\")\n",
    "    print(f\"Genes kept: {merged_adata.n_vars} (shared across all datasets)\")\n",
    "\n",
    "    # Show dataset distribution in merged object\n",
    "    print(f\"\\nDataset distribution in merged object:\")\n",
    "    dataset_counts = merged_adata.obs['dataset'].value_counts()\n",
    "    print(dataset_counts)\n",
    "\n",
    "    # Save if output path provided\n",
    "    if output_path:\n",
    "        merged_adata.write(output_path)\n",
    "        print(f\"\\nSaved merged dataset to: {output_path}\")\n",
    "\n",
    "    return merged_adata"
   ],
   "metadata": {
    "collapsed": false,
    "ExecuteTime": {
     "end_time": "2025-06-20T22:30:29.487694100Z",
     "start_time": "2025-06-20T22:30:29.478791500Z"
    }
   },
   "id": "307355eb0f9c83ff"
  },
  {
   "cell_type": "code",
   "execution_count": 23,
   "outputs": [
    {
     "name": "stdout",
     "output_type": "stream",
     "text": [
      "Gene overlap summary:\n",
      "  Genes common to ALL datasets: 21543\n",
      "  Total unique genes: 25639\n",
      "  Overlap percentage: 84.0%\n"
     ]
    },
    {
     "data": {
      "text/plain": "{'Krtcap3',\n 'Pkd1',\n 'Rad52',\n '1700028M03Rik',\n 'Mtx1',\n 'Angptl6',\n 'Ptcd3',\n 'Gm47814',\n 'Suds3',\n 'Zfp771',\n 'Rfc3',\n '4932412D23Rik',\n 'Pcmtd1',\n 'Mbd3l2',\n 'Endov',\n 'Sh2d1a',\n 'Rnaset2a',\n 'Spocd1',\n 'Gabarap',\n 'Kctd8',\n 'Dpp7',\n 'Naa30',\n 'Fcor',\n 'Gm6741',\n 'Usp27x',\n 'B230104I21Rik',\n '4933412O06Rik',\n 'Gm38604',\n 'Fbxo18',\n 'Smtn',\n 'Rab10',\n 'Lsm5',\n 'Gatsl3',\n 'Angptl7',\n 'Myh4',\n 'Magee2',\n 'Gm47990',\n 'BC030500',\n 'Ccdc157',\n 'Ndufs8',\n 'Adamts10',\n 'Atp11a',\n 'Unc5b',\n 'Retreg3',\n 'Cnnm2',\n 'Smo',\n 'Jph2',\n 'Tmem57',\n 'Ank3',\n 'AC124561.1',\n 'Gm20512',\n 'Lrrc8a',\n 'Vmn1r188',\n 'Dxo',\n 'Prrx2',\n 'Zfp202',\n 'Cadps',\n 'Chia1',\n 'Zpbp',\n 'Gimap6',\n 'Gm11872',\n 'Gm30411',\n 'Irx5',\n 'A230083G16Rik',\n 'Rpain',\n 'Dclk1',\n 'F9',\n 'Haus7',\n 'AA986860',\n 'Tom1',\n 'Slc31a2',\n 'Mvb12a',\n 'Cftr',\n 'Gm19412',\n 'C030018K13Rik',\n 'Zfp629',\n 'Pcgf3',\n 'Klc2',\n 'Btf3',\n 'Dmrta2',\n 'Gm33037',\n 'Epha8',\n 'Gm16240',\n 'Drc1',\n 'Kif5a',\n 'Pla2g1b',\n 'Zfp709',\n 'Gm12472',\n 'Snn',\n 'Nbr1',\n 'Adra1d',\n 'Ifitm2',\n 'Cdkn2aip',\n 'Klhl21',\n 'Rho',\n 'A930015D03Rik',\n 'Cmtm6',\n 'Gm10390',\n 'Gm26669',\n 'Fam163a',\n 'Otub2',\n 'Gm48651',\n 'Stxbp2',\n 'Ctdsp2',\n 'Gm48727',\n 'Sgk1',\n 'Gm26889',\n 'Gm6583',\n 'Vmn2r59',\n 'Fgd2',\n 'Frmpd4',\n 'Zfp300',\n 'Rprd2',\n 'Thsd7a',\n 'Tal1',\n 'Tmsb15l',\n 'A430105J06Rik',\n '1700008C04Rik',\n 'Gm13166',\n 'Crhr1',\n 'Gm35722',\n 'Otop2',\n 'Gm7292',\n '1700061E18Rik',\n 'Iqcg',\n '1700015I17Rik',\n '4930426L09Rik',\n 'Gm14286',\n 'Peli2',\n 'Gm37027',\n 'Ccp110',\n 'Dnmt3a',\n 'Uqcrc1',\n 'Ccdc152',\n 'Tusc1',\n 'Clic4',\n 'Mfsd4a',\n 'Ccdc106',\n 'Commd7',\n 'Gm42417',\n 'Rassf6',\n 'Nat6',\n 'Cox7b',\n '4930455M05Rik',\n 'Gm13524',\n 'Gng13',\n '6330418K02Rik',\n 'Mrps30',\n 'G630064G18Rik',\n 'Gm38562',\n 'Esyt3',\n 'Ankrd12',\n 'Mapk8ip1',\n 'Ndufb4',\n 'Pbx3',\n 'Mblac2',\n 'Cd320',\n 'Morf4l2',\n 'Frmd8',\n 'Rfx4',\n 'Agap1',\n 'Elovl4',\n 'Clcn6',\n 'Heph',\n 'Nt5c1b',\n 'Ccdc74a',\n 'Hsd17b2',\n 'Dgkh',\n 'Gm26749',\n 'Il2',\n 'Tufm',\n 'Washc4',\n 'Gm47232',\n 'Gm42726',\n 'Zdhhc13',\n 'Gm43077',\n 'Sh3glb1',\n 'Hint2',\n 'Tmem52',\n 'Ip6k1',\n 'Wdr17',\n 'Gm26877',\n 'C030034I22Rik',\n 'Acp6',\n 'Rcn3',\n 'Gtf2f1',\n 'Ttc38',\n 'Gpatch1',\n 'Prkar2a',\n 'Csnk2a1',\n 'Nsun2',\n 'Usp9x',\n '4933402D24Rik',\n 'Atp6v1b1',\n 'Akap1',\n 'Siah1a',\n 'Ikbke',\n '9530082P21Rik',\n 'Sdhaf2',\n 'Mipep',\n 'AC158974.2',\n 'Dcaf11',\n 'Kcns2',\n 'Vapb',\n 'Ticam1',\n 'Celf5',\n 'Smc6',\n 'Sh3kbp1',\n 'Raet1e',\n 'Gm45304',\n 'Gm37168',\n 'Poc1a',\n 'Sntb2',\n '9630028B13Rik',\n 'Gm43403',\n 'Gm15964',\n 'Ccdc110',\n 'Ache',\n 'Cox4i2',\n 'Prim2',\n 'Ubtf',\n 'Slc25a3',\n 'Ywhae',\n 'Rfxank',\n 'Ndufb11',\n 'Eme1',\n 'Gm40513',\n 'Gm11250',\n 'Heatr1',\n 'Cog7',\n 'Zbtb5',\n 'Ercc2',\n 'Use1',\n '9030404E10Rik',\n 'Pde4dip',\n 'Fgf16',\n 'Abhd12',\n 'Exosc5',\n 'Bcl10',\n 'Gm15511',\n 'Arhgap23',\n 'Wfdc18',\n 'Rab15',\n 'Nucb2',\n 'Leng8',\n 'Gm20696',\n 'Gm16178',\n 'Zfp180',\n 'Ifitm3',\n 'Pdcd6ip',\n 'Tspan6',\n 'Tap1',\n 'Tnip3',\n 'Gpatch2l',\n 'Mettl18',\n 'Gm11823',\n 'Gm45613',\n 'Gm43608',\n 'Azin1',\n 'Gm26826',\n 'Kcnn3',\n 'Clec12b',\n 'Gm29680',\n 'Fasl',\n '2010007H06Rik',\n 'Plin2',\n 'Dscr3',\n 'Gm26895',\n 'Zfp638',\n 'Tmem63b',\n 'Tbc1d12',\n 'Gm37267',\n 'Tacc1',\n 'Mrps18b',\n 'Phkg1',\n 'Igfn1',\n 'Ncln',\n 'F13b',\n '2810404M03Rik',\n 'Csnk1e',\n 'Adap2',\n 'Gm12511',\n 'Gsta4',\n 'AC153010.1',\n 'Atp8b3',\n '4930512H18Rik',\n 'Gm44618',\n 'Bhmt',\n 'Gm21693',\n 'Stxbp5',\n 'Gm35041',\n 'Mrpl19',\n 'Mastl',\n 'Acaa1b',\n 'Rasal2',\n 'Nanos2',\n 'Slc35f6',\n 'Cd83',\n 'Psmc3ip',\n 'Nudt4',\n 'Gab1',\n 'Gm11491',\n 'Samhd1',\n 'Gm16068',\n 'Gm35733',\n 'Gm17111',\n 'Dnajc8',\n 'Xrcc5',\n 'Polr3k',\n 'Cops5',\n 'Nup54',\n 'Phf2',\n 'Gm49164',\n 'Pcdh10',\n 'Kat14',\n 'Cep44',\n 'Fahd1',\n 'Fignl1',\n 'Amotl2',\n 'D7Ertd443e',\n 'Prss27',\n 'Lyn',\n 'Nck2',\n 'Ap3s1',\n '3300002I08Rik',\n 'Mpp3',\n 'Copg1',\n 'Gm11986',\n 'Selenoo',\n 'Alkal1',\n 'Zfp772',\n 'Bpifb4',\n 'Gpr137c',\n 'Nfkbib',\n 'A230050P20Rik',\n 'Emx2os',\n 'Cd37',\n 'Unc119b',\n 'Ptgdr',\n 'Ccdc134',\n 'Ppp1r35',\n 'Pcdhgb4',\n 'Fra10ac1',\n 'Ddx41',\n 'Gm10389',\n 'Rpa3',\n 'Mt3',\n 'Gng12',\n 'Eif2ak1',\n 'Rpl7a-ps5',\n '0610010K14Rik',\n 'Gm20425',\n 'Zfp131',\n 'Sash1',\n 'Rb1',\n '4933432I09Rik',\n 'Chil6',\n 'Tnrc6a',\n 'Gtf2ird2',\n 'Degs1',\n 'Rnf219',\n 'Zfp296',\n '4930570B17Rik',\n 'Zfp647',\n 'Aip',\n 'Hkdc1',\n 'Gm34868',\n 'Fndc9',\n 'Pcdhgc3',\n 'Abca14',\n 'Snx13',\n 'Uri1',\n 'Gtf2i',\n 'Eef1akmt4',\n 'Gm10827',\n 'Gng3',\n 'Prpsap2',\n 'Gstm4',\n 'Fscn2',\n 'Dctn1',\n 'Pde6d',\n 'Sall1',\n 'Irx3',\n '1700102P08Rik',\n 'Ppic',\n 'Dhx34',\n 'Gm816',\n 'Gm13872',\n '3110062M04Rik',\n 'Gm30524',\n 'Cnst',\n 'Rtf1',\n 'Bend3',\n 'Uvssa',\n 'Fam192a',\n 'Lrrc8b',\n 'Gm20471',\n 'Birc2',\n 'Iqch',\n 'Lzic',\n 'Actbl2',\n 'Rbms3',\n 'Rpl23',\n 'Pmpca',\n 'Lig1',\n 'Sec31b',\n 'Gm3002',\n 'Sag',\n 'Mtch2',\n 'Sh3bp1',\n 'Il1b',\n 'Rhox8',\n 'Enpp3',\n 'Kcnc4',\n 'AC154606.1',\n 'Map1b',\n 'Rb1cc1',\n 'Proscos',\n 'Orc5',\n 'Anapc16',\n 'Gm27200',\n 'Fxyd1',\n 'Fgf1',\n 'Trmo',\n 'Ptx3',\n 'Timm10',\n 'Arhgap11a',\n 'Gm26825',\n 'Mdm2',\n 'Tango2',\n 'Ankrd44',\n 'Ctc1',\n 'Rassf10',\n 'Mdm1',\n 'Tmem128',\n 'Map4k5',\n 'Gm43714',\n 'Gm49171',\n 'Gm34297',\n 'Gm28156',\n 'Isyna1',\n 'Mppe1',\n 'Gm43936',\n 'Pet100',\n 'Fate1',\n 'Gm2366',\n 'Sall4',\n 'Crispld2',\n 'Cars',\n 'Adgrf4',\n 'Gm47666',\n 'Tpp1',\n 'Pop1',\n 'Nckipsd',\n 'AB041806',\n 'H2-M10.2',\n 'Idua',\n 'Gm15563',\n 'Gm26807',\n 'Gm29260',\n 'Ifi27',\n 'Riok3',\n 'B430218F22Rik',\n 'Iqce',\n 'Gypa',\n 'Dennd2d',\n 'Ajap1',\n 'Gm45682',\n 'Dph5',\n 'Gm45902',\n 'Fcho1',\n 'Gm47698',\n 'Gm11639',\n 'Zfp931',\n 'Hmg20b',\n 'Akt1s1',\n 'Foxc2',\n 'Gm12279',\n 'Col5a2',\n 'Gm48215',\n 'Cdc45',\n 'Gm5475',\n 'Diaph3',\n 'Gm45941',\n 'Gm14344',\n 'Otof',\n 'Ptpn5',\n 'Fam46a',\n 'Ttc1',\n 'Tbc1d13',\n 'Strbp',\n '1700063H06Rik',\n 'Gm11772',\n '1700069L16Rik',\n 'Grem2',\n 'Gm32369',\n 'Has2',\n 'Tgfbr1',\n 'Cyb5b',\n 'Dnase1l1',\n 'Mylk4',\n 'A930006L05Rik',\n '4930509E16Rik',\n 'Arhgap27os1',\n 'Wnt7b',\n 'Ccdc124',\n 'Ubfd1',\n 'Gal',\n 'Ackr1',\n '4933405D12Rik',\n 'Mfap1a',\n 'Map2k3',\n 'Zfp146',\n 'Gm34885',\n 'Gm48006',\n 'Gm15287',\n '4732496C06Rik',\n 'Aoah',\n 'Gm11266',\n 'Echs1',\n '1810020O05Rik',\n 'Fkbp8',\n 'Gm5796',\n 'Pcdha2',\n 'Cchcr1',\n 'Sept10',\n 'Pcdh20',\n 'Gmppa',\n 'Pdgfc',\n 'Nphp3',\n '4930526L06Rik',\n 'Taf1b',\n 'Gm6657',\n 'Stx1b',\n 'Trpc5os',\n 'Ezh2',\n 'Gm11027',\n 'Gm16124',\n 'B130006D01Rik',\n 'Gm47059',\n 'Tial1',\n 'Parg',\n 'Lamtor1',\n 'Zfp808',\n 'Gm16275',\n 'Gm47243',\n '1700125H03Rik',\n 'Zfp217',\n 'Gm43653',\n 'Gm19589',\n 'Zswim9',\n 'Dtx2',\n 'Sesn3',\n 'Gpc6',\n 'Timmdc1',\n 'Myef2',\n 'Gm4951',\n 'AC124490.1',\n '4930558J18Rik',\n 'Cyp2u1',\n 'Nek4',\n 'Efr3a',\n 'Ccdc65',\n 'Mrps2',\n 'Tapt1',\n 'Gm17546',\n '6330562C20Rik',\n '1700080G11Rik',\n 'Shtn1',\n 'Ran',\n 'Klk8',\n 'Alx4',\n 'Cplx3',\n 'Ttll4',\n 'Gm43126',\n 'Gm14391',\n 'Spata5',\n 'Gpt2',\n 'Cdhr2',\n 'Mfsd7a',\n 'Glrp1',\n 'Ggt7',\n 'Rad51ap2',\n 'Lipg',\n 'Pitx1',\n 'Asgr1',\n '4933421D24Rik',\n 'Manbal',\n 'Stx1a',\n 'Ufsp2',\n 'Ufd1',\n 'Dixdc1',\n 'Zc3hc1',\n 'Gm28590',\n 'Memo1',\n 'Inpp5a',\n 'Fbxl19',\n 'Bmi1',\n 'Gm4952',\n 'Tpm2',\n 'Ap1g1',\n 'Adamts7',\n 'Mvb12b',\n 'BC030870',\n 'Spopl',\n 'Gart',\n 'Ticrr',\n 'Gpr183',\n 'Ccr4',\n 'Gm31456',\n 'Hddc2',\n 'Myl12b',\n 'Rab28',\n 'Surf1',\n 'Pcdhga10',\n 'Gm26555',\n 'Smc3',\n 'Tada1',\n 'AC160335.1',\n 'Gm525',\n 'Nkapl',\n 'Maf1',\n 'Gla',\n 'Ofcc1',\n 'Rab22a',\n 'Cmc4',\n 'Mbp',\n 'Sufu',\n 'Syt7',\n 'Cby1',\n 'Sgsh',\n 'Rnf151',\n 'Ranbp10',\n 'Ndufv3',\n 'Tpm3',\n 'Teddm1b',\n 'Vwa7',\n 'Tnk2',\n 'Etohd2',\n 'Pdzd3',\n 'Pfkfb2',\n 'Gramd2',\n 'Arfip2',\n 'Slc17a7',\n 'Cyp46a1',\n 'Gm20083',\n 'Zfp944',\n '4930412B13Rik',\n 'Gm21973',\n 'Ercc5',\n 'Gm34759',\n 'Lpp',\n 'Zfp991',\n '1700019A02Rik',\n 'Sec61b',\n 'Amph',\n 'Kcnh8',\n 'Anxa11os',\n '4930555F03Rik',\n 'Dll4',\n '2810454H06Rik',\n 'Madd',\n 'Prpf4',\n 'Recql5',\n '2810402E24Rik',\n 'Pcdhb4',\n 'Pde6h',\n 'Lrrn4cl',\n 'Pigz',\n 'Srd5a2',\n 'Nagpa',\n 'Tesmin',\n 'Fbxo38',\n 'Rab7b',\n 'Gm26730',\n '4930442G10Rik',\n 'Tap2',\n 'Kctd12b',\n 'Dsp',\n 'Nphp4',\n 'Ccdc22',\n 'Pcdh18',\n 'Gm9821',\n 'Ints1',\n 'Lmx1b',\n 'Rbm27',\n '1700029H14Rik',\n 'Mb21d2',\n 'Gm12426',\n 'Pth1r',\n 'Ppargc1a',\n 'Ddx1',\n 'Tekt5',\n 'Lmbr1',\n 'Xntrpc',\n 'Gpr87',\n 'Zzef1',\n 'Adam7',\n 'Cenpf',\n '1700052H01Rik',\n 'Irgq',\n 'Tril',\n 'Gm42865',\n 'Mrps22',\n 'Gm45163',\n 'Rdh11',\n 'Map3k2',\n 'BC005537',\n 'Gpr162',\n 'Eral1',\n 'Vps41',\n 'Ctxn2',\n 'Mapkapk3',\n 'AY036118',\n 'Pml',\n 'Mcm10',\n 'Gcnt2',\n 'AC110166.2',\n 'Gm31458',\n 'Cacna1b',\n 'Ndufaf2',\n 'Nrm',\n 'Adipor1',\n 'Zfp593',\n 'Gm7467',\n 'Gemin7',\n 'Msi2',\n 'Uchl1',\n 'Thbs2',\n '5730455P16Rik',\n 'Htr2a',\n 'Gm4577',\n 'Cd200',\n '1700084F23Rik',\n 'Lnx2',\n 'Ighd',\n 'Ddx39',\n 'Gm17435',\n 'Eif4b',\n 'Abce1',\n 'Gm17200',\n 'Gm48746',\n 'Greb1',\n 'Plxna4',\n 'Acss1',\n 'Fcrls',\n 'Eefsec',\n 'Sema3e',\n 'Nat8f3',\n 'Gm12968',\n 'Kcnq2',\n 'Gm40653',\n 'Zfp346',\n 'Tnfaip2',\n 'Galr1',\n 'Aifm1',\n 'Glo1',\n 'Ano1',\n 'Gm20604',\n 'D330050G23Rik',\n 'Mmaa',\n 'Pex5',\n 'Slc12a6',\n 'Nkain3',\n 'Zbtb34',\n 'Ccdc138',\n 'Nelfa',\n 'Ocln',\n 'Ddhd1',\n 'Camta2',\n 'Gm48775',\n 'Brwd3',\n 'Rasgef1c',\n 'Bnipl',\n 'Gm49169',\n 'Pick1-1',\n 'Gm28308',\n 'Insig1',\n 'Rbp7',\n 'Adgrf5',\n 'Wnk3',\n '4632411P08Rik',\n 'Kcnk6',\n 'Fam169b',\n 'G6pc3',\n '1700030J22Rik',\n 'Gm44947',\n 'Slc39a7',\n 'Actn2',\n '5730522E02Rik',\n 'Zfp955b',\n 'Rfx1',\n 'Cnot10',\n 'Il18',\n 'Tmc1',\n 'Zfp148',\n 'Adrb2',\n 'Slc16a10',\n 'Nnat',\n 'Dcaf6',\n 'Serpinb1b',\n 'Erich1',\n 'Thoc5',\n 'Cxxc1',\n 'Coprs',\n 'Eif3j2',\n 'Hebp2',\n 'Gm10631',\n 'Zfp428',\n 'BC067074',\n 'Hck',\n 'B4galt2',\n 'Nemf',\n 'Olig1',\n 'Efr3b',\n 'Fam162a',\n 'Gm4265',\n 'Aoc2',\n 'Tbx20',\n 'Vwa5b2',\n 'Gm26703',\n 'Chtf8',\n 'Foxb1',\n 'Ccdc153',\n 'Gm21833',\n 'Gm47486',\n 'Uqcr11',\n 'Eif4enif1',\n 'Rpp40',\n 'Slc35f3',\n 'Olfr655',\n 'Tnfrsf23',\n 'Nexn',\n 'A830029E22Rik',\n 'Zic4',\n 'Plpp3',\n 'Crmp1',\n 'Fjx1',\n 'Zfp799',\n 'Acad11',\n 'Zfp810',\n 'AI606181',\n 'Asb5',\n 'Tmem150cos',\n 'Gm42738',\n 'Cpne6',\n 'Atp2a2',\n 'Fam53c',\n 'Ndufa8',\n 'Dmrta1',\n 'Gm12796',\n 'Ctdnep1',\n 'B230219D22Rik',\n 'Prdm10',\n 'Acly',\n 'Rp1',\n 'Slc12a8',\n 'Samsn1',\n 'Gm12320',\n 'BC028528',\n 'Tecta',\n 'Gm35419',\n 'Rars2',\n 'Gnl2',\n 'Fgf20',\n 'Rnaseh2b',\n 'Gm26796',\n 'Gm13483',\n 'A830092H15Rik',\n 'Gm14342',\n 'Gm10845',\n 'Emc8',\n 'Cdc14b',\n 'Lmbrd1',\n 'Fdxr',\n 'Slc25a35',\n 'Napepld',\n 'Zfp551',\n 'Cxcl14',\n 'R3hdm2',\n 'Nrsn1',\n 'Capns1',\n 'Oxtr',\n 'A930104D05Rik',\n 'Agt',\n 'Farsb',\n 'Ptdss1',\n 'N4bp2',\n 'Ccl27b',\n 'Impad1',\n 'Trmt2b',\n 'Gm16161',\n 'Heyl',\n 'Ino80b',\n 'Fat4',\n 'Rbm45',\n 'Tmem150b',\n 'Slc25a48',\n 'Hspa13',\n 'Gm12116',\n 'Plxna1',\n 'Col13a1',\n 'Tex15',\n 'Gm41002',\n 'Slc32a1',\n 'Asb16',\n 'Wdr12',\n 'Derl2',\n 'Usp39',\n 'Ccdc155',\n 'Slc23a2',\n 'Mfap1b',\n 'Mfsd2a',\n 'Ankef1',\n 'Itpka',\n 'Gm26917',\n 'Gm33756',\n 'Gm26901',\n 'Spc24',\n 'Rbfox1',\n 'Gm35339',\n 'Zdhhc16',\n 'Dclk3',\n 'Mrgprd',\n 'Fam71e2',\n 'Maml3',\n 'Tprg',\n 'Unc5a',\n 'Gm13211',\n 'Nploc4',\n 'Ttyh2',\n 'Nup210',\n 'Sh3bgrl3',\n 'Mettl6',\n 'Gm10848',\n 'Gm17518',\n 'Cacng2',\n 'Gm42669',\n 'Gm34558',\n 'AC154507.2',\n 'Lhfpl1',\n 'Rell2',\n 'Dclre1b',\n 'Rttn',\n 'Neurl3',\n 'Micalcl',\n 'Mettl8',\n 'Atg12',\n 'Timeless',\n '1110059E24Rik',\n 'Macrod2',\n 'Mphosph10',\n 'Gm16894',\n 'Mmp11',\n 'Oprl1',\n 'Dhx33',\n 'Usp40',\n 'Tmem14c',\n 'Gm26520',\n 'Syce3',\n 'Tsnaxip1',\n 'Gm28638',\n 'Gm47888',\n 'Vps4b',\n 'Smim27',\n 'Hmbs',\n 'Selenop',\n 'Zik1',\n 'Tram1l1',\n 'Slc18a1',\n 'Lsm3',\n 'Ccr1',\n 'Slc25a16',\n 'Pam16',\n 'Gtse1',\n 'Arl6ip4',\n 'Hoxa1',\n 'Tmem41a',\n 'Gm29491',\n 'Gm37853',\n 'Gipc2',\n '4931403G20Rik',\n 'Foxa2',\n 'Gm4022',\n 'Hmgcr',\n 'G730003C15Rik',\n 'Gm36500',\n 'Ypel3',\n 'Zfp36l2',\n 'Gm13052',\n 'AI597479',\n 'Gabre',\n 'Sort1',\n 'Gm49189',\n 'Cc2d1b',\n 'BC048507',\n 'Pdzd8',\n 'Usp50',\n 'Socs2',\n 'Cxcl5',\n ...}"
     },
     "execution_count": 23,
     "metadata": {},
     "output_type": "execute_result"
    }
   ],
   "source": [
    "gene_overlap_check(processed_data)"
   ],
   "metadata": {
    "collapsed": false,
    "ExecuteTime": {
     "end_time": "2025-06-20T22:12:40.761947Z",
     "start_time": "2025-06-20T22:12:40.715125600Z"
    }
   },
   "id": "52ec46226a4d27c8"
  },
  {
   "cell_type": "code",
   "execution_count": 10,
   "outputs": [
    {
     "name": "stdout",
     "output_type": "stream",
     "text": [
      "Merging 3 AnnData objects on shared variables...\n",
      "Dataset 0: 17563 cells × 21635 genes\n",
      "  Dataset labels: ['352']\n",
      "Dataset 1: 78687 cells × 24643 genes\n",
      "  Dataset labels: ['612']\n",
      "Dataset 2: 116403 cells × 25323 genes\n",
      "  Dataset labels: ['613']\n"
     ]
    },
    {
     "name": "stderr",
     "output_type": "stream",
     "text": [
      "C:\\Creations\\Research\\NASASLSTP25\\AI4LS\\AI4LS\\CVAE\\.venv_cvae\\Lib\\site-packages\\anndata\\_core\\anndata.py:1756: UserWarning: Observation names are not unique. To make them unique, call `.obs_names_make_unique`.\n",
      "  utils.warn_names_duplicates(\"obs\")\n",
      "C:\\Creations\\Research\\NASASLSTP25\\AI4LS\\AI4LS\\CVAE\\.venv_cvae\\Lib\\site-packages\\anndata\\_core\\anndata.py:1756: UserWarning: Observation names are not unique. To make them unique, call `.obs_names_make_unique`.\n",
      "  utils.warn_names_duplicates(\"obs\")\n"
     ]
    },
    {
     "name": "stdout",
     "output_type": "stream",
     "text": [
      "\n",
      "Merged dataset: 212653 cells × 21543 genes\n",
      "Genes kept: 21543 (shared across all datasets)\n",
      "\n",
      "Dataset distribution in merged object:\n",
      "dataset\n",
      "613    116403\n",
      "612     78687\n",
      "352     17563\n",
      "Name: count, dtype: int64\n",
      "\n",
      "Saved merged dataset to: C:\\Creations\\Research\\NASASLSTP25\\AI4LS\\AI4LS\\CVAE\\data/unbatch_corrected_data.h5ad\n"
     ]
    },
    {
     "data": {
      "text/plain": "AnnData object with n_obs × n_vars = 212653 × 21543\n    obs: 'batch', 'n_genes', 'dataset', 'Strain', 'Sex', 'Age at Launch', 'Duration', 'Flight'"
     },
     "execution_count": 10,
     "metadata": {},
     "output_type": "execute_result"
    }
   ],
   "source": [
    "merge_anndata_on_shared_vars(processed_data, path+'data/unbatch_corrected_data.h5ad')"
   ],
   "metadata": {
    "collapsed": false,
    "ExecuteTime": {
     "end_time": "2025-06-20T22:31:17.448990100Z",
     "start_time": "2025-06-20T22:30:34.053081900Z"
    }
   },
   "id": "85cbd3f7aec1fe3e"
  },
  {
   "cell_type": "code",
   "execution_count": 11,
   "outputs": [
    {
     "name": "stderr",
     "output_type": "stream",
     "text": [
      "C:\\Creations\\Research\\NASASLSTP25\\AI4LS\\AI4LS\\CVAE\\.venv_cvae\\Lib\\site-packages\\anndata\\_core\\anndata.py:1756: UserWarning: Observation names are not unique. To make them unique, call `.obs_names_make_unique`.\n",
      "  utils.warn_names_duplicates(\"obs\")\n",
      "C:\\Creations\\Research\\NASASLSTP25\\AI4LS\\AI4LS\\CVAE\\.venv_cvae\\Lib\\site-packages\\anndata\\_core\\anndata.py:1756: UserWarning: Observation names are not unique. To make them unique, call `.obs_names_make_unique`.\n",
      "  utils.warn_names_duplicates(\"obs\")\n"
     ]
    }
   ],
   "source": [
    "unbatched = sc.read_h5ad(path + 'data/unbatch_corrected_data.h5ad')\n",
    "batched = sc.read_h5ad(path + 'data/corrected_data.h5ad')"
   ],
   "metadata": {
    "collapsed": false,
    "ExecuteTime": {
     "end_time": "2025-06-20T22:31:52.974576800Z",
     "start_time": "2025-06-20T22:31:25.504562400Z"
    }
   },
   "id": "fc0a97d0ba8d39ce"
  },
  {
   "cell_type": "code",
   "execution_count": 15,
   "outputs": [
    {
     "name": "stdout",
     "output_type": "stream",
     "text": [
      "(212653, 21543)\n",
      "(212653, 21543)\n"
     ]
    }
   ],
   "source": [
    "print(unbatched.shape)\n",
    "print(batched.shape)"
   ],
   "metadata": {
    "collapsed": false,
    "ExecuteTime": {
     "end_time": "2025-06-20T22:33:50.949722800Z",
     "start_time": "2025-06-20T22:33:50.930500600Z"
    }
   },
   "id": "b176b9ec2d865b06"
  },
  {
   "cell_type": "code",
   "execution_count": 18,
   "outputs": [
    {
     "name": "stdout",
     "output_type": "stream",
     "text": [
      "1.7066735\n"
     ]
    }
   ],
   "source": [
    "print(unbatched.X[(212652, 94)])"
   ],
   "metadata": {
    "collapsed": false,
    "ExecuteTime": {
     "end_time": "2025-06-20T22:35:26.634218300Z",
     "start_time": "2025-06-20T22:35:26.611105800Z"
    }
   },
   "id": "367a1abcd464cd0f"
  },
  {
   "cell_type": "code",
   "execution_count": 20,
   "outputs": [
    {
     "name": "stdout",
     "output_type": "stream",
     "text": [
      "0.0\n"
     ]
    }
   ],
   "source": [
    "print(batched.X[(212652, 94)])"
   ],
   "metadata": {
    "collapsed": false,
    "ExecuteTime": {
     "end_time": "2025-06-20T22:35:34.246279700Z",
     "start_time": "2025-06-20T22:35:34.237364200Z"
    }
   },
   "id": "1056680b15492d95"
  },
  {
   "cell_type": "code",
   "execution_count": null,
   "outputs": [],
   "source": [],
   "metadata": {
    "collapsed": false
   },
   "id": "2581f5b3e21a5e2d"
  }
 ],
 "metadata": {
  "kernelspec": {
   "display_name": "Python 3",
   "language": "python",
   "name": "python3"
  },
  "language_info": {
   "codemirror_mode": {
    "name": "ipython",
    "version": 2
   },
   "file_extension": ".py",
   "mimetype": "text/x-python",
   "name": "python",
   "nbconvert_exporter": "python",
   "pygments_lexer": "ipython2",
   "version": "2.7.6"
  }
 },
 "nbformat": 4,
 "nbformat_minor": 5
}

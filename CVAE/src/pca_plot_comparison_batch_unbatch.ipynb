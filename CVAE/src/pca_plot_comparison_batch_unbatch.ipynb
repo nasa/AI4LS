{
 "cells": [
  {
   "cell_type": "code",
   "execution_count": 1,
   "id": "initial_id",
   "metadata": {
    "collapsed": true,
    "ExecuteTime": {
     "end_time": "2025-06-23T16:40:07.606916700Z",
     "start_time": "2025-06-23T16:39:39.812669400Z"
    }
   },
   "outputs": [],
   "source": [
    "import utils\n",
    "import anndata\n",
    "import numpy as np\n",
    "import pandas as pd\n",
    "import requests\n",
    "import scanpy as sc\n",
    "import scanpy.external as sce\n",
    "import scanorama\n",
    "import os\n",
    "import anndata\n",
    "from typing import List, Optional\n",
    "import torch\n",
    "import torch.nn.functional as F\n",
    "import matplotlib.pyplot as plt\n",
    "import umap\n",
    "from sklearn.decomposition import PCA\n",
    "from sklearn.manifold import TSNE\n",
    "from sklearn.metrics import silhouette_score\n",
    "from sklearn.cluster import KMeans\n",
    "import plotly.express as px\n",
    "import plotly.io as pio\n",
    "import src.vanilla_cvae as vanilla_cvae\n",
    "import src.gma_cvae as gma_cvae\n",
    "import seaborn as sns\n"
   ]
  },
  {
   "cell_type": "code",
   "execution_count": 2,
   "outputs": [],
   "source": [
    "def plot_pca_2d(data, labels):\n",
    "    \"\"\"Generate 2D PCA plot of the data\"\"\"\n",
    "    print(\"Generating 2D PCA plot...\")\n",
    "    \n",
    "    # Perform PCA\n",
    "    pca = PCA(n_components=2)\n",
    "    pca_result = pca.fit_transform(data)\n",
    "    \n",
    "    # Create a DataFrame for plotting\n",
    "    pca_df = pd.DataFrame(pca_result, columns=['PCA Component 1', 'PCA Component 2'])\n",
    "    pca_df['Dataset'] = labels\n",
    "    \n",
    "    # Plotting with Plotly\n",
    "    fig = px.scatter(\n",
    "        pca_df, x='PCA Component 1', y='PCA Component 2',\n",
    "        color='Dataset',\n",
    "        labels={'PCA Component 1': 'PCA Component 1', 'PCA Component 2': 'PCA Component 2'},\n",
    "        title='PCA: Generated Data'\n",
    "    )\n",
    "    fig.update_traces(marker=dict(size=2.5))\n",
    "    #fig.write_html('pca_2d_plot.html')\n",
    "    fig.show()"
   ],
   "metadata": {
    "collapsed": false,
    "ExecuteTime": {
     "end_time": "2025-06-23T16:45:47.494865300Z",
     "start_time": "2025-06-23T16:45:47.376362300Z"
    }
   },
   "id": "e09016352dc0fd66"
  },
  {
   "cell_type": "code",
   "execution_count": 3,
   "outputs": [
    {
     "name": "stderr",
     "output_type": "stream",
     "text": [
      "C:\\Creations\\Research\\NASASLSTP25\\AI4LS\\AI4LS\\CVAE\\.venv_cvae\\Lib\\site-packages\\anndata\\_core\\anndata.py:1756: UserWarning: Observation names are not unique. To make them unique, call `.obs_names_make_unique`.\n",
      "  utils.warn_names_duplicates(\"obs\")\n",
      "C:\\Creations\\Research\\NASASLSTP25\\AI4LS\\AI4LS\\CVAE\\.venv_cvae\\Lib\\site-packages\\anndata\\_core\\anndata.py:1756: UserWarning: Observation names are not unique. To make them unique, call `.obs_names_make_unique`.\n",
      "  utils.warn_names_duplicates(\"obs\")\n"
     ]
    }
   ],
   "source": [
    "path = os.getcwd()[:-3]\n",
    "batch_corrected  = sc.read_h5ad(path + 'data/corrected_data.h5ad')\n",
    "unbatch_corrected = sc.read_h5ad(path + 'data/unbatch_corrected_data.h5ad')"
   ],
   "metadata": {
    "collapsed": false,
    "ExecuteTime": {
     "end_time": "2025-06-23T16:47:11.852050500Z",
     "start_time": "2025-06-23T16:46:51.009604400Z"
    }
   },
   "id": "a34d168b2d0eaf86"
  },
  {
   "cell_type": "code",
   "execution_count": 5,
   "outputs": [],
   "source": [
    "batch_corrected.obs = batch_corrected.obs.drop(columns=['dataset'])\n",
    "sc.pp.highly_variable_genes(batch_corrected, n_top_genes=2000)\n",
    "adata = batch_corrected[:, batch_corrected.var['highly_variable']]"
   ],
   "metadata": {
    "collapsed": false,
    "ExecuteTime": {
     "end_time": "2025-06-23T17:00:38.077694400Z",
     "start_time": "2025-06-23T17:00:01.049451500Z"
    }
   },
   "id": "56072278fa36c0e2"
  },
  {
   "cell_type": "code",
   "execution_count": 6,
   "outputs": [],
   "source": [
    "unbatch_corrected.obs = unbatch_corrected.obs.drop(columns=['dataset'])\n",
    "sc.pp.highly_variable_genes(unbatch_corrected, n_top_genes=2000)\n",
    "unbatch_corrected = unbatch_corrected[:, unbatch_corrected.var['highly_variable']]"
   ],
   "metadata": {
    "collapsed": false,
    "ExecuteTime": {
     "end_time": "2025-06-23T17:01:15.672643600Z",
     "start_time": "2025-06-23T17:00:38.075413600Z"
    }
   },
   "id": "372e86fe0c6f9c3f"
  },
  {
   "cell_type": "code",
   "execution_count": 7,
   "outputs": [
    {
     "ename": "KeyboardInterrupt",
     "evalue": "",
     "output_type": "error",
     "traceback": [
      "\u001B[31m---------------------------------------------------------------------------\u001B[39m",
      "\u001B[31mKeyboardInterrupt\u001B[39m                         Traceback (most recent call last)",
      "    \u001B[31m[... skipping hidden 1 frame]\u001B[39m\n",
      "\u001B[36mCell\u001B[39m\u001B[36m \u001B[39m\u001B[32mIn[7]\u001B[39m\u001B[32m, line 1\u001B[39m\n\u001B[32m----> \u001B[39m\u001B[32m1\u001B[39m combined_data = \u001B[43mnp\u001B[49m\u001B[43m.\u001B[49m\u001B[43mvstack\u001B[49m\u001B[43m(\u001B[49m\u001B[43m[\u001B[49m\u001B[43mbatch_corrected\u001B[49m\u001B[43m,\u001B[49m\u001B[43m \u001B[49m\u001B[43munbatch_corrected\u001B[49m\u001B[43m]\u001B[49m\u001B[43m)\u001B[49m\n\u001B[32m      2\u001B[39m labels = np.array([\u001B[33m'\u001B[39m\u001B[33mBatch Corrected\u001B[39m\u001B[33m'\u001B[39m] * batch_corrected.shape[\u001B[32m0\u001B[39m] + [\u001B[33m'\u001B[39m\u001B[33mUnBatch Corrrected\u001B[39m\u001B[33m'\u001B[39m] * unbatch_corrected.shape[\u001B[32m0\u001B[39m])\n",
      "\u001B[36mFile \u001B[39m\u001B[32mC:\\Creations\\Research\\NASASLSTP25\\AI4LS\\AI4LS\\CVAE\\.venv_cvae\\Lib\\site-packages\\numpy\\_core\\shape_base.py:289\u001B[39m, in \u001B[36mvstack\u001B[39m\u001B[34m(tup, dtype, casting)\u001B[39m\n\u001B[32m    222\u001B[39m \u001B[38;5;250m\u001B[39m\u001B[33;03m\"\"\"\u001B[39;00m\n\u001B[32m    223\u001B[39m \u001B[33;03mStack arrays in sequence vertically (row wise).\u001B[39;00m\n\u001B[32m    224\u001B[39m \n\u001B[32m   (...)\u001B[39m\u001B[32m    287\u001B[39m \n\u001B[32m    288\u001B[39m \u001B[33;03m\"\"\"\u001B[39;00m\n\u001B[32m--> \u001B[39m\u001B[32m289\u001B[39m arrs = \u001B[43matleast_2d\u001B[49m\u001B[43m(\u001B[49m\u001B[43m*\u001B[49m\u001B[43mtup\u001B[49m\u001B[43m)\u001B[49m\n\u001B[32m    290\u001B[39m \u001B[38;5;28;01mif\u001B[39;00m \u001B[38;5;129;01mnot\u001B[39;00m \u001B[38;5;28misinstance\u001B[39m(arrs, \u001B[38;5;28mtuple\u001B[39m):\n",
      "\u001B[36mFile \u001B[39m\u001B[32mC:\\Creations\\Research\\NASASLSTP25\\AI4LS\\AI4LS\\CVAE\\.venv_cvae\\Lib\\site-packages\\numpy\\_core\\shape_base.py:121\u001B[39m, in \u001B[36matleast_2d\u001B[39m\u001B[34m(*arys)\u001B[39m\n\u001B[32m    120\u001B[39m \u001B[38;5;28;01mfor\u001B[39;00m ary \u001B[38;5;129;01min\u001B[39;00m arys:\n\u001B[32m--> \u001B[39m\u001B[32m121\u001B[39m     ary = \u001B[43masanyarray\u001B[49m\u001B[43m(\u001B[49m\u001B[43mary\u001B[49m\u001B[43m)\u001B[49m\n\u001B[32m    122\u001B[39m     \u001B[38;5;28;01mif\u001B[39;00m ary.ndim == \u001B[32m0\u001B[39m:\n",
      "\u001B[36mFile \u001B[39m\u001B[32mC:\\Creations\\Research\\NASASLSTP25\\AI4LS\\AI4LS\\CVAE\\.venv_cvae\\Lib\\site-packages\\anndata\\_core\\anndata.py:1012\u001B[39m, in \u001B[36mAnnData.__getitem__\u001B[39m\u001B[34m(self, index)\u001B[39m\n\u001B[32m   1011\u001B[39m oidx, vidx = \u001B[38;5;28mself\u001B[39m._normalize_indices(index)\n\u001B[32m-> \u001B[39m\u001B[32m1012\u001B[39m \u001B[38;5;28;01mreturn\u001B[39;00m \u001B[43mAnnData\u001B[49m\u001B[43m(\u001B[49m\u001B[38;5;28;43mself\u001B[39;49m\u001B[43m,\u001B[49m\u001B[43m \u001B[49m\u001B[43moidx\u001B[49m\u001B[43m=\u001B[49m\u001B[43moidx\u001B[49m\u001B[43m,\u001B[49m\u001B[43m \u001B[49m\u001B[43mvidx\u001B[49m\u001B[43m=\u001B[49m\u001B[43mvidx\u001B[49m\u001B[43m,\u001B[49m\u001B[43m \u001B[49m\u001B[43masview\u001B[49m\u001B[43m=\u001B[49m\u001B[38;5;28;43;01mTrue\u001B[39;49;00m\u001B[43m)\u001B[49m\n",
      "\u001B[36mFile \u001B[39m\u001B[32mC:\\Creations\\Research\\NASASLSTP25\\AI4LS\\AI4LS\\CVAE\\.venv_cvae\\Lib\\site-packages\\anndata\\_core\\anndata.py:227\u001B[39m, in \u001B[36mAnnData.__init__\u001B[39m\u001B[34m(self, X, obs, var, uns, obsm, varm, layers, raw, dtype, shape, filename, filemode, asview, obsp, varp, oidx, vidx)\u001B[39m\n\u001B[32m    226\u001B[39m         \u001B[38;5;28;01mraise\u001B[39;00m \u001B[38;5;167;01mValueError\u001B[39;00m(msg)\n\u001B[32m--> \u001B[39m\u001B[32m227\u001B[39m     \u001B[38;5;28;43mself\u001B[39;49m\u001B[43m.\u001B[49m\u001B[43m_init_as_view\u001B[49m\u001B[43m(\u001B[49m\u001B[43mX\u001B[49m\u001B[43m,\u001B[49m\u001B[43m \u001B[49m\u001B[43moidx\u001B[49m\u001B[43m,\u001B[49m\u001B[43m \u001B[49m\u001B[43mvidx\u001B[49m\u001B[43m)\u001B[49m\n\u001B[32m    228\u001B[39m \u001B[38;5;28;01melse\u001B[39;00m:\n",
      "\u001B[36mFile \u001B[39m\u001B[32mC:\\Creations\\Research\\NASASLSTP25\\AI4LS\\AI4LS\\CVAE\\.venv_cvae\\Lib\\site-packages\\anndata\\_core\\anndata.py:282\u001B[39m, in \u001B[36mAnnData._init_as_view\u001B[39m\u001B[34m(self, adata_ref, oidx, vidx)\u001B[39m\n\u001B[32m    281\u001B[39m \u001B[38;5;28;01mif\u001B[39;00m settings.remove_unused_categories:\n\u001B[32m--> \u001B[39m\u001B[32m282\u001B[39m     \u001B[38;5;28;43mself\u001B[39;49m\u001B[43m.\u001B[49m\u001B[43m_remove_unused_categories\u001B[49m\u001B[43m(\u001B[49m\u001B[43madata_ref\u001B[49m\u001B[43m.\u001B[49m\u001B[43mobs\u001B[49m\u001B[43m,\u001B[49m\u001B[43m \u001B[49m\u001B[43mobs_sub\u001B[49m\u001B[43m,\u001B[49m\u001B[43m \u001B[49m\u001B[43muns\u001B[49m\u001B[43m)\u001B[49m\n\u001B[32m    283\u001B[39m     \u001B[38;5;28mself\u001B[39m._remove_unused_categories(adata_ref.var, var_sub, uns)\n",
      "\u001B[36mFile \u001B[39m\u001B[32mC:\\Creations\\Research\\NASASLSTP25\\AI4LS\\AI4LS\\CVAE\\.venv_cvae\\Lib\\site-packages\\anndata\\_core\\anndata.py:1022\u001B[39m, in \u001B[36mAnnData._remove_unused_categories\u001B[39m\u001B[34m(self, df_full, df_sub, uns)\u001B[39m\n\u001B[32m   1021\u001B[39m \u001B[38;5;28;01mwith\u001B[39;00m pd.option_context(\u001B[33m\"\u001B[39m\u001B[33mmode.chained_assignment\u001B[39m\u001B[33m\"\u001B[39m, \u001B[38;5;28;01mNone\u001B[39;00m):\n\u001B[32m-> \u001B[39m\u001B[32m1022\u001B[39m     df_sub[k] = \u001B[43mdf_sub\u001B[49m\u001B[43m[\u001B[49m\u001B[43mk\u001B[49m\u001B[43m]\u001B[49m\u001B[43m.\u001B[49m\u001B[43mcat\u001B[49m\u001B[43m.\u001B[49m\u001B[43mremove_unused_categories\u001B[49m\u001B[43m(\u001B[49m\u001B[43m)\u001B[49m\n\u001B[32m   1023\u001B[39m \u001B[38;5;66;03m# also correct the colors...\u001B[39;00m\n",
      "\u001B[36mFile \u001B[39m\u001B[32mC:\\Creations\\Research\\NASASLSTP25\\AI4LS\\AI4LS\\CVAE\\.venv_cvae\\Lib\\site-packages\\pandas\\core\\accessor.py:112\u001B[39m, in \u001B[36mPandasDelegate._add_delegate_accessors.<locals>._create_delegator_method.<locals>.f\u001B[39m\u001B[34m(self, *args, **kwargs)\u001B[39m\n\u001B[32m    111\u001B[39m \u001B[38;5;28;01mdef\u001B[39;00m\u001B[38;5;250m \u001B[39m\u001B[34mf\u001B[39m(\u001B[38;5;28mself\u001B[39m, *args, **kwargs):\n\u001B[32m--> \u001B[39m\u001B[32m112\u001B[39m     \u001B[38;5;28;01mreturn\u001B[39;00m \u001B[38;5;28;43mself\u001B[39;49m\u001B[43m.\u001B[49m\u001B[43m_delegate_method\u001B[49m\u001B[43m(\u001B[49m\u001B[43mname\u001B[49m\u001B[43m,\u001B[49m\u001B[43m \u001B[49m\u001B[43m*\u001B[49m\u001B[43margs\u001B[49m\u001B[43m,\u001B[49m\u001B[43m \u001B[49m\u001B[43m*\u001B[49m\u001B[43m*\u001B[49m\u001B[43mkwargs\u001B[49m\u001B[43m)\u001B[49m\n",
      "\u001B[36mFile \u001B[39m\u001B[32mC:\\Creations\\Research\\NASASLSTP25\\AI4LS\\AI4LS\\CVAE\\.venv_cvae\\Lib\\site-packages\\pandas\\core\\arrays\\categorical.py:2943\u001B[39m, in \u001B[36mCategoricalAccessor._delegate_method\u001B[39m\u001B[34m(self, name, *args, **kwargs)\u001B[39m\n\u001B[32m   2942\u001B[39m \u001B[38;5;28;01mif\u001B[39;00m res \u001B[38;5;129;01mis\u001B[39;00m \u001B[38;5;129;01mnot\u001B[39;00m \u001B[38;5;28;01mNone\u001B[39;00m:\n\u001B[32m-> \u001B[39m\u001B[32m2943\u001B[39m     \u001B[38;5;28;01mreturn\u001B[39;00m \u001B[43mSeries\u001B[49m\u001B[43m(\u001B[49m\u001B[43mres\u001B[49m\u001B[43m,\u001B[49m\u001B[43m \u001B[49m\u001B[43mindex\u001B[49m\u001B[43m=\u001B[49m\u001B[38;5;28;43mself\u001B[39;49m\u001B[43m.\u001B[49m\u001B[43m_index\u001B[49m\u001B[43m,\u001B[49m\u001B[43m \u001B[49m\u001B[43mname\u001B[49m\u001B[43m=\u001B[49m\u001B[38;5;28;43mself\u001B[39;49m\u001B[43m.\u001B[49m\u001B[43m_name\u001B[49m\u001B[43m)\u001B[49m\n",
      "\u001B[36mFile \u001B[39m\u001B[32mC:\\Creations\\Research\\NASASLSTP25\\AI4LS\\AI4LS\\CVAE\\.venv_cvae\\Lib\\site-packages\\pandas\\core\\series.py:593\u001B[39m, in \u001B[36mSeries.__init__\u001B[39m\u001B[34m(self, data, index, dtype, name, copy, fastpath)\u001B[39m\n\u001B[32m    592\u001B[39m NDFrame.\u001B[34m__init__\u001B[39m(\u001B[38;5;28mself\u001B[39m, data)\n\u001B[32m--> \u001B[39m\u001B[32m593\u001B[39m \u001B[38;5;28;43mself\u001B[39;49m\u001B[43m.\u001B[49m\u001B[43mname\u001B[49m = name\n\u001B[32m    594\u001B[39m \u001B[38;5;28mself\u001B[39m._set_axis(\u001B[32m0\u001B[39m, index)\n",
      "\u001B[36mFile \u001B[39m\u001B[32mC:\\Creations\\Research\\NASASLSTP25\\AI4LS\\AI4LS\\CVAE\\.venv_cvae\\Lib\\site-packages\\pandas\\core\\generic.py:6320\u001B[39m, in \u001B[36mNDFrame.__setattr__\u001B[39m\u001B[34m(self, name, value)\u001B[39m\n\u001B[32m   6319\u001B[39m \u001B[38;5;28;01mif\u001B[39;00m name \u001B[38;5;129;01min\u001B[39;00m \u001B[38;5;28mself\u001B[39m._internal_names_set:\n\u001B[32m-> \u001B[39m\u001B[32m6320\u001B[39m     \u001B[38;5;28;43mobject\u001B[39;49m\u001B[43m.\u001B[49m\u001B[34;43m__setattr__\u001B[39;49m\u001B[43m(\u001B[49m\u001B[38;5;28;43mself\u001B[39;49m\u001B[43m,\u001B[49m\u001B[43m \u001B[49m\u001B[43mname\u001B[49m\u001B[43m,\u001B[49m\u001B[43m \u001B[49m\u001B[43mvalue\u001B[49m\u001B[43m)\u001B[49m\n\u001B[32m   6321\u001B[39m \u001B[38;5;28;01melif\u001B[39;00m name \u001B[38;5;129;01min\u001B[39;00m \u001B[38;5;28mself\u001B[39m._metadata:\n",
      "\u001B[36mFile \u001B[39m\u001B[32mC:\\Creations\\Research\\NASASLSTP25\\AI4LS\\AI4LS\\CVAE\\.venv_cvae\\Lib\\site-packages\\pandas\\core\\series.py:786\u001B[39m, in \u001B[36mSeries.name\u001B[39m\u001B[34m(self, value)\u001B[39m\n\u001B[32m    784\u001B[39m \u001B[38;5;129m@name\u001B[39m.setter\n\u001B[32m    785\u001B[39m \u001B[38;5;28;01mdef\u001B[39;00m\u001B[38;5;250m \u001B[39m\u001B[34mname\u001B[39m(\u001B[38;5;28mself\u001B[39m, value: Hashable) -> \u001B[38;5;28;01mNone\u001B[39;00m:\n\u001B[32m--> \u001B[39m\u001B[32m786\u001B[39m     \u001B[43mvalidate_all_hashable\u001B[49m\u001B[43m(\u001B[49m\u001B[43mvalue\u001B[49m\u001B[43m,\u001B[49m\u001B[43m \u001B[49m\u001B[43merror_name\u001B[49m\u001B[43m=\u001B[49m\u001B[33;43mf\u001B[39;49m\u001B[33;43m\"\u001B[39;49m\u001B[38;5;132;43;01m{\u001B[39;49;00m\u001B[38;5;28;43mtype\u001B[39;49m\u001B[43m(\u001B[49m\u001B[38;5;28;43mself\u001B[39;49m\u001B[43m)\u001B[49m\u001B[43m.\u001B[49m\u001B[34;43m__name__\u001B[39;49m\u001B[38;5;132;43;01m}\u001B[39;49;00m\u001B[33;43m.name\u001B[39;49m\u001B[33;43m\"\u001B[39;49m\u001B[43m)\u001B[49m\n\u001B[32m    787\u001B[39m     \u001B[38;5;28mobject\u001B[39m.\u001B[34m__setattr__\u001B[39m(\u001B[38;5;28mself\u001B[39m, \u001B[33m\"\u001B[39m\u001B[33m_name\u001B[39m\u001B[33m\"\u001B[39m, value)\n",
      "\u001B[36mFile \u001B[39m\u001B[32mC:\\Creations\\Research\\NASASLSTP25\\AI4LS\\AI4LS\\CVAE\\.venv_cvae\\Lib\\site-packages\\pandas\\core\\dtypes\\common.py:1571\u001B[39m, in \u001B[36mvalidate_all_hashable\u001B[39m\u001B[34m(error_name, *args)\u001B[39m\n\u001B[32m   1565\u001B[39m         \u001B[38;5;28;01mraise\u001B[39;00m \u001B[38;5;167;01mValueError\u001B[39;00m(\n\u001B[32m   1566\u001B[39m             \u001B[33mf\u001B[39m\u001B[33m\"\u001B[39m\u001B[38;5;132;01m{\u001B[39;00m\u001B[38;5;28mrepr\u001B[39m(dtype.name)\u001B[38;5;132;01m}\u001B[39;00m\u001B[33m is too specific of a frequency, \u001B[39m\u001B[33m\"\u001B[39m\n\u001B[32m   1567\u001B[39m             \u001B[33mf\u001B[39m\u001B[33m\"\u001B[39m\u001B[33mtry passing \u001B[39m\u001B[38;5;132;01m{\u001B[39;00m\u001B[38;5;28mrepr\u001B[39m(dtype.type.\u001B[34m__name__\u001B[39m)\u001B[38;5;132;01m}\u001B[39;00m\u001B[33m\"\u001B[39m\n\u001B[32m   1568\u001B[39m         )\n\u001B[32m-> \u001B[39m\u001B[32m1571\u001B[39m \u001B[38;5;28;01mdef\u001B[39;00m\u001B[38;5;250m \u001B[39m\u001B[34mvalidate_all_hashable\u001B[39m(*args, error_name: \u001B[38;5;28mstr\u001B[39m | \u001B[38;5;28;01mNone\u001B[39;00m = \u001B[38;5;28;01mNone\u001B[39;00m) -> \u001B[38;5;28;01mNone\u001B[39;00m:\n\u001B[32m   1572\u001B[39m \u001B[38;5;250m    \u001B[39m\u001B[33;03m\"\"\"\u001B[39;00m\n\u001B[32m   1573\u001B[39m \u001B[33;03m    Return None if all args are hashable, else raise a TypeError.\u001B[39;00m\n\u001B[32m   1574\u001B[39m \n\u001B[32m   (...)\u001B[39m\u001B[32m   1588\u001B[39m \u001B[33;03m    None\u001B[39;00m\n\u001B[32m   1589\u001B[39m \u001B[33;03m    \"\"\"\u001B[39;00m\n",
      "\u001B[31mKeyboardInterrupt\u001B[39m: ",
      "\nDuring handling of the above exception, another exception occurred:\n",
      "\u001B[31mKeyboardInterrupt\u001B[39m                         Traceback (most recent call last)",
      "    \u001B[31m[... skipping hidden 1 frame]\u001B[39m\n",
      "\u001B[36mFile \u001B[39m\u001B[32mC:\\Creations\\Research\\NASASLSTP25\\AI4LS\\AI4LS\\CVAE\\.venv_cvae\\Lib\\site-packages\\IPython\\core\\interactiveshell.py:2125\u001B[39m, in \u001B[36mInteractiveShell.showtraceback\u001B[39m\u001B[34m(self, exc_tuple, filename, tb_offset, exception_only, running_compiled_code)\u001B[39m\n\u001B[32m   2122\u001B[39m     msg = traceback.format_exception_only(etype, value)\n\u001B[32m   2123\u001B[39m     \u001B[38;5;28;01mreturn\u001B[39;00m \u001B[33m'\u001B[39m\u001B[33m'\u001B[39m.join(msg)\n\u001B[32m-> \u001B[39m\u001B[32m2125\u001B[39m \u001B[38;5;28;01mdef\u001B[39;00m\u001B[38;5;250m \u001B[39m\u001B[34mshowtraceback\u001B[39m(\u001B[38;5;28mself\u001B[39m, exc_tuple=\u001B[38;5;28;01mNone\u001B[39;00m, filename=\u001B[38;5;28;01mNone\u001B[39;00m, tb_offset=\u001B[38;5;28;01mNone\u001B[39;00m,\n\u001B[32m   2126\u001B[39m                   exception_only=\u001B[38;5;28;01mFalse\u001B[39;00m, running_compiled_code=\u001B[38;5;28;01mFalse\u001B[39;00m):\n\u001B[32m   2127\u001B[39m \u001B[38;5;250m    \u001B[39m\u001B[33;03m\"\"\"Display the exception that just occurred.\u001B[39;00m\n\u001B[32m   2128\u001B[39m \n\u001B[32m   2129\u001B[39m \u001B[33;03m    If nothing is known about the exception, this is the method which\u001B[39;00m\n\u001B[32m   (...)\u001B[39m\u001B[32m   2135\u001B[39m \u001B[33;03m    SyntaxError exception, don't try to analyze the stack manually and\u001B[39;00m\n\u001B[32m   2136\u001B[39m \u001B[33;03m    simply call this method.\"\"\"\u001B[39;00m\n\u001B[32m   2138\u001B[39m     \u001B[38;5;28;01mtry\u001B[39;00m:\n",
      "\u001B[31mKeyboardInterrupt\u001B[39m: "
     ]
    }
   ],
   "source": [
    "combined_data = np.vstack([batch_corrected, unbatch_corrected])\n",
    "labels = np.array(['Batch Corrected'] * batch_corrected.shape[0] + ['UnBatch Corrrected'] * unbatch_corrected.shape[0])\n",
    "plot_pca_2d(combined_data, labels)"
   ],
   "metadata": {
    "collapsed": false,
    "ExecuteTime": {
     "end_time": "2025-06-23T17:30:19.265628Z",
     "start_time": "2025-06-23T17:02:08.597457200Z"
    }
   },
   "id": "85e58e305bb74587"
  },
  {
   "cell_type": "code",
   "execution_count": null,
   "outputs": [],
   "source": [],
   "metadata": {
    "collapsed": false
   },
   "id": "d3e0f0fcab8832dd"
  }
 ],
 "metadata": {
  "kernelspec": {
   "display_name": "Python 3",
   "language": "python",
   "name": "python3"
  },
  "language_info": {
   "codemirror_mode": {
    "name": "ipython",
    "version": 2
   },
   "file_extension": ".py",
   "mimetype": "text/x-python",
   "name": "python",
   "nbconvert_exporter": "python",
   "pygments_lexer": "ipython2",
   "version": "2.7.6"
  }
 },
 "nbformat": 4,
 "nbformat_minor": 5
}

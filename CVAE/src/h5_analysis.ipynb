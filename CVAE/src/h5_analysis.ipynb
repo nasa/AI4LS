{
 "cells": [
  {
   "cell_type": "code",
   "execution_count": 2,
   "id": "initial_id",
   "metadata": {
    "collapsed": true,
    "ExecuteTime": {
     "end_time": "2025-06-18T18:21:37.206791400Z",
     "start_time": "2025-06-18T18:21:30.874586100Z"
    }
   },
   "outputs": [],
   "source": [
    "import utils\n",
    "import anndata\n",
    "import numpy as np\n",
    "import pandas as pd\n",
    "import requests\n",
    "import scanpy as sc\n",
    "import scanpy.external as sce\n",
    "import scanorama\n",
    "import os\n",
    "import anndata"
   ]
  },
  {
   "cell_type": "code",
   "execution_count": 3,
   "outputs": [
    {
     "name": "stderr",
     "output_type": "stream",
     "text": [
      "C:\\Creations\\Research\\NASASLSTP25\\AI4LS\\AI4LS\\CVAE\\.venv_cvae\\Lib\\site-packages\\anndata\\_core\\anndata.py:1758: UserWarning: Variable names are not unique. To make them unique, call `.var_names_make_unique`.\n",
      "  utils.warn_names_duplicates(\"var\")\n",
      "C:\\Creations\\Research\\NASASLSTP25\\AI4LS\\AI4LS\\CVAE\\.venv_cvae\\Lib\\site-packages\\anndata\\_core\\anndata.py:1758: UserWarning: Variable names are not unique. To make them unique, call `.var_names_make_unique`.\n",
      "  utils.warn_names_duplicates(\"var\")\n",
      "C:\\Creations\\Research\\NASASLSTP25\\AI4LS\\AI4LS\\CVAE\\.venv_cvae\\Lib\\site-packages\\anndata\\_core\\anndata.py:1758: UserWarning: Variable names are not unique. To make them unique, call `.var_names_make_unique`.\n",
      "  utils.warn_names_duplicates(\"var\")\n",
      "C:\\Creations\\Research\\NASASLSTP25\\AI4LS\\AI4LS\\CVAE\\.venv_cvae\\Lib\\site-packages\\anndata\\_core\\anndata.py:1758: UserWarning: Variable names are not unique. To make them unique, call `.var_names_make_unique`.\n",
      "  utils.warn_names_duplicates(\"var\")\n",
      "C:\\Creations\\Research\\NASASLSTP25\\AI4LS\\AI4LS\\CVAE\\.venv_cvae\\Lib\\site-packages\\anndata\\_core\\anndata.py:1758: UserWarning: Variable names are not unique. To make them unique, call `.var_names_make_unique`.\n",
      "  utils.warn_names_duplicates(\"var\")\n",
      "C:\\Creations\\Research\\NASASLSTP25\\AI4LS\\AI4LS\\CVAE\\.venv_cvae\\Lib\\site-packages\\anndata\\_core\\anndata.py:1758: UserWarning: Variable names are not unique. To make them unique, call `.var_names_make_unique`.\n",
      "  utils.warn_names_duplicates(\"var\")\n"
     ]
    }
   ],
   "source": [
    "path = os.getcwd()[:-3]\n",
    "ft_mt_352 = sc.read_10x_h5(path + 'data/352_filtered_feature_bc_matrix.h5')\n",
    "ft_mt_612 = sc.read_10x_h5(path + 'data/612_filtered_feature_bc_matrix.h5')\n",
    "ft_mt_613 = sc.read_10x_h5(path + \"data/613_filtered_feature_bc_matrix.h5\")"
   ],
   "metadata": {
    "collapsed": false,
    "ExecuteTime": {
     "end_time": "2025-06-18T18:21:57.587230500Z",
     "start_time": "2025-06-18T18:21:37.207841600Z"
    }
   },
   "id": "cb1bf05d8ca2dd46"
  },
  {
   "cell_type": "code",
   "execution_count": 8,
   "outputs": [],
   "source": [
    "df_352 = ft_mt_352.to_df()\n",
    "df_612 = ft_mt_612.to_df()\n",
    "df_613 = ft_mt_613.to_df()"
   ],
   "metadata": {
    "collapsed": false,
    "ExecuteTime": {
     "end_time": "2025-06-18T06:31:01.494840700Z",
     "start_time": "2025-06-18T06:29:28.549359600Z"
    }
   },
   "id": "7b2f69406042a313"
  },
  {
   "cell_type": "code",
   "execution_count": 9,
   "outputs": [
    {
     "name": "stdout",
     "output_type": "stream",
     "text": [
      "                    Xkr4  Gm1992  Gm37381  Rp1  Sox17  Gm37323  Mrpl15  \\\n",
      "AAACAGCCAAGGTGCA-1   0.0     0.0      0.0  0.0    0.0      0.0     0.0   \n",
      "AAACAGCCACAATTAC-1   5.0     0.0      0.0  0.0    0.0      0.0     0.0   \n",
      "AAACAGCCACAGGGAC-1  15.0     1.0      0.0  0.0    0.0      0.0     0.0   \n",
      "AAACAGCCACCTCACC-1  14.0     0.0      0.0  0.0    0.0      0.0     0.0   \n",
      "AAACAGCCAGGCATCT-1   3.0     1.0      0.0  0.0    0.0      0.0     0.0   \n",
      "...                  ...     ...      ...  ...    ...      ...     ...   \n",
      "TTTGTGTTCCTCCTAA-5   1.0     0.0      0.0  0.0    0.0      0.0     1.0   \n",
      "TTTGTGTTCGGTCATG-5   0.0     0.0      0.0  0.0    0.0      0.0     0.0   \n",
      "TTTGTGTTCGGTTTCC-5   0.0     0.0      0.0  0.0    0.0      0.0     0.0   \n",
      "TTTGTTGGTTAGAGGG-5   6.0     0.0      0.0  0.0    0.0      0.0     0.0   \n",
      "TTTGTTGGTTCGCGCT-5   0.0     0.0      0.0  0.0    0.0      0.0     0.0   \n",
      "\n",
      "                    Lypla1  Gm37988  Tcea1  ...  AC125149.1  AC125149.2  \\\n",
      "AAACAGCCAAGGTGCA-1     0.0      0.0    0.0  ...         0.0         0.0   \n",
      "AAACAGCCACAATTAC-1     0.0      0.0    1.0  ...         0.0         0.0   \n",
      "AAACAGCCACAGGGAC-1     0.0      0.0    0.0  ...         0.0         0.0   \n",
      "AAACAGCCACCTCACC-1     0.0      0.0    0.0  ...         0.0         0.0   \n",
      "AAACAGCCAGGCATCT-1     0.0      0.0    0.0  ...         0.0         0.0   \n",
      "...                    ...      ...    ...  ...         ...         ...   \n",
      "TTTGTGTTCCTCCTAA-5     0.0      0.0    0.0  ...         0.0         0.0   \n",
      "TTTGTGTTCGGTCATG-5     0.0      0.0    1.0  ...         0.0         0.0   \n",
      "TTTGTGTTCGGTTTCC-5     0.0      0.0    0.0  ...         0.0         0.0   \n",
      "TTTGTTGGTTAGAGGG-5     0.0      0.0    0.0  ...         0.0         0.0   \n",
      "TTTGTTGGTTCGCGCT-5     1.0      0.0    1.0  ...         0.0         0.0   \n",
      "\n",
      "                    AC125149.4  AC234645.1  AC168977.2  AC168977.1  \\\n",
      "AAACAGCCAAGGTGCA-1         0.0         0.0         0.0         0.0   \n",
      "AAACAGCCACAATTAC-1         0.0         0.0         0.0         0.0   \n",
      "AAACAGCCACAGGGAC-1         0.0         0.0         0.0         0.0   \n",
      "AAACAGCCACCTCACC-1         0.0         0.0         0.0         0.0   \n",
      "AAACAGCCAGGCATCT-1         0.0         0.0         0.0         0.0   \n",
      "...                        ...         ...         ...         ...   \n",
      "TTTGTGTTCCTCCTAA-5         0.0         0.0         0.0         0.0   \n",
      "TTTGTGTTCGGTCATG-5         0.0         0.0         0.0         0.0   \n",
      "TTTGTGTTCGGTTTCC-5         0.0         0.0         0.0         0.0   \n",
      "TTTGTTGGTTAGAGGG-5         0.0         0.0         0.0         0.0   \n",
      "TTTGTTGGTTCGCGCT-5         0.0         0.0         0.0         0.0   \n",
      "\n",
      "                    AC149090.1  CAAA01118383.1  Vmn2r122  CAAA01147332.1  \n",
      "AAACAGCCAAGGTGCA-1         7.0             0.0       0.0             0.0  \n",
      "AAACAGCCACAATTAC-1        10.0             0.0       0.0             0.0  \n",
      "AAACAGCCACAGGGAC-1         6.0             0.0       0.0             0.0  \n",
      "AAACAGCCACCTCACC-1         3.0             0.0       0.0             0.0  \n",
      "AAACAGCCAGGCATCT-1         7.0             0.0       0.0             0.0  \n",
      "...                        ...             ...       ...             ...  \n",
      "TTTGTGTTCCTCCTAA-5         0.0             0.0       0.0             0.0  \n",
      "TTTGTGTTCGGTCATG-5         4.0             0.0       0.0             0.0  \n",
      "TTTGTGTTCGGTTTCC-5         1.0             0.0       0.0             0.0  \n",
      "TTTGTTGGTTAGAGGG-5        26.0             0.0       0.0             0.0  \n",
      "TTTGTTGGTTCGCGCT-5         0.0             0.0       0.0             0.0  \n",
      "\n",
      "[17573 rows x 31053 columns]\n"
     ]
    }
   ],
   "source": [
    "print(df_352)"
   ],
   "metadata": {
    "collapsed": false,
    "ExecuteTime": {
     "end_time": "2025-06-18T06:31:23.109860300Z",
     "start_time": "2025-06-18T06:31:23.039875200Z"
    }
   },
   "id": "33051130b2adf5ae"
  },
  {
   "cell_type": "code",
   "execution_count": 48,
   "outputs": [
    {
     "name": "stdout",
     "output_type": "stream",
     "text": [
      "TTTGTTGGTTCGCGCT-5\n",
      "5\n",
      "TTTGTTGGTGACCTGG-10\n",
      "10\n",
      "TTTGTTGGTTCGGGAT-18\n",
      "18\n"
     ]
    }
   ],
   "source": [
    "print(ft_mt_352.obs.index[-1])\n",
    "parsed_352 = list(map(lambda x: int(x.split('-')[1]), ft_mt_352.obs.index))\n",
    "print(max(parsed_352))\n",
    "\n",
    "print(ft_mt_612.obs.index[-1])\n",
    "parsed_612 = list(map(lambda x: int(x.split('-')[1]), ft_mt_612.obs.index))\n",
    "print(max(parsed_612))\n",
    "\n",
    "print(ft_mt_613.obs.index[-1])\n",
    "parsed_613 = list(map(lambda x: int(x.split('-')[1]), ft_mt_613.obs.index))\n",
    "print(max(parsed_613))"
   ],
   "metadata": {
    "collapsed": false,
    "ExecuteTime": {
     "end_time": "2025-06-18T06:58:47.769395700Z",
     "start_time": "2025-06-18T06:58:47.704242700Z"
    }
   },
   "id": "1977c2d91b50811"
  },
  {
   "cell_type": "code",
   "execution_count": 57,
   "outputs": [
    {
     "name": "stdout",
     "output_type": "stream",
     "text": [
      "Index(['AAACAGCCAAGGTGCA-1', 'AAACAGCCACAATTAC-1', 'AAACAGCCACAGGGAC-1',\n",
      "       'AAACAGCCACCTCACC-1', 'AAACAGCCAGGCATCT-1', 'AAACAGCCAGTGAACG-1',\n",
      "       'AAACAGCCATGATTGT-1', 'AAACATGCAATCTCTC-1', 'AAACATGCAGCTCATA-1',\n",
      "       'AAACATGCATAGACCC-1',\n",
      "       ...\n",
      "       'TTTGTGAAGAGGATAT-5', 'TTTGTGAAGGTGAAAT-5', 'TTTGTGAAGTGCACGC-5',\n",
      "       'TTTGTGGCAGAACCGA-5', 'TTTGTGTTCCCTCAAC-5', 'TTTGTGTTCCTCCTAA-5',\n",
      "       'TTTGTGTTCGGTCATG-5', 'TTTGTGTTCGGTTTCC-5', 'TTTGTTGGTTAGAGGG-5',\n",
      "       'TTTGTTGGTTCGCGCT-5'],\n",
      "      dtype='object', length=17573)\n",
      "Index(['Xkr4', 'Gm1992', 'Gm37381', 'Rp1', 'Sox17', 'Gm37323', 'Mrpl15',\n",
      "       'Lypla1', 'Gm37988', 'Tcea1',\n",
      "       ...\n",
      "       'AC125149.1', 'AC125149.2', 'AC125149.4', 'AC234645.1', 'AC168977.2',\n",
      "       'AC168977.1', 'AC149090.1', 'CAAA01118383.1', 'Vmn2r122',\n",
      "       'CAAA01147332.1'],\n",
      "      dtype='object', length=31053)\n"
     ]
    }
   ],
   "source": [
    "print(ft_mt_352.obs_names)\n",
    "print(ft_mt_352.var_names)"
   ],
   "metadata": {
    "collapsed": false,
    "ExecuteTime": {
     "end_time": "2025-06-18T07:04:22.313154600Z",
     "start_time": "2025-06-18T07:04:22.301849100Z"
    }
   },
   "id": "50be4d25cb5b0482"
  },
  {
   "cell_type": "code",
   "execution_count": 59,
   "outputs": [
    {
     "name": "stdout",
     "output_type": "stream",
     "text": [
      "5238.0\n"
     ]
    }
   ],
   "source": [
    "print(np.max(ft_mt_352.X))"
   ],
   "metadata": {
    "collapsed": false,
    "ExecuteTime": {
     "end_time": "2025-06-18T16:39:44.196879700Z",
     "start_time": "2025-06-18T16:39:44.117995400Z"
    }
   },
   "id": "6d7ec810c7a5398"
  },
  {
   "cell_type": "code",
   "execution_count": 60,
   "outputs": [
    {
     "name": "stdout",
     "output_type": "stream",
     "text": [
      "                   batch\n",
      "AAACAGCCAAGGTGCA-1     1\n",
      "AAACAGCCACAATTAC-1     1\n",
      "AAACAGCCACAGGGAC-1     1\n",
      "AAACAGCCACCTCACC-1     1\n",
      "AAACAGCCAGGCATCT-1     1\n",
      "...                  ...\n",
      "TTTGTGTTCCTCCTAA-5     5\n",
      "TTTGTGTTCGGTCATG-5     5\n",
      "TTTGTGTTCGGTTTCC-5     5\n",
      "TTTGTTGGTTAGAGGG-5     5\n",
      "TTTGTTGGTTCGCGCT-5     5\n",
      "\n",
      "[17573 rows x 1 columns]\n"
     ]
    }
   ],
   "source": [
    "ft_mt_352.obs['batch'] = ft_mt_352.obs_names.map(utils.extract_batch)\n",
    "\n",
    "print(ft_mt_352.obs)"
   ],
   "metadata": {
    "collapsed": false,
    "ExecuteTime": {
     "end_time": "2025-06-18T16:50:18.488445600Z",
     "start_time": "2025-06-18T16:50:18.422692600Z"
    }
   },
   "id": "fc7a128a6bdd753c"
  },
  {
   "cell_type": "code",
   "execution_count": 11,
   "outputs": [
    {
     "name": "stderr",
     "output_type": "stream",
     "text": [
      "C:\\Creations\\Research\\NASASLSTP25\\AI4LS\\AI4LS\\CVAE\\.venv_cvae\\Lib\\site-packages\\anndata\\_core\\anndata.py:1756: UserWarning: Observation names are not unique. To make them unique, call `.obs_names_make_unique`.\n",
      "  utils.warn_names_duplicates(\"obs\")\n"
     ]
    }
   ],
   "source": [
    "corrected_data = sc.read_h5ad(path+'data/corrected_data.h5ad')"
   ],
   "metadata": {
    "collapsed": false,
    "ExecuteTime": {
     "end_time": "2025-06-18T18:27:38.801346300Z",
     "start_time": "2025-06-18T18:27:02.271097400Z"
    }
   },
   "id": "3cdf5e5af6a8f4a1"
  },
  {
   "cell_type": "code",
   "execution_count": 15,
   "outputs": [
    {
     "name": "stdout",
     "output_type": "stream",
     "text": [
      "18\n"
     ]
    }
   ],
   "source": [
    "print(len(corrected_data.obs['batch'].unique()))"
   ],
   "metadata": {
    "collapsed": false,
    "ExecuteTime": {
     "end_time": "2025-06-18T18:15:15.255974400Z",
     "start_time": "2025-06-18T18:15:15.247583100Z"
    }
   },
   "id": "3379d8cae65ab58b"
  },
  {
   "cell_type": "code",
   "execution_count": 5,
   "outputs": [],
   "source": [
    "def preprocess_adata(adata, n_top_genes = 1000):\n",
    "    \"\"\" Default sc preprocessing \"\"\"\n",
    "    adata.var_names_make_unique()\n",
    "    sc.pp.filter_cells(adata, min_genes = 300)\n",
    "    print(\"Post cells\", adata.shape)\n",
    "    print(len(adata.obs['batch'].unique()))\n",
    "    \n",
    "    sc.pp.filter_genes(adata, min_cells = 5)\n",
    "    print(\"Post filter genes\", adata.shape)\n",
    "    print(len(adata.obs['batch'].unique()))\n",
    "\n",
    "\n",
    "    sc.pp.normalize_total(adata, target_sum = 1e4)\n",
    "    sc.pp.log1p(adata)\n",
    "    print(\"Post normal\", adata.shape)\n",
    "    print(len(adata.obs['batch'].unique()))\n",
    "\n",
    "\n",
    "    sc.pp.highly_variable_genes(adata, n_top_genes = n_top_genes)\n",
    "    print(\"Post genes\", adata.shape)\n",
    "    print(len(adata.obs['batch'].unique()))\n",
    "\n",
    "\n",
    "    adata.raw = adata\n",
    "    adata = adata[:, adata.var.highly_variable]\n",
    "    print(\"Post rewrite\", adata.shape)\n",
    "    print(len(adata.obs['batch'].unique()))\n",
    "\n",
    "\n",
    "    return adata"
   ],
   "metadata": {
    "collapsed": false,
    "ExecuteTime": {
     "end_time": "2025-06-18T18:13:00.224435500Z",
     "start_time": "2025-06-18T18:13:00.213020400Z"
    }
   },
   "id": "171cfe6093b16ff1"
  },
  {
   "cell_type": "code",
   "execution_count": 4,
   "outputs": [],
   "source": [
    "unprocessed_list = [ft_mt_352, ft_mt_612, ft_mt_613]\n"
   ],
   "metadata": {
    "collapsed": false,
    "ExecuteTime": {
     "end_time": "2025-06-18T18:12:57.296795Z",
     "start_time": "2025-06-18T18:12:57.286603600Z"
    }
   },
   "id": "5cdc9341215e40c0"
  },
  {
   "cell_type": "code",
   "execution_count": 6,
   "outputs": [
    {
     "name": "stdout",
     "output_type": "stream",
     "text": [
      "Done processing batches (17573, 31053)\n",
      "Post cells (17563, 31053)\n",
      "5\n",
      "Post filter genes (17563, 21635)\n",
      "5\n",
      "Post normal (17563, 21635)\n",
      "5\n",
      "Post genes (17563, 21635)\n",
      "5\n",
      "Post rewrite (17563, 1000)\n",
      "5\n",
      "Done processing batches (78817, 31053)\n",
      "Post cells (78687, 31053)\n",
      "10\n",
      "Post filter genes (78687, 24643)\n",
      "10\n",
      "Post normal (78687, 24643)\n",
      "10\n",
      "Post genes (78687, 24643)\n",
      "10\n",
      "Post rewrite (78687, 1000)\n",
      "10\n",
      "Done processing batches (117464, 31053)\n",
      "Post cells (116403, 31053)\n",
      "18\n",
      "Post filter genes (116403, 25323)\n",
      "18\n",
      "Post normal (116403, 25323)\n",
      "18\n",
      "Post genes (116403, 25323)\n",
      "18\n",
      "Post rewrite (116403, 1000)\n",
      "18\n"
     ]
    }
   ],
   "source": [
    "for adata in unprocessed_list:\n",
    "    adata.obs['batch'] = adata.obs_names.map(utils.extract_batch)\n",
    "    adata.obs['batch'] = adata.obs['batch'].astype(int)\n",
    "    adata.obs['batch'] = adata.obs_names.map(utils.extract_batch)\n",
    "    adata.obs['batch'] = adata.obs['batch'].astype(int)\n",
    "    print(\"Done processing batches\", adata.shape)\n",
    "    adata = preprocess_adata(adata, n_top_genes=1000)"
   ],
   "metadata": {
    "collapsed": false,
    "ExecuteTime": {
     "end_time": "2025-06-18T18:13:30.825792400Z",
     "start_time": "2025-06-18T18:13:09.250553100Z"
    }
   },
   "id": "c6bae882378f291"
  },
  {
   "cell_type": "code",
   "execution_count": 7,
   "outputs": [],
   "source": [
    "processed_612 = sc.read_h5ad(path+'data/processed_612_data.h5ad')\n",
    "processed_613 = sc.read_h5ad(path+'data/processed_613_data.h5ad')\n",
    "processed_352 = sc.read_h5ad(path+'data/processed_352_data.h5ad')"
   ],
   "metadata": {
    "collapsed": false,
    "ExecuteTime": {
     "end_time": "2025-06-18T18:23:37.398695300Z",
     "start_time": "2025-06-18T18:23:26.162304900Z"
    }
   },
   "id": "b56b3d1cb8025dd0"
  },
  {
   "cell_type": "code",
   "execution_count": 8,
   "outputs": [
    {
     "name": "stdout",
     "output_type": "stream",
     "text": [
      "5\n",
      "10\n",
      "18\n"
     ]
    }
   ],
   "source": [
    "print(len(processed_352.obs['batch'].unique()))\n",
    "print(len(processed_612.obs['batch'].unique()))\n",
    "print(len(processed_613.obs['batch'].unique()))\n"
   ],
   "metadata": {
    "collapsed": false,
    "ExecuteTime": {
     "end_time": "2025-06-18T18:23:41.953854700Z",
     "start_time": "2025-06-18T18:23:41.941240900Z"
    }
   },
   "id": "a60e1d4345afc969"
  },
  {
   "cell_type": "code",
   "execution_count": 12,
   "outputs": [
    {
     "name": "stdout",
     "output_type": "stream",
     "text": [
      "(212653, 21543)\n"
     ]
    }
   ],
   "source": [
    "print(corrected_data.shape)"
   ],
   "metadata": {
    "collapsed": false,
    "ExecuteTime": {
     "end_time": "2025-06-18T18:27:49.515589600Z",
     "start_time": "2025-06-18T18:27:49.511528600Z"
    }
   },
   "id": "bbfdda20a2cb0112"
  },
  {
   "cell_type": "code",
   "execution_count": 22,
   "outputs": [
    {
     "name": "stdout",
     "output_type": "stream",
     "text": [
      "212653\n",
      "(116403, 25323)\n",
      "(17563, 21635)\n",
      "(78687, 24643)\n"
     ]
    }
   ],
   "source": [
    "print(processed_613.shape[0]+processed_612.shape[0]+processed_352.shape[0])\n",
    "print(processed_613.shape)\n",
    "print(processed_352.shape)\n",
    "print(processed_612.shape)"
   ],
   "metadata": {
    "collapsed": false,
    "ExecuteTime": {
     "end_time": "2025-06-18T18:36:49.709361Z",
     "start_time": "2025-06-18T18:36:49.689214800Z"
    }
   },
   "id": "44b76d8a04dd1ad"
  },
  {
   "cell_type": "code",
   "execution_count": 20,
   "outputs": [
    {
     "name": "stdout",
     "output_type": "stream",
     "text": [
      "33\n"
     ]
    },
    {
     "name": "stderr",
     "output_type": "stream",
     "text": [
      "C:\\Users\\suria\\AppData\\Local\\Temp\\ipykernel_7700\\66112955.py:1: FutureWarning: The default of observed=False is deprecated and will be changed to True in a future version of pandas. Pass observed=False to retain current behavior or observed=True to adopt the future default and silence this warning.\n",
      "  print(corrected_data.obs.groupby(['batch','dataset']).ngroups)\n"
     ]
    }
   ],
   "source": [
    "print(corrected_data.obs.groupby(['batch','dataset']).ngroups)"
   ],
   "metadata": {
    "collapsed": false,
    "ExecuteTime": {
     "end_time": "2025-06-18T18:33:31.964782400Z",
     "start_time": "2025-06-18T18:33:31.869778500Z"
    }
   },
   "id": "6a12cc0ef8e232a5"
  },
  {
   "cell_type": "code",
   "execution_count": null,
   "outputs": [],
   "source": [],
   "metadata": {
    "collapsed": false
   },
   "id": "71fa10e027fa9690"
  }
 ],
 "metadata": {
  "kernelspec": {
   "display_name": "Python 3",
   "language": "python",
   "name": "python3"
  },
  "language_info": {
   "codemirror_mode": {
    "name": "ipython",
    "version": 2
   },
   "file_extension": ".py",
   "mimetype": "text/x-python",
   "name": "python",
   "nbconvert_exporter": "python",
   "pygments_lexer": "ipython2",
   "version": "2.7.6"
  }
 },
 "nbformat": 4,
 "nbformat_minor": 5
}

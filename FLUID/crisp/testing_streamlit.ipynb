{
 "cells": [
  {
   "cell_type": "code",
   "execution_count": 27,
   "id": "eaaf5b60",
   "metadata": {},
   "outputs": [],
   "source": [
    "from PIL import Image\n",
    "\n",
    "import pandas as pd\n",
    "import glob\n",
    "import json\n",
    "import os\n",
    "import streamlit as st\n",
    "\n",
    "from streamlit_frontend.new_streamlit_data import streamlit_data\n",
    "from streamlit_frontend.streamlit_results import streamlit_results\n",
    "from streamlit_frontend.single_seed_streamlit_data import single_seed_streamlit_data\n",
    "from utils.streamlit_compute_average_voting import get_average_voting_ensemble\n",
    "\n",
    "from google.cloud import storage\n",
    "\n",
    "from utils.gseapy_import import gsea "
   ]
  },
  {
   "cell_type": "code",
   "execution_count": 14,
   "id": "eaa2246e",
   "metadata": {},
   "outputs": [
    {
     "name": "stdout",
     "output_type": "stream",
     "text": [
      "gamma_ray_experiment_reduced/\n",
      "gamma_ray_experiment_reduced/ERM.json\n",
      "gamma_ray_experiment_reduced/SNLIRM.json\n"
     ]
    }
   ],
   "source": [
    "bucket_name = 'ah21_data'\n",
    "client = storage.Client()\n",
    "bucket = client.bucket(bucket_name)\n",
    "iterator = bucket.list_blobs(delimiter='/')\n",
    "response = iterator._get_next_page_response()\n",
    "experiment_list = [prefix for prefix in response['prefixes'] if '_' in prefix]\n",
    "\n",
    "# experiment_list = glob.glob('experiment_configs/*.json')\n",
    "\n",
    "\n",
    "\n",
    "# config = {}\n",
    "\n",
    "print(experiment_list[17])\n",
    "iterator = bucket.list_blobs(prefix=experiment_list[17])\n",
    "json_files = [x.name for x in iterator if '.json' in x.name]\n",
    "temp_fix = [json_files[0]] + [json_files[2]]\n",
    "json_files = temp_fix\n",
    "\n",
    "model_files = []\n",
    "for model in json_files:\n",
    "    print(model)\n",
    "    blob = bucket.blob(model)\n",
    "    json_data = blob.download_as_string()\n",
    "    load = json.loads(json_data)\n",
    "    intermediate = json.dumps({i : load[r]['to_bucket'] for i,r in enumerate(load)})\n",
    "    results = json.loads(intermediate)    \n",
    "\n",
    "    model_files.append(results)\n",
    "\n",
    "    # with open('data.json', 'w') as f:\n",
    "    #     json.dump(results, f)\n"
   ]
  },
  {
   "cell_type": "code",
   "execution_count": 15,
   "id": "b3aa2d56",
   "metadata": {},
   "outputs": [],
   "source": [
    "# frame = get_average_voting_ensemble(model_files)\n",
    "# top_20_genes = frame[frame.columns[2]].sort_values(ascending=False).iloc[:20].index.to_list()\n",
    "# top_1000_genes = frame[frame.columns[2]].sort_values(ascending=False).iloc[:1000].index.to_list()\n",
    "# upper_genes = [x.upper() for x in top_20_genes]\n",
    "# plot = gsea(upper_genes, 'c6.all.v7.4.symbols.gmt',pcutoff=0.05, nPathways=10, figSize=(3,5), labelSize=20,\n",
    "#      title='identified oncogenic signiature genesets', filename='')"
   ]
  },
  {
   "cell_type": "code",
   "execution_count": 16,
   "id": "fe5a6cd4",
   "metadata": {},
   "outputs": [],
   "source": [
    "from streamlit_frontend.new_streamlit_results import streamlit_results"
   ]
  },
  {
   "cell_type": "code",
   "execution_count": 17,
   "id": "3bf501d9",
   "metadata": {},
   "outputs": [],
   "source": [
    "results_dict = model_files"
   ]
  },
  {
   "cell_type": "code",
   "execution_count": 18,
   "id": "ee2a0779",
   "metadata": {},
   "outputs": [],
   "source": [
    "model_names = []\n",
    "model_acc = []\n",
    "\n",
    "for model in results_dict:\n",
    "    model_acc.append([model[seed]['test_acc'] for seed in model])\n",
    "    model_names.append([model[seed]['method'] for seed in model])"
   ]
  },
  {
   "cell_type": "code",
   "execution_count": 20,
   "id": "7ddf1c86",
   "metadata": {},
   "outputs": [],
   "source": [
    "iterator = bucket.list_blobs(prefix=experiment_list[17])\n",
    "csv_files = [x.name for x in iterator if '.csv' in x.name]"
   ]
  },
  {
   "cell_type": "code",
   "execution_count": 22,
   "id": "093d254b",
   "metadata": {},
   "outputs": [
    {
     "data": {
      "text/plain": [
       "'gamma_ray_experiment_reduced/'"
      ]
     },
     "execution_count": 22,
     "metadata": {},
     "output_type": "execute_result"
    }
   ],
   "source": []
  },
  {
   "cell_type": "code",
   "execution_count": 24,
   "id": "a131ec5c",
   "metadata": {},
   "outputs": [],
   "source": [
    "seed_0_files = [file for file in csv_files if experiment_list[17]+'seed_0/' in file]"
   ]
  },
  {
   "cell_type": "code",
   "execution_count": 30,
   "id": "fbd90d59",
   "metadata": {},
   "outputs": [],
   "source": [
    "from io import StringIO"
   ]
  },
  {
   "cell_type": "code",
   "execution_count": 36,
   "id": "51704c4b",
   "metadata": {},
   "outputs": [],
   "source": [
    "file_array = []\n",
    "for file in seed_0_files:\n",
    "#     print(model)\n",
    "    blob = bucket.blob(file)\n",
    "    pandas_data = blob.download_as_string()\n",
    "    s=str(pandas_data,'utf-8')\n",
    "    pandas_data = StringIO(s) \n",
    "    env_frame = pd.read_csv(pandas_data)\n",
    "    env_frame['environment'] = file[len(experiment_list[17]+'seed_0'):]\n",
    "    file_array.append(env_frame)"
   ]
  },
  {
   "cell_type": "code",
   "execution_count": 38,
   "id": "b2b8fd7b",
   "metadata": {},
   "outputs": [],
   "source": [
    "final_frame = pd.concat(file_array)"
   ]
  },
  {
   "cell_type": "code",
   "execution_count": 85,
   "id": "93e5e48d",
   "metadata": {},
   "outputs": [],
   "source": [
    "testo = pd.Series({'a': 1,'b':2,'c':3}, name = 'testo')\n",
    "test1 = pd.Series({'a': 4,'b':2,'d':3}, name = 'test1')"
   ]
  },
  {
   "cell_type": "code",
   "execution_count": 76,
   "id": "398df447",
   "metadata": {},
   "outputs": [],
   "source": [
    "set1 = set(testo.index.to_list())\n",
    " \n",
    "set2 = set(test2.index.to_list())"
   ]
  },
  {
   "cell_type": "code",
   "execution_count": 81,
   "id": "28df8ac7",
   "metadata": {},
   "outputs": [
    {
     "name": "stdout",
     "output_type": "stream",
     "text": [
      "      testo test1\n",
      "testo   NaN   NaN\n",
      "test1   NaN   NaN\n"
     ]
    }
   ],
   "source": [
    "df = pd.DataFrame(columns = ['testo','test1'], index = ['testo', 'test1'])\n",
    "print(df)"
   ]
  },
  {
   "cell_type": "code",
   "execution_count": 91,
   "id": "fd811e75",
   "metadata": {},
   "outputs": [],
   "source": [
    "dic = {'testo': set(testo.to_list()), 'test1': set(test1.to_list())}"
   ]
  },
  {
   "cell_type": "code",
   "execution_count": 92,
   "id": "d33ed10d",
   "metadata": {},
   "outputs": [],
   "source": [
    "for column in df.columns:\n",
    "    for index in df.index:\n",
    "        if column == index:\n",
    "            df[column][index] = '-'\n",
    "        else:\n",
    "            df[column][index] = dic[column].intersection(dic[index])\n",
    "            "
   ]
  },
  {
   "cell_type": "code",
   "execution_count": 95,
   "id": "b1861ff8",
   "metadata": {},
   "outputs": [
    {
     "data": {
      "text/plain": [
       "str"
      ]
     },
     "execution_count": 95,
     "metadata": {},
     "output_type": "execute_result"
    }
   ],
   "source": [
    "type(testo.name)"
   ]
  },
  {
   "cell_type": "code",
   "execution_count": null,
   "id": "a254e37d",
   "metadata": {},
   "outputs": [],
   "source": [
    "for frame in [testo, test2]"
   ]
  },
  {
   "cell_type": "code",
   "execution_count": 78,
   "id": "87666954",
   "metadata": {},
   "outputs": [
    {
     "name": "stdout",
     "output_type": "stream",
     "text": [
      "b\n",
      "['testo', 'test1']\n",
      "d\n",
      "['test1']\n",
      "a\n",
      "['testo', 'test1']\n",
      "c\n",
      "['testo']\n"
     ]
    }
   ],
   "source": [
    "\n",
    "for gene in list(set2.union(set1)):\n",
    "    array = [frame.name for frame in [testo, test2] if gene in frame.index] \n",
    "    print(gene)\n",
    "    print(array)"
   ]
  },
  {
   "cell_type": "code",
   "execution_count": null,
   "id": "df57bda3",
   "metadata": {},
   "outputs": [],
   "source": []
  }
 ],
 "metadata": {
  "environment": {
   "name": "common-cu100.m73",
   "type": "gcloud",
   "uri": "gcr.io/deeplearning-platform-release/base-cu100:m73"
  },
  "kernelspec": {
   "display_name": "Python 3",
   "language": "python",
   "name": "python3"
  },
  "language_info": {
   "codemirror_mode": {
    "name": "ipython",
    "version": 3
   },
   "file_extension": ".py",
   "mimetype": "text/x-python",
   "name": "python",
   "nbconvert_exporter": "python",
   "pygments_lexer": "ipython3",
   "version": "3.7.10"
  }
 },
 "nbformat": 4,
 "nbformat_minor": 5
}

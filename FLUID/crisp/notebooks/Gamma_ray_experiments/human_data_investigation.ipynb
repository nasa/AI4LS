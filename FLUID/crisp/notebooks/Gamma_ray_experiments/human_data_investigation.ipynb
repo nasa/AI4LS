{
 "cells": [
  {
   "cell_type": "code",
   "execution_count": 30,
   "id": "566531a4",
   "metadata": {},
   "outputs": [
    {
     "data": {
      "text/plain": [
       "'/home/jupyter/crisp'"
      ]
     },
     "execution_count": 30,
     "metadata": {},
     "output_type": "execute_result"
    }
   ],
   "source": [
    "import os\n",
    "import json\n",
    "import pandas as pd\n",
    "import numpy as np\n",
    "if os.getcwd() != '/home/jupyter/crisp':\n",
    "    os.chdir(\"..\")\n",
    "from utils.gcp_helpers import get_dataframe_from_bucket\n",
    "%pwd"
   ]
  },
  {
   "cell_type": "code",
   "execution_count": 31,
   "id": "85db9b65",
   "metadata": {},
   "outputs": [],
   "source": [
    "human_data = get_dataframe_from_bucket(\"Radiation/human/combined/human.combined.expression.071321.tsv\",\"ah21_data\", \"ah21_data\", sep=\"\\t\")"
   ]
  },
  {
   "cell_type": "code",
   "execution_count": 32,
   "id": "1834760e",
   "metadata": {},
   "outputs": [],
   "source": [
    "human_metadata = get_dataframe_from_bucket(\"Radiation/human/combined/human.metadata.combined.071321.csv\",\"ah21_data\", \"ah21_data\", sep=\",\")"
   ]
  },
  {
   "cell_type": "code",
   "execution_count": 33,
   "id": "2bf26cac",
   "metadata": {},
   "outputs": [],
   "source": [
    "mouse_data = get_dataframe_from_bucket(\"Radiation/mouse/combined/mouse.combined.expression.071121.tsv\",\"ah21_data\", \"ah21_data\", sep=\"\\t\")"
   ]
  },
  {
   "cell_type": "code",
   "execution_count": 34,
   "id": "d68e1b2f",
   "metadata": {},
   "outputs": [],
   "source": [
    "# https://www.ncbi.nlm.nih.gov/homologene\n",
    "# there are a couple r packages that are just for mapping between refseq and ensembl and homologene identifiers\n",
    "# you can ping frank on R if you need it!"
   ]
  },
  {
   "cell_type": "code",
   "execution_count": 6,
   "id": "9899fead",
   "metadata": {},
   "outputs": [],
   "source": [
    "human_mouse_gene_map = pd.read_csv('data/mouse_human_mapping.txt', sep='\\t')"
   ]
  },
  {
   "cell_type": "code",
   "execution_count": 7,
   "id": "6f16eeb9",
   "metadata": {},
   "outputs": [],
   "source": [
    "db_mouse_genes = set(human_mouse_gene_map['Mouse gene name'].str.lower())"
   ]
  },
  {
   "cell_type": "code",
   "execution_count": 8,
   "id": "6912955b",
   "metadata": {},
   "outputs": [],
   "source": [
    "db_human_genes = set(human_mouse_gene_map['Gene name'].str.lower())"
   ]
  },
  {
   "cell_type": "code",
   "execution_count": 9,
   "id": "d4fb38c6",
   "metadata": {},
   "outputs": [],
   "source": [
    "exp_human_genes = set(human_data.GeneName.str.lower())"
   ]
  },
  {
   "cell_type": "code",
   "execution_count": 10,
   "id": "3acef8d6",
   "metadata": {},
   "outputs": [],
   "source": [
    "exp_mouse_genes = set(mouse_data.GeneName.str.lower())"
   ]
  },
  {
   "cell_type": "code",
   "execution_count": 11,
   "id": "482bab71",
   "metadata": {},
   "outputs": [
    {
     "data": {
      "text/plain": [
       "23818"
      ]
     },
     "execution_count": 11,
     "metadata": {},
     "output_type": "execute_result"
    }
   ],
   "source": [
    "len(exp_human_genes)"
   ]
  },
  {
   "cell_type": "code",
   "execution_count": 12,
   "id": "46c27114",
   "metadata": {},
   "outputs": [
    {
     "data": {
      "text/plain": [
       "19614"
      ]
     },
     "execution_count": 12,
     "metadata": {},
     "output_type": "execute_result"
    }
   ],
   "source": [
    "len(db_mouse_genes)"
   ]
  },
  {
   "cell_type": "code",
   "execution_count": 13,
   "id": "695a9dda",
   "metadata": {},
   "outputs": [
    {
     "data": {
      "text/plain": [
       "18830"
      ]
     },
     "execution_count": 13,
     "metadata": {},
     "output_type": "execute_result"
    }
   ],
   "source": [
    "len(db_human_genes)"
   ]
  },
  {
   "cell_type": "code",
   "execution_count": 14,
   "id": "8c61f896",
   "metadata": {},
   "outputs": [],
   "source": [
    "human_sub = exp_human_genes.intersection(db_human_genes)"
   ]
  },
  {
   "cell_type": "code",
   "execution_count": 15,
   "id": "ccc83722",
   "metadata": {},
   "outputs": [],
   "source": [
    "mouse_sub = exp_mouse_genes.intersection(db_mouse_genes)"
   ]
  },
  {
   "cell_type": "code",
   "execution_count": 16,
   "id": "74dea8b6",
   "metadata": {},
   "outputs": [
    {
     "data": {
      "text/plain": [
       "10493"
      ]
     },
     "execution_count": 16,
     "metadata": {},
     "output_type": "execute_result"
    }
   ],
   "source": [
    "len(mouse_sub.intersection(human_sub))"
   ]
  },
  {
   "cell_type": "code",
   "execution_count": 19,
   "id": "aea8e119",
   "metadata": {},
   "outputs": [],
   "source": [
    "metadata = human_metadata"
   ]
  },
  {
   "cell_type": "code",
   "execution_count": 29,
   "id": "b6ea962d",
   "metadata": {},
   "outputs": [
    {
     "data": {
      "text/html": [
       "<div>\n",
       "<style scoped>\n",
       "    .dataframe tbody tr th:only-of-type {\n",
       "        vertical-align: middle;\n",
       "    }\n",
       "\n",
       "    .dataframe tbody tr th {\n",
       "        vertical-align: top;\n",
       "    }\n",
       "\n",
       "    .dataframe thead th {\n",
       "        text-align: right;\n",
       "    }\n",
       "</style>\n",
       "<table border=\"1\" class=\"dataframe\">\n",
       "  <thead>\n",
       "    <tr style=\"text-align: right;\">\n",
       "      <th></th>\n",
       "      <th>sample</th>\n",
       "      <th>organism</th>\n",
       "      <th>source</th>\n",
       "      <th>gender</th>\n",
       "      <th>age_years</th>\n",
       "      <th>timepoint_hr</th>\n",
       "      <th>dose_Gy</th>\n",
       "      <th>radiation</th>\n",
       "      <th>dataset</th>\n",
       "      <th>irradiated</th>\n",
       "    </tr>\n",
       "  </thead>\n",
       "  <tbody>\n",
       "    <tr>\n",
       "      <th>0</th>\n",
       "      <td>GSM226029</td>\n",
       "      <td>Homo sapiens</td>\n",
       "      <td>Peripheral Blood</td>\n",
       "      <td>female</td>\n",
       "      <td>23</td>\n",
       "      <td>24</td>\n",
       "      <td>0.0</td>\n",
       "      <td>Control</td>\n",
       "      <td>GLDS152</td>\n",
       "      <td>No</td>\n",
       "    </tr>\n",
       "    <tr>\n",
       "      <th>1</th>\n",
       "      <td>GSM226014</td>\n",
       "      <td>Homo sapiens</td>\n",
       "      <td>Peripheral Blood</td>\n",
       "      <td>male</td>\n",
       "      <td>47</td>\n",
       "      <td>24</td>\n",
       "      <td>0.0</td>\n",
       "      <td>Control</td>\n",
       "      <td>GLDS152</td>\n",
       "      <td>No</td>\n",
       "    </tr>\n",
       "    <tr>\n",
       "      <th>2</th>\n",
       "      <td>GSM225984</td>\n",
       "      <td>Homo sapiens</td>\n",
       "      <td>Peripheral Blood</td>\n",
       "      <td>male</td>\n",
       "      <td>39</td>\n",
       "      <td>6</td>\n",
       "      <td>0.0</td>\n",
       "      <td>Control</td>\n",
       "      <td>GLDS152</td>\n",
       "      <td>No</td>\n",
       "    </tr>\n",
       "    <tr>\n",
       "      <th>3</th>\n",
       "      <td>GSM226024</td>\n",
       "      <td>Homo sapiens</td>\n",
       "      <td>Peripheral Blood</td>\n",
       "      <td>female</td>\n",
       "      <td>46</td>\n",
       "      <td>24</td>\n",
       "      <td>0.0</td>\n",
       "      <td>Control</td>\n",
       "      <td>GLDS152</td>\n",
       "      <td>No</td>\n",
       "    </tr>\n",
       "    <tr>\n",
       "      <th>4</th>\n",
       "      <td>GSM225989</td>\n",
       "      <td>Homo sapiens</td>\n",
       "      <td>Peripheral Blood</td>\n",
       "      <td>female</td>\n",
       "      <td>20</td>\n",
       "      <td>6</td>\n",
       "      <td>0.0</td>\n",
       "      <td>Control</td>\n",
       "      <td>GLDS152</td>\n",
       "      <td>No</td>\n",
       "    </tr>\n",
       "    <tr>\n",
       "      <th>...</th>\n",
       "      <td>...</td>\n",
       "      <td>...</td>\n",
       "      <td>...</td>\n",
       "      <td>...</td>\n",
       "      <td>...</td>\n",
       "      <td>...</td>\n",
       "      <td>...</td>\n",
       "      <td>...</td>\n",
       "      <td>...</td>\n",
       "      <td>...</td>\n",
       "    </tr>\n",
       "    <tr>\n",
       "      <th>120</th>\n",
       "      <td>GSM1080653</td>\n",
       "      <td>Homo sapiens</td>\n",
       "      <td>Peripheral Blood</td>\n",
       "      <td>male</td>\n",
       "      <td>25</td>\n",
       "      <td>48</td>\n",
       "      <td>8.0</td>\n",
       "      <td>gamma</td>\n",
       "      <td>GLDS157</td>\n",
       "      <td>Yes</td>\n",
       "    </tr>\n",
       "    <tr>\n",
       "      <th>121</th>\n",
       "      <td>GSM1080603</td>\n",
       "      <td>Homo sapiens</td>\n",
       "      <td>Peripheral Blood</td>\n",
       "      <td>male</td>\n",
       "      <td>53</td>\n",
       "      <td>6</td>\n",
       "      <td>8.0</td>\n",
       "      <td>gamma</td>\n",
       "      <td>GLDS157</td>\n",
       "      <td>Yes</td>\n",
       "    </tr>\n",
       "    <tr>\n",
       "      <th>122</th>\n",
       "      <td>GSM1080593</td>\n",
       "      <td>Homo sapiens</td>\n",
       "      <td>Peripheral Blood</td>\n",
       "      <td>male</td>\n",
       "      <td>39</td>\n",
       "      <td>6</td>\n",
       "      <td>8.0</td>\n",
       "      <td>gamma</td>\n",
       "      <td>GLDS157</td>\n",
       "      <td>Yes</td>\n",
       "    </tr>\n",
       "    <tr>\n",
       "      <th>123</th>\n",
       "      <td>GSM1080628</td>\n",
       "      <td>Homo sapiens</td>\n",
       "      <td>Peripheral Blood</td>\n",
       "      <td>male</td>\n",
       "      <td>38</td>\n",
       "      <td>24</td>\n",
       "      <td>8.0</td>\n",
       "      <td>gamma</td>\n",
       "      <td>GLDS157</td>\n",
       "      <td>Yes</td>\n",
       "    </tr>\n",
       "    <tr>\n",
       "      <th>124</th>\n",
       "      <td>GSM1080633</td>\n",
       "      <td>Homo sapiens</td>\n",
       "      <td>Peripheral Blood</td>\n",
       "      <td>male</td>\n",
       "      <td>47</td>\n",
       "      <td>24</td>\n",
       "      <td>8.0</td>\n",
       "      <td>gamma</td>\n",
       "      <td>GLDS157</td>\n",
       "      <td>Yes</td>\n",
       "    </tr>\n",
       "  </tbody>\n",
       "</table>\n",
       "<p>125 rows × 10 columns</p>\n",
       "</div>"
      ],
      "text/plain": [
       "         sample      organism            source  gender  age_years  \\\n",
       "0     GSM226029  Homo sapiens  Peripheral Blood  female         23   \n",
       "1     GSM226014  Homo sapiens  Peripheral Blood    male         47   \n",
       "2     GSM225984  Homo sapiens  Peripheral Blood    male         39   \n",
       "3     GSM226024  Homo sapiens  Peripheral Blood  female         46   \n",
       "4     GSM225989  Homo sapiens  Peripheral Blood  female         20   \n",
       "..          ...           ...               ...     ...        ...   \n",
       "120  GSM1080653  Homo sapiens  Peripheral Blood    male         25   \n",
       "121  GSM1080603  Homo sapiens  Peripheral Blood    male         53   \n",
       "122  GSM1080593  Homo sapiens  Peripheral Blood    male         39   \n",
       "123  GSM1080628  Homo sapiens  Peripheral Blood    male         38   \n",
       "124  GSM1080633  Homo sapiens  Peripheral Blood    male         47   \n",
       "\n",
       "     timepoint_hr  dose_Gy radiation  dataset irradiated  \n",
       "0              24      0.0   Control  GLDS152         No  \n",
       "1              24      0.0   Control  GLDS152         No  \n",
       "2               6      0.0   Control  GLDS152         No  \n",
       "3              24      0.0   Control  GLDS152         No  \n",
       "4               6      0.0   Control  GLDS152         No  \n",
       "..            ...      ...       ...      ...        ...  \n",
       "120            48      8.0    gamma   GLDS157        Yes  \n",
       "121             6      8.0    gamma   GLDS157        Yes  \n",
       "122             6      8.0    gamma   GLDS157        Yes  \n",
       "123            24      8.0    gamma   GLDS157        Yes  \n",
       "124            24      8.0    gamma   GLDS157        Yes  \n",
       "\n",
       "[125 rows x 10 columns]"
      ]
     },
     "execution_count": 29,
     "metadata": {},
     "output_type": "execute_result"
    }
   ],
   "source": [
    "metadata"
   ]
  },
  {
   "cell_type": "code",
   "execution_count": 20,
   "id": "006743ea",
   "metadata": {},
   "outputs": [],
   "source": [
    "meta_columns = metadata.columns\n",
    "datasets = list(metadata.dataset.unique())\n",
    "radstates = list(metadata.irradiated.unique())"
   ]
  },
  {
   "cell_type": "code",
   "execution_count": 24,
   "id": "c5346280",
   "metadata": {},
   "outputs": [],
   "source": [
    "for m in meta_columns:\n",
    "    check_nan = (metadata[metadata[m].isnull()])\n",
    "# no nan values found in the humans"
   ]
  },
  {
   "cell_type": "code",
   "execution_count": 21,
   "id": "d48ec5ba",
   "metadata": {},
   "outputs": [
    {
     "data": {
      "text/html": [
       "<div>\n",
       "<style scoped>\n",
       "    .dataframe tbody tr th:only-of-type {\n",
       "        vertical-align: middle;\n",
       "    }\n",
       "\n",
       "    .dataframe tbody tr th {\n",
       "        vertical-align: top;\n",
       "    }\n",
       "\n",
       "    .dataframe thead th {\n",
       "        text-align: right;\n",
       "    }\n",
       "</style>\n",
       "<table border=\"1\" class=\"dataframe\">\n",
       "  <thead>\n",
       "    <tr style=\"text-align: right;\">\n",
       "      <th></th>\n",
       "      <th>GLDS152</th>\n",
       "      <th>GLDS157</th>\n",
       "    </tr>\n",
       "  </thead>\n",
       "  <tbody>\n",
       "    <tr>\n",
       "      <th>Yes</th>\n",
       "      <td>40</td>\n",
       "      <td>60</td>\n",
       "    </tr>\n",
       "    <tr>\n",
       "      <th>No</th>\n",
       "      <td>10</td>\n",
       "      <td>15</td>\n",
       "    </tr>\n",
       "  </tbody>\n",
       "</table>\n",
       "</div>"
      ],
      "text/plain": [
       "     GLDS152  GLDS157\n",
       "Yes       40       60\n",
       "No        10       15"
      ]
     },
     "execution_count": 21,
     "metadata": {},
     "output_type": "execute_result"
    }
   ],
   "source": [
    "value_matrix = {}\n",
    "for d in datasets:\n",
    "    value_matrix[d] = metadata[metadata.dataset == d].irradiated.value_counts()\n",
    "pd.DataFrame(value_matrix)\n",
    "# mix of radiates vs irradiated in both experimental settings"
   ]
  },
  {
   "cell_type": "code",
   "execution_count": 25,
   "id": "1b23fb52",
   "metadata": {},
   "outputs": [
    {
     "data": {
      "text/html": [
       "<div>\n",
       "<style scoped>\n",
       "    .dataframe tbody tr th:only-of-type {\n",
       "        vertical-align: middle;\n",
       "    }\n",
       "\n",
       "    .dataframe tbody tr th {\n",
       "        vertical-align: top;\n",
       "    }\n",
       "\n",
       "    .dataframe thead th {\n",
       "        text-align: right;\n",
       "    }\n",
       "</style>\n",
       "<table border=\"1\" class=\"dataframe\">\n",
       "  <thead>\n",
       "    <tr style=\"text-align: right;\">\n",
       "      <th></th>\n",
       "      <th>GLDS152</th>\n",
       "      <th>GLDS157</th>\n",
       "    </tr>\n",
       "  </thead>\n",
       "  <tbody>\n",
       "    <tr>\n",
       "      <th>6</th>\n",
       "      <td>25.0</td>\n",
       "      <td>25</td>\n",
       "    </tr>\n",
       "    <tr>\n",
       "      <th>24</th>\n",
       "      <td>25.0</td>\n",
       "      <td>25</td>\n",
       "    </tr>\n",
       "    <tr>\n",
       "      <th>48</th>\n",
       "      <td>NaN</td>\n",
       "      <td>25</td>\n",
       "    </tr>\n",
       "  </tbody>\n",
       "</table>\n",
       "</div>"
      ],
      "text/plain": [
       "    GLDS152  GLDS157\n",
       "6      25.0       25\n",
       "24     25.0       25\n",
       "48      NaN       25"
      ]
     },
     "execution_count": 25,
     "metadata": {},
     "output_type": "execute_result"
    }
   ],
   "source": [
    "value_matrix = {}\n",
    "for d in datasets:\n",
    "    value_matrix[d] = metadata[metadata.dataset == d].timepoint_hr.value_counts()\n",
    "pd.DataFrame(value_matrix)    \n",
    "# only one experiment has variation in radiation time"
   ]
  },
  {
   "cell_type": "code",
   "execution_count": 26,
   "id": "22157117",
   "metadata": {},
   "outputs": [
    {
     "data": {
      "text/html": [
       "<div>\n",
       "<style scoped>\n",
       "    .dataframe tbody tr th:only-of-type {\n",
       "        vertical-align: middle;\n",
       "    }\n",
       "\n",
       "    .dataframe tbody tr th {\n",
       "        vertical-align: top;\n",
       "    }\n",
       "\n",
       "    .dataframe thead th {\n",
       "        text-align: right;\n",
       "    }\n",
       "</style>\n",
       "<table border=\"1\" class=\"dataframe\">\n",
       "  <thead>\n",
       "    <tr style=\"text-align: right;\">\n",
       "      <th></th>\n",
       "      <th>GLDS152</th>\n",
       "      <th>GLDS157</th>\n",
       "    </tr>\n",
       "  </thead>\n",
       "  <tbody>\n",
       "    <tr>\n",
       "      <th>female</th>\n",
       "      <td>25</td>\n",
       "      <td>40</td>\n",
       "    </tr>\n",
       "    <tr>\n",
       "      <th>male</th>\n",
       "      <td>25</td>\n",
       "      <td>35</td>\n",
       "    </tr>\n",
       "  </tbody>\n",
       "</table>\n",
       "</div>"
      ],
      "text/plain": [
       "        GLDS152  GLDS157\n",
       "female       25       40\n",
       "male         25       35"
      ]
     },
     "execution_count": 26,
     "metadata": {},
     "output_type": "execute_result"
    }
   ],
   "source": [
    "value_matrix = {}\n",
    "for d in datasets:\n",
    "    value_matrix[d] = metadata[metadata.dataset == d].gender.value_counts()\n",
    "pd.DataFrame(value_matrix)    \n",
    "# only one experiment has variation in radiation time"
   ]
  },
  {
   "cell_type": "code",
   "execution_count": 27,
   "id": "f7beee06",
   "metadata": {},
   "outputs": [
    {
     "data": {
      "text/html": [
       "<div>\n",
       "<style scoped>\n",
       "    .dataframe tbody tr th:only-of-type {\n",
       "        vertical-align: middle;\n",
       "    }\n",
       "\n",
       "    .dataframe tbody tr th {\n",
       "        vertical-align: top;\n",
       "    }\n",
       "\n",
       "    .dataframe thead th {\n",
       "        text-align: right;\n",
       "    }\n",
       "</style>\n",
       "<table border=\"1\" class=\"dataframe\">\n",
       "  <thead>\n",
       "    <tr style=\"text-align: right;\">\n",
       "      <th></th>\n",
       "      <th>GLDS152</th>\n",
       "      <th>GLDS157</th>\n",
       "    </tr>\n",
       "  </thead>\n",
       "  <tbody>\n",
       "    <tr>\n",
       "      <th>0.0</th>\n",
       "      <td>10</td>\n",
       "      <td>15</td>\n",
       "    </tr>\n",
       "    <tr>\n",
       "      <th>2.0</th>\n",
       "      <td>10</td>\n",
       "      <td>15</td>\n",
       "    </tr>\n",
       "    <tr>\n",
       "      <th>5.0</th>\n",
       "      <td>10</td>\n",
       "      <td>15</td>\n",
       "    </tr>\n",
       "    <tr>\n",
       "      <th>0.5</th>\n",
       "      <td>10</td>\n",
       "      <td>15</td>\n",
       "    </tr>\n",
       "    <tr>\n",
       "      <th>8.0</th>\n",
       "      <td>10</td>\n",
       "      <td>15</td>\n",
       "    </tr>\n",
       "  </tbody>\n",
       "</table>\n",
       "</div>"
      ],
      "text/plain": [
       "     GLDS152  GLDS157\n",
       "0.0       10       15\n",
       "2.0       10       15\n",
       "5.0       10       15\n",
       "0.5       10       15\n",
       "8.0       10       15"
      ]
     },
     "execution_count": 27,
     "metadata": {},
     "output_type": "execute_result"
    }
   ],
   "source": [
    "value_matrix = {}\n",
    "for d in datasets:\n",
    "    value_matrix[d] = metadata[metadata.dataset == d].dose_Gy.value_counts()\n",
    "pd.DataFrame(value_matrix)    \n",
    "# only one experiment has variation in radiation time"
   ]
  },
  {
   "cell_type": "code",
   "execution_count": null,
   "id": "098d4155",
   "metadata": {},
   "outputs": [],
   "source": [
    "# just on the offchacne, look at https://genelab-data.ndc.nasa.gov/genelab/accession/GLDS-73/\n",
    "# this is as the radiation looks like cosmic rays here\n",
    "# there are some mouse lung studies here https://genelab-data.ndc.nasa.gov/genelab/accession/GLDS-148/\n",
    "# these mimic, so can be used. However - not sure if the mouse data uses Iron unlike the human data? NOPE! They both use Iron! "
   ]
  },
  {
   "cell_type": "code",
   "execution_count": 28,
   "id": "f1359d66",
   "metadata": {},
   "outputs": [
    {
     "data": {
      "text/html": [
       "<div>\n",
       "<style scoped>\n",
       "    .dataframe tbody tr th:only-of-type {\n",
       "        vertical-align: middle;\n",
       "    }\n",
       "\n",
       "    .dataframe tbody tr th {\n",
       "        vertical-align: top;\n",
       "    }\n",
       "\n",
       "    .dataframe thead th {\n",
       "        text-align: right;\n",
       "    }\n",
       "</style>\n",
       "<table border=\"1\" class=\"dataframe\">\n",
       "  <thead>\n",
       "    <tr style=\"text-align: right;\">\n",
       "      <th></th>\n",
       "      <th>GLDS152</th>\n",
       "      <th>GLDS157</th>\n",
       "    </tr>\n",
       "  </thead>\n",
       "  <tbody>\n",
       "    <tr>\n",
       "      <th>Control</th>\n",
       "      <td>10.0</td>\n",
       "      <td>15.0</td>\n",
       "    </tr>\n",
       "    <tr>\n",
       "      <th>gamma</th>\n",
       "      <td>40.0</td>\n",
       "      <td>NaN</td>\n",
       "    </tr>\n",
       "    <tr>\n",
       "      <th>gamma</th>\n",
       "      <td>NaN</td>\n",
       "      <td>60.0</td>\n",
       "    </tr>\n",
       "  </tbody>\n",
       "</table>\n",
       "</div>"
      ],
      "text/plain": [
       "         GLDS152  GLDS157\n",
       "Control     10.0     15.0\n",
       "gamma       40.0      NaN\n",
       "gamma        NaN     60.0"
      ]
     },
     "execution_count": 28,
     "metadata": {},
     "output_type": "execute_result"
    }
   ],
   "source": [
    "value_matrix = {}\n",
    "for d in datasets:\n",
    "    value_matrix[d] = metadata[metadata.dataset == d].radiation.value_counts()\n",
    "pd.DataFrame(value_matrix)    \n",
    "# only one experiment has variation in radiation time"
   ]
  },
  {
   "cell_type": "code",
   "execution_count": null,
   "id": "69ec1232",
   "metadata": {},
   "outputs": [],
   "source": []
  }
 ],
 "metadata": {
  "environment": {
   "name": "common-cu100.m73",
   "type": "gcloud",
   "uri": "gcr.io/deeplearning-platform-release/base-cu100:m73"
  },
  "kernelspec": {
   "display_name": "Python 3",
   "language": "python",
   "name": "python3"
  },
  "language_info": {
   "codemirror_mode": {
    "name": "ipython",
    "version": 3
   },
   "file_extension": ".py",
   "mimetype": "text/x-python",
   "name": "python",
   "nbconvert_exporter": "python",
   "pygments_lexer": "ipython3",
   "version": "3.7.10"
  }
 },
 "nbformat": 4,
 "nbformat_minor": 5
}

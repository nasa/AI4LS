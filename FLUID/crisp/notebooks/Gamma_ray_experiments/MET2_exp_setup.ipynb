{
 "cells": [
  {
   "cell_type": "code",
   "execution_count": 1,
   "id": "38d3ae80",
   "metadata": {},
   "outputs": [
    {
     "data": {
      "text/plain": [
       "'/home/jupyter/crisp'"
      ]
     },
     "execution_count": 1,
     "metadata": {},
     "output_type": "execute_result"
    }
   ],
   "source": [
    "import os\n",
    "import pandas as pd\n",
    "import numpy as np\n",
    "if os.getcwd() != '/home/jupyter/crisp':\n",
    "    os.chdir(\"..\")\n",
    "%pwd"
   ]
  },
  {
   "cell_type": "code",
   "execution_count": 2,
   "id": "c8da5b44",
   "metadata": {},
   "outputs": [],
   "source": [
    "file = pd.read_pickle('data/combined_mouse_human_data.pkl')"
   ]
  },
  {
   "cell_type": "code",
   "execution_count": 49,
   "id": "b25080af",
   "metadata": {},
   "outputs": [],
   "source": [
    "def generate_mouse_human_experiment(filepath='data/combined_mouse_human_data.pkl',\n",
    "                                    human_count = 125,\n",
    "                                    mice_count = 0,\n",
    "                                    seed = None,\n",
    "                                    pickle_directory = None):\n",
    "    file = pd.read_pickle('data/combined_mouse_human_data.pkl')\n",
    "    mouse_sample = file[file.organism == 'Mus musculus'].sample(n=mice_count, random_state = seed)\n",
    "    human_sample = file[file.organism == 'Homo sapiens'].sample(n=human_count, random_state = seed)\n",
    "    human_sample = human_sample.append(mouse_sample).sample(frac=1, random_state = seed)\n",
    "    if pickle_directory == None:\n",
    "        return human_sample\n",
    "    else:\n",
    "        human_sample.to_pickle(pickle_directory+'/humans_'+str(human_count)+'_mice_'+str(mice_count)+'_seed_'+str(seed)+'.pkl')"
   ]
  },
  {
   "cell_type": "code",
   "execution_count": 50,
   "id": "fc404d66",
   "metadata": {},
   "outputs": [],
   "source": [
    "generate_mouse_human_experiment(pickle_directory = 'data')"
   ]
  },
  {
   "cell_type": "code",
   "execution_count": null,
   "id": "4607875e",
   "metadata": {},
   "outputs": [],
   "source": []
  }
 ],
 "metadata": {
  "environment": {
   "name": "common-cu100.m73",
   "type": "gcloud",
   "uri": "gcr.io/deeplearning-platform-release/base-cu100:m73"
  },
  "kernelspec": {
   "display_name": "Python 3",
   "language": "python",
   "name": "python3"
  },
  "language_info": {
   "codemirror_mode": {
    "name": "ipython",
    "version": 3
   },
   "file_extension": ".py",
   "mimetype": "text/x-python",
   "name": "python",
   "nbconvert_exporter": "python",
   "pygments_lexer": "ipython3",
   "version": "3.7.10"
  }
 },
 "nbformat": 4,
 "nbformat_minor": 5
}

{
 "cells": [
  {
   "cell_type": "code",
   "execution_count": 1,
   "id": "43b54403",
   "metadata": {},
   "outputs": [],
   "source": [
    "import pandas as pd\n",
    "import os\n",
    "import seaborn as sns\n",
    "import matplotlib.pyplot as plt\n",
    "import numpy as np"
   ]
  },
  {
   "cell_type": "code",
   "execution_count": 2,
   "id": "5bad6e3c",
   "metadata": {},
   "outputs": [
    {
     "data": {
      "text/plain": [
       "'/home/jupyter/crisp'"
      ]
     },
     "execution_count": 2,
     "metadata": {},
     "output_type": "execute_result"
    }
   ],
   "source": [
    "if os.getcwd() != '/home/jupyter/crisp':\n",
    "    os.chdir(\"..\")\n",
    "%pwd"
   ]
  },
  {
   "cell_type": "code",
   "execution_count": 3,
   "id": "9a4b17af",
   "metadata": {},
   "outputs": [],
   "source": [
    "from utils.gcp_helpers import get_dataframe_from_bucket"
   ]
  },
  {
   "cell_type": "code",
   "execution_count": 4,
   "id": "3ca517fa",
   "metadata": {},
   "outputs": [],
   "source": [
    "data = get_dataframe_from_bucket(\"Radiation/mouse/combined/mouse.combined.expression.071121.tsv\",\"ah21_data\", \"ah21_data\", sep=\"\\t\")\n",
    "view = data.T\n",
    "view.columns = view.iloc[0].to_list()\n",
    "view = view.iloc[1:]"
   ]
  },
  {
   "cell_type": "code",
   "execution_count": 5,
   "id": "77489ae9",
   "metadata": {},
   "outputs": [],
   "source": [
    "metadata = get_dataframe_from_bucket(\"Radiation/mouse/combined/mouse.metadata.combined.071121.csv\",\"ah21_data\", \"ah21_data\", sep=\",\")"
   ]
  },
  {
   "cell_type": "code",
   "execution_count": 6,
   "id": "23645126",
   "metadata": {},
   "outputs": [
    {
     "data": {
      "text/plain": [
       "24     98\n",
       "48     50\n",
       "72     50\n",
       "120    50\n",
       "168    48\n",
       "6      18\n",
       "Name: timepoint_hr, dtype: int64"
      ]
     },
     "execution_count": 6,
     "metadata": {},
     "output_type": "execute_result"
    }
   ],
   "source": [
    "metadata.timepoint_hr.value_counts()\n",
    "# could potentially ignore timepoints for now?\n",
    "# could use as an environment? \n",
    "# environment axes as both timepoints and datasets?"
   ]
  },
  {
   "cell_type": "code",
   "execution_count": 7,
   "id": "6c8fff01",
   "metadata": {},
   "outputs": [],
   "source": [
    "meta_columns = metadata.columns\n",
    "datasets = list(metadata.dataset.unique())\n",
    "radstates = list(metadata.irradiated.unique())\n",
    "\n",
    "rad_dict = {}\n",
    "for r in radstates:\n",
    "    rad_dict[r] = view.loc[metadata[metadata.irradiated == r]['sample']]\n",
    "\n",
    "dataset_mice = {}\n",
    "for d in datasets:\n",
    "    dataset_mice[d] = view.loc[metadata[metadata.dataset == d]['sample']]"
   ]
  },
  {
   "cell_type": "code",
   "execution_count": 8,
   "id": "70104033",
   "metadata": {},
   "outputs": [],
   "source": [
    "for m in meta_columns:\n",
    "    check_nan = (metadata[metadata[m].isnull()])\n",
    "# no nan values found in the mice"
   ]
  },
  {
   "cell_type": "code",
   "execution_count": 9,
   "id": "2bf89880",
   "metadata": {},
   "outputs": [
    {
     "data": {
      "text/html": [
       "<div>\n",
       "<style scoped>\n",
       "    .dataframe tbody tr th:only-of-type {\n",
       "        vertical-align: middle;\n",
       "    }\n",
       "\n",
       "    .dataframe tbody tr th {\n",
       "        vertical-align: top;\n",
       "    }\n",
       "\n",
       "    .dataframe thead th {\n",
       "        text-align: right;\n",
       "    }\n",
       "</style>\n",
       "<table border=\"1\" class=\"dataframe\">\n",
       "  <thead>\n",
       "    <tr style=\"text-align: right;\">\n",
       "      <th></th>\n",
       "      <th>GLDS156</th>\n",
       "      <th>GSE124612</th>\n",
       "      <th>GSE62623</th>\n",
       "    </tr>\n",
       "  </thead>\n",
       "  <tbody>\n",
       "    <tr>\n",
       "      <th>Yes</th>\n",
       "      <td>11</td>\n",
       "      <td>202</td>\n",
       "      <td>36</td>\n",
       "    </tr>\n",
       "    <tr>\n",
       "      <th>No</th>\n",
       "      <td>7</td>\n",
       "      <td>46</td>\n",
       "      <td>12</td>\n",
       "    </tr>\n",
       "  </tbody>\n",
       "</table>\n",
       "</div>"
      ],
      "text/plain": [
       "     GLDS156  GSE124612  GSE62623\n",
       "Yes       11        202        36\n",
       "No         7         46        12"
      ]
     },
     "execution_count": 9,
     "metadata": {},
     "output_type": "execute_result"
    }
   ],
   "source": [
    "value_matrix = {}\n",
    "for d in datasets:\n",
    "    value_matrix[d] = metadata[metadata.dataset == d].irradiated.value_counts()\n",
    "pd.DataFrame(value_matrix)\n",
    "# mix of radiates vs irradiated in both experimental settings"
   ]
  },
  {
   "cell_type": "code",
   "execution_count": 10,
   "id": "a7b8b008",
   "metadata": {},
   "outputs": [
    {
     "data": {
      "text/html": [
       "<div>\n",
       "<style scoped>\n",
       "    .dataframe tbody tr th:only-of-type {\n",
       "        vertical-align: middle;\n",
       "    }\n",
       "\n",
       "    .dataframe tbody tr th {\n",
       "        vertical-align: top;\n",
       "    }\n",
       "\n",
       "    .dataframe thead th {\n",
       "        text-align: right;\n",
       "    }\n",
       "</style>\n",
       "<table border=\"1\" class=\"dataframe\">\n",
       "  <thead>\n",
       "    <tr style=\"text-align: right;\">\n",
       "      <th></th>\n",
       "      <th>GLDS156</th>\n",
       "      <th>GSE124612</th>\n",
       "      <th>GSE62623</th>\n",
       "    </tr>\n",
       "  </thead>\n",
       "  <tbody>\n",
       "    <tr>\n",
       "      <th>6</th>\n",
       "      <td>18.0</td>\n",
       "      <td>NaN</td>\n",
       "      <td>NaN</td>\n",
       "    </tr>\n",
       "    <tr>\n",
       "      <th>24</th>\n",
       "      <td>NaN</td>\n",
       "      <td>50.0</td>\n",
       "      <td>48.0</td>\n",
       "    </tr>\n",
       "    <tr>\n",
       "      <th>48</th>\n",
       "      <td>NaN</td>\n",
       "      <td>50.0</td>\n",
       "      <td>NaN</td>\n",
       "    </tr>\n",
       "    <tr>\n",
       "      <th>72</th>\n",
       "      <td>NaN</td>\n",
       "      <td>50.0</td>\n",
       "      <td>NaN</td>\n",
       "    </tr>\n",
       "    <tr>\n",
       "      <th>120</th>\n",
       "      <td>NaN</td>\n",
       "      <td>50.0</td>\n",
       "      <td>NaN</td>\n",
       "    </tr>\n",
       "    <tr>\n",
       "      <th>168</th>\n",
       "      <td>NaN</td>\n",
       "      <td>48.0</td>\n",
       "      <td>NaN</td>\n",
       "    </tr>\n",
       "  </tbody>\n",
       "</table>\n",
       "</div>"
      ],
      "text/plain": [
       "     GLDS156  GSE124612  GSE62623\n",
       "6       18.0        NaN       NaN\n",
       "24       NaN       50.0      48.0\n",
       "48       NaN       50.0       NaN\n",
       "72       NaN       50.0       NaN\n",
       "120      NaN       50.0       NaN\n",
       "168      NaN       48.0       NaN"
      ]
     },
     "execution_count": 10,
     "metadata": {},
     "output_type": "execute_result"
    }
   ],
   "source": [
    "value_matrix = {}\n",
    "for d in datasets:\n",
    "    value_matrix[d] = metadata[metadata.dataset == d].timepoint_hr.value_counts()\n",
    "pd.DataFrame(value_matrix)    \n",
    "# only one experiment has variation in radiation time"
   ]
  },
  {
   "cell_type": "code",
   "execution_count": 11,
   "id": "b59fdc56",
   "metadata": {},
   "outputs": [
    {
     "data": {
      "text/html": [
       "<div>\n",
       "<style scoped>\n",
       "    .dataframe tbody tr th:only-of-type {\n",
       "        vertical-align: middle;\n",
       "    }\n",
       "\n",
       "    .dataframe tbody tr th {\n",
       "        vertical-align: top;\n",
       "    }\n",
       "\n",
       "    .dataframe thead th {\n",
       "        text-align: right;\n",
       "    }\n",
       "</style>\n",
       "<table border=\"1\" class=\"dataframe\">\n",
       "  <thead>\n",
       "    <tr style=\"text-align: right;\">\n",
       "      <th></th>\n",
       "      <th>GLDS156</th>\n",
       "      <th>GSE124612</th>\n",
       "      <th>GSE62623</th>\n",
       "    </tr>\n",
       "  </thead>\n",
       "  <tbody>\n",
       "    <tr>\n",
       "      <th>0.0</th>\n",
       "      <td>7.0</td>\n",
       "      <td>46.0</td>\n",
       "      <td>12.0</td>\n",
       "    </tr>\n",
       "    <tr>\n",
       "      <th>1.0</th>\n",
       "      <td>NaN</td>\n",
       "      <td>4.0</td>\n",
       "      <td>12.0</td>\n",
       "    </tr>\n",
       "    <tr>\n",
       "      <th>1.5</th>\n",
       "      <td>NaN</td>\n",
       "      <td>50.0</td>\n",
       "      <td>NaN</td>\n",
       "    </tr>\n",
       "    <tr>\n",
       "      <th>2.0</th>\n",
       "      <td>5.0</td>\n",
       "      <td>NaN</td>\n",
       "      <td>12.0</td>\n",
       "    </tr>\n",
       "    <tr>\n",
       "      <th>3.0</th>\n",
       "      <td>NaN</td>\n",
       "      <td>50.0</td>\n",
       "      <td>NaN</td>\n",
       "    </tr>\n",
       "    <tr>\n",
       "      <th>4.0</th>\n",
       "      <td>NaN</td>\n",
       "      <td>NaN</td>\n",
       "      <td>12.0</td>\n",
       "    </tr>\n",
       "    <tr>\n",
       "      <th>6.0</th>\n",
       "      <td>NaN</td>\n",
       "      <td>50.0</td>\n",
       "      <td>NaN</td>\n",
       "    </tr>\n",
       "    <tr>\n",
       "      <th>8.0</th>\n",
       "      <td>6.0</td>\n",
       "      <td>NaN</td>\n",
       "      <td>NaN</td>\n",
       "    </tr>\n",
       "    <tr>\n",
       "      <th>10.0</th>\n",
       "      <td>NaN</td>\n",
       "      <td>48.0</td>\n",
       "      <td>NaN</td>\n",
       "    </tr>\n",
       "  </tbody>\n",
       "</table>\n",
       "</div>"
      ],
      "text/plain": [
       "      GLDS156  GSE124612  GSE62623\n",
       "0.0       7.0       46.0      12.0\n",
       "1.0       NaN        4.0      12.0\n",
       "1.5       NaN       50.0       NaN\n",
       "2.0       5.0        NaN      12.0\n",
       "3.0       NaN       50.0       NaN\n",
       "4.0       NaN        NaN      12.0\n",
       "6.0       NaN       50.0       NaN\n",
       "8.0       6.0        NaN       NaN\n",
       "10.0      NaN       48.0       NaN"
      ]
     },
     "execution_count": 11,
     "metadata": {},
     "output_type": "execute_result"
    }
   ],
   "source": [
    "value_matrix = {}\n",
    "for d in datasets:\n",
    "    value_matrix[d] = metadata[metadata.dataset == d].dose_Gy.value_counts()\n",
    "pd.DataFrame(value_matrix)    \n",
    "# only one experiment has variation in radiation time\n",
    "# what kind of doses are relavent? In space flight, you are looking at up to half a grey of particles or one gray of gamma rays\n",
    "# anything more than that will be more than what you will get in a 3 year mars mission\n",
    "# gamma rays are used in nuclear attacks\n",
    "# cosmic rays are particle radiation! all of your radiation are rays in the em spectrum! They do not mimic space radaion in quite the same way as particles\n",
    "# the effects of rays on cells is much less \n",
    "# medical rays are going to be grays provided very rapidly.\n",
    "# a lot of datasets come from thigns like this\n",
    "# a dataset may also come from imitating a neuclear attack - in this case all the radiation is provided at once"
   ]
  },
  {
   "cell_type": "code",
   "execution_count": null,
   "id": "ae14a8d9",
   "metadata": {},
   "outputs": [],
   "source": [
    "# seivert takes into account biological effect of radiation. It uses gamma as a unit - it will adjust for the particle for particle biological effects\n",
    "# eg one gray is one seivert for gamma rays, but five seiverts for a neutron - it's also adjusted for the tissue. \n",
    "# a one gray neutron may go up to 20 seiverts if it's applied to a particularly sensitive tissue\n",
    "# this makes it a very imprecise measurement however. It's estimated from cell line in cell death. \n",
    "# however it's one of the few ways of trying to translate the effect of particle radiation\n",
    "\n",
    "# you don't need to have mice in space! there is data in brookhaven that has iron and proton radiation - this will look much more like cosmic rays"
   ]
  },
  {
   "cell_type": "code",
   "execution_count": 13,
   "id": "16bd6c74",
   "metadata": {},
   "outputs": [
    {
     "data": {
      "text/html": [
       "<div>\n",
       "<style scoped>\n",
       "    .dataframe tbody tr th:only-of-type {\n",
       "        vertical-align: middle;\n",
       "    }\n",
       "\n",
       "    .dataframe tbody tr th {\n",
       "        vertical-align: top;\n",
       "    }\n",
       "\n",
       "    .dataframe thead th {\n",
       "        text-align: right;\n",
       "    }\n",
       "</style>\n",
       "<table border=\"1\" class=\"dataframe\">\n",
       "  <thead>\n",
       "    <tr style=\"text-align: right;\">\n",
       "      <th></th>\n",
       "      <th>GLDS156</th>\n",
       "      <th>GSE124612</th>\n",
       "      <th>GSE62623</th>\n",
       "    </tr>\n",
       "  </thead>\n",
       "  <tbody>\n",
       "    <tr>\n",
       "      <th>Control</th>\n",
       "      <td>7.0</td>\n",
       "      <td>46.0</td>\n",
       "      <td>12.0</td>\n",
       "    </tr>\n",
       "    <tr>\n",
       "      <th>High-dose-rate_Xray</th>\n",
       "      <td>NaN</td>\n",
       "      <td>NaN</td>\n",
       "      <td>18.0</td>\n",
       "    </tr>\n",
       "    <tr>\n",
       "      <th>Low-dose-rate_Xray</th>\n",
       "      <td>NaN</td>\n",
       "      <td>NaN</td>\n",
       "      <td>18.0</td>\n",
       "    </tr>\n",
       "    <tr>\n",
       "      <th>gamma</th>\n",
       "      <td>11.0</td>\n",
       "      <td>202.0</td>\n",
       "      <td>NaN</td>\n",
       "    </tr>\n",
       "  </tbody>\n",
       "</table>\n",
       "</div>"
      ],
      "text/plain": [
       "                     GLDS156  GSE124612  GSE62623\n",
       "Control                  7.0       46.0      12.0\n",
       "High-dose-rate_Xray      NaN        NaN      18.0\n",
       "Low-dose-rate_Xray       NaN        NaN      18.0\n",
       "gamma                   11.0      202.0       NaN"
      ]
     },
     "execution_count": 13,
     "metadata": {},
     "output_type": "execute_result"
    }
   ],
   "source": [
    "value_matrix = {}\n",
    "for d in datasets:\n",
    "    value_matrix[d] = metadata[metadata.dataset == d].radiation.value_counts()\n",
    "pd.DataFrame(value_matrix)    \n",
    "# only one experiment has variation in radiation time"
   ]
  },
  {
   "cell_type": "code",
   "execution_count": null,
   "id": "561786bd",
   "metadata": {},
   "outputs": [],
   "source": [
    "# comparing same dose rate of Xray and gamma ray: the effects should honestly be pretty much the same. They're both photons\n",
    "# purists will insist their different, but the difference will be small enough\n",
    "# dose rate however is very very different. Acute is 1 a minute. Chronic might look like one gray a week, or over months! \n",
    "# Properly look at the papers on what the exposure times are. \n",
    "# chronic exposure can drive buildup and oxidative stress\n",
    "# acute might more likely trigger apoptotic events\n",
    "# Elge can tell us what the dose rate is if you ask her\n",
    "# things like colbalt plates radiate gamma v slowly. Ask Elge on specifics\n",
    "# if the paper does not say, assume acute\n",
    "# acute is 1.03 grays per minute\n",
    "# chronic is 3.09 miligrays per minute\n",
    "# chronic is MUCH MORE RELAVENT FOR SPACE! chronic is much more relavent for space given you get it over this longer period\n",
    "# chronic radiation is harder to model on earth. Harder to create a chronic radiator than an acute radiator. \n",
    "\n",
    "# the GSE stuff looks like it will be acute data. \n",
    "# there isn't a system that can provide 10 gray chronically - so current gamma rays in data are all acute.\n",
    "# drop low-dose-rate Xray mice for now!\n",
    "# your interpretation of 10 gray is relavent for therapeutics and nuclear diseasters, but too high for space \n",
    "# big solar storms are like 2 grays if unshielded, unless you have a historically bad ones. They are in the range of 1/2 to 2 \n",
    "# solar storm events are mostly protons but not gamma rays\n",
    "# particles are better at causing DNA breaks and oxidative stress thant photons\n",
    "# there are experiments that specifically model solar storms\n",
    "\n",
    "# the gene groups involved in DNA repair for space radiation:\n",
    "# genes in double strand repair \n",
    "# oxidative stress reduction genes\n",
    "# tissue-dependend genes (particularly in regards to inflammation) - we'll see this given we're looking at blood! WBC time :')\n",
    "# if you don't see any oxidative stress genes or double strand repair genes, something is probably up."
   ]
  },
  {
   "cell_type": "code",
   "execution_count": 15,
   "id": "3ca72b6a",
   "metadata": {},
   "outputs": [
    {
     "data": {
      "text/html": [
       "<div>\n",
       "<style scoped>\n",
       "    .dataframe tbody tr th:only-of-type {\n",
       "        vertical-align: middle;\n",
       "    }\n",
       "\n",
       "    .dataframe tbody tr th {\n",
       "        vertical-align: top;\n",
       "    }\n",
       "\n",
       "    .dataframe thead th {\n",
       "        text-align: right;\n",
       "    }\n",
       "</style>\n",
       "<table border=\"1\" class=\"dataframe\">\n",
       "  <thead>\n",
       "    <tr style=\"text-align: right;\">\n",
       "      <th></th>\n",
       "      <th>Control</th>\n",
       "      <th>High-dose-rate_Xray</th>\n",
       "      <th>Low-dose-rate_Xray</th>\n",
       "    </tr>\n",
       "  </thead>\n",
       "  <tbody>\n",
       "    <tr>\n",
       "      <th>0.0</th>\n",
       "      <td>12.0</td>\n",
       "      <td>NaN</td>\n",
       "      <td>NaN</td>\n",
       "    </tr>\n",
       "    <tr>\n",
       "      <th>1.0</th>\n",
       "      <td>NaN</td>\n",
       "      <td>6.0</td>\n",
       "      <td>6.0</td>\n",
       "    </tr>\n",
       "    <tr>\n",
       "      <th>2.0</th>\n",
       "      <td>NaN</td>\n",
       "      <td>6.0</td>\n",
       "      <td>6.0</td>\n",
       "    </tr>\n",
       "    <tr>\n",
       "      <th>4.0</th>\n",
       "      <td>NaN</td>\n",
       "      <td>6.0</td>\n",
       "      <td>6.0</td>\n",
       "    </tr>\n",
       "  </tbody>\n",
       "</table>\n",
       "</div>"
      ],
      "text/plain": [
       "     Control  High-dose-rate_Xray  Low-dose-rate_Xray\n",
       "0.0     12.0                  NaN                 NaN\n",
       "1.0      NaN                  6.0                 6.0\n",
       "2.0      NaN                  6.0                 6.0\n",
       "4.0      NaN                  6.0                 6.0"
      ]
     },
     "execution_count": 15,
     "metadata": {},
     "output_type": "execute_result"
    }
   ],
   "source": [
    "GSE6_matrix = {}\n",
    "subdata = metadata[metadata.dataset == 'GSE62623']\n",
    "for m in subdata.radiation.unique():\n",
    "    GSE6_matrix[m] = subdata[subdata.radiation == m].dose_Gy.value_counts()\n",
    "pd.DataFrame(GSE6_matrix)\n",
    "# y axis is radiation dose\n",
    "# x axis is how long they left them?"
   ]
  },
  {
   "cell_type": "code",
   "execution_count": 193,
   "id": "aa0d11de",
   "metadata": {},
   "outputs": [
    {
     "data": {
      "text/html": [
       "<div>\n",
       "<style scoped>\n",
       "    .dataframe tbody tr th:only-of-type {\n",
       "        vertical-align: middle;\n",
       "    }\n",
       "\n",
       "    .dataframe tbody tr th {\n",
       "        vertical-align: top;\n",
       "    }\n",
       "\n",
       "    .dataframe thead th {\n",
       "        text-align: right;\n",
       "    }\n",
       "</style>\n",
       "<table border=\"1\" class=\"dataframe\">\n",
       "  <thead>\n",
       "    <tr style=\"text-align: right;\">\n",
       "      <th></th>\n",
       "      <th>24</th>\n",
       "      <th>48</th>\n",
       "      <th>72</th>\n",
       "      <th>120</th>\n",
       "      <th>168</th>\n",
       "    </tr>\n",
       "  </thead>\n",
       "  <tbody>\n",
       "    <tr>\n",
       "      <th>0.0</th>\n",
       "      <td>6</td>\n",
       "      <td>10.0</td>\n",
       "      <td>10.0</td>\n",
       "      <td>10.0</td>\n",
       "      <td>10.0</td>\n",
       "    </tr>\n",
       "    <tr>\n",
       "      <th>1.0</th>\n",
       "      <td>4</td>\n",
       "      <td>NaN</td>\n",
       "      <td>NaN</td>\n",
       "      <td>NaN</td>\n",
       "      <td>NaN</td>\n",
       "    </tr>\n",
       "    <tr>\n",
       "      <th>1.5</th>\n",
       "      <td>10</td>\n",
       "      <td>10.0</td>\n",
       "      <td>10.0</td>\n",
       "      <td>10.0</td>\n",
       "      <td>10.0</td>\n",
       "    </tr>\n",
       "    <tr>\n",
       "      <th>3.0</th>\n",
       "      <td>10</td>\n",
       "      <td>10.0</td>\n",
       "      <td>10.0</td>\n",
       "      <td>10.0</td>\n",
       "      <td>10.0</td>\n",
       "    </tr>\n",
       "    <tr>\n",
       "      <th>6.0</th>\n",
       "      <td>10</td>\n",
       "      <td>10.0</td>\n",
       "      <td>10.0</td>\n",
       "      <td>10.0</td>\n",
       "      <td>10.0</td>\n",
       "    </tr>\n",
       "    <tr>\n",
       "      <th>10.0</th>\n",
       "      <td>10</td>\n",
       "      <td>10.0</td>\n",
       "      <td>10.0</td>\n",
       "      <td>10.0</td>\n",
       "      <td>8.0</td>\n",
       "    </tr>\n",
       "  </tbody>\n",
       "</table>\n",
       "</div>"
      ],
      "text/plain": [
       "      24    48    72    120   168\n",
       "0.0     6  10.0  10.0  10.0  10.0\n",
       "1.0     4   NaN   NaN   NaN   NaN\n",
       "1.5    10  10.0  10.0  10.0  10.0\n",
       "3.0    10  10.0  10.0  10.0  10.0\n",
       "6.0    10  10.0  10.0  10.0  10.0\n",
       "10.0   10  10.0  10.0  10.0   8.0"
      ]
     },
     "execution_count": 193,
     "metadata": {},
     "output_type": "execute_result"
    }
   ],
   "source": [
    "GSE12_matrix = {}\n",
    "subdata = metadata[metadata.dataset == 'GSE124612']\n",
    "for m in subdata.timepoint_hr.unique():\n",
    "    GSE12_matrix[m] = subdata[subdata.timepoint_hr == m].dose_Gy.value_counts()\n",
    "pd.DataFrame(GSE12_matrix)\n",
    "# y axis is radiation dose\n",
    "# x axis is how long they left them?"
   ]
  },
  {
   "cell_type": "code",
   "execution_count": 199,
   "id": "436ee9a2",
   "metadata": {},
   "outputs": [
    {
     "data": {
      "text/plain": [
       "gamma      202\n",
       "Control     46\n",
       "Name: radiation, dtype: int64"
      ]
     },
     "execution_count": 199,
     "metadata": {},
     "output_type": "execute_result"
    }
   ],
   "source": [
    "subdata.radiation.value_counts()"
   ]
  },
  {
   "cell_type": "code",
   "execution_count": 200,
   "id": "947af9fc",
   "metadata": {},
   "outputs": [
    {
     "data": {
      "text/plain": [
       "male    248\n",
       "Name: gender, dtype: int64"
      ]
     },
     "execution_count": 200,
     "metadata": {},
     "output_type": "execute_result"
    }
   ],
   "source": [
    "subdata.gender.value_counts()"
   ]
  },
  {
   "cell_type": "code",
   "execution_count": 201,
   "id": "7784fbce",
   "metadata": {},
   "outputs": [
    {
     "data": {
      "text/plain": [
       "C57BL/6    248\n",
       "Name: strain, dtype: int64"
      ]
     },
     "execution_count": 201,
     "metadata": {},
     "output_type": "execute_result"
    }
   ],
   "source": [
    "subdata.strain.value_counts()"
   ]
  },
  {
   "cell_type": "code",
   "execution_count": 158,
   "id": "81fdf1d5",
   "metadata": {},
   "outputs": [
    {
     "data": {
      "image/png": "[encoded data removed]",
      "text/plain": [
       "<Figure size 1440x1080 with 25 Axes>"
      ]
     },
     "metadata": {
      "needs_background": "light"
     },
     "output_type": "display_data"
    }
   ],
   "source": [
    "fig, axs = plt.subplots(5,5, figsize=(20,15))\n",
    "idx = 0\n",
    "for i in range(5):\n",
    "    for j in range(5):\n",
    "        for r in rad_dict:\n",
    "            gene = rad_dict[r].T.iloc[idx]\n",
    "            sns.distplot(gene, bins=np.arange(-.5, .5, 0.01), ax=axs[i,j], kde=False)\n",
    "        ax.set_xlim(-0.5,0.5)\n",
    "        idx += 1\n",
    "plt.tight_layout()"
   ]
  },
  {
   "cell_type": "code",
   "execution_count": 157,
   "id": "4552e5ec",
   "metadata": {},
   "outputs": [
    {
     "data": {
      "image/png": "[encoded data removed]",
      "text/plain": [
       "<Figure size 1440x1080 with 25 Axes>"
      ]
     },
     "metadata": {
      "needs_background": "light"
     },
     "output_type": "display_data"
    }
   ],
   "source": [
    "fig, axs = plt.subplots(5,5, figsize=(20,15))\n",
    "idx = 0\n",
    "for i in range(5):\n",
    "    for j in range(5):\n",
    "        for dataset in dataset_mice:\n",
    "            gene = dataset_mice[dataset].T.iloc[idx]\n",
    "            sns.distplot(gene, bins=np.arange(-.5, .5, 0.01), ax=axs[i,j], kde=False)\n",
    "        ax.set_xlim(-0.5,0.5)\n",
    "        idx += 1\n",
    "plt.tight_layout()"
   ]
  },
  {
   "cell_type": "code",
   "execution_count": null,
   "id": "486ac887",
   "metadata": {},
   "outputs": [],
   "source": []
  },
  {
   "cell_type": "code",
   "execution_count": 110,
   "id": "2c23c9a4",
   "metadata": {},
   "outputs": [
    {
     "data": {
      "text/plain": [
       "(-0.5, 0.5)"
      ]
     },
     "execution_count": 110,
     "metadata": {},
     "output_type": "execute_result"
    },
    {
     "data": {
      "image/png": "[encoded data removed]",
      "text/plain": [
       "<Figure size 432x288 with 1 Axes>"
      ]
     },
     "metadata": {
      "needs_background": "light"
     },
     "output_type": "display_data"
    }
   ],
   "source": [
    "listo = []\n",
    "for d in datasets:\n",
    "    listo.append(view.loc[metadata[metadata.dataset == d]['sample']].T.iloc[var])\n",
    "\n",
    "fig, ax = plt.subplots()\n",
    "for a in listo:\n",
    "    sns.distplot(a, bins=np.arange(-.5, .5, 0.01), ax=ax, kde=False)\n",
    "ax.set_xlim([-0.5, 0.5])"
   ]
  }
 ],
 "metadata": {
  "environment": {
   "name": "common-cu100.m73",
   "type": "gcloud",
   "uri": "gcr.io/deeplearning-platform-release/base-cu100:m73"
  },
  "kernelspec": {
   "display_name": "Python 3",
   "language": "python",
   "name": "python3"
  },
  "language_info": {
   "codemirror_mode": {
    "name": "ipython",
    "version": 3
   },
   "file_extension": ".py",
   "mimetype": "text/x-python",
   "name": "python",
   "nbconvert_exporter": "python",
   "pygments_lexer": "ipython3",
   "version": "3.7.10"
  }
 },
 "nbformat": 4,
 "nbformat_minor": 5
}

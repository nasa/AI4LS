{
 "cells": [
  {
   "cell_type": "code",
   "execution_count": 1,
   "id": "70a55d5f",
   "metadata": {},
   "outputs": [
    {
     "data": {
      "text/plain": [
       "'/home/jupyter/crisp'"
      ]
     },
     "execution_count": 1,
     "metadata": {},
     "output_type": "execute_result"
    }
   ],
   "source": [
    "import os\n",
    "import numpy as np\n",
    "os.chdir(\"..\")\n",
    "\n",
    "from utils.get_synthetic_data_for_validation import get_datasets\n",
    "from utils.vm_helpers import save_dict_to_json\n",
    "from utils.gcp_helpers import save_json_to_bucket\n",
    "from models.LinearInvariantRiskMinimization import LinearInvariantRiskMinimization\n",
    "import pandas as pd\n",
    "\n",
    "%pwd"
   ]
  },
  {
   "cell_type": "code",
   "execution_count": 2,
   "id": "527389ef",
   "metadata": {},
   "outputs": [],
   "source": [
    "import json"
   ]
  },
  {
   "cell_type": "code",
   "execution_count": 7,
   "id": "e76b8835",
   "metadata": {},
   "outputs": [],
   "source": [
    "with open(\"results/validation_bucket/Example1_dim_inv_10_dim_spu_50_dim_unc_0_n_exp_300_n_env_5/IRM.json\",'r') as f:\n",
    "    results=json.load(f)"
   ]
  },
  {
   "cell_type": "code",
   "execution_count": 14,
   "id": "c5981534",
   "metadata": {},
   "outputs": [],
   "source": [
    "result = results.get('0')"
   ]
  },
  {
   "cell_type": "code",
   "execution_count": 17,
   "id": "e2c7e67d",
   "metadata": {},
   "outputs": [
    {
     "data": {
      "text/plain": [
       "dict_keys(['test_logits', 'test_acc', 'test_nll', 'test_probs', 'test_labels', 'feature_coeffients', 'loss_over_time', 'acc_over_time', 'to_bucket', 'seed'])"
      ]
     },
     "execution_count": 17,
     "metadata": {},
     "output_type": "execute_result"
    }
   ],
   "source": [
    "result.keys()"
   ]
  },
  {
   "cell_type": "code",
   "execution_count": 23,
   "id": "d480e6e7",
   "metadata": {},
   "outputs": [
    {
     "data": {
      "text/plain": [
       "[35.92509078979492,\n",
       " 13.47596549987793,\n",
       " 13.482431411743164,\n",
       " 13.510893821716309,\n",
       " 13.483654022216797,\n",
       " 13.48487663269043,\n",
       " 13.483509063720703,\n",
       " 13.476160049438477,\n",
       " 13.482893943786621,\n",
       " 13.465984344482422,\n",
       " 13.485243797302246,\n",
       " 13.482928276062012,\n",
       " 13.4889497756958,\n",
       " 13.49649715423584,\n",
       " 13.490488052368164,\n",
       " 37.32268142700195,\n",
       " 13.483811378479004,\n",
       " 13.4844331741333,\n",
       " 13.484406471252441,\n",
       " 13.487166404724121,\n",
       " 13.538464546203613,\n",
       " 13.459627151489258,\n",
       " 13.482470512390137,\n",
       " 13.492827415466309,\n",
       " 13.483930587768555,\n",
       " 13.484773635864258,\n",
       " 13.483309745788574,\n",
       " 13.486991882324219,\n",
       " 13.474393844604492,\n",
       " 13.472145080566406,\n",
       " 36.11479187011719,\n",
       " 13.485061645507812,\n",
       " 13.48508071899414,\n",
       " 13.484493255615234,\n",
       " 13.483810424804688,\n",
       " 13.484360694885254,\n",
       " 13.469475746154785,\n",
       " 13.494378089904785,\n",
       " 13.487518310546875,\n",
       " 13.485798835754395,\n",
       " 13.495122909545898,\n",
       " 13.4896240234375,\n",
       " 13.492512702941895,\n",
       " 13.484757423400879,\n",
       " 13.48499870300293]"
      ]
     },
     "execution_count": 23,
     "metadata": {},
     "output_type": "execute_result"
    }
   ],
   "source": [
    "result[\"acc_over_time\"]\n"
   ]
  }
 ],
 "metadata": {
  "environment": {
   "name": "pytorch-gpu.1-8.m73",
   "type": "gcloud",
   "uri": "gcr.io/deeplearning-platform-release/pytorch-gpu.1-8:m73"
  },
  "kernelspec": {
   "display_name": "Python 3",
   "language": "python",
   "name": "python3"
  },
  "language_info": {
   "codemirror_mode": {
    "name": "ipython",
    "version": 3
   },
   "file_extension": ".py",
   "mimetype": "text/x-python",
   "name": "python",
   "nbconvert_exporter": "python",
   "pygments_lexer": "ipython3",
   "version": "3.7.10"
  }
 },
 "nbformat": 4,
 "nbformat_minor": 5
}

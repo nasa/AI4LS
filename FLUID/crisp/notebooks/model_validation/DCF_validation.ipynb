{
 "cells": [
  {
   "cell_type": "code",
   "execution_count": 2,
   "metadata": {},
   "outputs": [
    {
     "data": {
      "text/plain": [
       "'/home'"
      ]
     },
     "execution_count": 2,
     "metadata": {},
     "output_type": "execute_result"
    }
   ],
   "source": [
    "import os\n",
    "import numpy as np\n",
    "os.chdir(\"../..\")\n",
    "\n",
    "from utils.get_synthetic_data_for_validation import get_datasets\n",
    "from models.TorchMultiClassDeconfounder import TorchMultiClassDeconfounder\n",
    "from utils.vm_helpers import save_dict_to_json\n",
    "from utils.gcp_helpers import save_json_to_bucket\n",
    "\n",
    "%pwd"
   ]
  },
  {
   "cell_type": "code",
   "execution_count": 3,
   "metadata": {},
   "outputs": [],
   "source": [
    "dcf_args = {\n",
    "    \"minP\": 0.1,\n",
    "    \"maxP\": 0.9,\n",
    "    \"minFeatures\": 1,\n",
    "    \"minAccuracy\": 0.5,\n",
    "    \"seed\": 0,\n",
    "    \"verbose\": 1,\n",
    "    \"output_pvals\": False,# we cannot output pvalues in torch on the current build \n",
    "    \"cuda\": True, \n",
    "#     \"target\" : config[\"data_options\"][\"targets\"],\n",
    "#     \"output_data_regime\" : config[\"data_options\"][\"output_data_regime\"],\n",
    "#     \"columns\" : config[\"data_options\"][\"predictors\"],\n",
    "}"
   ]
  },
  {
   "cell_type": "code",
   "execution_count": null,
   "metadata": {},
   "outputs": [
    {
     "name": "stdout",
     "output_type": "stream",
     "text": [
      "Example1  seed  0\n",
      "Environments variables: {'E0': 0.1, 'E1': 1.5, 'E2': 2, 'E3': 0.30815539086172433, 'E4': 2.016811860476012}\n",
      "torch.Size([100, 110])\n",
      "torch.Size([100, 110])\n",
      "torch.Size([100, 110])\n",
      "torch.Size([100, 110])\n",
      "torch.Size([100, 110])\n",
      "Generated Synthetic Data according to the Facebook setup Example: 1\n",
      "Environments variables: {'E0': 0.1, 'E1': 1.5, 'E2': 2, 'E3': 0.30815539086172433, 'E4': 2.016811860476012}\n",
      "torch.Size([100, 110])\n",
      "torch.Size([100, 110])\n",
      "torch.Size([100, 110])\n",
      "torch.Size([100, 110])\n",
      "torch.Size([100, 110])\n",
      "Generated Synthetic Data according to the Facebook setup Example: 1\n",
      "Running a per sample experiment\n",
      "Using synthetic dataset train/test split\n",
      "Loaded  5  train environments\n",
      "Env  0  has  77  samples\n",
      "X shape  (77, 110)  y shape  (77, 1)\n",
      "Env  1  has  83  samples\n",
      "X shape  (83, 110)  y shape  (83, 1)\n",
      "Env  2  has  78  samples\n",
      "X shape  (78, 110)  y shape  (78, 1)\n",
      "Env  3  has  82  samples\n",
      "X shape  (82, 110)  y shape  (82, 1)\n",
      "Env  4  has  80  samples\n",
      "X shape  (80, 110)  y shape  (80, 1)\n",
      "Loaded test set, X shape: (500, 110)  y shape:  (500, 1)\n",
      "WARNING:tensorflow:From /home/jupyter/crisp/models/TorchMultiClassDeconfounder.py:47: The name tf.set_random_seed is deprecated. Please use tf.compat.v1.set_random_seed instead.\n",
      "\n",
      "testshape: (500, 111)\n",
      "valshape: (100, 111)\n",
      "trainshape: (400, 111)\n",
      "Number of features: 110\n",
      "to drop: []\n",
      "dropped 0 std columns of self.dfX\n",
      "Number of features after correlated and 0 std features elimination: 110\n"
     ]
    },
    {
     "name": "stderr",
     "output_type": "stream",
     "text": [
      "/home/jupyter/crisp/models/TorchMultiClassDeconfounder.py:206: UserWarning: tfp.edward2 module is deprecated and will be removed on 2019-12-01. Use https://github.com/google/edward2 library instead.\n",
      "  log_joint = ed.make_log_joint_fn(self.ppca_model)\n"
     ]
    },
    {
     "name": "stdout",
     "output_type": "stream",
     "text": [
      "WARNING:tensorflow:From /home/jupyter/crisp/models/TorchMultiClassDeconfounder.py:270: The name tf.train.AdamOptimizer is deprecated. Please use tf.compat.v1.train.AdamOptimizer instead.\n",
      "\n",
      "WARNING:tensorflow:From /home/jupyter/crisp/models/TorchMultiClassDeconfounder.py:273: The name tf.global_variables_initializer is deprecated. Please use tf.compat.v1.global_variables_initializer instead.\n",
      "\n",
      "WARNING:tensorflow:From /home/jupyter/crisp/models/TorchMultiClassDeconfounder.py:279: The name tf.Session is deprecated. Please use tf.compat.v1.Session instead.\n",
      "\n",
      "Inferred W:\n",
      "[[ 0.34949005  0.21297498  0.09310258 -0.239235    0.5632283   0.22051875\n",
      "  -0.14777334 -0.07833445  0.41511336  0.76874125 -0.3646083  -0.13742352\n",
      "  -0.01137455 -0.42395538  0.38234383 -0.29784182  0.3691687   0.4561247\n",
      "  -0.36747235  1.04109     0.21957742 -0.41351375 -0.39902872  0.24292134\n",
      "  -0.01996361  0.18707384 -0.42394778  0.46641302  0.40675023  0.5865344\n",
      "  -0.13364208 -0.11462875 -0.05471769  0.6758985   0.32375425 -0.57311225\n",
      "  -0.24438499  0.24148212  0.3742827  -0.01509254  0.27928773  0.6837556\n",
      "  -0.17883609 -0.01970343  0.22563548  0.9287081   0.19031139  0.35297316\n",
      "  -0.09170408 -0.24764237  0.27167928  0.00738538  0.2465957  -0.19754812\n",
      "   0.3773487  -0.04212892  0.26297724  0.24354914 -0.11532859 -0.24368943\n",
      "   0.38381103  0.1092206  -0.22763622 -0.4199828   0.22840258 -0.23743112\n",
      "  -0.25040835 -0.38004422  0.43547565 -0.14732686  0.30746236  0.20060831\n",
      "   0.1054396  -0.48877367 -0.4078973  -0.1885266   0.03841334  0.13535257\n",
      "   0.39995155  0.20714682  0.1189754  -0.8994341   0.03871174  0.3221419\n",
      "  -0.04890063  0.16565304 -0.4518271   0.25955763 -0.30275497 -0.0908226\n",
      "   0.15260263 -0.3442797   0.02244546  0.18993337  0.7381246   0.39077017\n",
      "   0.2820436   0.16026436  0.34543785  0.12177186  0.8723056  -0.24004333\n",
      "  -0.40527058  0.61441594  0.03837958  0.21571414 -0.38435242 -0.07595012\n",
      "  -0.367285   -0.17443687]]\n",
      "Standard Deviation:\n",
      "[[0.01397961 0.01398937 0.01496177 0.01149484 0.01151122 0.01030116\n",
      "  0.01353892 0.01329133 0.01572354 0.01247673 0.01234733 0.01272699\n",
      "  0.01044568 0.01386052 0.00962817 0.01037124 0.01817876 0.0172676\n",
      "  0.01401781 0.01524147 0.01944726 0.01552003 0.01320133 0.01471981\n",
      "  0.01046999 0.01473637 0.01267932 0.01150745 0.01413089 0.01450905\n",
      "  0.01486147 0.01836721 0.01189508 0.01090861 0.01640264 0.01361654\n",
      "  0.00949498 0.01148458 0.00999328 0.01403251 0.01372237 0.01302979\n",
      "  0.01264012 0.01352375 0.01188907 0.01723772 0.01350446 0.01192736\n",
      "  0.01033408 0.0131591  0.01003188 0.0162232  0.01257703 0.01428615\n",
      "  0.01450012 0.01082017 0.0114576  0.01544022 0.01309298 0.01472146\n",
      "  0.01235757 0.0166096  0.01659823 0.01521352 0.01245918 0.01229799\n",
      "  0.01069988 0.01523783 0.01706805 0.01182145 0.01587983 0.01451845\n",
      "  0.01541263 0.01102074 0.0147056  0.0130432  0.01520941 0.01096568\n",
      "  0.01258503 0.01410374 0.01674361 0.01379492 0.01254147 0.01199792\n",
      "  0.01211994 0.01583525 0.01421281 0.01351999 0.01123318 0.0136771\n",
      "  0.0134186  0.01498126 0.01300037 0.01307756 0.01395081 0.00975107\n",
      "  0.01652624 0.01343048 0.01764013 0.01301296 0.01968047 0.0127191\n",
      "  0.01103843 0.01249686 0.01415475 0.01523712 0.01425959 0.00914811\n",
      "  0.01514214 0.01518441]]\n",
      "pval: 0.0\n",
      "Inferred W:\n",
      "[[ 0.2914566   0.35963973 -0.09400883 -0.3921488   0.17432807  0.06033218\n",
      "  -0.10242307 -0.23380794  0.2936444   0.5080073   0.38177782 -0.0397311\n",
      "   0.10608477  0.13786504  0.6902335   0.2626791   0.32725614 -0.06958506\n",
      "  -0.03529617  0.29726997  0.40376768  0.00919685 -0.376316    0.5173548\n",
      "   0.20196441 -0.01399918  0.054082    0.55607027 -0.01429567  0.23487099\n",
      "  -0.501138   -0.30402985  0.4111248   0.62736714  0.4415077  -0.23921265\n",
      "   0.16522078  0.0654739   0.48106533  0.4299596   0.17915696  0.6681575\n",
      "   0.1805907   0.20055799  0.8352592   0.5531047   0.96794575  0.33291352\n",
      "   0.27752674 -0.34568572  0.10807922 -0.03329913  0.5009233  -0.10419193\n",
      "   0.32703987  0.3624133  -0.107499    0.4832511   0.08839031  0.2884799\n",
      "   0.23554082  0.5764602  -0.40772864 -0.3372826   0.19140235 -0.03517715\n",
      "  -0.1337602   0.11937882  0.3026931  -0.2065878   0.65910167  0.07416534\n",
      "   0.14245048 -0.3072951   0.08659594  0.49327102 -0.0271136  -0.36780366\n",
      "   0.10687046 -0.14845501  0.0922898  -0.7815347  -0.1071119  -0.07868227\n",
      "  -0.02388445  0.30577993 -0.46738768  0.35588858 -0.4990792  -0.7593276\n",
      "   0.4595093  -0.00433881  0.07501421 -0.13631742  0.45096624  0.1613227\n",
      "  -0.17313787  0.26657748  0.383654    0.0485856   0.5840034  -0.58034295\n",
      "  -0.21707015  0.00837055  0.4097994  -0.04754004  0.61050874  0.01970002\n",
      "  -0.24611922  0.2101436 ]]\n",
      "Standard Deviation:\n",
      "[[0.01765172 0.01577552 0.01092795 0.01422292 0.01654324 0.01486816\n",
      "  0.01437992 0.01383877 0.01662531 0.01456615 0.0146216  0.01193266\n",
      "  0.01810653 0.01567343 0.01276677 0.01055669 0.01471253 0.01481954\n",
      "  0.01360078 0.0112188  0.01380585 0.0134947  0.01302508 0.01444725\n",
      "  0.01511654 0.01359984 0.01277536 0.01085791 0.01433303 0.01492266\n",
      "  0.01118167 0.01421622 0.01639045 0.01655485 0.01255548 0.01145347\n",
      "  0.01296001 0.01359807 0.01361807 0.01221698 0.01402922 0.01268203\n",
      "  0.01680374 0.01354304 0.01289647 0.01159076 0.0173693  0.01803219\n",
      "  0.01381937 0.01485618 0.01545735 0.01286151 0.01225807 0.0131258\n",
      "  0.01094764 0.01401476 0.01171978 0.01181733 0.01343883 0.01423444\n",
      "  0.01123967 0.01525098 0.01399854 0.01355292 0.01059561 0.01420917\n",
      "  0.01460633 0.01387522 0.01327474 0.01267049 0.01243234 0.01447709\n",
      "  0.0135862  0.01177963 0.01171566 0.01696491 0.01362806 0.01187659\n",
      "  0.01479945 0.01028535 0.01162175 0.01054442 0.01593029 0.01671371\n",
      "  0.01289611 0.00987029 0.01260693 0.01159795 0.01520894 0.01320886\n",
      "  0.01144098 0.01414688 0.01363265 0.01608115 0.01587714 0.01421187\n",
      "  0.01458166 0.01171577 0.01281809 0.01605851 0.0112874  0.01762654\n",
      "  0.0143744  0.01401123 0.01305097 0.01192571 0.01662742 0.01409822\n",
      "  0.01474753 0.01397597]]\n",
      "pval: 0.0\n",
      "Inferred W:\n",
      "[[ 0.0180322   0.195496    0.20827994  0.06367721  0.20632443  0.14864984\n",
      "   0.02108621  0.03622427 -0.00164808  0.24574104 -0.06798602 -0.11643194\n",
      "   0.1247834  -0.02279027  0.23674156 -0.03321564  0.15384711  0.18096806\n",
      "  -0.05682098  0.3659166   0.09630117 -0.11516237 -0.27987716  0.05630509\n",
      "   0.03230013 -0.02431182 -0.01050155 -0.04780919  0.25784597  0.26995817\n",
      "  -0.12204722  0.01238042 -0.03684653  0.22555578  0.19128641 -0.05823941\n",
      "   0.06280581  0.06765117  0.16686551  0.09602232  0.17995715  0.19043493\n",
      "  -0.07304771 -0.19899783  0.19455022  0.2857703   0.28558883  0.2774634\n",
      "   0.23541158 -0.22534417  0.22157705 -0.16871385  0.12559758 -0.07344152\n",
      "   0.31014624  0.11022359 -0.00103903  0.31049252  0.10303791 -0.10773277\n",
      "   0.32499325  0.02911652 -0.07623794 -0.29482153  0.04125234 -0.04863774\n",
      "  -0.24878536  0.08472697  0.24993102  0.02766079  0.3180818   0.24210806\n",
      "  -0.10849196 -0.05989981 -0.07233285  0.04196776  0.13791154  0.12937683\n",
      "   0.1530187   0.01196085  0.04071478 -0.22721979  0.0503136   0.11347117\n",
      "   0.09901634  0.10445517 -0.19133006  0.11235303 -0.27029973 -0.01134899\n",
      "  -0.0057339  -0.27657267 -0.01980104 -0.03734175  0.194692    0.08074485\n",
      "   0.15713115  0.18005165  0.12366786 -0.09562448  0.14166522 -0.2101501\n",
      "   0.09812173  0.15981644  0.31739077  0.02649761  0.12657306  0.08820901\n",
      "  -0.08977115  0.08485419]]\n",
      "Standard Deviation:\n",
      "[[0.02344273 0.02611058 0.02071893 0.02297462 0.0238906  0.01842643\n",
      "  0.0261791  0.02192159 0.02143106 0.02247284 0.02429138 0.02246794\n",
      "  0.02178769 0.02573028 0.02372391 0.01896639 0.02454848 0.02409555\n",
      "  0.02156115 0.02604938 0.01905645 0.0185403  0.02372798 0.02125532\n",
      "  0.02203237 0.01998935 0.01937687 0.02844186 0.01958696 0.02454348\n",
      "  0.01886228 0.02383636 0.0227819  0.02106181 0.02109192 0.01968737\n",
      "  0.02310579 0.02099095 0.02087048 0.02031216 0.02505318 0.02297672\n",
      "  0.02151332 0.02507131 0.02536156 0.02119604 0.02068986 0.02418992\n",
      "  0.0250562  0.02503365 0.02566498 0.02486238 0.02030129 0.02362786\n",
      "  0.02127504 0.01801814 0.02217066 0.0230084  0.02104874 0.02437178\n",
      "  0.0211853  0.02004544 0.02208321 0.02132546 0.01931467 0.02337367\n",
      "  0.02370191 0.02071846 0.02277701 0.0248204  0.02132417 0.02375604\n",
      "  0.02149873 0.01906628 0.02128753 0.02104057 0.02200823 0.02359316\n",
      "  0.02298592 0.02424601 0.02110302 0.02197897 0.02278598 0.02333338\n",
      "  0.01990825 0.02692159 0.02426683 0.02454895 0.02123455 0.02532775\n",
      "  0.02115472 0.02250186 0.02560468 0.02340255 0.02446136 0.02167816\n",
      "  0.02204299 0.02320794 0.02493226 0.02393087 0.0249483  0.02306152\n",
      "  0.0210401  0.01926181 0.02687111 0.02236338 0.02272737 0.01990907\n",
      "  0.02083931 0.0228228 ]]\n"
     ]
    }
   ],
   "source": [
    "examples = [\"Example1\", \"Example2\", \"Example3\", \"Example4\", \"Example_Confounder\", \"Example_Nonlinear\"]\n",
    "n_seeds = 10\n",
    "for example in examples:            \n",
    "    results = {}\n",
    "            \n",
    "    for seed in range(n_seeds):\n",
    "        print(example, ' seed ', int(seed))\n",
    "        environment_datasets, val_dataset, test_dataset, config =  get_datasets(example, seed=seed)\n",
    "        dcf_args[\"target\"] = config[\"data_options\"][\"targets\"]\n",
    "        dcf_args[\"output_data_regime\"] = config[\"data_options\"][\"output_data_regime\"]\n",
    "        dcf_args[\"columns\"] = config[\"data_options\"][\"predictors\"]\n",
    "    \n",
    "        dcf = TorchMultiClassDeconfounder(environment_datasets, val_dataset, test_dataset, dcf_args)\n",
    "        \n",
    "        results[seed] = dcf.predictor_results()\n",
    "        results[seed][\"seed\"] = seed\n",
    "            \n",
    "    result_file = \"results/validation/DCF_\" + example + \".json\"\n",
    "\n",
    "    for seed in range(n_seeds):\n",
    "        if results.get(0)[\"to_bucket\"][\"test_acc\"] is not None:\n",
    "            results.get(seed).get(\"to_bucket\")[\"test_acc\"] = results.get(seed).get(\"to_bucket\")[\"test_acc\"].item()\n",
    "            results.get(seed)[\"test_acc\"] = results.get(seed)[\"test_acc\"].item()\n",
    "\n",
    "    save_dict_to_json(results, result_file)"
   ]
  },
  {
   "cell_type": "code",
   "execution_count": 2,
   "metadata": {},
   "outputs": [
    {
     "data": {
      "text/plain": [
       "3"
      ]
     },
     "execution_count": 2,
     "metadata": {},
     "output_type": "execute_result"
    }
   ],
   "source": [
    "seed = np.random.randint(100)\n",
    "seed"
   ]
  },
  {
   "cell_type": "code",
   "execution_count": 3,
   "metadata": {},
   "outputs": [
    {
     "name": "stdout",
     "output_type": "stream",
     "text": [
      "Dimension is (1000, 114)\n",
      "Running a per sample experiment\n",
      "Loaded  5  train environments\n",
      "Env  0  has  152  samples\n",
      "X shape  (152, 109)  y shape  (152, 1)\n",
      "Env  1  has  166  samples\n",
      "X shape  (166, 109)  y shape  (166, 1)\n",
      "Env  2  has  164  samples\n",
      "X shape  (164, 109)  y shape  (164, 1)\n",
      "Env  3  has  167  samples\n",
      "X shape  (167, 109)  y shape  (167, 1)\n",
      "Env  4  has  161  samples\n",
      "X shape  (161, 109)  y shape  (161, 1)\n",
      "Loaded test set, X shape: (100, 109)  y shape:  (100, 1)\n"
     ]
    }
   ],
   "source": [
    "#env, val, test = get_datasets(\"Example1\")\n",
    "environment_datasets, val_dataset, test_dataset, config =  get_datasets(\"Example_Confounder\", seed=seed)"
   ]
  },
  {
   "cell_type": "code",
   "execution_count": 8,
   "metadata": {},
   "outputs": [
    {
     "name": "stdout",
     "output_type": "stream",
     "text": [
      "WARNING:tensorflow:From /home/jupyter/crisp/models/TorchMultiClassDeconfounder.py:47: The name tf.set_random_seed is deprecated. Please use tf.compat.v1.set_random_seed instead.\n",
      "\n"
     ]
    },
    {
     "ename": "ValueError",
     "evalue": "Shape of passed values is (20, 109), indices imply (20, 110)",
     "output_type": "error",
     "traceback": [
      "\u001b[0;31m---------------------------------------------------------------------------\u001b[0m",
      "\u001b[0;31mValueError\u001b[0m                                Traceback (most recent call last)",
      "\u001b[0;32m/opt/conda/lib/python3.7/site-packages/pandas/core/internals/managers.py\u001b[0m in \u001b[0;36mcreate_block_manager_from_blocks\u001b[0;34m(blocks, axes)\u001b[0m\n\u001b[1;32m   1675\u001b[0m                     make_block(\n\u001b[0;32m-> 1676\u001b[0;31m                         \u001b[0mvalues\u001b[0m\u001b[0;34m=\u001b[0m\u001b[0mblocks\u001b[0m\u001b[0;34m[\u001b[0m\u001b[0;36m0\u001b[0m\u001b[0;34m]\u001b[0m\u001b[0;34m,\u001b[0m \u001b[0mplacement\u001b[0m\u001b[0;34m=\u001b[0m\u001b[0mslice\u001b[0m\u001b[0;34m(\u001b[0m\u001b[0;36m0\u001b[0m\u001b[0;34m,\u001b[0m \u001b[0mlen\u001b[0m\u001b[0;34m(\u001b[0m\u001b[0maxes\u001b[0m\u001b[0;34m[\u001b[0m\u001b[0;36m0\u001b[0m\u001b[0;34m]\u001b[0m\u001b[0;34m)\u001b[0m\u001b[0;34m)\u001b[0m\u001b[0;34m,\u001b[0m \u001b[0mndim\u001b[0m\u001b[0;34m=\u001b[0m\u001b[0;36m2\u001b[0m\u001b[0;34m\u001b[0m\u001b[0;34m\u001b[0m\u001b[0m\n\u001b[0m\u001b[1;32m   1677\u001b[0m                     )\n",
      "\u001b[0;32m/opt/conda/lib/python3.7/site-packages/pandas/core/internals/blocks.py\u001b[0m in \u001b[0;36mmake_block\u001b[0;34m(values, placement, klass, ndim, dtype)\u001b[0m\n\u001b[1;32m   2750\u001b[0m \u001b[0;34m\u001b[0m\u001b[0m\n\u001b[0;32m-> 2751\u001b[0;31m     \u001b[0;32mreturn\u001b[0m \u001b[0mklass\u001b[0m\u001b[0;34m(\u001b[0m\u001b[0mvalues\u001b[0m\u001b[0;34m,\u001b[0m \u001b[0mndim\u001b[0m\u001b[0;34m=\u001b[0m\u001b[0mndim\u001b[0m\u001b[0;34m,\u001b[0m \u001b[0mplacement\u001b[0m\u001b[0;34m=\u001b[0m\u001b[0mplacement\u001b[0m\u001b[0;34m)\u001b[0m\u001b[0;34m\u001b[0m\u001b[0;34m\u001b[0m\u001b[0m\n\u001b[0m\u001b[1;32m   2752\u001b[0m \u001b[0;34m\u001b[0m\u001b[0m\n",
      "\u001b[0;32m/opt/conda/lib/python3.7/site-packages/pandas/core/internals/blocks.py\u001b[0m in \u001b[0;36m__init__\u001b[0;34m(self, values, placement, ndim)\u001b[0m\n\u001b[1;32m    142\u001b[0m             raise ValueError(\n\u001b[0;32m--> 143\u001b[0;31m                 \u001b[0;34mf\"Wrong number of items passed {len(self.values)}, \"\u001b[0m\u001b[0;34m\u001b[0m\u001b[0;34m\u001b[0m\u001b[0m\n\u001b[0m\u001b[1;32m    144\u001b[0m                 \u001b[0;34mf\"placement implies {len(self.mgr_locs)}\"\u001b[0m\u001b[0;34m\u001b[0m\u001b[0;34m\u001b[0m\u001b[0m\n",
      "\u001b[0;31mValueError\u001b[0m: Wrong number of items passed 109, placement implies 110",
      "\nDuring handling of the above exception, another exception occurred:\n",
      "\u001b[0;31mValueError\u001b[0m                                Traceback (most recent call last)",
      "\u001b[0;32m<ipython-input-8-bfcb55416b33>\u001b[0m in \u001b[0;36m<module>\u001b[0;34m\u001b[0m\n\u001b[0;32m----> 1\u001b[0;31m \u001b[0mdcf\u001b[0m \u001b[0;34m=\u001b[0m \u001b[0mTorchMultiClassDeconfounder\u001b[0m\u001b[0;34m(\u001b[0m\u001b[0menvironment_datasets\u001b[0m\u001b[0;34m,\u001b[0m \u001b[0mval_dataset\u001b[0m\u001b[0;34m,\u001b[0m \u001b[0mtest_dataset\u001b[0m\u001b[0;34m,\u001b[0m \u001b[0mdcf_args\u001b[0m\u001b[0;34m)\u001b[0m\u001b[0;34m\u001b[0m\u001b[0;34m\u001b[0m\u001b[0m\n\u001b[0m",
      "\u001b[0;32m~/crisp/models/TorchMultiClassDeconfounder.py\u001b[0m in \u001b[0;36m__init__\u001b[0;34m(self, train_environments, val_environment, test_environment, args)\u001b[0m\n\u001b[1;32m     51\u001b[0m \u001b[0;34m\u001b[0m\u001b[0m\n\u001b[1;32m     52\u001b[0m         \u001b[0mx_test\u001b[0m\u001b[0;34m,\u001b[0m \u001b[0my_test\u001b[0m \u001b[0;34m=\u001b[0m \u001b[0mtest_environment\u001b[0m\u001b[0;34m.\u001b[0m\u001b[0mget_all\u001b[0m\u001b[0;34m(\u001b[0m\u001b[0;34m)\u001b[0m\u001b[0;34m\u001b[0m\u001b[0;34m\u001b[0m\u001b[0m\n\u001b[0;32m---> 53\u001b[0;31m         \u001b[0mdf_test\u001b[0m \u001b[0;34m=\u001b[0m \u001b[0mpd\u001b[0m\u001b[0;34m.\u001b[0m\u001b[0mDataFrame\u001b[0m\u001b[0;34m(\u001b[0m\u001b[0mx_test\u001b[0m\u001b[0;34m.\u001b[0m\u001b[0mnumpy\u001b[0m\u001b[0;34m(\u001b[0m\u001b[0;34m)\u001b[0m\u001b[0;34m,\u001b[0m \u001b[0mcolumns\u001b[0m\u001b[0;34m=\u001b[0m\u001b[0mcolumns\u001b[0m\u001b[0;34m)\u001b[0m\u001b[0;34m\u001b[0m\u001b[0;34m\u001b[0m\u001b[0m\n\u001b[0m\u001b[1;32m     54\u001b[0m         \u001b[0mdf_test\u001b[0m\u001b[0;34m[\u001b[0m\u001b[0mself\u001b[0m\u001b[0;34m.\u001b[0m\u001b[0mtargetkey\u001b[0m\u001b[0;34m]\u001b[0m \u001b[0;34m=\u001b[0m \u001b[0my_test\u001b[0m\u001b[0;34m.\u001b[0m\u001b[0mnumpy\u001b[0m\u001b[0;34m(\u001b[0m\u001b[0;34m)\u001b[0m\u001b[0;34m\u001b[0m\u001b[0;34m\u001b[0m\u001b[0m\n\u001b[1;32m     55\u001b[0m         \u001b[0mself\u001b[0m\u001b[0;34m.\u001b[0m\u001b[0mdf_test\u001b[0m \u001b[0;34m=\u001b[0m \u001b[0mdf_test\u001b[0m\u001b[0;34m\u001b[0m\u001b[0;34m\u001b[0m\u001b[0m\n",
      "\u001b[0;32m/opt/conda/lib/python3.7/site-packages/pandas/core/frame.py\u001b[0m in \u001b[0;36m__init__\u001b[0;34m(self, data, index, columns, dtype, copy)\u001b[0m\n\u001b[1;32m    556\u001b[0m                 \u001b[0mmgr\u001b[0m \u001b[0;34m=\u001b[0m \u001b[0minit_dict\u001b[0m\u001b[0;34m(\u001b[0m\u001b[0;34m{\u001b[0m\u001b[0mdata\u001b[0m\u001b[0;34m.\u001b[0m\u001b[0mname\u001b[0m\u001b[0;34m:\u001b[0m \u001b[0mdata\u001b[0m\u001b[0;34m}\u001b[0m\u001b[0;34m,\u001b[0m \u001b[0mindex\u001b[0m\u001b[0;34m,\u001b[0m \u001b[0mcolumns\u001b[0m\u001b[0;34m,\u001b[0m \u001b[0mdtype\u001b[0m\u001b[0;34m=\u001b[0m\u001b[0mdtype\u001b[0m\u001b[0;34m)\u001b[0m\u001b[0;34m\u001b[0m\u001b[0;34m\u001b[0m\u001b[0m\n\u001b[1;32m    557\u001b[0m             \u001b[0;32melse\u001b[0m\u001b[0;34m:\u001b[0m\u001b[0;34m\u001b[0m\u001b[0;34m\u001b[0m\u001b[0m\n\u001b[0;32m--> 558\u001b[0;31m                 \u001b[0mmgr\u001b[0m \u001b[0;34m=\u001b[0m \u001b[0minit_ndarray\u001b[0m\u001b[0;34m(\u001b[0m\u001b[0mdata\u001b[0m\u001b[0;34m,\u001b[0m \u001b[0mindex\u001b[0m\u001b[0;34m,\u001b[0m \u001b[0mcolumns\u001b[0m\u001b[0;34m,\u001b[0m \u001b[0mdtype\u001b[0m\u001b[0;34m=\u001b[0m\u001b[0mdtype\u001b[0m\u001b[0;34m,\u001b[0m \u001b[0mcopy\u001b[0m\u001b[0;34m=\u001b[0m\u001b[0mcopy\u001b[0m\u001b[0;34m)\u001b[0m\u001b[0;34m\u001b[0m\u001b[0;34m\u001b[0m\u001b[0m\n\u001b[0m\u001b[1;32m    559\u001b[0m \u001b[0;34m\u001b[0m\u001b[0m\n\u001b[1;32m    560\u001b[0m         \u001b[0;31m# For data is list-like, or Iterable (will consume into list)\u001b[0m\u001b[0;34m\u001b[0m\u001b[0;34m\u001b[0m\u001b[0;34m\u001b[0m\u001b[0m\n",
      "\u001b[0;32m/opt/conda/lib/python3.7/site-packages/pandas/core/internals/construction.py\u001b[0m in \u001b[0;36minit_ndarray\u001b[0;34m(values, index, columns, dtype, copy)\u001b[0m\n\u001b[1;32m    236\u001b[0m         \u001b[0mblock_values\u001b[0m \u001b[0;34m=\u001b[0m \u001b[0;34m[\u001b[0m\u001b[0mvalues\u001b[0m\u001b[0;34m]\u001b[0m\u001b[0;34m\u001b[0m\u001b[0;34m\u001b[0m\u001b[0m\n\u001b[1;32m    237\u001b[0m \u001b[0;34m\u001b[0m\u001b[0m\n\u001b[0;32m--> 238\u001b[0;31m     \u001b[0;32mreturn\u001b[0m \u001b[0mcreate_block_manager_from_blocks\u001b[0m\u001b[0;34m(\u001b[0m\u001b[0mblock_values\u001b[0m\u001b[0;34m,\u001b[0m \u001b[0;34m[\u001b[0m\u001b[0mcolumns\u001b[0m\u001b[0;34m,\u001b[0m \u001b[0mindex\u001b[0m\u001b[0;34m]\u001b[0m\u001b[0;34m)\u001b[0m\u001b[0;34m\u001b[0m\u001b[0;34m\u001b[0m\u001b[0m\n\u001b[0m\u001b[1;32m    239\u001b[0m \u001b[0;34m\u001b[0m\u001b[0m\n\u001b[1;32m    240\u001b[0m \u001b[0;34m\u001b[0m\u001b[0m\n",
      "\u001b[0;32m/opt/conda/lib/python3.7/site-packages/pandas/core/internals/managers.py\u001b[0m in \u001b[0;36mcreate_block_manager_from_blocks\u001b[0;34m(blocks, axes)\u001b[0m\n\u001b[1;32m   1685\u001b[0m         \u001b[0mblocks\u001b[0m \u001b[0;34m=\u001b[0m \u001b[0;34m[\u001b[0m\u001b[0mgetattr\u001b[0m\u001b[0;34m(\u001b[0m\u001b[0mb\u001b[0m\u001b[0;34m,\u001b[0m \u001b[0;34m\"values\"\u001b[0m\u001b[0;34m,\u001b[0m \u001b[0mb\u001b[0m\u001b[0;34m)\u001b[0m \u001b[0;32mfor\u001b[0m \u001b[0mb\u001b[0m \u001b[0;32min\u001b[0m \u001b[0mblocks\u001b[0m\u001b[0;34m]\u001b[0m\u001b[0;34m\u001b[0m\u001b[0;34m\u001b[0m\u001b[0m\n\u001b[1;32m   1686\u001b[0m         \u001b[0mtot_items\u001b[0m \u001b[0;34m=\u001b[0m \u001b[0msum\u001b[0m\u001b[0;34m(\u001b[0m\u001b[0mb\u001b[0m\u001b[0;34m.\u001b[0m\u001b[0mshape\u001b[0m\u001b[0;34m[\u001b[0m\u001b[0;36m0\u001b[0m\u001b[0;34m]\u001b[0m \u001b[0;32mfor\u001b[0m \u001b[0mb\u001b[0m \u001b[0;32min\u001b[0m \u001b[0mblocks\u001b[0m\u001b[0;34m)\u001b[0m\u001b[0;34m\u001b[0m\u001b[0;34m\u001b[0m\u001b[0m\n\u001b[0;32m-> 1687\u001b[0;31m         \u001b[0;32mraise\u001b[0m \u001b[0mconstruction_error\u001b[0m\u001b[0;34m(\u001b[0m\u001b[0mtot_items\u001b[0m\u001b[0;34m,\u001b[0m \u001b[0mblocks\u001b[0m\u001b[0;34m[\u001b[0m\u001b[0;36m0\u001b[0m\u001b[0;34m]\u001b[0m\u001b[0;34m.\u001b[0m\u001b[0mshape\u001b[0m\u001b[0;34m[\u001b[0m\u001b[0;36m1\u001b[0m\u001b[0;34m:\u001b[0m\u001b[0;34m]\u001b[0m\u001b[0;34m,\u001b[0m \u001b[0maxes\u001b[0m\u001b[0;34m,\u001b[0m \u001b[0me\u001b[0m\u001b[0;34m)\u001b[0m\u001b[0;34m\u001b[0m\u001b[0;34m\u001b[0m\u001b[0m\n\u001b[0m\u001b[1;32m   1688\u001b[0m \u001b[0;34m\u001b[0m\u001b[0m\n\u001b[1;32m   1689\u001b[0m \u001b[0;34m\u001b[0m\u001b[0m\n",
      "\u001b[0;31mValueError\u001b[0m: Shape of passed values is (20, 109), indices imply (20, 110)"
     ]
    }
   ],
   "source": [
    "dcf = TorchMultiClassDeconfounder(environment_datasets, val_dataset, test_dataset, dcf_args)"
   ]
  },
  {
   "cell_type": "code",
   "execution_count": 8,
   "metadata": {},
   "outputs": [],
   "source": [
    "result = dcf.predictor_results()"
   ]
  },
  {
   "cell_type": "code",
   "execution_count": 9,
   "metadata": {},
   "outputs": [
    {
     "data": {
      "text/plain": [
       "dict_keys(['solution', 'latent_representation', 'results', 'test_acc', 'to_bucket'])"
      ]
     },
     "execution_count": 9,
     "metadata": {},
     "output_type": "execute_result"
    }
   ],
   "source": [
    "result.keys()"
   ]
  },
  {
   "cell_type": "code",
   "execution_count": 10,
   "metadata": {},
   "outputs": [
    {
     "data": {
      "text/plain": [
       "[('Z1', 0.8429555296897888),\n",
       " ('Non_causal_4', 0.7364522218704224),\n",
       " ('Causal_4', 0.7102513313293457)]"
      ]
     },
     "execution_count": 10,
     "metadata": {},
     "output_type": "execute_result"
    }
   ],
   "source": [
    "sorted(zip(result[\"to_bucket\"][\"features\"], result[\"to_bucket\"][\"coefficients\"]), key=lambda x: abs(x[1]), reverse=True)"
   ]
  },
  {
   "cell_type": "code",
   "execution_count": null,
   "metadata": {},
   "outputs": [],
   "source": []
  }
 ],
 "metadata": {
  "environment": {
   "name": "pytorch-gpu.1-8.m73",
   "type": "gcloud",
   "uri": "gcr.io/deeplearning-platform-release/pytorch-gpu.1-8:m73"
  },
  "kernelspec": {
   "display_name": "Python 3",
   "language": "python",
   "name": "python3"
  },
  "language_info": {
   "codemirror_mode": {
    "name": "ipython",
    "version": 3
   },
   "file_extension": ".py",
   "mimetype": "text/x-python",
   "name": "python",
   "nbconvert_exporter": "python",
   "pygments_lexer": "ipython3",
   "version": "3.7.10"
  },
  "widgets": {
   "application/vnd.jupyter.widget-state+json": {
    "state": {},
    "version_major": 2,
    "version_minor": 0
   }
  }
 },
 "nbformat": 4,
 "nbformat_minor": 4
}

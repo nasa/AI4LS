{
 "cells": [
  {
   "cell_type": "code",
   "execution_count": 1,
   "metadata": {},
   "outputs": [
    {
     "data": {
      "text/plain": [
       "'/home/jupyter/crisp'"
      ]
     },
     "execution_count": 1,
     "metadata": {},
     "output_type": "execute_result"
    }
   ],
   "source": [
    "import os\n",
    "import json\n",
    "import numpy as np\n",
    "os.chdir(\"../..\")\n",
    "\n",
    "from utils.get_synthetic_data_for_validation import get_datasets\n",
    "from utils.vm_helpers import save_dict_to_json\n",
    "from utils.gcp_helpers import save_json_to_bucket\n",
    "from models.NonLinearInvariantCausalPrediction import NonLinearInvariantCausalPrediction\n",
    "\n",
    "%pwd"
   ]
  },
  {
   "cell_type": "code",
   "execution_count": 2,
   "metadata": {},
   "outputs": [],
   "source": [
    "NLICP_args = {\n",
    "    \"max_set_size\": 3,\n",
    "    \"alpha\": 0.05,\n",
    "    \"seed\": 12,\n",
    "    \"verbose\": 1,\n",
    "    \"method\": \"MLP\",\n",
    "    \"hidden_dim\": 256,\n",
    "    \"epochs\" : 10,\n",
    "    \"max_iter\" : 1000,\n",
    "    \"cuda\" : True,\n",
    "#     \"target\" : config[\"data_options\"][\"targets\"],\n",
    "#     \"output_data_regime\" : config[\"data_options\"][\"output_data_regime\"],\n",
    "#     \"columns\" : config[\"data_options\"][\"predictors\"],\n",
    "}"
   ]
  },
  {
   "cell_type": "code",
   "execution_count": null,
   "metadata": {
    "collapsed": true,
    "jupyter": {
     "outputs_hidden": true
    }
   },
   "outputs": [
    {
     "name": "stdout",
     "output_type": "stream",
     "text": [
      "Example1  seed  0\n",
      "Environments variables: {'E0': 0.1, 'E1': 1.5, 'E2': 2, 'E3': 0.30815539086172433, 'E4': 2.016811860476012}\n",
      "torch.Size([60, 66])\n",
      "torch.Size([60, 66])\n",
      "torch.Size([60, 66])\n",
      "torch.Size([60, 66])\n",
      "torch.Size([60, 66])\n",
      "Generated Synthetic Data according to the Facebook setup Example: 1\n",
      "Environments variables: {'E0': 0.1, 'E1': 1.5, 'E2': 2, 'E3': 0.30815539086172433, 'E4': 2.016811860476012}\n",
      "torch.Size([60, 66])\n",
      "torch.Size([60, 66])\n",
      "torch.Size([60, 66])\n",
      "torch.Size([60, 66])\n",
      "torch.Size([60, 66])\n",
      "Generated Synthetic Data according to the Facebook setup Example: 1\n",
      "Running a per sample experiment\n",
      "Using synthetic dataset train/test split\n",
      "Loaded  5  train environments\n",
      "Env  0  has  50  samples\n",
      "X shape  (50, 66)  y shape  (50, 1)\n",
      "Env  1  has  47  samples\n",
      "X shape  (47, 66)  y shape  (47, 1)\n",
      "Env  2  has  48  samples\n",
      "X shape  (48, 66)  y shape  (48, 1)\n",
      "Env  3  has  50  samples\n",
      "X shape  (50, 66)  y shape  (50, 1)\n",
      "Env  4  has  45  samples\n",
      "X shape  (45, 66)  y shape  (45, 1)\n",
      "Loaded test set, X shape: (300, 66)  y shape:  (300, 1)\n",
      "Non linear ICP with  real-valued target.\n",
      "no accepted sets found for nonlinear ICP\n",
      "Example1  seed  2\n",
      "Environments variables: {'E0': 0.1, 'E1': 1.5, 'E2': 2, 'E3': 0.6983694234905468, 'E4': 0.13900760821904815}\n",
      "torch.Size([60, 66])\n",
      "torch.Size([60, 66])\n",
      "torch.Size([60, 66])\n",
      "torch.Size([60, 66])\n",
      "torch.Size([60, 66])\n",
      "Generated Synthetic Data according to the Facebook setup Example: 1\n",
      "Environments variables: {'E0': 0.1, 'E1': 1.5, 'E2': 2, 'E3': 0.6983694234905468, 'E4': 0.13900760821904815}\n",
      "torch.Size([60, 66])\n",
      "torch.Size([60, 66])\n",
      "torch.Size([60, 66])\n",
      "torch.Size([60, 66])\n",
      "torch.Size([60, 66])\n",
      "Generated Synthetic Data according to the Facebook setup Example: 1\n",
      "Running a per sample experiment\n",
      "Using synthetic dataset train/test split\n",
      "Loaded  5  train environments\n",
      "Env  0  has  50  samples\n",
      "X shape  (50, 66)  y shape  (50, 1)\n",
      "Env  1  has  47  samples\n",
      "X shape  (47, 66)  y shape  (47, 1)\n",
      "Env  2  has  48  samples\n",
      "X shape  (48, 66)  y shape  (48, 1)\n",
      "Env  3  has  50  samples\n",
      "X shape  (50, 66)  y shape  (50, 1)\n",
      "Env  4  has  45  samples\n",
      "X shape  (45, 66)  y shape  (45, 1)\n",
      "Loaded test set, X shape: (300, 66)  y shape:  (300, 1)\n",
      "Non linear ICP with  real-valued target.\n"
     ]
    }
   ],
   "source": [
    "examples = [\"Example1\", \"Example2\", \"Example3\", \"Example4\", \"Example_Confounder\", \"Example_Nonlinear\"]\n",
    "n_seeds = 10\n",
    "for example in examples:            \n",
    "    results = {}\n",
    "            \n",
    "    for seed in range(n_seeds):\n",
    "        print(example, ' seed ', int(seed))\n",
    "        environment_datasets, val_dataset, test_dataset, config =  get_datasets(example, seed=seed)\n",
    "        NLICP_args[\"target\"] = config[\"data_options\"][\"targets\"]\n",
    "        NLICP_args[\"output_data_regime\"] = config[\"data_options\"][\"output_data_regime\"]\n",
    "        NLICP_args[\"columns\"] = config[\"data_options\"][\"predictors\"]\n",
    "\n",
    "        nlicp = NonLinearInvariantCausalPrediction(environment_datasets, val_dataset, test_dataset, NLICP_args)\n",
    "        if hasattr(nlicp, \"test_logits\"):\n",
    "            results[seed] = nlicp.results()\n",
    "        else:\n",
    "            results[seed] = {\"result\" : \"no subsets accepted\"}\n",
    "        results[seed][\"seed\"] = seed\n",
    "            \n",
    "    result_file = \"results/validation/NLICP_\" + example + \".json\"\n",
    "\n",
    "    for seed in range(n_seeds):\n",
    "        if results.get(0)[\"to_bucket\"][\"test_acc\"] is not None:\n",
    "            results.get(seed).get(\"to_bucket\")[\"test_acc\"] = results.get(seed).get(\"to_bucket\")[\"test_acc\"].item()\n",
    "            results.get(seed)[\"test_acc\"] = results.get(seed)[\"test_acc\"].item()\n",
    "\n",
    "    save_dict_to_json(results, result_file)"
   ]
  }
 ],
 "metadata": {
  "environment": {
   "name": "pytorch-gpu.1-8.m73",
   "type": "gcloud",
   "uri": "gcr.io/deeplearning-platform-release/pytorch-gpu.1-8:m73"
  },
  "kernelspec": {
   "display_name": "Python 3",
   "language": "python",
   "name": "python3"
  },
  "language_info": {
   "codemirror_mode": {
    "name": "ipython",
    "version": 3
   },
   "file_extension": ".py",
   "mimetype": "text/x-python",
   "name": "python",
   "nbconvert_exporter": "python",
   "pygments_lexer": "ipython3",
   "version": "3.7.10"
  },
  "widgets": {
   "application/vnd.jupyter.widget-state+json": {
    "state": {},
    "version_major": 2,
    "version_minor": 0
   }
  }
 },
 "nbformat": 4,
 "nbformat_minor": 4
}

{
 "cells": [
  {
   "cell_type": "code",
   "execution_count": 50,
   "id": "a909f0f2",
   "metadata": {},
   "outputs": [
    {
     "data": {
      "text/plain": [
       "'/home/jupyter/crisp'"
      ]
     },
     "execution_count": 50,
     "metadata": {},
     "output_type": "execute_result"
    }
   ],
   "source": [
    "import os\n",
    "import json\n",
    "import pandas as pd\n",
    "while os.getcwd() != '/home/jupyter/crisp':\n",
    "    os.chdir(\"..\")\n",
    "%pwd"
   ]
  },
  {
   "cell_type": "code",
   "execution_count": 51,
   "id": "55bc6189",
   "metadata": {},
   "outputs": [],
   "source": [
    "from tqdm import tqdm\n",
    "from sklearn.model_selection import train_test_split\n",
    "from google.cloud import storage"
   ]
  },
  {
   "cell_type": "code",
   "execution_count": 52,
   "id": "1b66d2f8",
   "metadata": {},
   "outputs": [],
   "source": [
    "metadata = pd.read_csv('data/Elijah_mice/mouse_phenotype_data.csv')\n",
    "index = metadata.corrected\n",
    "Target = metadata.days\n",
    "metadata['environment'] = metadata.Cohort.astype(str) + metadata.sex + metadata.group\n",
    "# # data = pd.read_csv('data/Elijah_mice/geno.txt', delimiter = '\\t')\n",
    "# # data.to_pickle('data/Elijah_mice/geno.pkl')\n",
    "# data = pd.read_pickle('data/Elijah_mice/geno.pkl')\n",
    "# data = data.loc[index]\n",
    "# modal_values = data.mode().iloc[0]\n",
    "# majority_not_missing = list(modal_values.T[modal_values.T != '-'].index)\n",
    "# data = data[majority_not_missing]\n",
    "# modal_values = modal_values[majority_not_missing]\n",
    "# divergent_snip_data = data != modal_values\n",
    "# divergent_snip_data = divergent_snip_data.astype(int).astype(float)\n",
    "# divergent_snip_data.to_pickle('data/Elijah_mice/formatted_data.pkl')"
   ]
  },
  {
   "cell_type": "code",
   "execution_count": 56,
   "id": "337f797a",
   "metadata": {},
   "outputs": [],
   "source": [
    "# metadata.query(\"environment not in ['1Munirradiated','1Funirradiated','2Munirradiated','2Funirradiated','2Fsham irradiated','2Msham irradiated','1Msham irradiated','1Fsham irradiated']\")"
   ]
  },
  {
   "cell_type": "code",
   "execution_count": 29,
   "id": "1490333f",
   "metadata": {},
   "outputs": [],
   "source": [
    "reduced_modes = [True]"
   ]
  },
  {
   "cell_type": "code",
   "execution_count": 30,
   "id": "c656a97d",
   "metadata": {},
   "outputs": [
    {
     "name": "stderr",
     "output_type": "stream",
     "text": [
      "  0%|          | 0/58 [00:00<?, ?it/s]"
     ]
    },
    {
     "name": "stdout",
     "output_type": "stream",
     "text": [
      "reduced_mode_on\n"
     ]
    },
    {
     "name": "stderr",
     "output_type": "stream",
     "text": [
      "100%|██████████| 58/58 [16:19<00:00, 16.88s/it]\n"
     ]
    }
   ],
   "source": [
    "for reduced_mode in reduced_modes:\n",
    "    data = pd.read_pickle('data/Elijah_mice/formatted_data.pkl')\n",
    "\n",
    "    if reduced_mode:\n",
    "        top_1000_variance_columns = list(data.std().sort_values(ascending=False).iloc[:1000].index)\n",
    "        data = data[top_1000_variance_columns]\n",
    "        \n",
    "    # Odhran - you must check this! it might be incorrect if indices have been moved at any point\n",
    "    data['Target'] = list(Target)\n",
    "    data['environment'] = list(metadata.environment)\n",
    "    data = data.query(\"environment not in ['1Munirradiated','1Funirradiated','2Munirradiated','2Funirradiated','2Fsham irradiated','2Msham irradiated','1Msham irradiated','1Fsham irradiated']\")\n",
    "\n",
    "    storage_client = storage.Client()\n",
    "    bucket = storage_client.get_bucket('ah21_data')\n",
    "\n",
    "    if reduced_mode:\n",
    "        experiment_directory = 'elijah_mouse_experiment_reduced_new_code_v3/'\n",
    "        print('reduced_mode_on')\n",
    "    else: \n",
    "        experiment_directory = 'elijah_mouse_experiment_new_code_v3/'\n",
    "        \n",
    "    for seed in tqdm(range(0,75)):\n",
    "        seed_directory = 'seed_{}/'.format(str(seed))\n",
    "\n",
    "        for index, environment in enumerate(data.environment.unique()):\n",
    "#             colab_directory = 'col_{}_{}/'.format(index, environment.replace(\" \", \"\"))\n",
    "            colab_directory = 'col_{}/'.format(index)\n",
    "            env_data = data[data.environment == environment]\n",
    "            env_data = env_data.drop('environment', axis=1)\n",
    "            train, test = train_test_split(env_data, test_size=0.2, random_state = seed)\n",
    "\n",
    "            blob = bucket.blob(experiment_directory+seed_directory+colab_directory+'train/data.csv')\n",
    "            train.to_csv('elijah_data.csv')\n",
    "            blob.upload_from_filename('elijah_data.csv')\n",
    "\n",
    "            blob = bucket.blob(experiment_directory+seed_directory+colab_directory+'test/data.csv')\n",
    "            test.to_csv('elijah_data.csv')\n",
    "            blob.upload_from_filename('elijah_data.csv')\n"
   ]
  },
  {
   "cell_type": "code",
   "execution_count": 47,
   "id": "3c867251",
   "metadata": {},
   "outputs": [],
   "source": [
    "reduced_modes = [False, True]"
   ]
  },
  {
   "cell_type": "code",
   "execution_count": 48,
   "id": "220e8e6a",
   "metadata": {},
   "outputs": [],
   "source": [
    "metadata = pd.read_csv('data/Elijah_mice/mouse_phenotype_data.csv')\n",
    "index = metadata.corrected\n",
    "Target = metadata.days\n",
    "metadata['environment'] = metadata.Cohort.astype(str) + metadata.group"
   ]
  },
  {
   "cell_type": "code",
   "execution_count": 49,
   "id": "d5dc50d8",
   "metadata": {},
   "outputs": [
    {
     "name": "stderr",
     "output_type": "stream",
     "text": [
      "100%|██████████| 75/75 [4:18:52<00:00, 207.09s/it]  \n",
      "  0%|          | 0/75 [00:00<?, ?it/s]"
     ]
    },
    {
     "name": "stdout",
     "output_type": "stream",
     "text": [
      "reduced_mode_on\n"
     ]
    },
    {
     "name": "stderr",
     "output_type": "stream",
     "text": [
      "100%|██████████| 75/75 [09:46<00:00,  7.82s/it]\n"
     ]
    }
   ],
   "source": [
    "for reduced_mode in reduced_modes:\n",
    "    data = pd.read_pickle('data/Elijah_mice/formatted_data.pkl')\n",
    "\n",
    "    if reduced_mode:\n",
    "        top_1000_variance_columns = list(data.std().sort_values(ascending=False).iloc[:1000].index)\n",
    "        data = data[top_1000_variance_columns]\n",
    "        \n",
    "    # Odhran - you must check this! it might be incorrect if indices have been moved at any point\n",
    "    data['Target'] = list(Target)\n",
    "    data['environment'] = list(metadata.environment)\n",
    "    data = data.query(\"environment not in ['1unirradiated','2unirradiated','2sham irradiated','1sham irradiated']\")\n",
    "\n",
    "    storage_client = storage.Client()\n",
    "    bucket = storage_client.get_bucket('ah21_data')\n",
    "\n",
    "    if reduced_mode:\n",
    "        experiment_directory = 'final_elijah_mouse_experiment_reduced/'\n",
    "        print('reduced_mode_on')\n",
    "    else: \n",
    "        experiment_directory = 'final_elijah_mouse_experiment/'\n",
    "        \n",
    "    for seed in tqdm(range(0,75)):\n",
    "        seed_directory = 'seed_{}/'.format(str(seed))\n",
    "\n",
    "        for index, environment in enumerate(data.environment.unique()):\n",
    "#             colab_directory = 'col_{}_{}/'.format(index, environment.replace(\" \", \"\"))\n",
    "            colab_directory = 'col_{}/'.format(index)\n",
    "            env_data = data[data.environment == environment]\n",
    "            env_data = env_data.drop('environment', axis=1)\n",
    "            train, test = train_test_split(env_data, test_size=0.2, random_state = seed)\n",
    "\n",
    "            blob = bucket.blob(experiment_directory+seed_directory+colab_directory+'train/data.csv')\n",
    "            train.to_csv('elijah_data.csv')\n",
    "            blob.upload_from_filename('elijah_data.csv')\n",
    "\n",
    "            blob = bucket.blob(experiment_directory+seed_directory+colab_directory+'test/data.csv')\n",
    "            test.to_csv('elijah_data.csv')\n",
    "            blob.upload_from_filename('elijah_data.csv')\n"
   ]
  },
  {
   "cell_type": "code",
   "execution_count": null,
   "id": "321045b7",
   "metadata": {},
   "outputs": [],
   "source": []
  },
  {
   "cell_type": "code",
   "execution_count": 4,
   "id": "998ce0a1",
   "metadata": {},
   "outputs": [],
   "source": [
    "data = pd.read_pickle('data/Elijah_mice/formatted_data.pkl')"
   ]
  },
  {
   "cell_type": "code",
   "execution_count": 20,
   "id": "4008c641",
   "metadata": {},
   "outputs": [],
   "source": [
    "reduced_mode = False"
   ]
  },
  {
   "cell_type": "code",
   "execution_count": 21,
   "id": "96748765",
   "metadata": {},
   "outputs": [],
   "source": [
    "if reduced_mode:\n",
    "    print('reduced mode running')\n",
    "    top_1000_variance_columns = list(data.std().sort_values(ascending=False).iloc[:1000].index)\n",
    "    data = data[top_1000_variance_columns]"
   ]
  },
  {
   "cell_type": "code",
   "execution_count": 22,
   "id": "fcffc585",
   "metadata": {},
   "outputs": [],
   "source": [
    "# Odhran - you must check this! it might be incorrect if indices have been moved at any point\n",
    "data['Target'] = list(Target)\n",
    "data['environment'] = list(metadata.environment)"
   ]
  },
  {
   "cell_type": "code",
   "execution_count": 23,
   "id": "6b924d94",
   "metadata": {},
   "outputs": [],
   "source": [
    "from google.cloud import storage\n",
    "storage_client = storage.Client()\n",
    "bucket = storage_client.get_bucket('ah21_data')\n",
    "if reduced_mode:\n",
    "    print('reduced mode running')\n",
    "    experiment_directory = 'elijah_mouse_experiment_reduced/'\n",
    "else: \n",
    "    experiment_directory = 'elijah_mouse_experiment/'"
   ]
  },
  {
   "cell_type": "code",
   "execution_count": 24,
   "id": "7341d5b5",
   "metadata": {},
   "outputs": [],
   "source": [
    "# need to drop environments here?"
   ]
  },
  {
   "cell_type": "code",
   "execution_count": null,
   "id": "60bbb156",
   "metadata": {},
   "outputs": [
    {
     "name": "stderr",
     "output_type": "stream",
     "text": [
      " 27%|██▋       | 20/75 [1:16:35<3:29:33, 228.60s/it]"
     ]
    }
   ],
   "source": [
    "for seed in tqdm(range(0,75)):\n",
    "    seed_directory = 'seed_{}/'.format(str(seed))\n",
    "    \n",
    "    for index, environment in enumerate(data.environment.unique()):\n",
    "        if 'sham' not in environment:\n",
    "            if 'unirradiated' not in environment:\n",
    "                colab_directory = 'col_{}_{}/'.format(index, environment.replace(\" \", \"\"))\n",
    "                env_data = data[data.environment == environment]\n",
    "                env_data = env_data.drop('environment', axis=1)\n",
    "                train, test = train_test_split(env_data, test_size=0.2, random_state = seed)\n",
    "\n",
    "                blob = bucket.blob(experiment_directory+seed_directory+colab_directory+'train/data.csv')\n",
    "                train.to_csv('data.csv')\n",
    "                blob.upload_from_filename('data.csv')\n",
    "\n",
    "                blob = bucket.blob(experiment_directory+seed_directory+colab_directory+'test/data.csv')\n",
    "                test.to_csv('data.csv')\n",
    "                blob.upload_from_filename('data.csv')"
   ]
  },
  {
   "cell_type": "code",
   "execution_count": null,
   "id": "a97f3231",
   "metadata": {},
   "outputs": [],
   "source": []
  }
 ],
 "metadata": {
  "environment": {
   "name": "common-cu100.m73",
   "type": "gcloud",
   "uri": "gcr.io/deeplearning-platform-release/base-cu100:m73"
  },
  "kernelspec": {
   "display_name": "Python 3",
   "language": "python",
   "name": "python3"
  },
  "language_info": {
   "codemirror_mode": {
    "name": "ipython",
    "version": 3
   },
   "file_extension": ".py",
   "mimetype": "text/x-python",
   "name": "python",
   "nbconvert_exporter": "python",
   "pygments_lexer": "ipython3",
   "version": "3.7.10"
  }
 },
 "nbformat": 4,
 "nbformat_minor": 5
}

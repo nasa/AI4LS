{
 "cells": [
  {
   "cell_type": "code",
   "execution_count": 1,
   "id": "bf178db6",
   "metadata": {},
   "outputs": [],
   "source": [
    "import numpy as np\n",
    "import pandas as pd\n",
    "\n",
    "import json\n",
    "\n",
    "import os\n",
    "os.chdir(\"..\")\n"
   ]
  },
  {
   "cell_type": "code",
   "execution_count": 2,
   "id": "2e11c8d9",
   "metadata": {},
   "outputs": [
    {
     "data": {
      "text/plain": [
       "'/home/jupyter/crisp'"
      ]
     },
     "execution_count": 2,
     "metadata": {},
     "output_type": "execute_result"
    }
   ],
   "source": [
    "os.getcwd()"
   ]
  },
  {
   "cell_type": "code",
   "execution_count": 3,
   "id": "2b77fc62",
   "metadata": {},
   "outputs": [],
   "source": [
    "from utils.streamlit_compute_average_voting import get_average_voting_ensamble"
   ]
  },
  {
   "cell_type": "code",
   "execution_count": 4,
   "id": "9f6895f0",
   "metadata": {},
   "outputs": [],
   "source": [
    "# reed the data\n",
    "\n",
    "methods = ['ERM', 'SNLIRM']\n",
    "\n",
    "list_jsons = []\n",
    "for method in methods:\n",
    "    save_dir = '/home/jupyter/crisp/results/' + method + '.json'\n",
    "    list_jsons.append(json.load(open(save_dir,'r')))\n"
   ]
  },
  {
   "cell_type": "code",
   "execution_count": 5,
   "id": "f50435f5",
   "metadata": {},
   "outputs": [
    {
     "name": "stdout",
     "output_type": "stream",
     "text": [
      "n methods 2\n",
      "n seeds 18\n",
      "Non-Causal ERM 0.929411768913269\n",
      "Linear IRM 0.9529411792755127\n",
      "Non-Causal ERM 0.8705882430076599\n",
      "Linear IRM 0.8117647171020508\n",
      "Non-Causal ERM 0.8823529481887817\n",
      "Linear IRM 0.9411764740943909\n",
      "Non-Causal ERM 0.8941176533699036\n",
      "Linear IRM 0.8235294222831726\n",
      "Non-Causal ERM 0.9529411792755127\n",
      "Linear IRM 1.0\n",
      "Non-Causal ERM 0.8941176533699036\n",
      "Linear IRM 1.0\n",
      "Non-Causal ERM 0.9529411792755127\n",
      "Linear IRM 0.9411764740943909\n",
      "Non-Causal ERM 0.8941176533699036\n",
      "Linear IRM 1.0\n",
      "Non-Causal ERM 0.8823529481887817\n",
      "Linear IRM 0.9764705896377563\n",
      "Non-Causal ERM 0.9411764740943909\n",
      "Linear IRM 0.8941176533699036\n",
      "Non-Causal ERM 0.9647058844566345\n"
     ]
    },
    {
     "name": "stderr",
     "output_type": "stream",
     "text": [
      "/home/jupyter/crisp/utils/new_get_ensemble_results.py:49: SettingWithCopyWarning: \n",
      "A value is trying to be set on a copy of a slice from a DataFrame\n",
      "\n",
      "See the caveats in the documentation: https://pandas.pydata.org/pandas-docs/stable/user_guide/indexing.html#returning-a-view-versus-a-copy\n",
      "  feature_weight_df[method][feat_df['feature']] = feat_df['coefficient'].abs().values\n",
      "/opt/conda/lib/python3.7/site-packages/pandas/core/indexing.py:1637: SettingWithCopyWarning: \n",
      "A value is trying to be set on a copy of a slice from a DataFrame\n",
      "\n",
      "See the caveats in the documentation: https://pandas.pydata.org/pandas-docs/stable/user_guide/indexing.html#returning-a-view-versus-a-copy\n",
      "  self._setitem_single_block(indexer, value, name)\n",
      "/home/jupyter/crisp/utils/new_get_ensemble_results.py:49: SettingWithCopyWarning: \n",
      "A value is trying to be set on a copy of a slice from a DataFrame\n",
      "\n",
      "See the caveats in the documentation: https://pandas.pydata.org/pandas-docs/stable/user_guide/indexing.html#returning-a-view-versus-a-copy\n",
      "  feature_weight_df[method][feat_df['feature']] = feat_df['coefficient'].abs().values\n",
      "/opt/conda/lib/python3.7/site-packages/pandas/core/indexing.py:1637: SettingWithCopyWarning: \n",
      "A value is trying to be set on a copy of a slice from a DataFrame\n",
      "\n",
      "See the caveats in the documentation: https://pandas.pydata.org/pandas-docs/stable/user_guide/indexing.html#returning-a-view-versus-a-copy\n",
      "  self._setitem_single_block(indexer, value, name)\n",
      "/home/jupyter/crisp/utils/new_get_ensemble_results.py:49: SettingWithCopyWarning: \n",
      "A value is trying to be set on a copy of a slice from a DataFrame\n",
      "\n",
      "See the caveats in the documentation: https://pandas.pydata.org/pandas-docs/stable/user_guide/indexing.html#returning-a-view-versus-a-copy\n",
      "  feature_weight_df[method][feat_df['feature']] = feat_df['coefficient'].abs().values\n",
      "/opt/conda/lib/python3.7/site-packages/pandas/core/indexing.py:1637: SettingWithCopyWarning: \n",
      "A value is trying to be set on a copy of a slice from a DataFrame\n",
      "\n",
      "See the caveats in the documentation: https://pandas.pydata.org/pandas-docs/stable/user_guide/indexing.html#returning-a-view-versus-a-copy\n",
      "  self._setitem_single_block(indexer, value, name)\n",
      "/home/jupyter/crisp/utils/new_get_ensemble_results.py:49: SettingWithCopyWarning: \n",
      "A value is trying to be set on a copy of a slice from a DataFrame\n",
      "\n",
      "See the caveats in the documentation: https://pandas.pydata.org/pandas-docs/stable/user_guide/indexing.html#returning-a-view-versus-a-copy\n",
      "  feature_weight_df[method][feat_df['feature']] = feat_df['coefficient'].abs().values\n",
      "/opt/conda/lib/python3.7/site-packages/pandas/core/indexing.py:1637: SettingWithCopyWarning: \n",
      "A value is trying to be set on a copy of a slice from a DataFrame\n",
      "\n",
      "See the caveats in the documentation: https://pandas.pydata.org/pandas-docs/stable/user_guide/indexing.html#returning-a-view-versus-a-copy\n",
      "  self._setitem_single_block(indexer, value, name)\n",
      "/home/jupyter/crisp/utils/new_get_ensemble_results.py:49: SettingWithCopyWarning: \n",
      "A value is trying to be set on a copy of a slice from a DataFrame\n",
      "\n",
      "See the caveats in the documentation: https://pandas.pydata.org/pandas-docs/stable/user_guide/indexing.html#returning-a-view-versus-a-copy\n",
      "  feature_weight_df[method][feat_df['feature']] = feat_df['coefficient'].abs().values\n",
      "/opt/conda/lib/python3.7/site-packages/pandas/core/indexing.py:1637: SettingWithCopyWarning: \n",
      "A value is trying to be set on a copy of a slice from a DataFrame\n",
      "\n",
      "See the caveats in the documentation: https://pandas.pydata.org/pandas-docs/stable/user_guide/indexing.html#returning-a-view-versus-a-copy\n",
      "  self._setitem_single_block(indexer, value, name)\n",
      "/home/jupyter/crisp/utils/new_get_ensemble_results.py:49: SettingWithCopyWarning: \n",
      "A value is trying to be set on a copy of a slice from a DataFrame\n",
      "\n",
      "See the caveats in the documentation: https://pandas.pydata.org/pandas-docs/stable/user_guide/indexing.html#returning-a-view-versus-a-copy\n",
      "  feature_weight_df[method][feat_df['feature']] = feat_df['coefficient'].abs().values\n",
      "/opt/conda/lib/python3.7/site-packages/pandas/core/indexing.py:1637: SettingWithCopyWarning: \n",
      "A value is trying to be set on a copy of a slice from a DataFrame\n",
      "\n",
      "See the caveats in the documentation: https://pandas.pydata.org/pandas-docs/stable/user_guide/indexing.html#returning-a-view-versus-a-copy\n",
      "  self._setitem_single_block(indexer, value, name)\n",
      "/home/jupyter/crisp/utils/new_get_ensemble_results.py:49: SettingWithCopyWarning: \n",
      "A value is trying to be set on a copy of a slice from a DataFrame\n",
      "\n",
      "See the caveats in the documentation: https://pandas.pydata.org/pandas-docs/stable/user_guide/indexing.html#returning-a-view-versus-a-copy\n",
      "  feature_weight_df[method][feat_df['feature']] = feat_df['coefficient'].abs().values\n",
      "/opt/conda/lib/python3.7/site-packages/pandas/core/indexing.py:1637: SettingWithCopyWarning: \n",
      "A value is trying to be set on a copy of a slice from a DataFrame\n",
      "\n",
      "See the caveats in the documentation: https://pandas.pydata.org/pandas-docs/stable/user_guide/indexing.html#returning-a-view-versus-a-copy\n",
      "  self._setitem_single_block(indexer, value, name)\n",
      "/home/jupyter/crisp/utils/new_get_ensemble_results.py:49: SettingWithCopyWarning: \n",
      "A value is trying to be set on a copy of a slice from a DataFrame\n",
      "\n",
      "See the caveats in the documentation: https://pandas.pydata.org/pandas-docs/stable/user_guide/indexing.html#returning-a-view-versus-a-copy\n",
      "  feature_weight_df[method][feat_df['feature']] = feat_df['coefficient'].abs().values\n",
      "/opt/conda/lib/python3.7/site-packages/pandas/core/indexing.py:1637: SettingWithCopyWarning: \n",
      "A value is trying to be set on a copy of a slice from a DataFrame\n",
      "\n",
      "See the caveats in the documentation: https://pandas.pydata.org/pandas-docs/stable/user_guide/indexing.html#returning-a-view-versus-a-copy\n",
      "  self._setitem_single_block(indexer, value, name)\n",
      "/home/jupyter/crisp/utils/new_get_ensemble_results.py:49: SettingWithCopyWarning: \n",
      "A value is trying to be set on a copy of a slice from a DataFrame\n",
      "\n",
      "See the caveats in the documentation: https://pandas.pydata.org/pandas-docs/stable/user_guide/indexing.html#returning-a-view-versus-a-copy\n",
      "  feature_weight_df[method][feat_df['feature']] = feat_df['coefficient'].abs().values\n",
      "/opt/conda/lib/python3.7/site-packages/pandas/core/indexing.py:1637: SettingWithCopyWarning: \n",
      "A value is trying to be set on a copy of a slice from a DataFrame\n",
      "\n",
      "See the caveats in the documentation: https://pandas.pydata.org/pandas-docs/stable/user_guide/indexing.html#returning-a-view-versus-a-copy\n",
      "  self._setitem_single_block(indexer, value, name)\n",
      "/home/jupyter/crisp/utils/new_get_ensemble_results.py:49: SettingWithCopyWarning: \n",
      "A value is trying to be set on a copy of a slice from a DataFrame\n",
      "\n",
      "See the caveats in the documentation: https://pandas.pydata.org/pandas-docs/stable/user_guide/indexing.html#returning-a-view-versus-a-copy\n",
      "  feature_weight_df[method][feat_df['feature']] = feat_df['coefficient'].abs().values\n",
      "/opt/conda/lib/python3.7/site-packages/pandas/core/indexing.py:1637: SettingWithCopyWarning: \n",
      "A value is trying to be set on a copy of a slice from a DataFrame\n",
      "\n",
      "See the caveats in the documentation: https://pandas.pydata.org/pandas-docs/stable/user_guide/indexing.html#returning-a-view-versus-a-copy\n",
      "  self._setitem_single_block(indexer, value, name)\n",
      "/home/jupyter/crisp/utils/new_get_ensemble_results.py:49: SettingWithCopyWarning: \n",
      "A value is trying to be set on a copy of a slice from a DataFrame\n",
      "\n",
      "See the caveats in the documentation: https://pandas.pydata.org/pandas-docs/stable/user_guide/indexing.html#returning-a-view-versus-a-copy\n",
      "  feature_weight_df[method][feat_df['feature']] = feat_df['coefficient'].abs().values\n",
      "/opt/conda/lib/python3.7/site-packages/pandas/core/indexing.py:1637: SettingWithCopyWarning: \n",
      "A value is trying to be set on a copy of a slice from a DataFrame\n",
      "\n",
      "See the caveats in the documentation: https://pandas.pydata.org/pandas-docs/stable/user_guide/indexing.html#returning-a-view-versus-a-copy\n",
      "  self._setitem_single_block(indexer, value, name)\n"
     ]
    },
    {
     "name": "stdout",
     "output_type": "stream",
     "text": [
      "Linear IRM 1.0\n",
      "Non-Causal ERM 0.8823529481887817\n",
      "Linear IRM 0.9411764740943909\n",
      "Non-Causal ERM 0.8823529481887817\n",
      "Linear IRM 0.9764705896377563\n",
      "Non-Causal ERM 0.929411768913269\n",
      "Linear IRM 0.8705882430076599\n",
      "Non-Causal ERM 0.9176470637321472\n",
      "Linear IRM 1.0\n",
      "Non-Causal ERM 0.9176470637321472\n",
      "Linear IRM 0.929411768913269\n",
      "Non-Causal ERM 0.8588235378265381\n",
      "Linear IRM 0.929411768913269\n",
      "Non-Causal ERM 0.9058823585510254\n",
      "Linear IRM 0.9411764740943909\n",
      "(18, 1000)\n",
      "Non-Causal ERM0 0.929411768913269\n",
      "Non-Causal ERM1 0.8705882430076599\n",
      "Non-Causal ERM2 0.8823529481887817\n",
      "Non-Causal ERM3 0.8941176533699036\n",
      "Non-Causal ERM4 0.9529411792755127\n",
      "Non-Causal ERM5 0.8941176533699036\n",
      "Non-Causal ERM6 0.9529411792755127\n",
      "Non-Causal ERM7 0.8941176533699036\n",
      "Non-Causal ERM8 0.8823529481887817\n",
      "Non-Causal ERM9 0.9411764740943909\n",
      "Non-Causal ERM10 0.9647058844566345\n",
      "Non-Causal ERM11 0.8823529481887817\n",
      "Non-Causal ERM12 0.8823529481887817\n"
     ]
    },
    {
     "name": "stderr",
     "output_type": "stream",
     "text": [
      "/home/jupyter/crisp/utils/new_get_ensemble_results.py:49: SettingWithCopyWarning: \n",
      "A value is trying to be set on a copy of a slice from a DataFrame\n",
      "\n",
      "See the caveats in the documentation: https://pandas.pydata.org/pandas-docs/stable/user_guide/indexing.html#returning-a-view-versus-a-copy\n",
      "  feature_weight_df[method][feat_df['feature']] = feat_df['coefficient'].abs().values\n",
      "/opt/conda/lib/python3.7/site-packages/pandas/core/indexing.py:1637: SettingWithCopyWarning: \n",
      "A value is trying to be set on a copy of a slice from a DataFrame\n",
      "\n",
      "See the caveats in the documentation: https://pandas.pydata.org/pandas-docs/stable/user_guide/indexing.html#returning-a-view-versus-a-copy\n",
      "  self._setitem_single_block(indexer, value, name)\n",
      "/home/jupyter/crisp/utils/new_get_ensemble_results.py:49: SettingWithCopyWarning: \n",
      "A value is trying to be set on a copy of a slice from a DataFrame\n",
      "\n",
      "See the caveats in the documentation: https://pandas.pydata.org/pandas-docs/stable/user_guide/indexing.html#returning-a-view-versus-a-copy\n",
      "  feature_weight_df[method][feat_df['feature']] = feat_df['coefficient'].abs().values\n",
      "/opt/conda/lib/python3.7/site-packages/pandas/core/indexing.py:1637: SettingWithCopyWarning: \n",
      "A value is trying to be set on a copy of a slice from a DataFrame\n",
      "\n",
      "See the caveats in the documentation: https://pandas.pydata.org/pandas-docs/stable/user_guide/indexing.html#returning-a-view-versus-a-copy\n",
      "  self._setitem_single_block(indexer, value, name)\n",
      "/home/jupyter/crisp/utils/new_get_ensemble_results.py:49: SettingWithCopyWarning: \n",
      "A value is trying to be set on a copy of a slice from a DataFrame\n",
      "\n",
      "See the caveats in the documentation: https://pandas.pydata.org/pandas-docs/stable/user_guide/indexing.html#returning-a-view-versus-a-copy\n",
      "  feature_weight_df[method][feat_df['feature']] = feat_df['coefficient'].abs().values\n",
      "/opt/conda/lib/python3.7/site-packages/pandas/core/indexing.py:1637: SettingWithCopyWarning: \n",
      "A value is trying to be set on a copy of a slice from a DataFrame\n",
      "\n",
      "See the caveats in the documentation: https://pandas.pydata.org/pandas-docs/stable/user_guide/indexing.html#returning-a-view-versus-a-copy\n",
      "  self._setitem_single_block(indexer, value, name)\n",
      "/home/jupyter/crisp/utils/new_get_ensemble_results.py:49: SettingWithCopyWarning: \n",
      "A value is trying to be set on a copy of a slice from a DataFrame\n",
      "\n",
      "See the caveats in the documentation: https://pandas.pydata.org/pandas-docs/stable/user_guide/indexing.html#returning-a-view-versus-a-copy\n",
      "  feature_weight_df[method][feat_df['feature']] = feat_df['coefficient'].abs().values\n",
      "/opt/conda/lib/python3.7/site-packages/pandas/core/indexing.py:1637: SettingWithCopyWarning: \n",
      "A value is trying to be set on a copy of a slice from a DataFrame\n",
      "\n",
      "See the caveats in the documentation: https://pandas.pydata.org/pandas-docs/stable/user_guide/indexing.html#returning-a-view-versus-a-copy\n",
      "  self._setitem_single_block(indexer, value, name)\n",
      "/home/jupyter/crisp/utils/new_get_ensemble_results.py:49: SettingWithCopyWarning: \n",
      "A value is trying to be set on a copy of a slice from a DataFrame\n",
      "\n",
      "See the caveats in the documentation: https://pandas.pydata.org/pandas-docs/stable/user_guide/indexing.html#returning-a-view-versus-a-copy\n",
      "  feature_weight_df[method][feat_df['feature']] = feat_df['coefficient'].abs().values\n",
      "/opt/conda/lib/python3.7/site-packages/pandas/core/indexing.py:1637: SettingWithCopyWarning: \n",
      "A value is trying to be set on a copy of a slice from a DataFrame\n",
      "\n",
      "See the caveats in the documentation: https://pandas.pydata.org/pandas-docs/stable/user_guide/indexing.html#returning-a-view-versus-a-copy\n",
      "  self._setitem_single_block(indexer, value, name)\n",
      "/home/jupyter/crisp/utils/new_get_ensemble_results.py:49: SettingWithCopyWarning: \n",
      "A value is trying to be set on a copy of a slice from a DataFrame\n",
      "\n",
      "See the caveats in the documentation: https://pandas.pydata.org/pandas-docs/stable/user_guide/indexing.html#returning-a-view-versus-a-copy\n",
      "  feature_weight_df[method][feat_df['feature']] = feat_df['coefficient'].abs().values\n",
      "/opt/conda/lib/python3.7/site-packages/pandas/core/indexing.py:1637: SettingWithCopyWarning: \n",
      "A value is trying to be set on a copy of a slice from a DataFrame\n",
      "\n",
      "See the caveats in the documentation: https://pandas.pydata.org/pandas-docs/stable/user_guide/indexing.html#returning-a-view-versus-a-copy\n",
      "  self._setitem_single_block(indexer, value, name)\n",
      "/home/jupyter/crisp/utils/new_get_ensemble_results.py:49: SettingWithCopyWarning: \n",
      "A value is trying to be set on a copy of a slice from a DataFrame\n",
      "\n",
      "See the caveats in the documentation: https://pandas.pydata.org/pandas-docs/stable/user_guide/indexing.html#returning-a-view-versus-a-copy\n",
      "  feature_weight_df[method][feat_df['feature']] = feat_df['coefficient'].abs().values\n",
      "/opt/conda/lib/python3.7/site-packages/pandas/core/indexing.py:1637: SettingWithCopyWarning: \n",
      "A value is trying to be set on a copy of a slice from a DataFrame\n",
      "\n",
      "See the caveats in the documentation: https://pandas.pydata.org/pandas-docs/stable/user_guide/indexing.html#returning-a-view-versus-a-copy\n",
      "  self._setitem_single_block(indexer, value, name)\n",
      "/home/jupyter/crisp/utils/new_get_ensemble_results.py:49: SettingWithCopyWarning: \n",
      "A value is trying to be set on a copy of a slice from a DataFrame\n",
      "\n",
      "See the caveats in the documentation: https://pandas.pydata.org/pandas-docs/stable/user_guide/indexing.html#returning-a-view-versus-a-copy\n",
      "  feature_weight_df[method][feat_df['feature']] = feat_df['coefficient'].abs().values\n",
      "/opt/conda/lib/python3.7/site-packages/pandas/core/indexing.py:1637: SettingWithCopyWarning: \n",
      "A value is trying to be set on a copy of a slice from a DataFrame\n",
      "\n",
      "See the caveats in the documentation: https://pandas.pydata.org/pandas-docs/stable/user_guide/indexing.html#returning-a-view-versus-a-copy\n",
      "  self._setitem_single_block(indexer, value, name)\n"
     ]
    },
    {
     "name": "stdout",
     "output_type": "stream",
     "text": [
      "Non-Causal ERM13 0.929411768913269\n",
      "Non-Causal ERM14 0.9176470637321472\n",
      "Non-Causal ERM15 0.9176470637321472\n",
      "Non-Causal ERM16 0.8588235378265381\n",
      "Non-Causal ERM17 0.9058823585510254\n",
      "Linear IRM0 0.9529411792755127\n",
      "Linear IRM1 0.8117647171020508\n",
      "Linear IRM2 0.9411764740943909\n",
      "Linear IRM3 0.8235294222831726\n",
      "Linear IRM4 1.0\n",
      "Linear IRM5 1.0\n",
      "Linear IRM6 0.9411764740943909\n",
      "Linear IRM7 1.0\n",
      "Linear IRM8 0.9764705896377563\n",
      "Linear IRM9 0.8941176533699036\n",
      "Linear IRM10 1.0\n",
      "Linear IRM11 0.9411764740943909\n",
      "Linear IRM12 0.9764705896377563\n",
      "Linear IRM13 0.8705882430076599\n",
      "Linear IRM14 1.0\n",
      "Linear IRM15 0.929411768913269\n",
      "Linear IRM16 0.929411768913269\n",
      "Linear IRM17 0.9411764740943909\n",
      "### feature sahep 1000 aldh1a1\n",
      "### listmethods ['Non-Causal ERM avg', 'Linear IRM avg']\n",
      "### avg methods shape (2, 1000)\n"
     ]
    },
    {
     "name": "stderr",
     "output_type": "stream",
     "text": [
      "/home/jupyter/crisp/utils/new_get_ensemble_results.py:49: SettingWithCopyWarning: \n",
      "A value is trying to be set on a copy of a slice from a DataFrame\n",
      "\n",
      "See the caveats in the documentation: https://pandas.pydata.org/pandas-docs/stable/user_guide/indexing.html#returning-a-view-versus-a-copy\n",
      "  feature_weight_df[method][feat_df['feature']] = feat_df['coefficient'].abs().values\n",
      "/opt/conda/lib/python3.7/site-packages/pandas/core/indexing.py:1637: SettingWithCopyWarning: \n",
      "A value is trying to be set on a copy of a slice from a DataFrame\n",
      "\n",
      "See the caveats in the documentation: https://pandas.pydata.org/pandas-docs/stable/user_guide/indexing.html#returning-a-view-versus-a-copy\n",
      "  self._setitem_single_block(indexer, value, name)\n"
     ]
    }
   ],
   "source": [
    "df = get_average_voting_ensamble(list_jsons)"
   ]
  },
  {
   "cell_type": "code",
   "execution_count": 6,
   "id": "3cf0dff2",
   "metadata": {},
   "outputs": [
    {
     "data": {
      "text/plain": [
       "dict_keys(['test_logits', 'method', 'features', 'coefficients', 'pvals', 'test_acc', 'test_acc_std', 'coefficient_correlation_matrix'])"
      ]
     },
     "execution_count": 6,
     "metadata": {},
     "output_type": "execute_result"
    }
   ],
   "source": [
    "list_jsons[1].get(str(0)).keys()"
   ]
  },
  {
   "cell_type": "code",
   "execution_count": 7,
   "id": "51a0d4f6",
   "metadata": {},
   "outputs": [],
   "source": [
    "# sorted(zip(df.index.values.tolist(), df[\"Linear IRM avg\"]), key=lambda x: abs(x[1]), reverse=True)"
   ]
  },
  {
   "cell_type": "code",
   "execution_count": 8,
   "id": "f5f9dc95",
   "metadata": {},
   "outputs": [
    {
     "ename": "NameError",
     "evalue": "name 'weights' is not defined",
     "output_type": "error",
     "traceback": [
      "\u001b[0;31m---------------------------------------------------------------------------\u001b[0m",
      "\u001b[0;31mNameError\u001b[0m                                 Traceback (most recent call last)",
      "\u001b[0;32m<ipython-input-8-6f5ec41569ac>\u001b[0m in \u001b[0;36m<module>\u001b[0;34m\u001b[0m\n\u001b[0;32m----> 1\u001b[0;31m \u001b[0mweights\u001b[0m\u001b[0;34m\u001b[0m\u001b[0;34m\u001b[0m\u001b[0m\n\u001b[0m",
      "\u001b[0;31mNameError\u001b[0m: name 'weights' is not defined"
     ]
    }
   ],
   "source": [
    "weights"
   ]
  },
  {
   "cell_type": "code",
   "execution_count": 9,
   "id": "26c1b851",
   "metadata": {},
   "outputs": [
    {
     "data": {
      "text/html": [
       "<div>\n",
       "<style scoped>\n",
       "    .dataframe tbody tr th:only-of-type {\n",
       "        vertical-align: middle;\n",
       "    }\n",
       "\n",
       "    .dataframe tbody tr th {\n",
       "        vertical-align: top;\n",
       "    }\n",
       "\n",
       "    .dataframe thead th {\n",
       "        text-align: right;\n",
       "    }\n",
       "</style>\n",
       "<table border=\"1\" class=\"dataframe\">\n",
       "  <thead>\n",
       "    <tr style=\"text-align: right;\">\n",
       "      <th></th>\n",
       "      <th>Non-Causal ERM avg</th>\n",
       "      <th>Linear IRM avg</th>\n",
       "      <th>Voting Average</th>\n",
       "    </tr>\n",
       "  </thead>\n",
       "  <tbody>\n",
       "    <tr>\n",
       "      <th>aldh1a1</th>\n",
       "      <td>0.034356</td>\n",
       "      <td>0.000992</td>\n",
       "      <td>0.021990</td>\n",
       "    </tr>\n",
       "    <tr>\n",
       "      <th>nrtn</th>\n",
       "      <td>0.066625</td>\n",
       "      <td>0.000971</td>\n",
       "      <td>0.034624</td>\n",
       "    </tr>\n",
       "    <tr>\n",
       "      <th>srp14</th>\n",
       "      <td>0.036123</td>\n",
       "      <td>0.000984</td>\n",
       "      <td>0.020851</td>\n",
       "    </tr>\n",
       "    <tr>\n",
       "      <th>wwp2</th>\n",
       "      <td>0.030277</td>\n",
       "      <td>0.000995</td>\n",
       "      <td>0.007653</td>\n",
       "    </tr>\n",
       "    <tr>\n",
       "      <th>heca</th>\n",
       "      <td>0.040942</td>\n",
       "      <td>0.001001</td>\n",
       "      <td>0.020329</td>\n",
       "    </tr>\n",
       "    <tr>\n",
       "      <th>...</th>\n",
       "      <td>...</td>\n",
       "      <td>...</td>\n",
       "      <td>...</td>\n",
       "    </tr>\n",
       "    <tr>\n",
       "      <th>slc16a3</th>\n",
       "      <td>0.037277</td>\n",
       "      <td>0.000982</td>\n",
       "      <td>0.019130</td>\n",
       "    </tr>\n",
       "    <tr>\n",
       "      <th>gnmt</th>\n",
       "      <td>0.024165</td>\n",
       "      <td>0.001015</td>\n",
       "      <td>0.012590</td>\n",
       "    </tr>\n",
       "    <tr>\n",
       "      <th>homer3</th>\n",
       "      <td>0.050493</td>\n",
       "      <td>0.001039</td>\n",
       "      <td>0.025766</td>\n",
       "    </tr>\n",
       "    <tr>\n",
       "      <th>gpr153</th>\n",
       "      <td>0.034691</td>\n",
       "      <td>0.001000</td>\n",
       "      <td>0.017846</td>\n",
       "    </tr>\n",
       "    <tr>\n",
       "      <th>ssr2</th>\n",
       "      <td>0.024848</td>\n",
       "      <td>0.000970</td>\n",
       "      <td>0.012909</td>\n",
       "    </tr>\n",
       "  </tbody>\n",
       "</table>\n",
       "<p>1000 rows × 3 columns</p>\n",
       "</div>"
      ],
      "text/plain": [
       "         Non-Causal ERM avg  Linear IRM avg  Voting Average\n",
       "aldh1a1            0.034356        0.000992        0.021990\n",
       "nrtn               0.066625        0.000971        0.034624\n",
       "srp14              0.036123        0.000984        0.020851\n",
       "wwp2               0.030277        0.000995        0.007653\n",
       "heca               0.040942        0.001001        0.020329\n",
       "...                     ...             ...             ...\n",
       "slc16a3            0.037277        0.000982        0.019130\n",
       "gnmt               0.024165        0.001015        0.012590\n",
       "homer3             0.050493        0.001039        0.025766\n",
       "gpr153             0.034691        0.001000        0.017846\n",
       "ssr2               0.024848        0.000970        0.012909\n",
       "\n",
       "[1000 rows x 3 columns]"
      ]
     },
     "execution_count": 9,
     "metadata": {},
     "output_type": "execute_result"
    }
   ],
   "source": [
    "df"
   ]
  },
  {
   "cell_type": "code",
   "execution_count": 10,
   "id": "bbd38380",
   "metadata": {},
   "outputs": [
    {
     "name": "stdout",
     "output_type": "stream",
     "text": [
      "0.0011092071007523271 0.0009335807311193397\n"
     ]
    }
   ],
   "source": [
    "print(max(df[\"Linear IRM avg\"]),min(df[\"Linear IRM avg\"]))"
   ]
  },
  {
   "cell_type": "code",
   "execution_count": 11,
   "id": "548d3a05",
   "metadata": {},
   "outputs": [
    {
     "name": "stdout",
     "output_type": "stream",
     "text": [
      "0.12853898604710898 0.013763563649263233\n"
     ]
    }
   ],
   "source": [
    "print(max(df[\"Non-Causal ERM avg\"]),min(df[\"Non-Causal ERM avg\"]))"
   ]
  },
  {
   "cell_type": "code",
   "execution_count": 12,
   "id": "8b7e0913",
   "metadata": {},
   "outputs": [],
   "source": [
    "import torch"
   ]
  },
  {
   "cell_type": "code",
   "execution_count": 16,
   "id": "0a6565b9",
   "metadata": {},
   "outputs": [],
   "source": [
    "phi = torch.nn.Sequential(\n",
    "        torch.nn.Linear(5, 6, bias=False),\n",
    "        torch.nn.Linear(6, 5, bias=False))\n",
    "w_ = torch.ones(5, 1)\n"
   ]
  },
  {
   "cell_type": "code",
   "execution_count": 24,
   "id": "43447cf0",
   "metadata": {},
   "outputs": [
    {
     "data": {
      "text/plain": [
       "tensor([[-0.1762, -0.2840,  0.9011, -0.1482, -0.1964]], grad_fn=<MmBackward>)"
      ]
     },
     "execution_count": 24,
     "metadata": {},
     "output_type": "execute_result"
    }
   ],
   "source": [
    "x = torch.ones(5,1)\n",
    "phi(x.T)"
   ]
  },
  {
   "cell_type": "code",
   "execution_count": 27,
   "id": "f9af30ce",
   "metadata": {},
   "outputs": [
    {
     "name": "stdout",
     "output_type": "stream",
     "text": [
      "Inpute shape torch.Size([5, 1])\n",
      "Matrix shape torch.Size([6, 5])\n",
      "Inpute shape torch.Size([6, 1])\n",
      "Matrix shape torch.Size([5, 6])\n"
     ]
    }
   ],
   "source": [
    "W = x\n",
    "for w in phi.parameters():\n",
    "    print('Inpute shape', W.size())\n",
    "    print('Matrix shape', w.size())\n",
    "    W = w@W\n",
    "output = w_.T@W"
   ]
  },
  {
   "cell_type": "code",
   "execution_count": 31,
   "id": "d4120de3",
   "metadata": {},
   "outputs": [
    {
     "name": "stdout",
     "output_type": "stream",
     "text": [
      "Outpyt Shape torch.Size([1, 5])\n"
     ]
    }
   ],
   "source": [
    "print('Outpyt Shape', phi(x.T).size())\n",
    "output2 = phi(x.T)@w_"
   ]
  },
  {
   "cell_type": "code",
   "execution_count": 33,
   "id": "98b3a845",
   "metadata": {},
   "outputs": [
    {
     "data": {
      "text/plain": [
       "tensor([[0.]], grad_fn=<SubBackward0>)"
      ]
     },
     "execution_count": 33,
     "metadata": {},
     "output_type": "execute_result"
    }
   ],
   "source": [
    "output - output2"
   ]
  },
  {
   "cell_type": "code",
   "execution_count": null,
   "id": "a8822cfc",
   "metadata": {},
   "outputs": [],
   "source": []
  }
 ],
 "metadata": {
  "environment": {
   "name": "pytorch-gpu.1-8.m73",
   "type": "gcloud",
   "uri": "gcr.io/deeplearning-platform-release/pytorch-gpu.1-8:m73"
  },
  "kernelspec": {
   "display_name": "Python 3",
   "language": "python",
   "name": "python3"
  },
  "language_info": {
   "codemirror_mode": {
    "name": "ipython",
    "version": 3
   },
   "file_extension": ".py",
   "mimetype": "text/x-python",
   "name": "python",
   "nbconvert_exporter": "python",
   "pygments_lexer": "ipython3",
   "version": "3.7.10"
  }
 },
 "nbformat": 4,
 "nbformat_minor": 5
}

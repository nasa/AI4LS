{
 "cells": [
  {
   "cell_type": "code",
   "execution_count": 2,
   "id": "a1f3f959",
   "metadata": {},
   "outputs": [
    {
     "data": {
      "text/plain": [
       "'/home/jupyter/crisp'"
      ]
     },
     "execution_count": 2,
     "metadata": {},
     "output_type": "execute_result"
    }
   ],
   "source": [
    "import os\n",
    "import json\n",
    "import pandas as pd\n",
    "import numpy as np\n",
    "while os.getcwd() != '/home/jupyter/crisp':\n",
    "    os.chdir(\"..\")\n",
    "from utils.gcp_helpers import get_dataframe_from_bucket\n",
    "%pwd"
   ]
  },
  {
   "cell_type": "code",
   "execution_count": 3,
   "id": "a4a9d5e3",
   "metadata": {},
   "outputs": [],
   "source": [
    "from PIL import Image\n",
    "\n",
    "import glob\n",
    "import json\n",
    "import os\n",
    "import streamlit as st\n",
    "\n",
    "from streamlit_frontend.new_streamlit_data import streamlit_data\n",
    "from streamlit_frontend.new_streamlit_results import streamlit_results\n",
    "from streamlit_frontend.single_seed_streamlit_data import single_seed_streamlit_data\n",
    "\n",
    "from google.cloud import storage\n",
    "from io import StringIO\n",
    "import pandas as pd"
   ]
  },
  {
   "cell_type": "code",
   "execution_count": 60,
   "id": "3c65d116",
   "metadata": {},
   "outputs": [
    {
     "data": {
      "text/plain": [
       "'final)gamma_ray_experiment/'"
      ]
     },
     "execution_count": 60,
     "metadata": {},
     "output_type": "execute_result"
    }
   ],
   "source": [
    "bucket_name = 'ah21_data'\n",
    "client = storage.Client()\n",
    "bucket = client.bucket(bucket_name)\n",
    "iterator = bucket.list_blobs(delimiter='/')\n",
    "response = iterator._get_next_page_response()\n",
    "experiment_list = [prefix for prefix in response['prefixes'] if 'inal' in prefix]\n",
    "experiment_list.pop(2)"
   ]
  },
  {
   "cell_type": "code",
   "execution_count": 68,
   "id": "1a9241ef",
   "metadata": {},
   "outputs": [],
   "source": [
    "import re\n",
    "from io import StringIO"
   ]
  },
  {
   "cell_type": "code",
   "execution_count": 78,
   "id": "b2519f71",
   "metadata": {},
   "outputs": [],
   "source": [
    "from tqdm.notebook import tqdm as tq"
   ]
  },
  {
   "cell_type": "code",
   "execution_count": null,
   "id": "d0781957",
   "metadata": {},
   "outputs": [
    {
     "name": "stdout",
     "output_type": "stream",
     "text": [
      "number of CSV files in experiment Final_elijah_mouse_experiment_12_env_mode/is...\n",
      "1800\n",
      "are there the same number of collaborators in all seeds?\n",
      "True\n",
      "do all seed files have the same number of columns?\n"
     ]
    },
    {
     "data": {
      "application/vnd.jupyter.widget-view+json": {
       "model_id": "921a4b7a9bc14a3a82c02e0849184c49",
       "version_major": 2,
       "version_minor": 0
      },
      "text/plain": [
       "  0%|          | 0/1800 [00:00<?, ?it/s]"
      ]
     },
     "metadata": {},
     "output_type": "display_data"
    },
    {
     "name": "stderr",
     "output_type": "stream",
     "text": [
      "  0%|          | 2/1800 [08:16<123:51:57, 248.01s/it]\n"
     ]
    }
   ],
   "source": [
    "for experiment_select in experiment_list:\n",
    "    iterator = bucket.list_blobs(prefix=experiment_select)\n",
    "    csv_files = [x.name for x in iterator if '.csv' in x.name]\n",
    "    print('number of CSV files in experiment '+experiment_select+'is...')\n",
    "    print(len(csv_files))\n",
    "    seeds = [re.search(experiment_select+'(.*)/c', file).group(1) for file in csv_files]\n",
    "    print('are there the same number of collaborators in all seeds?')\n",
    "    series = pd.Series(seeds).value_counts()\n",
    "    seed_colaborator_equivalence = series.apply(lambda x: x == series.iloc[0] ).all()\n",
    "    print(seed_colaborator_equivalence)\n",
    "    \n",
    "    print('do all seed files have the same number of columns?')\n",
    "    columns = [len(pd.read_csv(StringIO(str(bucket.blob(x).download_as_string(), 'utf-8'))).columns) for x in tq(csv_files)]\n",
    "    series = pd.Series(columns)\n",
    "    col_length_equivalence = series.apply(lambda x: x == series.iloc[0] ).all()\n",
    "    print(col_length_equivalence)\n",
    "    print('-----------------')\n",
    "#     if seed_colaborator_equivalence == False:\n",
    "#         break\n",
    "    \n",
    "    \n",
    "# check all seeds have the same value count \n",
    "    \n",
    "#     seed_0_files = [file for file in csv_files if experiment_select+'seed_0/' in file]\n",
    "    \n",
    "#     for file in seed_0_files:\n",
    "#      #     print(model)\n",
    "#         blob = bucket.blob(file)\n",
    "#         pandas_data = blob.download_as_string()\n",
    "#         s=str(pandas_data,'utf-8')\n",
    "#         pandas_data = StringIO(s) \n",
    "#         data_columns = pd.read_csv(pandas_data).columns "
   ]
  },
  {
   "cell_type": "code",
   "execution_count": null,
   "id": "6f78330f",
   "metadata": {},
   "outputs": [],
   "source": []
  }
 ],
 "metadata": {
  "environment": {
   "name": "common-cu100.m73",
   "type": "gcloud",
   "uri": "gcr.io/deeplearning-platform-release/base-cu100:m73"
  },
  "kernelspec": {
   "display_name": "Python 3",
   "language": "python",
   "name": "python3"
  },
  "language_info": {
   "codemirror_mode": {
    "name": "ipython",
    "version": 3
   },
   "file_extension": ".py",
   "mimetype": "text/x-python",
   "name": "python",
   "nbconvert_exporter": "python",
   "pygments_lexer": "ipython3",
   "version": "3.7.10"
  }
 },
 "nbformat": 4,
 "nbformat_minor": 5
}

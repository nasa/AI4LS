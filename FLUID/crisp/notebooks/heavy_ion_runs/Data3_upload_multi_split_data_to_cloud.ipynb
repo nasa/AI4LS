{
 "cells": [
  {
   "cell_type": "code",
   "execution_count": 2,
   "id": "be1e1fc4",
   "metadata": {},
   "outputs": [
    {
     "data": {
      "text/plain": [
       "'/home/jupyter/crisp'"
      ]
     },
     "execution_count": 2,
     "metadata": {},
     "output_type": "execute_result"
    }
   ],
   "source": [
    "import os\n",
    "import json\n",
    "import pandas as pd\n",
    "while os.getcwd() != '/home/jupyter/crisp':\n",
    "    os.chdir(\"..\")\n",
    "%pwd"
   ]
  },
  {
   "cell_type": "code",
   "execution_count": 36,
   "id": "d2d3b6bc",
   "metadata": {},
   "outputs": [],
   "source": [
    "from tqdm.notebook import tqdm\n",
    "from sklearn.model_selection import train_test_split\n",
    "from google.cloud import storage\n"
   ]
  },
  {
   "cell_type": "code",
   "execution_count": 5,
   "id": "faee3134",
   "metadata": {},
   "outputs": [],
   "source": [
    "data = pd.read_pickle('data/cosmic_rads/docker_exps/all_human_mice_data_combined.pkl')\n",
    "data.environment.unique()\n",
    "environment_indices = data.environment\n",
    "predictor_indices = data.target\n",
    "\n",
    "top_1000_variance_columns = list(data.std().sort_values(ascending=False).iloc[:1000].index)\n",
    "data = data[top_1000_variance_columns]\n",
    "        "
   ]
  },
  {
   "cell_type": "code",
   "execution_count": 6,
   "id": "92f9d441",
   "metadata": {},
   "outputs": [],
   "source": [
    "data['Target'] = predictor_indices\n",
    "data['environment'] = environment_indices\n"
   ]
  },
  {
   "cell_type": "code",
   "execution_count": 26,
   "id": "dec027cd",
   "metadata": {},
   "outputs": [],
   "source": [
    "mouse_samples = data[data['environment'] != 'Homo sapiensHBEC3KT']"
   ]
  },
  {
   "cell_type": "code",
   "execution_count": 27,
   "id": "db924ad6",
   "metadata": {},
   "outputs": [],
   "source": [
    "human_samples = data[data['environment'] == 'Homo sapiensHBEC3KT']"
   ]
  },
  {
   "cell_type": "code",
   "execution_count": 29,
   "id": "ae543c3a",
   "metadata": {},
   "outputs": [],
   "source": [
    "from google.cloud import storage\n",
    "storage_client = storage.Client()\n",
    "bucket = storage_client.get_bucket('ah21_data')"
   ]
  },
  {
   "cell_type": "code",
   "execution_count": 41,
   "id": "680aab3b",
   "metadata": {},
   "outputs": [],
   "source": [
    "experiment_directory = 'heavy_ion_exps_with_varying_humans/' "
   ]
  },
  {
   "cell_type": "code",
   "execution_count": 42,
   "id": "57f92687",
   "metadata": {},
   "outputs": [
    {
     "data": {
      "application/vnd.jupyter.widget-view+json": {
       "model_id": "1e70be427194468ba29bb17bae570c65",
       "version_major": 2,
       "version_minor": 0
      },
      "text/plain": [
       "  0%|          | 0/26 [00:00<?, ?it/s]"
      ]
     },
     "metadata": {},
     "output_type": "display_data"
    },
    {
     "name": "stdout",
     "output_type": "stream",
     "text": [
      "Mus musculusmale      22\n",
      "Mus musculusfemale    19\n",
      "Name: environment, dtype: int64\n",
      "Mus musculusmale       22\n",
      "Mus musculusfemale     19\n",
      "Homo sapiensHBEC3KT     3\n",
      "Name: environment, dtype: int64\n",
      "Mus musculusmale       22\n",
      "Mus musculusfemale     19\n",
      "Homo sapiensHBEC3KT     6\n",
      "Name: environment, dtype: int64\n",
      "Mus musculusmale       22\n",
      "Mus musculusfemale     19\n",
      "Homo sapiensHBEC3KT     9\n",
      "Name: environment, dtype: int64\n",
      "Mus musculusmale       22\n",
      "Mus musculusfemale     19\n",
      "Homo sapiensHBEC3KT    12\n",
      "Name: environment, dtype: int64\n",
      "Mus musculusmale       22\n",
      "Mus musculusfemale     19\n",
      "Homo sapiensHBEC3KT    15\n",
      "Name: environment, dtype: int64\n",
      "Mus musculusmale       22\n",
      "Mus musculusfemale     19\n",
      "Homo sapiensHBEC3KT    18\n",
      "Name: environment, dtype: int64\n",
      "Mus musculusmale       22\n",
      "Homo sapiensHBEC3KT    21\n",
      "Mus musculusfemale     19\n",
      "Name: environment, dtype: int64\n",
      "Homo sapiensHBEC3KT    24\n",
      "Mus musculusmale       22\n",
      "Mus musculusfemale     19\n",
      "Name: environment, dtype: int64\n",
      "Homo sapiensHBEC3KT    27\n",
      "Mus musculusmale       22\n",
      "Mus musculusfemale     19\n",
      "Name: environment, dtype: int64\n",
      "Homo sapiensHBEC3KT    30\n",
      "Mus musculusmale       22\n",
      "Mus musculusfemale     19\n",
      "Name: environment, dtype: int64\n",
      "Homo sapiensHBEC3KT    33\n",
      "Mus musculusmale       22\n",
      "Mus musculusfemale     19\n",
      "Name: environment, dtype: int64\n",
      "Homo sapiensHBEC3KT    36\n",
      "Mus musculusmale       22\n",
      "Mus musculusfemale     19\n",
      "Name: environment, dtype: int64\n",
      "Homo sapiensHBEC3KT    39\n",
      "Mus musculusmale       22\n",
      "Mus musculusfemale     19\n",
      "Name: environment, dtype: int64\n",
      "Homo sapiensHBEC3KT    42\n",
      "Mus musculusmale       22\n",
      "Mus musculusfemale     19\n",
      "Name: environment, dtype: int64\n",
      "Homo sapiensHBEC3KT    45\n",
      "Mus musculusmale       22\n",
      "Mus musculusfemale     19\n",
      "Name: environment, dtype: int64\n",
      "Homo sapiensHBEC3KT    48\n",
      "Mus musculusmale       22\n",
      "Mus musculusfemale     19\n",
      "Name: environment, dtype: int64\n",
      "Homo sapiensHBEC3KT    51\n",
      "Mus musculusmale       22\n",
      "Mus musculusfemale     19\n",
      "Name: environment, dtype: int64\n",
      "Homo sapiensHBEC3KT    54\n",
      "Mus musculusmale       22\n",
      "Mus musculusfemale     19\n",
      "Name: environment, dtype: int64\n",
      "Homo sapiensHBEC3KT    57\n",
      "Mus musculusmale       22\n",
      "Mus musculusfemale     19\n",
      "Name: environment, dtype: int64\n",
      "Homo sapiensHBEC3KT    60\n",
      "Mus musculusmale       22\n",
      "Mus musculusfemale     19\n",
      "Name: environment, dtype: int64\n",
      "Homo sapiensHBEC3KT    63\n",
      "Mus musculusmale       22\n",
      "Mus musculusfemale     19\n",
      "Name: environment, dtype: int64\n",
      "Homo sapiensHBEC3KT    66\n",
      "Mus musculusmale       22\n",
      "Mus musculusfemale     19\n",
      "Name: environment, dtype: int64\n",
      "Homo sapiensHBEC3KT    69\n",
      "Mus musculusmale       22\n",
      "Mus musculusfemale     19\n",
      "Name: environment, dtype: int64\n",
      "Homo sapiensHBEC3KT    72\n",
      "Mus musculusmale       22\n",
      "Mus musculusfemale     19\n",
      "Name: environment, dtype: int64\n",
      "Homo sapiensHBEC3KT    75\n",
      "Mus musculusmale       22\n",
      "Mus musculusfemale     19\n",
      "Name: environment, dtype: int64\n"
     ]
    }
   ],
   "source": [
    "for n in tqdm(range(0, len(human_samples), 3)):\n",
    "    human_samples.sample(n)\n",
    "    seed_directory = 'mice_41_humans_{}/'.format(str(n))\n",
    "    data = pd.concat([mouse_samples, human_samples.sample(n)])\n",
    "    print(data.environment.value_counts())\n",
    "    for index, environment in enumerate(data.environment.unique()):\n",
    "        colab_directory = 'col_{}/'.format(index)\n",
    "        env_data = data[data.environment == environment]\n",
    "        env_data = env_data.drop('environment', axis=1)\n",
    "        train, test = train_test_split(env_data, test_size=0.2, random_state = 0)\n",
    "\n",
    "        blob = bucket.blob(experiment_directory+seed_directory+colab_directory+'train/data.csv')\n",
    "        train.to_csv('heavy_ion_data.csv')\n",
    "        blob.upload_from_filename('heavy_ion_data.csv')\n",
    "\n",
    "        blob = bucket.blob(experiment_directory+seed_directory+colab_directory+'test/data.csv')\n",
    "        test.to_csv('heavy_ion_data.csv')\n",
    "        blob.upload_from_filename('heavy_ion_data.csv')"
   ]
  },
  {
   "cell_type": "code",
   "execution_count": null,
   "id": "16277aca",
   "metadata": {},
   "outputs": [],
   "source": [
    "    storage_client = storage.Client()\n",
    "    bucket = storage_client.get_bucket('ah21_data')"
   ]
  }
 ],
 "metadata": {
  "environment": {
   "name": "common-cu100.m73",
   "type": "gcloud",
   "uri": "gcr.io/deeplearning-platform-release/base-cu100:m73"
  },
  "kernelspec": {
   "display_name": "Python 3",
   "language": "python",
   "name": "python3"
  },
  "language_info": {
   "codemirror_mode": {
    "name": "ipython",
    "version": 3
   },
   "file_extension": ".py",
   "mimetype": "text/x-python",
   "name": "python",
   "nbconvert_exporter": "python",
   "pygments_lexer": "ipython3",
   "version": "3.7.10"
  }
 },
 "nbformat": 4,
 "nbformat_minor": 5
}

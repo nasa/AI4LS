{
 "cells": [
  {
   "cell_type": "code",
   "execution_count": 4,
   "id": "ffad79ec",
   "metadata": {},
   "outputs": [
    {
     "data": {
      "text/plain": [
       "'/home/jupyter/crisp'"
      ]
     },
     "execution_count": 4,
     "metadata": {},
     "output_type": "execute_result"
    }
   ],
   "source": [
    "import os\n",
    "import json\n",
    "import pandas as pd\n",
    "while os.getcwd() != '/home/jupyter/crisp':\n",
    "    os.chdir(\"..\")\n",
    "%pwd"
   ]
  },
  {
   "cell_type": "code",
   "execution_count": 5,
   "id": "61670e04",
   "metadata": {},
   "outputs": [],
   "source": [
    "from main import run\n",
    "from nasa_mice.functions import generate_mouse_human_experiment"
   ]
  },
  {
   "cell_type": "code",
   "execution_count": 6,
   "id": "f38cb7cf",
   "metadata": {},
   "outputs": [],
   "source": [
    "verbose = 0\n",
    "output_data_regime = 'binary' #'real-valued'"
   ]
  },
  {
   "cell_type": "code",
   "execution_count": 7,
   "id": "fbb84f8a",
   "metadata": {},
   "outputs": [],
   "source": [
    "data = pd.read_pickle('data/cosmic_rads/human_mice_data_combined.pkl')"
   ]
  },
  {
   "cell_type": "code",
   "execution_count": 8,
   "id": "59cbbb58",
   "metadata": {},
   "outputs": [
    {
     "data": {
      "text/plain": [
       "Mus musculus    41\n",
       "Homo sapiens    21\n",
       "Name: Characteristics[organism], dtype: int64"
      ]
     },
     "execution_count": 8,
     "metadata": {},
     "output_type": "execute_result"
    }
   ],
   "source": [
    "data['Characteristics[organism]'].value_counts()"
   ]
  },
  {
   "cell_type": "code",
   "execution_count": 9,
   "id": "4bfc22b2",
   "metadata": {},
   "outputs": [],
   "source": [
    "max_humans = 21\n",
    "max_mice = 41"
   ]
  },
  {
   "cell_type": "code",
   "execution_count": 10,
   "id": "e9aec6d9",
   "metadata": {},
   "outputs": [],
   "source": [
    "for mice in range(0,41,2):\n",
    "    generate_mouse_human_experiment(filepath='data/cosmic_rads/human_mice_data_combined.pkl',\n",
    "                                    human_count = max_humans,\n",
    "                                    mice_count = mice,\n",
    "                                    seed = 42,\n",
    "                                    pickle_directory = 'data/cosmic_rads/vary_mice',\n",
    "                                    organism_column = 'Characteristics[organism]')"
   ]
  },
  {
   "cell_type": "code",
   "execution_count": 11,
   "id": "7b3dbafb",
   "metadata": {},
   "outputs": [],
   "source": [
    "for humans in range(0,max_humans,1):\n",
    "    generate_mouse_human_experiment(filepath='data/cosmic_rads/human_mice_data_combined.pkl',\n",
    "                                    human_count = humans,\n",
    "                                    mice_count = max_mice,\n",
    "                                    seed = 42,\n",
    "                                    pickle_directory = 'data/cosmic_rads/vary_humans',\n",
    "                                    organism_column = 'Characteristics[organism]')"
   ]
  },
  {
   "cell_type": "code",
   "execution_count": null,
   "id": "dd633970",
   "metadata": {},
   "outputs": [],
   "source": [
    "for experiment in os.listdir('data/cosmic_rads/vary_humans'):\n",
    "    if experiment.endswith('.pkl'):\n",
    "        print(experiment)\n",
    "        merged_data_columns = pd.read_pickle('data/cosmic_rads/vary_humans/'+experiment).columns\n",
    "        try:\n",
    "            os.mkdir('results/cosmic_rads/vary_humans/'+experiment[:-4]+'/')\n",
    "        except Exception as e:\n",
    "            print(e)\n",
    "\n",
    "        # define config\n",
    "        config = {\n",
    "            \"name\": \"Example Experiment for AH casual ensemble\",\n",
    "            \"short_name\": \"ah_experiment_notebook\",\n",
    "            \"bucket_project\": \"fdl-us-astronaut-health\",\n",
    "            \"bucket_name\": \"ah_21_data\",\n",
    "            \"bucket_path\": \"gs://ah_21_data\",\n",
    "            \"verbose\": verbose,\n",
    "            \"test_val_split\": [0.1, 0.1],\n",
    "            \"per_variant_experiment\": False,\n",
    "            \"data_options\": {\n",
    "                'synthetic_train_test_split' : False,\n",
    "                'dataset_fp' : 'data/cosmic_rads/vary_humans/'+experiment,\n",
    "                'output_data_regime' : output_data_regime,\n",
    "                'subject_keys': 'Source Name',\n",
    "                'targets': ['irradiated'], #['dose_Gy'],\n",
    "                'predictors': list(data.columns[43:-4]),\n",
    "                'environments': ['environment'],\n",
    "                'exclude': ['organism', 'source', 'gender', 'age_years', 'timepoint_hr', 'dose_Gy', 'radiation', 'dataset','strain']\n",
    "            },\n",
    "            \"feature_selection_options\": {\n",
    "                \"max_features\": 20,\n",
    "                \"verbose\": verbose,\n",
    "                \"seed\": 12,\n",
    "                \"variance_threshold\" : 2, # actually std\n",
    "            },\n",
    "            \"ensemble_options\": {\n",
    "                \"models\": [\"IRM\",\"LIRM\"],#, \"ICP\",], # \"DCF\", \"LIRM\", \"NLICP\"],\n",
    "                \"LIRM\" : {\n",
    "                    \"use_icp_initialization\": False,\n",
    "                    \"verbose\": verbose,\n",
    "                    \"n_iterations\": 1000,\n",
    "                    \"seed\": 0,\n",
    "                    \"lr\": 0.001,\n",
    "                    \"cuda\": False,\n",
    "                    \"output_data_regime\" : output_data_regime,\n",
    "                },\n",
    "                \"DCF\" : {\n",
    "                    \"minP\": 0.1,\n",
    "                    \"maxP\": 0.9,\n",
    "                    \"minFeatures\": 1,\n",
    "                    \"minAccuracy\": 0.5,\n",
    "                    \"seed\": 0,\n",
    "                    \"verbose\": verbose,\n",
    "                    \"target\": [\"Target\"],\n",
    "                    \"output_pvals\": False,\n",
    "                    \"output_data_regime\" : output_data_regime,\n",
    "                },\n",
    "                \"NLICP\" : {\n",
    "                    \"max_set_size\": 2,\n",
    "                    \"alpha\": 0.05,\n",
    "                    \"seed\": 12,\n",
    "                    \"verbose\": verbose,\n",
    "                    \"method\": \"MLP\",\n",
    "                    \"hidden_dim\": 256,\n",
    "                    \"output_data_regime\" : output_data_regime,\n",
    "                },\n",
    "                \"LICP\" : {\n",
    "                    \"max_set_size\": 2,\n",
    "                    \"alpha\": 0.05,\n",
    "                    \"seed\": 12,\n",
    "                    \"verbose\": verbose,\n",
    "                    \"output_data_regime\" : output_data_regime,\n",
    "                },\n",
    "            },\n",
    "             \"use_cloud\":False,\n",
    "            \"results_directory\": \"results/cosmic_rads/vary_humans/\"+experiment[:-4]+'/'\n",
    "            }\n",
    "        print(config['results_directory'])\n",
    "        run(config)"
   ]
  }
 ],
 "metadata": {
  "environment": {
   "name": "common-cu100.m73",
   "type": "gcloud",
   "uri": "gcr.io/deeplearning-platform-release/base-cu100:m73"
  },
  "kernelspec": {
   "display_name": "Python 3",
   "language": "python",
   "name": "python3"
  },
  "language_info": {
   "codemirror_mode": {
    "name": "ipython",
    "version": 3
   },
   "file_extension": ".py",
   "mimetype": "text/x-python",
   "name": "python",
   "nbconvert_exporter": "python",
   "pygments_lexer": "ipython3",
   "version": "3.7.10"
  }
 },
 "nbformat": 4,
 "nbformat_minor": 5
}

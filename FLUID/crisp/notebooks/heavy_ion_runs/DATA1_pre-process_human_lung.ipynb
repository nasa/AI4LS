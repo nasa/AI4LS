{
 "cells": [
  {
   "cell_type": "code",
   "execution_count": 1,
   "id": "b23de3a8",
   "metadata": {},
   "outputs": [],
   "source": [
    "import pandas as pd\n",
    "import numpy as np"
   ]
  },
  {
   "cell_type": "code",
   "execution_count": 2,
   "id": "e4c2b435",
   "metadata": {},
   "outputs": [],
   "source": [
    "from tqdm.notebook import tqdm"
   ]
  },
  {
   "cell_type": "code",
   "execution_count": 3,
   "id": "b4650a66",
   "metadata": {},
   "outputs": [
    {
     "data": {
      "text/plain": [
       "'/home/jupyter/crisp'"
      ]
     },
     "execution_count": 3,
     "metadata": {},
     "output_type": "execute_result"
    }
   ],
   "source": [
    "import os\n",
    "while os.getcwd() != '/home/jupyter/crisp':\n",
    "    os.chdir(\"..\")\n",
    "%pwd"
   ]
  },
  {
   "cell_type": "code",
   "execution_count": 4,
   "id": "27f2665c",
   "metadata": {},
   "outputs": [],
   "source": [
    "mouse_mapping = pd.read_csv('notebooks/heavy_ion_runs/GLDS148.ProbeID.GeneSymbol.Mapping.txt', sep='\\t')\n",
    "mouse_probe_dict = dict(zip(mouse_mapping.ProbeID, mouse_mapping.GeneSymbol.str.lower()))\n",
    "\n",
    "human_mapping = pd.read_csv('notebooks/heavy_ion_runs/GLDS73.ProbeID.GeneSymbol.Mapping.txt', sep='\\t')\n",
    "human_probe_dict = dict(zip(human_mapping.ProbeID, human_mapping.GeneSymbol.str.lower()))"
   ]
  },
  {
   "cell_type": "code",
   "execution_count": 5,
   "id": "fa2da428",
   "metadata": {},
   "outputs": [
    {
     "data": {
      "application/vnd.jupyter.widget-view+json": {
       "model_id": "815d0db7eefc49b6aed89616aea8601a",
       "version_major": 2,
       "version_minor": 0
      },
      "text/plain": [
       "  0%|          | 0/101 [00:00<?, ?it/s]"
      ]
     },
     "metadata": {},
     "output_type": "display_data"
    },
    {
     "data": {
      "application/vnd.jupyter.widget-view+json": {
       "model_id": "489a20ee03a142a0baa1677f70617c4c",
       "version_major": 2,
       "version_minor": 0
      },
      "text/plain": [
       "  0%|          | 0/101 [00:00<?, ?it/s]"
      ]
     },
     "metadata": {},
     "output_type": "display_data"
    }
   ],
   "source": [
    "human_files = [f for f in os.listdir('data/cosmic_rads/human cells/re_upload_raw_data/') if '.txt' in f]\n",
    "human_frame = pd.concat([pd.read_csv('data/cosmic_rads/human cells/re_upload_raw_data/'+f,sep='\\t').T.iloc[1:] for f in tqdm(human_files)])\n",
    "human_frame.columns =  pd.read_csv('data/cosmic_rads/human cells/re_upload_raw_data/GSM1082165_sample_table.txt', sep='\\t').T.iloc[0]\n",
    "human_frame['Source Name'] = [f[:-17] for f in tqdm(human_files)]\n",
    "human_frame.set_index('Source Name', inplace=True)\n",
    "human_frame.columns = [human_probe_dict[x] if x in human_probe_dict.keys() else x for x in  human_frame.columns]"
   ]
  },
  {
   "cell_type": "code",
   "execution_count": 6,
   "id": "5aa543fc",
   "metadata": {},
   "outputs": [],
   "source": [
    "human_frame.to_pickle('data/cosmic_rads/human cells/re_upload_raw_data/complete_human_frame.pkl')\n",
    "human_frame = pd.read_pickle('data/cosmic_rads/human cells/re_upload_raw_data/complete_human_frame.pkl')"
   ]
  },
  {
   "cell_type": "code",
   "execution_count": 7,
   "id": "4388cf88",
   "metadata": {},
   "outputs": [
    {
     "data": {
      "application/vnd.jupyter.widget-view+json": {
       "model_id": "8b6c5459de3b4d739da17ace4c21abc8",
       "version_major": 2,
       "version_minor": 0
      },
      "text/plain": [
       "  0%|          | 0/134 [00:00<?, ?it/s]"
      ]
     },
     "metadata": {},
     "output_type": "display_data"
    }
   ],
   "source": [
    "human_metadata = pd.read_csv('data/cosmic_rads/human cells/human_metadata.txt', sep='\\t')\n",
    "human_metadata['Source Name'] = human_metadata['Source Name'].str[:-2]\n",
    "human_metadata[\"irradiated\"] = [1. if x > 0.01 else 0. for x in  tqdm(human_metadata['Characteristics [dose gray]'])]\n",
    "human_metadata['environment'] = human_metadata['Characteristics[organism]'] +  human_metadata['Characteristics [cell line]']"
   ]
  },
  {
   "cell_type": "code",
   "execution_count": 8,
   "id": "4e477475",
   "metadata": {},
   "outputs": [],
   "source": [
    "# human_frame there was an error here! We only got a 4th of the data! This needs a re-run!"
   ]
  },
  {
   "cell_type": "code",
   "execution_count": null,
   "id": "f2869317",
   "metadata": {},
   "outputs": [],
   "source": []
  },
  {
   "cell_type": "code",
   "execution_count": 9,
   "id": "909e555f",
   "metadata": {},
   "outputs": [
    {
     "data": {
      "application/vnd.jupyter.widget-view+json": {
       "model_id": "dc58e39c4e6849a3a7d026d5e93bcbce",
       "version_major": 2,
       "version_minor": 0
      },
      "text/plain": [
       "  0%|          | 0/41 [00:00<?, ?it/s]"
      ]
     },
     "metadata": {},
     "output_type": "display_data"
    }
   ],
   "source": [
    "mouse_files = [f for f in os.listdir('data/cosmic_rads/mice_lungs/raw_data/') if '.txt' in f]\n",
    "mouse_frame = pd.concat([pd.read_csv('data/cosmic_rads/mice_lungs/raw_data/'+f,sep='\\t').T.iloc[1:] for f in tqdm(mouse_files)])\n",
    "mouse_frame.columns =  pd.read_csv('data/cosmic_rads/mice_lungs/raw_data/GSM1035974_sample_table.txt', sep='\\t').T.iloc[0]\n",
    "mouse_frame['Source Name'] = [f[:-17] for f in mouse_files]\n",
    "mouse_frame.set_index('Source Name', inplace=True)\n",
    "mouse_frame.columns = [mouse_probe_dict[x] if x in mouse_probe_dict.keys() else x for x in mouse_frame.columns]"
   ]
  },
  {
   "cell_type": "code",
   "execution_count": 10,
   "id": "c00184b7",
   "metadata": {},
   "outputs": [],
   "source": [
    "mouse_frame.to_pickle('data/cosmic_rads/human cells/re_upload_raw_data/complete_mouse_frame.pkl')\n",
    "mouse_frame = pd.read_pickle('data/cosmic_rads/human cells/re_upload_raw_data/complete_mouse_frame.pkl')"
   ]
  },
  {
   "cell_type": "code",
   "execution_count": 11,
   "id": "63376ef6",
   "metadata": {},
   "outputs": [],
   "source": [
    "mouse_metadata = pd.read_csv('data/cosmic_rads/mice_lungs/mouse_metadata.txt', sep='\\t')\n",
    "mouse_metadata['Source Name'] = mouse_metadata['Source Name'].str[:-2]\n",
    "mouse_metadata['Characteristics [dose gray]'] = [0. if x == \"Unirradiated Control\" else 1. for x in  mouse_metadata['Comment [Sample_source_name]']]\n",
    "mouse_metadata['Factor Value[radiation type]'] = [np.nan if x == \"Unirradiated Control\" else 'Fe' for x in  mouse_metadata['Comment [Sample_source_name]']]\n",
    "mouse_metadata[\"irradiated\"] = [1. if x > 0.01 else 0. for x in  mouse_metadata['Characteristics [dose gray]']]\n",
    "mouse_metadata['environment'] = mouse_metadata['Characteristics[organism]'] +  mouse_metadata['Characteristics [Sex]']"
   ]
  },
  {
   "cell_type": "code",
   "execution_count": 12,
   "id": "77de957d",
   "metadata": {},
   "outputs": [],
   "source": [
    "human_mouse_gene_map = pd.read_csv('data/mouse_human_mapping.txt', sep='\\t')\n",
    "\n",
    "db_mouse_genes = set(human_mouse_gene_map['Mouse gene name'].str.lower())\n",
    "db_human_genes = set(human_mouse_gene_map['Gene name'].str.lower())\n",
    "\n",
    "experiment_human_genes = set(human_frame.columns)\n",
    "experiment_mouse_genes = set(mouse_frame.columns)\n",
    "human_subset = experiment_human_genes.intersection(db_human_genes)\n",
    "mouse_subset = experiment_mouse_genes.intersection(db_mouse_genes)\n",
    "\n",
    "human_to_mouse_dic = dict(zip(human_mouse_gene_map['Gene name'].str.lower(),human_mouse_gene_map['Mouse gene name'].str.lower()))\n",
    "mouse_to_human_dic = dict(zip(human_mouse_gene_map['Mouse gene name'].str.lower(),human_mouse_gene_map['Gene name'].str.lower()))\n",
    "\n",
    "humanised_mouse_genes = set([mouse_to_human_dic[x] for x in list(mouse_subset)])\n",
    "\n",
    "human_genes_to_use = list(humanised_mouse_genes.intersection(human_subset))\n",
    "mouse_genes_to_use = list([human_to_mouse_dic[x] for x in human_genes_to_use])"
   ]
  },
  {
   "cell_type": "code",
   "execution_count": 13,
   "id": "1eee58b1",
   "metadata": {},
   "outputs": [],
   "source": [
    "human_frame = human_frame[human_genes_to_use]\n",
    "mouse_frame.columns = [mouse_to_human_dic[x] if x in mouse_to_human_dic.keys() else x for x in mouse_frame.columns]\n",
    "mouse_frame = mouse_frame[human_genes_to_use]"
   ]
  },
  {
   "cell_type": "code",
   "execution_count": 14,
   "id": "e4015457",
   "metadata": {},
   "outputs": [],
   "source": [
    "m_merged_data = pd.merge(mouse_metadata, mouse_frame, left_on=\"Source Name\", right_index=True)\n",
    "m_merged_data = m_merged_data.T[~m_merged_data.T.index.duplicated(keep='first')].T"
   ]
  },
  {
   "cell_type": "code",
   "execution_count": 15,
   "id": "dca36b8a",
   "metadata": {},
   "outputs": [],
   "source": [
    "h_merged_data = pd.merge(human_metadata, human_frame, left_on='Source Name', right_index=True)\n",
    "h_merged_data = h_merged_data[h_merged_data['Factor Value[radiation type]'] != 'x-ray']\n",
    "h_merged_data = h_merged_data.T[~h_merged_data.T.index.duplicated(keep='first')].T"
   ]
  },
  {
   "cell_type": "code",
   "execution_count": 16,
   "id": "f2e71bd7",
   "metadata": {},
   "outputs": [],
   "source": [
    "# you may have duplicate columns here - once they are removed the system should work"
   ]
  },
  {
   "cell_type": "code",
   "execution_count": 17,
   "id": "ebe67680",
   "metadata": {},
   "outputs": [],
   "source": [
    "h_m_data = h_merged_data.append(m_merged_data)"
   ]
  },
  {
   "cell_type": "code",
   "execution_count": 18,
   "id": "327df015",
   "metadata": {},
   "outputs": [],
   "source": [
    "h_m_data.to_pickle('data/cosmic_rads/docker_exps/all_human_mice_data_combined.pkl')"
   ]
  },
  {
   "cell_type": "code",
   "execution_count": 19,
   "id": "d21f5b0e",
   "metadata": {},
   "outputs": [],
   "source": [
    "# to talk through with laruen - what to do with the fact we're dropping huge numbers of duplicates?\n",
    "# humans have duplicates too with the well! "
   ]
  },
  {
   "cell_type": "code",
   "execution_count": 20,
   "id": "9bd205b8",
   "metadata": {},
   "outputs": [],
   "source": [
    "# this won't work until you have equivalent genes!\n",
    "# m_h_data = m_merged_data.append(h_merged_data)"
   ]
  },
  {
   "cell_type": "code",
   "execution_count": 21,
   "id": "0e4359f9",
   "metadata": {},
   "outputs": [],
   "source": [
    "environment = h_m_data['environment']"
   ]
  },
  {
   "cell_type": "code",
   "execution_count": 22,
   "id": "acaed48c",
   "metadata": {},
   "outputs": [],
   "source": [
    "target = h_m_data['irradiated']"
   ]
  },
  {
   "cell_type": "code",
   "execution_count": 23,
   "id": "3b924161",
   "metadata": {},
   "outputs": [],
   "source": [
    "if len(h_m_data.columns) == 15374:\n",
    "    h_m_data = h_m_data[h_m_data.columns[43:-4]]"
   ]
  },
  {
   "cell_type": "code",
   "execution_count": 24,
   "id": "a90b3730",
   "metadata": {},
   "outputs": [],
   "source": [
    "h_m_data['environment'] = list(environment)\n",
    "h_m_data['target'] = list(target)"
   ]
  },
  {
   "cell_type": "code",
   "execution_count": 25,
   "id": "70b4e4f8",
   "metadata": {},
   "outputs": [],
   "source": [
    "h_m_data.to_pickle('data/cosmic_rads/docker_exps/all_human_mice_data_combined.pkl')"
   ]
  },
  {
   "cell_type": "code",
   "execution_count": 26,
   "id": "6b370a50",
   "metadata": {},
   "outputs": [
    {
     "data": {
      "text/html": [
       "<div>\n",
       "<style scoped>\n",
       "    .dataframe tbody tr th:only-of-type {\n",
       "        vertical-align: middle;\n",
       "    }\n",
       "\n",
       "    .dataframe tbody tr th {\n",
       "        vertical-align: top;\n",
       "    }\n",
       "\n",
       "    .dataframe thead th {\n",
       "        text-align: right;\n",
       "    }\n",
       "</style>\n",
       "<table border=\"1\" class=\"dataframe\">\n",
       "  <thead>\n",
       "    <tr style=\"text-align: right;\">\n",
       "      <th></th>\n",
       "      <th>galnt13</th>\n",
       "      <th>spart</th>\n",
       "      <th>usp12</th>\n",
       "      <th>ttc9b</th>\n",
       "      <th>rps25</th>\n",
       "      <th>lrrc14b</th>\n",
       "      <th>znf777</th>\n",
       "      <th>lypla2</th>\n",
       "      <th>cntrob</th>\n",
       "      <th>itih3</th>\n",
       "      <th>...</th>\n",
       "      <th>traf5</th>\n",
       "      <th>serinc1</th>\n",
       "      <th>gpx6</th>\n",
       "      <th>tspan5</th>\n",
       "      <th>adgrl3</th>\n",
       "      <th>ube2g1</th>\n",
       "      <th>smarcal1</th>\n",
       "      <th>s1pr3</th>\n",
       "      <th>environment</th>\n",
       "      <th>target</th>\n",
       "    </tr>\n",
       "  </thead>\n",
       "  <tbody>\n",
       "    <tr>\n",
       "      <th>0</th>\n",
       "      <td>4.46424</td>\n",
       "      <td>5.44465</td>\n",
       "      <td>6.03254</td>\n",
       "      <td>4.00528</td>\n",
       "      <td>14.1401</td>\n",
       "      <td>3.47801</td>\n",
       "      <td>6.93685</td>\n",
       "      <td>7.25607</td>\n",
       "      <td>5.69813</td>\n",
       "      <td>4.03223</td>\n",
       "      <td>...</td>\n",
       "      <td>4.63137</td>\n",
       "      <td>8.83469</td>\n",
       "      <td>3.43998</td>\n",
       "      <td>10.1032</td>\n",
       "      <td>3.37714</td>\n",
       "      <td>8.16892</td>\n",
       "      <td>8.06357</td>\n",
       "      <td>7.02017</td>\n",
       "      <td>Homo sapiensHBEC3KT</td>\n",
       "      <td>0.0</td>\n",
       "    </tr>\n",
       "    <tr>\n",
       "      <th>1</th>\n",
       "      <td>4.59663</td>\n",
       "      <td>6.24428</td>\n",
       "      <td>4.80986</td>\n",
       "      <td>3.93824</td>\n",
       "      <td>14.0324</td>\n",
       "      <td>3.44717</td>\n",
       "      <td>7.29125</td>\n",
       "      <td>6.72747</td>\n",
       "      <td>5.93035</td>\n",
       "      <td>3.15744</td>\n",
       "      <td>...</td>\n",
       "      <td>4.46322</td>\n",
       "      <td>9.23907</td>\n",
       "      <td>3.48334</td>\n",
       "      <td>9.35297</td>\n",
       "      <td>3.26959</td>\n",
       "      <td>8.7853</td>\n",
       "      <td>8.84771</td>\n",
       "      <td>5.35438</td>\n",
       "      <td>Homo sapiensHBEC3KT</td>\n",
       "      <td>1.0</td>\n",
       "    </tr>\n",
       "    <tr>\n",
       "      <th>2</th>\n",
       "      <td>5.49855</td>\n",
       "      <td>6.73741</td>\n",
       "      <td>4.68409</td>\n",
       "      <td>3.9535</td>\n",
       "      <td>13.7697</td>\n",
       "      <td>3.8469</td>\n",
       "      <td>6.92817</td>\n",
       "      <td>6.78872</td>\n",
       "      <td>5.84161</td>\n",
       "      <td>3.51335</td>\n",
       "      <td>...</td>\n",
       "      <td>3.97759</td>\n",
       "      <td>9.01184</td>\n",
       "      <td>3.56301</td>\n",
       "      <td>10.0574</td>\n",
       "      <td>3.50771</td>\n",
       "      <td>8.82566</td>\n",
       "      <td>8.87777</td>\n",
       "      <td>7.72982</td>\n",
       "      <td>Homo sapiensHBEC3KT</td>\n",
       "      <td>0.0</td>\n",
       "    </tr>\n",
       "    <tr>\n",
       "      <th>3</th>\n",
       "      <td>3.97014</td>\n",
       "      <td>5.35934</td>\n",
       "      <td>6.3925</td>\n",
       "      <td>4.07191</td>\n",
       "      <td>14.0186</td>\n",
       "      <td>3.31506</td>\n",
       "      <td>7.82133</td>\n",
       "      <td>6.64026</td>\n",
       "      <td>5.35815</td>\n",
       "      <td>3.61417</td>\n",
       "      <td>...</td>\n",
       "      <td>4.22047</td>\n",
       "      <td>9.03961</td>\n",
       "      <td>3.4445</td>\n",
       "      <td>9.90618</td>\n",
       "      <td>3.67186</td>\n",
       "      <td>8.52964</td>\n",
       "      <td>7.7856</td>\n",
       "      <td>7.21256</td>\n",
       "      <td>Homo sapiensHBEC3KT</td>\n",
       "      <td>0.0</td>\n",
       "    </tr>\n",
       "    <tr>\n",
       "      <th>4</th>\n",
       "      <td>5.22817</td>\n",
       "      <td>6.28206</td>\n",
       "      <td>7.09742</td>\n",
       "      <td>3.67017</td>\n",
       "      <td>13.66</td>\n",
       "      <td>3.50986</td>\n",
       "      <td>7.97077</td>\n",
       "      <td>7.18961</td>\n",
       "      <td>5.05405</td>\n",
       "      <td>3.43657</td>\n",
       "      <td>...</td>\n",
       "      <td>3.6634</td>\n",
       "      <td>9.53451</td>\n",
       "      <td>3.94549</td>\n",
       "      <td>10.0767</td>\n",
       "      <td>3.38848</td>\n",
       "      <td>9.5753</td>\n",
       "      <td>8.7571</td>\n",
       "      <td>7.82985</td>\n",
       "      <td>Homo sapiensHBEC3KT</td>\n",
       "      <td>0.0</td>\n",
       "    </tr>\n",
       "    <tr>\n",
       "      <th>...</th>\n",
       "      <td>...</td>\n",
       "      <td>...</td>\n",
       "      <td>...</td>\n",
       "      <td>...</td>\n",
       "      <td>...</td>\n",
       "      <td>...</td>\n",
       "      <td>...</td>\n",
       "      <td>...</td>\n",
       "      <td>...</td>\n",
       "      <td>...</td>\n",
       "      <td>...</td>\n",
       "      <td>...</td>\n",
       "      <td>...</td>\n",
       "      <td>...</td>\n",
       "      <td>...</td>\n",
       "      <td>...</td>\n",
       "      <td>...</td>\n",
       "      <td>...</td>\n",
       "      <td>...</td>\n",
       "      <td>...</td>\n",
       "      <td>...</td>\n",
       "    </tr>\n",
       "    <tr>\n",
       "      <th>37</th>\n",
       "      <td>3.81</td>\n",
       "      <td>8.44</td>\n",
       "      <td>3.09</td>\n",
       "      <td>2.57</td>\n",
       "      <td>14.46</td>\n",
       "      <td>5.49</td>\n",
       "      <td>4.12</td>\n",
       "      <td>12.88</td>\n",
       "      <td>3.02</td>\n",
       "      <td>4.27</td>\n",
       "      <td>...</td>\n",
       "      <td>2.93</td>\n",
       "      <td>11.47</td>\n",
       "      <td>3.52</td>\n",
       "      <td>3.59</td>\n",
       "      <td>6.26</td>\n",
       "      <td>9.6</td>\n",
       "      <td>8.18</td>\n",
       "      <td>3.06</td>\n",
       "      <td>Mus musculusmale</td>\n",
       "      <td>1.0</td>\n",
       "    </tr>\n",
       "    <tr>\n",
       "      <th>38</th>\n",
       "      <td>3.31</td>\n",
       "      <td>8.31</td>\n",
       "      <td>3.69</td>\n",
       "      <td>2.96</td>\n",
       "      <td>14.28</td>\n",
       "      <td>5.22</td>\n",
       "      <td>3.54</td>\n",
       "      <td>12.9</td>\n",
       "      <td>2.99</td>\n",
       "      <td>3.7</td>\n",
       "      <td>...</td>\n",
       "      <td>3.87</td>\n",
       "      <td>11.11</td>\n",
       "      <td>3.83</td>\n",
       "      <td>3.56</td>\n",
       "      <td>6.22</td>\n",
       "      <td>9.26</td>\n",
       "      <td>8.32</td>\n",
       "      <td>2.59</td>\n",
       "      <td>Mus musculusfemale</td>\n",
       "      <td>1.0</td>\n",
       "    </tr>\n",
       "    <tr>\n",
       "      <th>39</th>\n",
       "      <td>3.62</td>\n",
       "      <td>8.56</td>\n",
       "      <td>3.73</td>\n",
       "      <td>3.94</td>\n",
       "      <td>14.26</td>\n",
       "      <td>6.02</td>\n",
       "      <td>3.84</td>\n",
       "      <td>12.88</td>\n",
       "      <td>3.57</td>\n",
       "      <td>3.36</td>\n",
       "      <td>...</td>\n",
       "      <td>3.24</td>\n",
       "      <td>11.29</td>\n",
       "      <td>3.96</td>\n",
       "      <td>4.47</td>\n",
       "      <td>5.83</td>\n",
       "      <td>9.35</td>\n",
       "      <td>8.32</td>\n",
       "      <td>2.52</td>\n",
       "      <td>Mus musculusmale</td>\n",
       "      <td>1.0</td>\n",
       "    </tr>\n",
       "    <tr>\n",
       "      <th>40</th>\n",
       "      <td>4.0</td>\n",
       "      <td>8.7</td>\n",
       "      <td>3.89</td>\n",
       "      <td>3.76</td>\n",
       "      <td>14.32</td>\n",
       "      <td>5.08</td>\n",
       "      <td>4.56</td>\n",
       "      <td>12.67</td>\n",
       "      <td>2.64</td>\n",
       "      <td>3.59</td>\n",
       "      <td>...</td>\n",
       "      <td>2.97</td>\n",
       "      <td>11.73</td>\n",
       "      <td>3.62</td>\n",
       "      <td>3.4</td>\n",
       "      <td>6.33</td>\n",
       "      <td>9.64</td>\n",
       "      <td>8.15</td>\n",
       "      <td>2.84</td>\n",
       "      <td>Mus musculusmale</td>\n",
       "      <td>1.0</td>\n",
       "    </tr>\n",
       "    <tr>\n",
       "      <th>41</th>\n",
       "      <td>3.88</td>\n",
       "      <td>7.75</td>\n",
       "      <td>4.3</td>\n",
       "      <td>3.57</td>\n",
       "      <td>14.21</td>\n",
       "      <td>5.45</td>\n",
       "      <td>3.41</td>\n",
       "      <td>12.88</td>\n",
       "      <td>2.73</td>\n",
       "      <td>3.54</td>\n",
       "      <td>...</td>\n",
       "      <td>3.44</td>\n",
       "      <td>11.5</td>\n",
       "      <td>3.83</td>\n",
       "      <td>3.36</td>\n",
       "      <td>5.51</td>\n",
       "      <td>9.38</td>\n",
       "      <td>8.06</td>\n",
       "      <td>2.57</td>\n",
       "      <td>Mus musculusfemale</td>\n",
       "      <td>1.0</td>\n",
       "    </tr>\n",
       "  </tbody>\n",
       "</table>\n",
       "<p>117 rows × 15329 columns</p>\n",
       "</div>"
      ],
      "text/plain": [
       "    galnt13    spart    usp12    ttc9b    rps25  lrrc14b   znf777   lypla2  \\\n",
       "0   4.46424  5.44465  6.03254  4.00528  14.1401  3.47801  6.93685  7.25607   \n",
       "1   4.59663  6.24428  4.80986  3.93824  14.0324  3.44717  7.29125  6.72747   \n",
       "2   5.49855  6.73741  4.68409   3.9535  13.7697   3.8469  6.92817  6.78872   \n",
       "3   3.97014  5.35934   6.3925  4.07191  14.0186  3.31506  7.82133  6.64026   \n",
       "4   5.22817  6.28206  7.09742  3.67017    13.66  3.50986  7.97077  7.18961   \n",
       "..      ...      ...      ...      ...      ...      ...      ...      ...   \n",
       "37     3.81     8.44     3.09     2.57    14.46     5.49     4.12    12.88   \n",
       "38     3.31     8.31     3.69     2.96    14.28     5.22     3.54     12.9   \n",
       "39     3.62     8.56     3.73     3.94    14.26     6.02     3.84    12.88   \n",
       "40      4.0      8.7     3.89     3.76    14.32     5.08     4.56    12.67   \n",
       "41     3.88     7.75      4.3     3.57    14.21     5.45     3.41    12.88   \n",
       "\n",
       "     cntrob    itih3  ...    traf5  serinc1     gpx6   tspan5   adgrl3  \\\n",
       "0   5.69813  4.03223  ...  4.63137  8.83469  3.43998  10.1032  3.37714   \n",
       "1   5.93035  3.15744  ...  4.46322  9.23907  3.48334  9.35297  3.26959   \n",
       "2   5.84161  3.51335  ...  3.97759  9.01184  3.56301  10.0574  3.50771   \n",
       "3   5.35815  3.61417  ...  4.22047  9.03961   3.4445  9.90618  3.67186   \n",
       "4   5.05405  3.43657  ...   3.6634  9.53451  3.94549  10.0767  3.38848   \n",
       "..      ...      ...  ...      ...      ...      ...      ...      ...   \n",
       "37     3.02     4.27  ...     2.93    11.47     3.52     3.59     6.26   \n",
       "38     2.99      3.7  ...     3.87    11.11     3.83     3.56     6.22   \n",
       "39     3.57     3.36  ...     3.24    11.29     3.96     4.47     5.83   \n",
       "40     2.64     3.59  ...     2.97    11.73     3.62      3.4     6.33   \n",
       "41     2.73     3.54  ...     3.44     11.5     3.83     3.36     5.51   \n",
       "\n",
       "     ube2g1 smarcal1    s1pr3          environment target  \n",
       "0   8.16892  8.06357  7.02017  Homo sapiensHBEC3KT    0.0  \n",
       "1    8.7853  8.84771  5.35438  Homo sapiensHBEC3KT    1.0  \n",
       "2   8.82566  8.87777  7.72982  Homo sapiensHBEC3KT    0.0  \n",
       "3   8.52964   7.7856  7.21256  Homo sapiensHBEC3KT    0.0  \n",
       "4    9.5753   8.7571  7.82985  Homo sapiensHBEC3KT    0.0  \n",
       "..      ...      ...      ...                  ...    ...  \n",
       "37      9.6     8.18     3.06     Mus musculusmale    1.0  \n",
       "38     9.26     8.32     2.59   Mus musculusfemale    1.0  \n",
       "39     9.35     8.32     2.52     Mus musculusmale    1.0  \n",
       "40     9.64     8.15     2.84     Mus musculusmale    1.0  \n",
       "41     9.38     8.06     2.57   Mus musculusfemale    1.0  \n",
       "\n",
       "[117 rows x 15329 columns]"
      ]
     },
     "execution_count": 26,
     "metadata": {},
     "output_type": "execute_result"
    }
   ],
   "source": [
    "h_m_data"
   ]
  },
  {
   "cell_type": "code",
   "execution_count": null,
   "id": "9341b924",
   "metadata": {},
   "outputs": [],
   "source": []
  }
 ],
 "metadata": {
  "environment": {
   "name": "common-cu100.m73",
   "type": "gcloud",
   "uri": "gcr.io/deeplearning-platform-release/base-cu100:m73"
  },
  "kernelspec": {
   "display_name": "Python 3",
   "language": "python",
   "name": "python3"
  },
  "language_info": {
   "codemirror_mode": {
    "name": "ipython",
    "version": 3
   },
   "file_extension": ".py",
   "mimetype": "text/x-python",
   "name": "python",
   "nbconvert_exporter": "python",
   "pygments_lexer": "ipython3",
   "version": "3.7.10"
  }
 },
 "nbformat": 4,
 "nbformat_minor": 5
}

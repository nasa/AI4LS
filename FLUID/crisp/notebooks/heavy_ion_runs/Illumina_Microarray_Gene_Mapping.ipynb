{
 "cells": [
  {
   "cell_type": "markdown",
   "id": "39feb1f2",
   "metadata": {},
   "source": [
    "Author: Lauren M Sanders\n",
    "\n",
    "Date: July 2021\n",
    "\n",
    "Goal: map the Probe IDs from GLDS148 (mouse) and GLDS73 (human) to Gene IDs using the appropriate Bioconductor annotation package. "
   ]
  },
  {
   "cell_type": "code",
   "execution_count": 2,
   "id": "62f31d17",
   "metadata": {
    "collapsed": true,
    "jupyter": {
     "outputs_hidden": true
    }
   },
   "outputs": [
    {
     "name": "stderr",
     "output_type": "stream",
     "text": [
      "'getOption(\"repos\")' replaces Bioconductor standard repositories, see\n",
      "'?repositories' for details\n",
      "\n",
      "replacement repositories:\n",
      "    CRAN: https://cran.r-project.org\n",
      "\n",
      "\n",
      "Bioconductor version 3.12 (BiocManager 1.30.15), R 4.0.4 (2021-02-15)\n",
      "\n",
      "Installing package(s) 'illuminaHumanv2.db'\n",
      "\n",
      "installing the source package ‘illuminaHumanv2.db’\n",
      "\n",
      "\n",
      "Old packages: 'beeswarm', 'BiocManager', 'broom', 'bslib', 'cachem',\n",
      "  'circlize', 'ClassDiscovery', 'cli', 'colorspace', 'cpp11', 'curl',\n",
      "  'DEoptimR', 'devtools', 'dplyr', 'epiR', 'fansi', 'foghorn', 'formatR',\n",
      "  'gargle', 'gert', 'ggfortify', 'ggplot2', 'googledrive', 'gtools', 'hms',\n",
      "  'isoband', 'manipulateWidget', 'Matrix', 'matrixStats', 'mgcv', 'mime',\n",
      "  'pander', 'pillar', 'plotly', 'quantreg', 'ragg', 'raster', 'Rcpp',\n",
      "  'RcppArmadillo', 'remotes', 'rmarkdown', 'robustbase', 'rversions',\n",
      "  'seriation', 'shape', 'spatstat', 'spatstat.core', 'spatstat.geom',\n",
      "  'spatstat.linnet', 'spatstat.utils', 'spData', 'stringi', 'testthat',\n",
      "  'textshaping', 'tibble', 'tidyHeatmap', 'tinytex', 'xfun', 'zip'\n",
      "\n"
     ]
    }
   ],
   "source": [
    "BiocManager::install('illuminaHumanv2.db')"
   ]
  },
  {
   "cell_type": "code",
   "execution_count": 3,
   "id": "79073043",
   "metadata": {
    "collapsed": true,
    "jupyter": {
     "outputs_hidden": true
    }
   },
   "outputs": [
    {
     "name": "stderr",
     "output_type": "stream",
     "text": [
      "'getOption(\"repos\")' replaces Bioconductor standard repositories, see\n",
      "'?repositories' for details\n",
      "\n",
      "replacement repositories:\n",
      "    CRAN: https://cran.r-project.org\n",
      "\n",
      "\n",
      "Bioconductor version 3.12 (BiocManager 1.30.15), R 4.0.4 (2021-02-15)\n",
      "\n",
      "Installing package(s) 'illuminaMousev2.db'\n",
      "\n",
      "installing the source package ‘illuminaMousev2.db’\n",
      "\n",
      "\n",
      "Old packages: 'beeswarm', 'BiocManager', 'broom', 'bslib', 'cachem',\n",
      "  'circlize', 'ClassDiscovery', 'cli', 'colorspace', 'cpp11', 'curl',\n",
      "  'DEoptimR', 'devtools', 'dplyr', 'epiR', 'fansi', 'foghorn', 'formatR',\n",
      "  'gargle', 'gert', 'ggfortify', 'ggplot2', 'googledrive', 'gtools', 'hms',\n",
      "  'isoband', 'manipulateWidget', 'Matrix', 'matrixStats', 'mgcv', 'mime',\n",
      "  'pander', 'pillar', 'plotly', 'quantreg', 'ragg', 'raster', 'Rcpp',\n",
      "  'RcppArmadillo', 'remotes', 'rmarkdown', 'robustbase', 'rversions',\n",
      "  'seriation', 'shape', 'spatstat', 'spatstat.core', 'spatstat.geom',\n",
      "  'spatstat.linnet', 'spatstat.utils', 'spData', 'stringi', 'testthat',\n",
      "  'textshaping', 'tibble', 'tidyHeatmap', 'tinytex', 'xfun', 'zip'\n",
      "\n"
     ]
    }
   ],
   "source": [
    "BiocManager::install('illuminaMousev2.db')"
   ]
  },
  {
   "cell_type": "code",
   "execution_count": 4,
   "id": "1b5facd0",
   "metadata": {
    "collapsed": true,
    "jupyter": {
     "outputs_hidden": true
    }
   },
   "outputs": [
    {
     "name": "stderr",
     "output_type": "stream",
     "text": [
      "Loading required package: AnnotationDbi\n",
      "\n",
      "Loading required package: stats4\n",
      "\n",
      "Loading required package: BiocGenerics\n",
      "\n",
      "Warning message:\n",
      "“package ‘BiocGenerics’ was built under R version 4.0.5”\n",
      "Loading required package: parallel\n",
      "\n",
      "\n",
      "Attaching package: ‘BiocGenerics’\n",
      "\n",
      "\n",
      "The following objects are masked from ‘package:parallel’:\n",
      "\n",
      "    clusterApply, clusterApplyLB, clusterCall, clusterEvalQ,\n",
      "    clusterExport, clusterMap, parApply, parCapply, parLapply,\n",
      "    parLapplyLB, parRapply, parSapply, parSapplyLB\n",
      "\n",
      "\n",
      "The following objects are masked from ‘package:stats’:\n",
      "\n",
      "    IQR, mad, sd, var, xtabs\n",
      "\n",
      "\n",
      "The following objects are masked from ‘package:base’:\n",
      "\n",
      "    anyDuplicated, append, as.data.frame, basename, cbind, colnames,\n",
      "    dirname, do.call, duplicated, eval, evalq, Filter, Find, get, grep,\n",
      "    grepl, intersect, is.unsorted, lapply, Map, mapply, match, mget,\n",
      "    order, paste, pmax, pmax.int, pmin, pmin.int, Position, rank,\n",
      "    rbind, Reduce, rownames, sapply, setdiff, sort, table, tapply,\n",
      "    union, unique, unsplit, which.max, which.min\n",
      "\n",
      "\n",
      "Loading required package: Biobase\n",
      "\n",
      "Welcome to Bioconductor\n",
      "\n",
      "    Vignettes contain introductory material; view with\n",
      "    'browseVignettes()'. To cite Bioconductor, see\n",
      "    'citation(\"Biobase\")', and for packages 'citation(\"pkgname\")'.\n",
      "\n",
      "\n",
      "Loading required package: IRanges\n",
      "\n",
      "Loading required package: S4Vectors\n",
      "\n",
      "\n",
      "Attaching package: ‘S4Vectors’\n",
      "\n",
      "\n",
      "The following object is masked from ‘package:base’:\n",
      "\n",
      "    expand.grid\n",
      "\n",
      "\n",
      "Loading required package: org.Hs.eg.db\n",
      "\n",
      "\n",
      "\n",
      "\n",
      "\n",
      "Loading required package: org.Mm.eg.db\n",
      "\n",
      "\n",
      "\n",
      "\n",
      "\n"
     ]
    }
   ],
   "source": [
    "library(illuminaHumanv2.db)\n",
    "library(illuminaMousev2.db)"
   ]
  },
  {
   "cell_type": "code",
   "execution_count": null,
   "id": "8d4c6d6d",
   "metadata": {},
   "outputs": [],
   "source": []
  },
  {
   "cell_type": "markdown",
   "id": "4ab10f3a",
   "metadata": {},
   "source": [
    "## Read in files \n",
    "One sample file from each dataset."
   ]
  },
  {
   "cell_type": "code",
   "execution_count": 9,
   "id": "e9bfb846",
   "metadata": {},
   "outputs": [
    {
     "name": "stdout",
     "output_type": "stream",
     "text": [
      "[1] 45281     1\n"
     ]
    },
    {
     "data": {
      "text/html": [
       "<table class=\"dataframe\">\n",
       "<caption>A data.frame: 6 × 1</caption>\n",
       "<thead>\n",
       "\t<tr><th></th><th scope=col>VALUE</th></tr>\n",
       "\t<tr><th></th><th scope=col>&lt;dbl&gt;</th></tr>\n",
       "</thead>\n",
       "<tbody>\n",
       "\t<tr><th scope=row>ILMN_1243094</th><td>2.88</td></tr>\n",
       "\t<tr><th scope=row>ILMN_1238674</th><td>1.98</td></tr>\n",
       "\t<tr><th scope=row>ILMN_2454720</th><td>3.55</td></tr>\n",
       "\t<tr><th scope=row>ILMN_3062534</th><td>2.96</td></tr>\n",
       "\t<tr><th scope=row>ILMN_3140158</th><td>8.88</td></tr>\n",
       "\t<tr><th scope=row>ILMN_1240307</th><td>3.59</td></tr>\n",
       "</tbody>\n",
       "</table>\n"
      ],
      "text/latex": [
       "A data.frame: 6 × 1\n",
       "\\begin{tabular}{r|l}\n",
       "  & VALUE\\\\\n",
       "  & <dbl>\\\\\n",
       "\\hline\n",
       "\tILMN\\_1243094 & 2.88\\\\\n",
       "\tILMN\\_1238674 & 1.98\\\\\n",
       "\tILMN\\_2454720 & 3.55\\\\\n",
       "\tILMN\\_3062534 & 2.96\\\\\n",
       "\tILMN\\_3140158 & 8.88\\\\\n",
       "\tILMN\\_1240307 & 3.59\\\\\n",
       "\\end{tabular}\n"
      ],
      "text/markdown": [
       "\n",
       "A data.frame: 6 × 1\n",
       "\n",
       "| <!--/--> | VALUE &lt;dbl&gt; |\n",
       "|---|---|\n",
       "| ILMN_1243094 | 2.88 |\n",
       "| ILMN_1238674 | 1.98 |\n",
       "| ILMN_2454720 | 3.55 |\n",
       "| ILMN_3062534 | 2.96 |\n",
       "| ILMN_3140158 | 8.88 |\n",
       "| ILMN_1240307 | 3.59 |\n",
       "\n"
      ],
      "text/plain": [
       "             VALUE\n",
       "ILMN_1243094 2.88 \n",
       "ILMN_1238674 1.98 \n",
       "ILMN_2454720 3.55 \n",
       "ILMN_3062534 2.96 \n",
       "ILMN_3140158 8.88 \n",
       "ILMN_1240307 3.59 "
      ]
     },
     "metadata": {},
     "output_type": "display_data"
    }
   ],
   "source": [
    "m <- read.delim('/Users/lmsande2/Documents/Projects/AI_ML/FDL_Challenge_2021/data/mouse/GLDS148/GSM1035974_sample_table.txt',\n",
    "                header=TRUE,row.names=1,stringsAsFactors=T,check.names=F,sep='\\t')\n",
    "print(dim(m))\n",
    "head(m)"
   ]
  },
  {
   "cell_type": "code",
   "execution_count": 10,
   "id": "d15983c6",
   "metadata": {},
   "outputs": [
    {
     "name": "stdout",
     "output_type": "stream",
     "text": [
      "[1] 48701     1\n"
     ]
    },
    {
     "data": {
      "text/html": [
       "<table class=\"dataframe\">\n",
       "<caption>A data.frame: 6 × 1</caption>\n",
       "<thead>\n",
       "\t<tr><th></th><th scope=col>VALUE</th></tr>\n",
       "\t<tr><th></th><th scope=col>&lt;dbl&gt;</th></tr>\n",
       "</thead>\n",
       "<tbody>\n",
       "\t<tr><th scope=row>ILMN_1762337</th><td>3.04960</td></tr>\n",
       "\t<tr><th scope=row>ILMN_1736007</th><td>3.12112</td></tr>\n",
       "\t<tr><th scope=row>ILMN_1779670</th><td>3.79366</td></tr>\n",
       "\t<tr><th scope=row>ILMN_1806310</th><td>3.33629</td></tr>\n",
       "\t<tr><th scope=row>ILMN_1671474</th><td>3.30117</td></tr>\n",
       "\t<tr><th scope=row>ILMN_1772582</th><td>3.59003</td></tr>\n",
       "</tbody>\n",
       "</table>\n"
      ],
      "text/latex": [
       "A data.frame: 6 × 1\n",
       "\\begin{tabular}{r|l}\n",
       "  & VALUE\\\\\n",
       "  & <dbl>\\\\\n",
       "\\hline\n",
       "\tILMN\\_1762337 & 3.04960\\\\\n",
       "\tILMN\\_1736007 & 3.12112\\\\\n",
       "\tILMN\\_1779670 & 3.79366\\\\\n",
       "\tILMN\\_1806310 & 3.33629\\\\\n",
       "\tILMN\\_1671474 & 3.30117\\\\\n",
       "\tILMN\\_1772582 & 3.59003\\\\\n",
       "\\end{tabular}\n"
      ],
      "text/markdown": [
       "\n",
       "A data.frame: 6 × 1\n",
       "\n",
       "| <!--/--> | VALUE &lt;dbl&gt; |\n",
       "|---|---|\n",
       "| ILMN_1762337 | 3.04960 |\n",
       "| ILMN_1736007 | 3.12112 |\n",
       "| ILMN_1779670 | 3.79366 |\n",
       "| ILMN_1806310 | 3.33629 |\n",
       "| ILMN_1671474 | 3.30117 |\n",
       "| ILMN_1772582 | 3.59003 |\n",
       "\n"
      ],
      "text/plain": [
       "             VALUE  \n",
       "ILMN_1762337 3.04960\n",
       "ILMN_1736007 3.12112\n",
       "ILMN_1779670 3.79366\n",
       "ILMN_1806310 3.33629\n",
       "ILMN_1671474 3.30117\n",
       "ILMN_1772582 3.59003"
      ]
     },
     "metadata": {},
     "output_type": "display_data"
    }
   ],
   "source": [
    "h <- read.delim('/Users/lmsande2/Documents/Projects/AI_ML/FDL_Challenge_2021/data/human/GLDS73/GSM1082165_sample_table.txt',\n",
    "                header=TRUE,row.names=1,stringsAsFactors=T,check.names=F,sep='\\t')\n",
    "print(dim(h))\n",
    "head(h)"
   ]
  },
  {
   "cell_type": "markdown",
   "id": "6a11374f",
   "metadata": {},
   "source": [
    "## Perform mapping between probe IDs and gene IDs \n",
    "Use the mapIDs() function; get gene symbols"
   ]
  },
  {
   "cell_type": "code",
   "execution_count": 14,
   "id": "9e9be245",
   "metadata": {},
   "outputs": [
    {
     "name": "stderr",
     "output_type": "stream",
     "text": [
      "'select()' returned 1:many mapping between keys and columns\n",
      "\n"
     ]
    },
    {
     "name": "stdout",
     "output_type": "stream",
     "text": [
      "[1] 34457     2\n"
     ]
    },
    {
     "data": {
      "text/html": [
       "<table class=\"dataframe\">\n",
       "<caption>A data.frame: 6 × 2</caption>\n",
       "<thead>\n",
       "\t<tr><th></th><th scope=col>ProbeID</th><th scope=col>GeneSymbol</th></tr>\n",
       "\t<tr><th></th><th scope=col>&lt;chr&gt;</th><th scope=col>&lt;chr&gt;</th></tr>\n",
       "</thead>\n",
       "<tbody>\n",
       "\t<tr><th scope=row>1</th><td>ILMN_1238674</td><td>Arl14ep</td></tr>\n",
       "\t<tr><th scope=row>2</th><td>ILMN_2454720</td><td>Arl14ep</td></tr>\n",
       "\t<tr><th scope=row>3</th><td>ILMN_3062534</td><td>Arl14ep</td></tr>\n",
       "\t<tr><th scope=row>4</th><td>ILMN_3140158</td><td>Arl14ep</td></tr>\n",
       "\t<tr><th scope=row>5</th><td>ILMN_1251139</td><td>Dennd4c</td></tr>\n",
       "\t<tr><th scope=row>6</th><td>ILMN_2935307</td><td>Dennd4c</td></tr>\n",
       "</tbody>\n",
       "</table>\n"
      ],
      "text/latex": [
       "A data.frame: 6 × 2\n",
       "\\begin{tabular}{r|ll}\n",
       "  & ProbeID & GeneSymbol\\\\\n",
       "  & <chr> & <chr>\\\\\n",
       "\\hline\n",
       "\t1 & ILMN\\_1238674 & Arl14ep\\\\\n",
       "\t2 & ILMN\\_2454720 & Arl14ep\\\\\n",
       "\t3 & ILMN\\_3062534 & Arl14ep\\\\\n",
       "\t4 & ILMN\\_3140158 & Arl14ep\\\\\n",
       "\t5 & ILMN\\_1251139 & Dennd4c\\\\\n",
       "\t6 & ILMN\\_2935307 & Dennd4c\\\\\n",
       "\\end{tabular}\n"
      ],
      "text/markdown": [
       "\n",
       "A data.frame: 6 × 2\n",
       "\n",
       "| <!--/--> | ProbeID &lt;chr&gt; | GeneSymbol &lt;chr&gt; |\n",
       "|---|---|---|\n",
       "| 1 | ILMN_1238674 | Arl14ep |\n",
       "| 2 | ILMN_2454720 | Arl14ep |\n",
       "| 3 | ILMN_3062534 | Arl14ep |\n",
       "| 4 | ILMN_3140158 | Arl14ep |\n",
       "| 5 | ILMN_1251139 | Dennd4c |\n",
       "| 6 | ILMN_2935307 | Dennd4c |\n",
       "\n"
      ],
      "text/plain": [
       "  ProbeID      GeneSymbol\n",
       "1 ILMN_1238674 Arl14ep   \n",
       "2 ILMN_2454720 Arl14ep   \n",
       "3 ILMN_3062534 Arl14ep   \n",
       "4 ILMN_3140158 Arl14ep   \n",
       "5 ILMN_1251139 Dennd4c   \n",
       "6 ILMN_2935307 Dennd4c   "
      ]
     },
     "metadata": {},
     "output_type": "display_data"
    }
   ],
   "source": [
    "mapM <- na.omit(as.data.frame(mapIds(illuminaMousev2.db, keys=rownames(m),\n",
    "                         keytype='PROBEID', column='SYMBOL', multiVals='first')))\n",
    "mapM <- cbind(rownames(mapM), data.frame(mapM, row.names=NULL))\n",
    "colnames(mapM) <- c('ProbeID','GeneSymbol')\n",
    "print(dim(mapM))\n",
    "head(mapM)"
   ]
  },
  {
   "cell_type": "code",
   "execution_count": null,
   "id": "6af65325",
   "metadata": {},
   "outputs": [],
   "source": []
  },
  {
   "cell_type": "code",
   "execution_count": 15,
   "id": "3708c1d1",
   "metadata": {},
   "outputs": [
    {
     "name": "stderr",
     "output_type": "stream",
     "text": [
      "'select()' returned 1:many mapping between keys and columns\n",
      "\n"
     ]
    },
    {
     "name": "stdout",
     "output_type": "stream",
     "text": [
      "[1] 25353     2\n"
     ]
    },
    {
     "data": {
      "text/html": [
       "<table class=\"dataframe\">\n",
       "<caption>A data.frame: 6 × 2</caption>\n",
       "<thead>\n",
       "\t<tr><th></th><th scope=col>ProbeID</th><th scope=col>GeneSymbol</th></tr>\n",
       "\t<tr><th></th><th scope=col>&lt;chr&gt;</th><th scope=col>&lt;chr&gt;</th></tr>\n",
       "</thead>\n",
       "<tbody>\n",
       "\t<tr><th scope=row>1</th><td>ILMN_1762337</td><td>MACC1 </td></tr>\n",
       "\t<tr><th scope=row>2</th><td>ILMN_1779670</td><td>A1CF  </td></tr>\n",
       "\t<tr><th scope=row>3</th><td>ILMN_1806310</td><td>A1CF  </td></tr>\n",
       "\t<tr><th scope=row>4</th><td>ILMN_1671474</td><td>POTEA </td></tr>\n",
       "\t<tr><th scope=row>5</th><td>ILMN_1772582</td><td>POTEB3</td></tr>\n",
       "\t<tr><th scope=row>6</th><td>ILMN_1653355</td><td>POTEH </td></tr>\n",
       "</tbody>\n",
       "</table>\n"
      ],
      "text/latex": [
       "A data.frame: 6 × 2\n",
       "\\begin{tabular}{r|ll}\n",
       "  & ProbeID & GeneSymbol\\\\\n",
       "  & <chr> & <chr>\\\\\n",
       "\\hline\n",
       "\t1 & ILMN\\_1762337 & MACC1 \\\\\n",
       "\t2 & ILMN\\_1779670 & A1CF  \\\\\n",
       "\t3 & ILMN\\_1806310 & A1CF  \\\\\n",
       "\t4 & ILMN\\_1671474 & POTEA \\\\\n",
       "\t5 & ILMN\\_1772582 & POTEB3\\\\\n",
       "\t6 & ILMN\\_1653355 & POTEH \\\\\n",
       "\\end{tabular}\n"
      ],
      "text/markdown": [
       "\n",
       "A data.frame: 6 × 2\n",
       "\n",
       "| <!--/--> | ProbeID &lt;chr&gt; | GeneSymbol &lt;chr&gt; |\n",
       "|---|---|---|\n",
       "| 1 | ILMN_1762337 | MACC1  |\n",
       "| 2 | ILMN_1779670 | A1CF   |\n",
       "| 3 | ILMN_1806310 | A1CF   |\n",
       "| 4 | ILMN_1671474 | POTEA  |\n",
       "| 5 | ILMN_1772582 | POTEB3 |\n",
       "| 6 | ILMN_1653355 | POTEH  |\n",
       "\n"
      ],
      "text/plain": [
       "  ProbeID      GeneSymbol\n",
       "1 ILMN_1762337 MACC1     \n",
       "2 ILMN_1779670 A1CF      \n",
       "3 ILMN_1806310 A1CF      \n",
       "4 ILMN_1671474 POTEA     \n",
       "5 ILMN_1772582 POTEB3    \n",
       "6 ILMN_1653355 POTEH     "
      ]
     },
     "metadata": {},
     "output_type": "display_data"
    }
   ],
   "source": [
    "mapH <- na.omit(as.data.frame(mapIds(illuminaHumanv2.db, keys=rownames(h),\n",
    "                         keytype='PROBEID', column='SYMBOL', multiVals='first')))\n",
    "mapH <- cbind(rownames(mapH), data.frame(mapH, row.names=NULL))\n",
    "colnames(mapH) <- c('ProbeID','GeneSymbol')\n",
    "print(dim(mapH))\n",
    "head(mapH)"
   ]
  },
  {
   "cell_type": "markdown",
   "id": "22ca65d9",
   "metadata": {},
   "source": [
    "## Write out the results as tab separated files with 2 columns "
   ]
  },
  {
   "cell_type": "code",
   "execution_count": 18,
   "id": "18919968",
   "metadata": {},
   "outputs": [],
   "source": [
    "write.table(mapM, '/Users/lmsande2/Documents/Projects/AI_ML/FDL_Challenge_2021/data/mouse/GLDS148/GLDS148.ProbeID.GeneSymbol.Mapping.txt', \n",
    "          sep='\\t',quote=FALSE,row.names=FALSE)"
   ]
  },
  {
   "cell_type": "code",
   "execution_count": null,
   "id": "a9d2f61b",
   "metadata": {},
   "outputs": [],
   "source": []
  },
  {
   "cell_type": "code",
   "execution_count": 19,
   "id": "38fcc653",
   "metadata": {},
   "outputs": [],
   "source": [
    "write.table(mapH, '/Users/lmsande2/Documents/Projects/AI_ML/FDL_Challenge_2021/data/human/GLDS73/GLDS73.ProbeID.GeneSymbol.Mapping.txt', \n",
    "          sep='\\t',quote=FALSE,row.names=FALSE)"
   ]
  },
  {
   "cell_type": "code",
   "execution_count": null,
   "id": "48323c5f",
   "metadata": {},
   "outputs": [],
   "source": []
  },
  {
   "cell_type": "code",
   "execution_count": null,
   "id": "90d85a65",
   "metadata": {},
   "outputs": [],
   "source": []
  }
 ],
 "metadata": {
  "environment": {
   "name": "common-cu100.m73",
   "type": "gcloud",
   "uri": "gcr.io/deeplearning-platform-release/base-cu100:m73"
  },
  "kernelspec": {
   "display_name": "Python 3",
   "language": "python",
   "name": "python3"
  },
  "language_info": {
   "codemirror_mode": {
    "name": "ipython",
    "version": 3
   },
   "file_extension": ".py",
   "mimetype": "text/x-python",
   "name": "python",
   "nbconvert_exporter": "python",
   "pygments_lexer": "ipython3",
   "version": "3.7.10"
  },
  "toc": {
   "base_numbering": 1,
   "nav_menu": {},
   "number_sections": true,
   "sideBar": true,
   "skip_h1_title": false,
   "title_cell": "Table of Contents",
   "title_sidebar": "Contents",
   "toc_cell": false,
   "toc_position": {},
   "toc_section_display": true,
   "toc_window_display": false
  }
 },
 "nbformat": 4,
 "nbformat_minor": 5
}

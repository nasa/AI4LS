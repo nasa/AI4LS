{
 "cells": [
  {
   "cell_type": "code",
   "execution_count": 6,
   "id": "920e34ad",
   "metadata": {},
   "outputs": [
    {
     "data": {
      "text/plain": [
       "'/home/jupyter/crisp'"
      ]
     },
     "execution_count": 6,
     "metadata": {},
     "output_type": "execute_result"
    }
   ],
   "source": [
    "import os\n",
    "import json\n",
    "import pandas as pd\n",
    "while os.getcwd() != '/home/jupyter/crisp':\n",
    "    os.chdir(\"..\")\n",
    "%pwd"
   ]
  },
  {
   "cell_type": "code",
   "execution_count": 7,
   "id": "45b6cbeb",
   "metadata": {},
   "outputs": [],
   "source": [
    "from tqdm import tqdm\n",
    "from sklearn.model_selection import train_test_split\n",
    "from google.cloud import storage\n",
    "reduced_modes = [True,False]"
   ]
  },
  {
   "cell_type": "code",
   "execution_count": 8,
   "id": "0efb2de8",
   "metadata": {},
   "outputs": [
    {
     "name": "stderr",
     "output_type": "stream",
     "text": [
      "  0%|          | 0/75 [00:00<?, ?it/s]"
     ]
    },
    {
     "name": "stdout",
     "output_type": "stream",
     "text": [
      "reduced_mode_on\n"
     ]
    },
    {
     "name": "stderr",
     "output_type": "stream",
     "text": [
      "100%|██████████| 75/75 [04:29<00:00,  3.59s/it]\n",
      "100%|██████████| 75/75 [09:08<00:00,  7.32s/it]\n"
     ]
    }
   ],
   "source": [
    "for reduced_mode in reduced_modes:\n",
    "    data = pd.read_pickle('data/cosmic_rads/human_mice_data_combined.pkl')\n",
    "    data.environment.unique()\n",
    "    environment_indices = data.environment\n",
    "    predictor_indices = data.irradiated\n",
    "    if 'irradiated' in data.columns:\n",
    "        data = data[data.columns[43:-4]]\n",
    "    if reduced_mode:\n",
    "        top_1000_variance_columns = list(data.std().sort_values(ascending=False).iloc[:1000].index)\n",
    "        data = data[top_1000_variance_columns]\n",
    "        \n",
    "    data['Target'] = predictor_indices\n",
    "    data['environment'] = environment_indices\n",
    "    \n",
    "\n",
    "\n",
    "\n",
    "    if reduced_mode:\n",
    "        experiment_directory = 'final_heavy_ion_experiment_reduced/'\n",
    "        print('reduced_mode_on')\n",
    "    else: \n",
    "        experiment_directory = 'final_heavy_ion_experiment/'\n",
    "        \n",
    "    for seed in tqdm(range(0,75)):\n",
    "        seed_directory = 'seed_{}/'.format(str(seed))\n",
    "\n",
    "        for index, environment in enumerate(data.environment.unique()):\n",
    "#             colab_directory = 'col_{}_{}/'.format(index, environment.replace(\" \", \"\"))\n",
    "            colab_directory = 'col_{}/'.format(index)\n",
    "            env_data = data[data.environment == environment]\n",
    "            env_data = env_data.drop('environment', axis=1)\n",
    "            train, test = train_test_split(env_data, test_size=0.2, random_state = seed)\n",
    "\n",
    "            blob = bucket.blob(experiment_directory+seed_directory+colab_directory+'train/data.csv')\n",
    "            train.to_csv('heavy_ion_data.csv')\n",
    "            blob.upload_from_filename('heavy_ion_data.csv')\n",
    "\n",
    "            blob = bucket.blob(experiment_directory+seed_directory+colab_directory+'test/data.csv')\n",
    "            test.to_csv('heavy_ion_data.csv')\n",
    "            blob.upload_from_filename('heavy_ion_data.csv')\n"
   ]
  },
  {
   "cell_type": "code",
   "execution_count": 3,
   "id": "b54354fc",
   "metadata": {},
   "outputs": [],
   "source": [
    "reduced_mode = True"
   ]
  },
  {
   "cell_type": "code",
   "execution_count": 4,
   "id": "35a2dae3",
   "metadata": {},
   "outputs": [],
   "source": [
    "data = pd.read_pickle('data/cosmic_rads/human_mice_data_combined.pkl')"
   ]
  },
  {
   "cell_type": "code",
   "execution_count": 5,
   "id": "51e2ad3c",
   "metadata": {},
   "outputs": [],
   "source": [
    "environment_indices = data.environment"
   ]
  },
  {
   "cell_type": "code",
   "execution_count": 6,
   "id": "2f788745",
   "metadata": {},
   "outputs": [],
   "source": [
    "predictor_indices = data.irradiated"
   ]
  },
  {
   "cell_type": "code",
   "execution_count": 7,
   "id": "009a2982",
   "metadata": {},
   "outputs": [],
   "source": [
    "if 'irradiated' in data.columns:\n",
    "    data = data[data.columns[43:-4]]"
   ]
  },
  {
   "cell_type": "code",
   "execution_count": 8,
   "id": "3df94669",
   "metadata": {},
   "outputs": [],
   "source": [
    "if reduced_mode:\n",
    "    top_1000_variance_columns = list(data.std().sort_values(ascending=False).iloc[:1000].index)\n",
    "    data = data[top_1000_variance_columns]"
   ]
  },
  {
   "cell_type": "code",
   "execution_count": 9,
   "id": "9aaf2366",
   "metadata": {},
   "outputs": [
    {
     "data": {
      "text/plain": [
       "array(['Homo sapiensHBEC3KT', 'Mus musculusfemale', 'Mus musculusmale'],\n",
       "      dtype=object)"
      ]
     },
     "execution_count": 9,
     "metadata": {},
     "output_type": "execute_result"
    }
   ],
   "source": [
    "environment_indices.unique()"
   ]
  },
  {
   "cell_type": "code",
   "execution_count": 10,
   "id": "020fbff5",
   "metadata": {},
   "outputs": [],
   "source": [
    "data['Target'] = predictor_indices\n",
    "data['environment'] = environment_indices"
   ]
  },
  {
   "cell_type": "code",
   "execution_count": 11,
   "id": "8448b59e",
   "metadata": {},
   "outputs": [
    {
     "name": "stdout",
     "output_type": "stream",
     "text": [
      "reduced_mode_on\n"
     ]
    }
   ],
   "source": [
    "from google.cloud import storage\n",
    "storage_client = storage.Client()\n",
    "bucket = storage_client.get_bucket('ah21_data')\n",
    "\n",
    "if reduced_mode:\n",
    "    experiment_directory = 'heavy_ion_experiment_reduced/'\n",
    "    print('reduced_mode_on')\n",
    "else: \n",
    "    experiment_directory = 'heavy_ion_experiment/'"
   ]
  },
  {
   "cell_type": "code",
   "execution_count": 12,
   "id": "ab63d86b",
   "metadata": {},
   "outputs": [
    {
     "name": "stderr",
     "output_type": "stream",
     "text": [
      "100%|██████████| 75/75 [03:13<00:00,  2.58s/it]\n"
     ]
    }
   ],
   "source": [
    "for seed in tqdm(range(0,75)):\n",
    "    seed_directory = 'seed_{}/'.format(str(seed))\n",
    "    \n",
    "    for index, environment in enumerate(data.environment.unique()):\n",
    "        colab_directory = 'col_{}_{}/'.format(index, environment.replace(\" \", \"\"))\n",
    "        env_data = data[data.environment == environment]\n",
    "        env_data = env_data.drop('environment', axis=1)\n",
    "        train, test = train_test_split(env_data, test_size=0.2, random_state = seed)\n",
    "        \n",
    "        blob = bucket.blob(experiment_directory+seed_directory+colab_directory+'train/data.csv')\n",
    "        train.to_csv('data.csv')\n",
    "        blob.upload_from_filename('data.csv')\n",
    "\n",
    "        blob = bucket.blob(experiment_directory+seed_directory+colab_directory+'test/data.csv')\n",
    "        test.to_csv('data.csv')\n",
    "        blob.upload_from_filename('data.csv')"
   ]
  },
  {
   "cell_type": "code",
   "execution_count": 102,
   "id": "6096baf4",
   "metadata": {},
   "outputs": [
    {
     "name": "stdout",
     "output_type": "stream",
     "text": [
      "col_0_HomosapiensHBEC3KT/\n",
      "col_1_Musmusculusfemale/\n",
      "col_2_Musmusculusmale/\n"
     ]
    }
   ],
   "source": []
  },
  {
   "cell_type": "code",
   "execution_count": 90,
   "id": "09760aab",
   "metadata": {},
   "outputs": [],
   "source": []
  },
  {
   "cell_type": "code",
   "execution_count": 98,
   "id": "04afd634",
   "metadata": {},
   "outputs": [],
   "source": [
    "blob = bucket.blob('test_project/README.md')"
   ]
  },
  {
   "cell_type": "code",
   "execution_count": 99,
   "id": "2d8cff38",
   "metadata": {},
   "outputs": [],
   "source": [
    "blob.upload_from_filename('README.md')"
   ]
  }
 ],
 "metadata": {
  "environment": {
   "name": "common-cu100.m73",
   "type": "gcloud",
   "uri": "gcr.io/deeplearning-platform-release/base-cu100:m73"
  },
  "kernelspec": {
   "display_name": "Python 3",
   "language": "python",
   "name": "python3"
  },
  "language_info": {
   "codemirror_mode": {
    "name": "ipython",
    "version": 3
   },
   "file_extension": ".py",
   "mimetype": "text/x-python",
   "name": "python",
   "nbconvert_exporter": "python",
   "pygments_lexer": "ipython3",
   "version": "3.7.10"
  }
 },
 "nbformat": 4,
 "nbformat_minor": 5
}

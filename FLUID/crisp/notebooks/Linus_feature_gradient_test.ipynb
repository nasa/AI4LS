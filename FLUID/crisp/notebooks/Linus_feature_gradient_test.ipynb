{
 "cells": [
  {
   "cell_type": "code",
   "execution_count": 1,
   "id": "f7681243",
   "metadata": {},
   "outputs": [],
   "source": [
    "import sys\n",
    "#sys.path.insert(1, '/home/linus/projects/fdl/crisp')"
   ]
  },
  {
   "cell_type": "code",
   "execution_count": 2,
   "id": "78a037a2",
   "metadata": {},
   "outputs": [
    {
     "data": {
      "text/plain": [
       "'/home/jupyter/crisp'"
      ]
     },
     "execution_count": 2,
     "metadata": {},
     "output_type": "execute_result"
    }
   ],
   "source": [
    "import os\n",
    "import pandas as pd\n",
    "if os.getcwd() != '/home/jupyter/crisp':\n",
    "    os.chdir(\"..\")\n",
    "%pwd"
   ]
  },
  {
   "cell_type": "code",
   "execution_count": 3,
   "id": "7a3f06e3",
   "metadata": {},
   "outputs": [],
   "source": [
    "from models.SimpleNonLinearInvariantRiskMinimization import SimpleNonLinearInvariantRiskMinimization\n",
    "from models.LinearInvariantRiskMinimization import LinearInvariantRiskMinimization\n",
    "from dataio.DataFrameDataset import *\n",
    "from dataio.datasets import *"
   ]
  },
  {
   "cell_type": "code",
   "execution_count": 4,
   "id": "dbca7377",
   "metadata": {},
   "outputs": [],
   "source": [
    "from synthetic.facebook_synthetic_data_generator import generator_example\n",
    "\n",
    "dim_inv = 6\n",
    "dim_spu = 60\n",
    "n_exp_train = 1000 #int(2e2)\n",
    "n_exp_test = 300\n",
    "n_env = 5\n",
    "save_dir = 'data/synthetic'"
   ]
  },
  {
   "cell_type": "code",
   "execution_count": 5,
   "id": "639f0076",
   "metadata": {},
   "outputs": [],
   "source": [
    "config = {\n",
    "    \"name\": \"Example Experiment for AH casual ensemble\",\n",
    "    \"short_name\": \"ah_experiment_notebook\",\n",
    "    \"bucket_project\": \"fdl-us-astronaut-health\",\n",
    "    \"bucket_name\": \"ah_21_data\",\n",
    "    \"bucket_path\": \"gs://ah_21_data\",\n",
    "    \"verbose\": 1,\n",
    "    \"test_val_split\": [0.1, 0.1],\n",
    "    \"per_variant_experiment\": False,\n",
    "    \"data_options\": {\n",
    "        #'dataset_fp': '../data/test_multiclass.pkl',\n",
    "        'dataset_fp' : None,\n",
    "        'output_data_regime' : [\"real-valued\", \"binary\", \"binary\", \"real-valued\", \"multi-class\"],\n",
    "        'subject_keys': 'Subj_ID',\n",
    "        'targets': ['Target'],\n",
    " #        'predictors': ['All'],\n",
    "        'predictors': None,\n",
    "        'environments': ['env_split'],\n",
    "        'exclude': ['Subj_ID'],\n",
    "        'synthetic_train_test_split' : True,\n",
    "    },\n",
    "    \"feature_selection_options\": {\n",
    "        \"max_features\": 20,\n",
    "        \"verbose\": 0,\n",
    "        \"seed\": 12\n",
    "    },\n",
    "    \"ensemble_options\": {\n",
    "        \"models\": [\"ERM\", \"RF\", \"ICP\", \"IRM\", \"DCF\", \"ITE\", \"LIRM\", \"NLICP\"]\n",
    "    },\n",
    "    \"use_cloud\":False,\n",
    "    \"results_directory\": \"results/\"\n",
    "}\n",
    "data_config = config['data_options']"
   ]
  },
  {
   "cell_type": "code",
   "execution_count": 6,
   "id": "c879fca3",
   "metadata": {},
   "outputs": [],
   "source": [
    "LIRM_options = config.get(\"ensemble_options\").get('LIRM', {})\n",
    "LIRM_args = {\n",
    "            \"use_icp_initialization\": False,\n",
    "            \"verbose\": 0,\n",
    "            \"n_iterations\": 5000, # 1000\n",
    "            \"seed\": 0,\n",
    "            \"lr\": 0.005, # 0.001\n",
    "            \"cuda\": False,\n",
    "    \"output_dim\" : 1\n",
    "        }\n",
    "LIRM_args.update(LIRM_options)"
   ]
  },
  {
   "cell_type": "code",
   "execution_count": 7,
   "id": "8a6ab334",
   "metadata": {},
   "outputs": [],
   "source": [
    "def get_dataset_for_synthetic_experiment(n_example, dim_inv, dim_spu, n_exp_train, n_exp_test, n_env, save_dir):\n",
    "    # training data\n",
    "    generator_example(n_example, dim_inv, dim_spu, n_exp_train, n_env ,save_dir, False)\n",
    "    outfile_train = os.path.join(save_dir,\"data_fb_example_%s_dim_inv_%s_dim_spu_%s_dim_unc_%s_n_exp_%s_n_env_%s_test_%s.pickle\" %(n_example, dim_inv, dim_spu, 0, n_exp_train, n_env, False))\n",
    "\n",
    "    # test data\n",
    "    generator_example(n_example, dim_inv, dim_spu, n_exp_test, n_env ,save_dir, True)\n",
    "    outfile_test = os.path.join(save_dir,\"data_fb_example_%s_dim_inv_%s_dim_spu_%s_dim_unc_%s_n_exp_%s_n_env_%s_test_%s.pickle\" %(n_example, dim_inv, dim_spu, 0, n_exp_test, n_env, True))\n",
    "    \n",
    "    return outfile_train, outfile_test"
   ]
  },
  {
   "cell_type": "code",
   "execution_count": 8,
   "id": "38205fec",
   "metadata": {},
   "outputs": [
    {
     "name": "stdout",
     "output_type": "stream",
     "text": [
      "\n",
      "\n",
      "n_example: 1 output_data_regime: real-valued \n",
      "\n",
      "\n",
      "Environments variables: {'E0': 0.1, 'E1': 1.5, 'E2': 2, 'E3': 0.30815539086172433, 'E4': 2.016811860476012}\n",
      "Generated Synthetic Data according to the Facebook setup Example: 1\n",
      "     df with  66  columns\n",
      "Environments variables: {'E0': 0.1, 'E1': 1.5, 'E2': 2, 'E3': 0.30815539086172433, 'E4': 2.016811860476012}\n",
      "Generated Synthetic Data according to the Facebook setup Example: 1\n",
      "     df with  66  columns\n"
     ]
    }
   ],
   "source": [
    "results = {}\n",
    "\n",
    "for n_example in [1]:#,2,3,4,5]:\n",
    "    output_data_regime = config[\"data_options\"][\"output_data_regime\"][n_example-1]\n",
    "    print(\"\\n\\nn_example:\", n_example, \"output_data_regime:\", output_data_regime, \"\\n\\n\")\n",
    "    \n",
    "    outfile_train, outfile_test = get_dataset_for_synthetic_experiment(n_example, dim_inv, dim_spu, n_exp_train, n_exp_test, n_env, save_dir)\n",
    "    df_train = pd.read_pickle(outfile_train)\n",
    "    df_test = pd.read_pickle(outfile_test)\n",
    "\n",
    "    config[\"data_options\"][\"dataset_fp_train\"] = outfile_train\n",
    "    config[\"data_options\"][\"dataset_fp_test\"] = outfile_test\n",
    "    config[\"data_options\"][\"predictors\"] = list(df_train.columns[0:dim_inv+dim_spu])"
   ]
  },
  {
   "cell_type": "code",
   "execution_count": 9,
   "id": "4bb221b2",
   "metadata": {},
   "outputs": [
    {
     "name": "stdout",
     "output_type": "stream",
     "text": [
      "Running a per sample experiment\n",
      "Using synthetic dataset train/test split\n",
      "Loaded  5  train environments\n",
      "Env  0  has  200  samples\n",
      "X shape  (200, 66)  y shape  (200, 1)\n",
      "Env  1  has  200  samples\n",
      "X shape  (200, 66)  y shape  (200, 1)\n",
      "Env  2  has  200  samples\n",
      "X shape  (200, 66)  y shape  (200, 1)\n",
      "Env  3  has  200  samples\n",
      "X shape  (200, 66)  y shape  (200, 1)\n",
      "Env  4  has  200  samples\n",
      "X shape  (200, 66)  y shape  (200, 1)\n",
      "Loaded test set, X shape: (300, 66)  y shape:  (300, 1)\n"
     ]
    }
   ],
   "source": [
    "environment_datasets, val_dataset, test_dataset = get_datasets_for_experiment(config)\n",
    "\n",
    "LIRM_args[\"target\"] = config[\"data_options\"][\"targets\"]\n",
    "LIRM_args[\"output_data_regime\"] = output_data_regime\n",
    "LIRM_args[\"columns\"] = test_dataset.predictor_columns"
   ]
  },
  {
   "cell_type": "code",
   "execution_count": 10,
   "id": "738408d9",
   "metadata": {},
   "outputs": [
    {
     "name": "stdout",
     "output_type": "stream",
     "text": [
      "Start simple nonlinear-IRM training procedure\n"
     ]
    }
   ],
   "source": [
    "#lirm = SimpleNonLinearInvariantRiskMinimization(environment_datasets, val_dataset, test_dataset, LIRM_args)\n",
    "lirm = SimpleNonLinearInvariantRiskMinimization(environment_datasets, test_dataset, test_dataset, LIRM_args)\n",
    "#lirm = LinearInvariantRiskMinimization(environment_datasets, test_dataset, test_dataset, LIRM_args)\n",
    "\n",
    "lirm_results_dict = lirm.results()\n",
    "results[n_example] = lirm_results_dict"
   ]
  },
  {
   "cell_type": "code",
   "execution_count": 11,
   "id": "bbaf5733",
   "metadata": {},
   "outputs": [
    {
     "data": {
      "text/plain": [
       "dict_keys(['test_logits', 'test_acc', 'test_nll', 'test_probs', 'test_labels', 'feature_coeffients', 'loss_over_time', 'acc_over_time', 'to_bucket'])"
      ]
     },
     "execution_count": 11,
     "metadata": {},
     "output_type": "execute_result"
    }
   ],
   "source": [
    "lirm_results_dict.keys()"
   ]
  },
  {
   "cell_type": "code",
   "execution_count": 12,
   "id": "92d3e817",
   "metadata": {},
   "outputs": [
    {
     "name": "stdout",
     "output_type": "stream",
     "text": [
      "dict_keys(['test_logits', 'test_acc', 'test_nll', 'test_probs', 'test_labels', 'feature_coeffients', 'loss_over_time', 'acc_over_time', 'to_bucket'])\n"
     ]
    },
    {
     "data": {
      "text/plain": [
       "('acc/r2:', 12.107722)"
      ]
     },
     "execution_count": 12,
     "metadata": {},
     "output_type": "execute_result"
    }
   ],
   "source": [
    "print(results.get(n_example).keys())\n",
    "\"acc/r2:\", results.get(n_example).get(\"test_acc\")"
   ]
  },
  {
   "cell_type": "code",
   "execution_count": 13,
   "id": "aeec11a0",
   "metadata": {},
   "outputs": [
    {
     "data": {
      "text/plain": [
       "[('Non_causal_58', 0.02112496830523014),\n",
       " ('Non_causal_46', 0.017824701964855194),\n",
       " ('Non_causal_3', 0.01753070019185543),\n",
       " ('Non_causal_24', 0.017273899167776108),\n",
       " ('Non_causal_8', 0.016998829320073128),\n",
       " ('Non_causal_42', 0.016971666365861893),\n",
       " ('Causal_4', 0.016815656796097755),\n",
       " ('Causal_5', 0.016711652278900146),\n",
       " ('Non_causal_17', 0.016658736392855644),\n",
       " ('Non_causal_53', 0.016522562131285667)]"
      ]
     },
     "execution_count": 13,
     "metadata": {},
     "output_type": "execute_result"
    }
   ],
   "source": [
    "result = results.get(n_example).get(\"to_bucket\")\n",
    "\n",
    "if output_data_regime == \"multi-class\":\n",
    "    r = sorted(zip(result.get(\"features\"), np.abs(result.get(\"coefficients\")).sum(axis=1)), key=lambda x: x[1], reverse=True)\n",
    "else:\n",
    "    r = sorted(zip(result.get(\"features\"), result.get(\"coefficients\")), key=lambda x: abs(x[1]), reverse=True)\n",
    "r[:10]"
   ]
  },
  {
   "cell_type": "code",
   "execution_count": 14,
   "id": "7ac48651",
   "metadata": {},
   "outputs": [
    {
     "name": "stdout",
     "output_type": "stream",
     "text": [
      "input_gradients: torch.Size([1000, 66])\n"
     ]
    }
   ],
   "source": [
    "grads = lirm.get_input_gradients()"
   ]
  },
  {
   "cell_type": "code",
   "execution_count": 15,
   "id": "d9998af0",
   "metadata": {},
   "outputs": [],
   "source": [
    "features = result.get(\"features\")"
   ]
  },
  {
   "cell_type": "code",
   "execution_count": 16,
   "id": "70c9af12",
   "metadata": {},
   "outputs": [
    {
     "data": {
      "text/plain": [
       "[('Causal_4', tensor(0.0110)),\n",
       " ('Non_causal_24', tensor(0.0109)),\n",
       " ('Non_causal_48', tensor(0.0104)),\n",
       " ('Non_causal_57', tensor(0.0098)),\n",
       " ('Non_causal_13', tensor(0.0097)),\n",
       " ('Non_causal_58', tensor(0.0097)),\n",
       " ('Non_causal_18', tensor(0.0096)),\n",
       " ('Non_causal_2', tensor(0.0096)),\n",
       " ('Non_causal_15', tensor(0.0096)),\n",
       " ('Non_causal_8', tensor(0.0095))]"
      ]
     },
     "execution_count": 16,
     "metadata": {},
     "output_type": "execute_result"
    }
   ],
   "source": [
    "sorted(zip(features, grads), key=lambda x: abs(x[1]), reverse=True)[:10]"
   ]
  },
  {
   "cell_type": "code",
   "execution_count": null,
   "id": "ff580d63",
   "metadata": {},
   "outputs": [],
   "source": []
  }
 ],
 "metadata": {
  "environment": {
   "name": "pytorch-gpu.1-9.m74",
   "type": "gcloud",
   "uri": "gcr.io/deeplearning-platform-release/pytorch-gpu.1-9:m74"
  },
  "kernelspec": {
   "display_name": "Python [conda env:root] *",
   "language": "python",
   "name": "conda-root-py"
  },
  "language_info": {
   "codemirror_mode": {
    "name": "ipython",
    "version": 3
   },
   "file_extension": ".py",
   "mimetype": "text/x-python",
   "name": "python",
   "nbconvert_exporter": "python",
   "pygments_lexer": "ipython3",
   "version": "3.7.10"
  },
  "widgets": {
   "application/vnd.jupyter.widget-state+json": {
    "state": {},
    "version_major": 2,
    "version_minor": 0
   }
  }
 },
 "nbformat": 4,
 "nbformat_minor": 5
}

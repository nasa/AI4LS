{
 "cells": [
  {
   "cell_type": "code",
   "execution_count": 1,
   "id": "ee5383ec",
   "metadata": {},
   "outputs": [
    {
     "data": {
      "text/plain": [
       "'/home/jupyter/crisp'"
      ]
     },
     "execution_count": 1,
     "metadata": {},
     "output_type": "execute_result"
    }
   ],
   "source": [
    "import os\n",
    "import pandas as pd\n",
    "while os.getcwd() != '/home/jupyter/crisp':\n",
    "    os.chdir(\"..\")\n",
    "%pwd"
   ]
  },
  {
   "cell_type": "code",
   "execution_count": 2,
   "id": "b1b2f97d",
   "metadata": {},
   "outputs": [],
   "source": [
    "from models.MouseInitialisedSimpleNonLinearInvariantRiskMinimization import *\n",
    "from models.SimpleNonLinearInvariantRiskMinimization import SimpleNonLinearInvariantRiskMinimization \n",
    "from dataio.DataFrameDataset import *\n",
    "from dataio.datasets import *"
   ]
  },
  {
   "cell_type": "code",
   "execution_count": 3,
   "id": "a3c69554",
   "metadata": {},
   "outputs": [],
   "source": [
    "from synthetic.facebook_synthetic_data_generator import generator_example\n",
    "\n",
    "dim_inv = 2\n",
    "dim_spu = 2\n",
    "n_exp_train = 6 #int(2e2)\n",
    "n_exp_test = 6\n",
    "n_env = 3\n",
    "save_dir = 'data/synthetic'"
   ]
  },
  {
   "cell_type": "code",
   "execution_count": 4,
   "id": "2d4cced5",
   "metadata": {},
   "outputs": [],
   "source": [
    "config = {\n",
    "    \"name\": \"Example Experiment for AH casual ensemble\",\n",
    "    \"short_name\": \"ah_experiment_notebook\",\n",
    "    \"bucket_project\": \"fdl-us-astronaut-health\",\n",
    "    \"bucket_name\": \"ah_21_data\",\n",
    "    \"bucket_path\": \"gs://ah_21_data\",\n",
    "    \"verbose\": 1,\n",
    "    \"test_val_split\": [0.1, 0.1],\n",
    "    \"per_variant_experiment\": False,\n",
    "    \"data_options\": {\n",
    "        #'dataset_fp': '../data/test_multiclass.pkl',\n",
    "        'dataset_fp' : None,\n",
    "        'output_data_regime' : [\"real-valued\", \"binary\", \"binary\", \"real-valued\", \"multi-class\"],\n",
    "        'subject_keys': 'Subj_ID',\n",
    "        'targets': ['Target'],\n",
    " #        'predictors': ['All'],\n",
    "        'predictors': None,\n",
    "        'environments': ['env_split'],\n",
    "        'exclude': ['Subj_ID'],\n",
    "        'synthetic_train_test_split' : True,\n",
    "    },\n",
    "    \"feature_selection_options\": {\n",
    "        \"max_features\": 20,\n",
    "        \"verbose\": 0,\n",
    "        \"seed\": 12\n",
    "    },\n",
    "    \"ensemble_options\": {\n",
    "        \"models\": [\"ERM\", \"RF\", \"ICP\", \"IRM\", \"DCF\", \"ITE\", \"LIRM\", \"NLICP\"]\n",
    "    },\n",
    "    \"use_cloud\":False,\n",
    "    \"results_directory\": \"results/\"\n",
    "}\n",
    "data_config = config['data_options']"
   ]
  },
  {
   "cell_type": "code",
   "execution_count": 5,
   "id": "abb26556",
   "metadata": {},
   "outputs": [],
   "source": [
    "LIRM_options = config.get(\"ensemble_options\").get('LIRM', {})\n",
    "LIRM_args = {\n",
    "            \"use_icp_initialization\": False,\n",
    "            \"verbose\": 1,\n",
    "            \"n_iterations\": 100, # 1000\n",
    "            \"seed\": 0,\n",
    "            \"lr\": 0.005, # 0.001\n",
    "            \"cuda\": False\n",
    "        }\n",
    "LIRM_args.update(LIRM_options)"
   ]
  },
  {
   "cell_type": "code",
   "execution_count": 6,
   "id": "931472ce",
   "metadata": {},
   "outputs": [],
   "source": [
    "def get_dataset_for_synthetic_experiment(n_example, dim_inv, dim_spu, n_exp_train, n_exp_test, n_env, save_dir):\n",
    "    # training data\n",
    "    generator_example(n_example, dim_inv, dim_spu, n_exp_train, n_env ,save_dir, False)\n",
    "    outfile_train = os.path.join(save_dir,\"data_fb_example_%s_dim_inv_%s_dim_spu_%s_n_exp_%s_n_env_%s_test_%s.pickle\" %(n_example, dim_inv, dim_spu, n_exp_train, n_env, False))\n",
    "\n",
    "    # test data\n",
    "    generator_example(n_example, dim_inv, dim_spu, n_exp_test, n_env ,save_dir, True)\n",
    "    outfile_test = os.path.join(save_dir,\"data_fb_example_%s_dim_inv_%s_dim_spu_%s_n_exp_%s_n_env_%s_test_%s.pickle\" %(n_example, dim_inv, dim_spu, n_exp_test, n_env, True))\n",
    "    \n",
    "    return outfile_train, outfile_test"
   ]
  },
  {
   "cell_type": "code",
   "execution_count": 7,
   "id": "95259ecb",
   "metadata": {},
   "outputs": [
    {
     "name": "stdout",
     "output_type": "stream",
     "text": [
      "\n",
      "\n",
      "n_example: 1 output_data_regime: real-valued \n",
      "\n",
      "\n",
      "Environments variables: {'E0': 0.1, 'E1': 1.5, 'E2': 2}\n",
      "Generated Synthetic Data according to the Facebook setup Example: 1\n",
      "     df with  4  columns\n",
      "Environments variables: {'E0': 0.1, 'E1': 1.5, 'E2': 2}\n",
      "Generated Synthetic Data according to the Facebook setup Example: 1\n",
      "     df with  4  columns\n",
      "Running a per sample experiment\n",
      "Using synthetic dataset train/test split\n",
      "Loaded  3  train environments\n",
      "Env  0  has  2  samples\n",
      "X shape  (2, 4)  y shape  (2, 1)\n",
      "Env  1  has  2  samples\n",
      "X shape  (2, 4)  y shape  (2, 1)\n",
      "Env  2  has  2  samples\n",
      "X shape  (2, 4)  y shape  (2, 1)\n",
      "Loaded test set, X shape: (6, 4)  y shape:  (6, 1)\n",
      "Start simple nonlinear-IRM training procedure\n",
      "Sequential(\n",
      "  (0): Linear(in_features=5, out_features=5, bias=False)\n",
      "  (1): Sigmoid()\n",
      "  (2): Linear(in_features=5, out_features=5, bias=False)\n",
      ")\n",
      "IRM (reg=0.001) has 21.216 validation error.\n"
     ]
    }
   ],
   "source": [
    "results = {}\n",
    "\n",
    "for n_example in [1]:#,2,3,4,5]:\n",
    "    output_data_regime = config[\"data_options\"][\"output_data_regime\"][n_example-1]\n",
    "    print(\"\\n\\nn_example:\", n_example, \"output_data_regime:\", output_data_regime, \"\\n\\n\")\n",
    "    \n",
    "    outfile_train, outfile_test = get_dataset_for_synthetic_experiment(n_example, dim_inv, dim_spu, n_exp_train, n_exp_test, n_env, save_dir)\n",
    "    df_train = pd.read_pickle(outfile_train)\n",
    "    df_test = pd.read_pickle(outfile_test)\n",
    "\n",
    "    config[\"data_options\"][\"dataset_fp_train\"] = outfile_train\n",
    "    config[\"data_options\"][\"dataset_fp_test\"] = outfile_test\n",
    "    config[\"data_options\"][\"predictors\"] = list(df_train.columns[0:dim_inv+dim_spu])\n",
    "    environment_datasets, val_dataset, test_dataset = get_datasets_for_experiment(config)\n",
    "\n",
    "    LIRM_args[\"target\"] = config[\"data_options\"][\"targets\"]\n",
    "    LIRM_args[\"output_data_regime\"] = output_data_regime\n",
    "    LIRM_args[\"columns\"] = test_dataset.predictor_columns\n",
    "\n",
    "    mouse_base_data = MouseInitialiser(environment_datasets, val_dataset, test_dataset, LIRM_args)"
   ]
  },
  {
   "cell_type": "code",
   "execution_count": 8,
   "id": "c226dc3d",
   "metadata": {},
   "outputs": [
    {
     "name": "stdout",
     "output_type": "stream",
     "text": [
      "Start simple nonlinear-IRM training procedure\n",
      "could not assign weight from Sigmoid() to Sigmoid()\n",
      "IRM (reg=0.001) has 20.944 validation error.\n"
     ]
    }
   ],
   "source": [
    "mouse_pre_load = MouseInitialisedSimpleNonLinearInvariantRiskMinimization(environment_datasets,\n",
    "                                                                          val_dataset,\n",
    "                                                                          test_dataset,\n",
    "                                                                          LIRM_args,\n",
    "                                                                          mouse_base_data.get_phi_params)"
   ]
  },
  {
   "cell_type": "code",
   "execution_count": 19,
   "id": "2b27fe29",
   "metadata": {},
   "outputs": [],
   "source": [
    "mouse_base_data.get_phi_params"
   ]
  },
  {
   "cell_type": "code",
   "execution_count": 49,
   "id": "5306fb2c",
   "metadata": {},
   "outputs": [
    {
     "data": {
      "text/plain": [
       "Parameter containing:\n",
       "tensor([[ 0.0068,  0.2296, -0.3580, -0.3190, -0.1621],\n",
       "        [ 0.1101,  0.0010,  0.3448, -0.0495,  0.1085],\n",
       "        [-0.1403, -0.0879, -0.4307, -0.2973, -0.1829],\n",
       "        [ 0.0266,  0.1666,  0.2784, -0.2931, -0.1847],\n",
       "        [ 0.1725,  0.3612, -0.0819,  0.3448, -0.0620]], requires_grad=True)"
      ]
     },
     "execution_count": 49,
     "metadata": {},
     "output_type": "execute_result"
    }
   ],
   "source": [
    "torch.nn.Parameter(ass[0].weight.detach())"
   ]
  },
  {
   "cell_type": "code",
   "execution_count": 52,
   "id": "4e5cfeca",
   "metadata": {},
   "outputs": [
    {
     "name": "stdout",
     "output_type": "stream",
     "text": [
      "could not assign weight from Sigmoid() to Sigmoid()\n"
     ]
    }
   ],
   "source": [
    "for x,y  in zip(ass, mouse_base_data.phi):\n",
    "    try: \n",
    "        with torch.no_grad():\n",
    "            y.weight = torch.nn.Parameter(x.weight.detach())\n",
    "    except:\n",
    "        print('could not assign weight from '+str(x)+' to '+str(y))"
   ]
  },
  {
   "cell_type": "code",
   "execution_count": null,
   "id": "f5ad66a9",
   "metadata": {},
   "outputs": [],
   "source": []
  },
  {
   "cell_type": "code",
   "execution_count": 23,
   "id": "0c3fa442",
   "metadata": {},
   "outputs": [
    {
     "data": {
      "text/plain": [
       "[Linear(in_features=5, out_features=5, bias=False),\n",
       " Sigmoid(),\n",
       " Linear(in_features=5, out_features=5, bias=False)]"
      ]
     },
     "execution_count": 23,
     "metadata": {},
     "output_type": "execute_result"
    }
   ],
   "source": [
    "[x for x in mouse_base_data.phi]"
   ]
  },
  {
   "cell_type": "code",
   "execution_count": 18,
   "id": "223a2510",
   "metadata": {},
   "outputs": [
    {
     "name": "stdout",
     "output_type": "stream",
     "text": [
      "Parameter containing:\n",
      "tensor([[ 0.0068,  0.2296, -0.3580, -0.3190, -0.1621],\n",
      "        [ 0.1101,  0.0010,  0.3448, -0.0495,  0.1085],\n",
      "        [-0.1403, -0.0879, -0.4307, -0.2973, -0.1829],\n",
      "        [ 0.0266,  0.1666,  0.2784, -0.2931, -0.1847],\n",
      "        [ 0.1725,  0.3612, -0.0819,  0.3448, -0.0620]], requires_grad=True)\n",
      "Parameter containing:\n",
      "tensor([[ 0.0373,  0.3950, -0.4248, -0.2915, -0.1232],\n",
      "        [-0.1843,  0.3765, -0.2998, -0.2159, -0.3224],\n",
      "        [-0.4288, -0.2710,  0.3745,  0.1896,  0.2068],\n",
      "        [ 0.0135, -0.2392,  0.0657, -0.4275, -0.3331],\n",
      "        [-0.2405,  0.2722,  0.2523, -0.2083, -0.0261]], requires_grad=True)\n"
     ]
    }
   ],
   "source": [
    "for param in mouse_base_data.phi.parameters():\n",
    "    print(param)"
   ]
  },
  {
   "cell_type": "code",
   "execution_count": 11,
   "id": "566bdc32",
   "metadata": {},
   "outputs": [
    {
     "data": {
      "text/plain": [
       "Sigmoid()"
      ]
     },
     "execution_count": 11,
     "metadata": {},
     "output_type": "execute_result"
    }
   ],
   "source": [
    "mouse_base_data.get_phi_params[1]"
   ]
  },
  {
   "cell_type": "code",
   "execution_count": 12,
   "id": "950be5b3",
   "metadata": {},
   "outputs": [
    {
     "data": {
      "text/plain": [
       "Linear(in_features=5, out_features=5, bias=False)"
      ]
     },
     "execution_count": 12,
     "metadata": {},
     "output_type": "execute_result"
    }
   ],
   "source": [
    "mouse_base_data.get_phi_params[2]"
   ]
  },
  {
   "cell_type": "code",
   "execution_count": 8,
   "id": "6d25a452",
   "metadata": {},
   "outputs": [
    {
     "ename": "NameError",
     "evalue": "name 'mouse_base_data' is not defined",
     "output_type": "error",
     "traceback": [
      "\u001b[0;31m---------------------------------------------------------------------------\u001b[0m",
      "\u001b[0;31mNameError\u001b[0m                                 Traceback (most recent call last)",
      "\u001b[0;32m<ipython-input-8-30614d6b334d>\u001b[0m in \u001b[0;36m<module>\u001b[0;34m\u001b[0m\n\u001b[0;32m----> 1\u001b[0;31m \u001b[0mmouse_base_data\u001b[0m\u001b[0;34m.\u001b[0m\u001b[0mphi\u001b[0m\u001b[0;34m[\u001b[0m\u001b[0;36m0\u001b[0m\u001b[0;34m]\u001b[0m\u001b[0;34m\u001b[0m\u001b[0;34m\u001b[0m\u001b[0m\n\u001b[0m",
      "\u001b[0;31mNameError\u001b[0m: name 'mouse_base_data' is not defined"
     ]
    }
   ],
   "source": [
    "mouse_base_data.phi[0]"
   ]
  },
  {
   "cell_type": "code",
   "execution_count": 33,
   "id": "8a32487c",
   "metadata": {},
   "outputs": [
    {
     "ename": "AttributeError",
     "evalue": "'Tensor' object has no attribute 'parameters'",
     "output_type": "error",
     "traceback": [
      "\u001b[0;31m---------------------------------------------------------------------------\u001b[0m",
      "\u001b[0;31mAttributeError\u001b[0m                            Traceback (most recent call last)",
      "\u001b[0;32m<ipython-input-33-9a1de5f32500>\u001b[0m in \u001b[0;36m<module>\u001b[0;34m\u001b[0m\n\u001b[0;32m----> 1\u001b[0;31m \u001b[0mmouse_base_data\u001b[0m\u001b[0;34m.\u001b[0m\u001b[0mphi\u001b[0m\u001b[0;34m.\u001b[0m\u001b[0mparameters\u001b[0m\u001b[0;34m\u001b[0m\u001b[0;34m\u001b[0m\u001b[0m\n\u001b[0m",
      "\u001b[0;31mAttributeError\u001b[0m: 'Tensor' object has no attribute 'parameters'"
     ]
    }
   ],
   "source": [
    "mouse_base_data.phi.parameters"
   ]
  },
  {
   "cell_type": "code",
   "execution_count": 26,
   "id": "4b5f33cc",
   "metadata": {},
   "outputs": [],
   "source": [
    "import torch\n",
    "dim_x = 10\n",
    "\n",
    "phi = torch.nn.Sequential(torch.nn.Linear(dim_x, dim_x, bias=False), torch.nn.Sigmoid(), torch.nn.Linear(dim_x, dim_x, bias=False))"
   ]
  },
  {
   "cell_type": "code",
   "execution_count": 40,
   "id": "ab2bcb34",
   "metadata": {},
   "outputs": [
    {
     "data": {
      "text/plain": [
       "Linear(in_features=10, out_features=10, bias=False)"
      ]
     },
     "execution_count": 40,
     "metadata": {},
     "output_type": "execute_result"
    }
   ],
   "source": [
    "phi[0]"
   ]
  },
  {
   "cell_type": "code",
   "execution_count": 39,
   "id": "a932d28b",
   "metadata": {},
   "outputs": [
    {
     "data": {
      "text/plain": [
       "tensor([ 0.7885, -0.2382, -0.2136, -0.2192, -0.1973], grad_fn=<SelectBackward>)"
      ]
     },
     "execution_count": 39,
     "metadata": {},
     "output_type": "execute_result"
    }
   ],
   "source": [
    "mouse_base_data.phi[0]"
   ]
  },
  {
   "cell_type": "code",
   "execution_count": 9,
   "id": "c5e0deba",
   "metadata": {},
   "outputs": [
    {
     "name": "stdout",
     "output_type": "stream",
     "text": [
      "Start IRM training procedure with real-valued target\n",
      "iteration: 0 error: 17.620630264282227\n",
      "IRM (reg=0.000) has 5.344 validation error.\n",
      "\tnew best model:\n",
      "\terror: 5.3438720703125\n",
      "\treg: 0\n",
      "\tphi.trace: tensor(3.1656, grad_fn=<TraceBackward>)\n",
      "iteration: 0 error: 8.01580810546875\n",
      "IRM (reg=0.000) has 5.176 validation error.\n",
      "\tnew best model:\n",
      "\terror: 5.175507068634033\n",
      "\treg: 1e-05\n",
      "\tphi.trace: tensor(2.9480, grad_fn=<TraceBackward>)\n",
      "iteration: 0 error: 7.763260841369629\n",
      "IRM (reg=0.000) has 5.074 validation error.\n",
      "\tnew best model:\n",
      "\terror: 5.073523044586182\n",
      "\treg: 0.0001\n",
      "\tphi.trace: tensor(2.9337, grad_fn=<TraceBackward>)\n",
      "iteration: 0 error: 7.610284805297852\n",
      "IRM (reg=0.001) has 5.004 validation error.\n",
      "\tnew best model:\n",
      "\terror: 5.004339694976807\n",
      "\treg: 0.001\n",
      "\tphi.trace: tensor(2.9294, grad_fn=<TraceBackward>)\n",
      "iteration: 0 error: 7.506511688232422\n",
      "IRM (reg=0.010) has 4.594 validation error.\n",
      "\tnew best model:\n",
      "\terror: 4.593980312347412\n",
      "\treg: 0.01\n",
      "\tphi.trace: tensor(2.9235, grad_fn=<TraceBackward>)\n",
      "iteration: 0 error: 6.890970230102539\n",
      "IRM (reg=0.100) has 2.926 validation error.\n",
      "\tnew best model:\n",
      "\terror: 2.9257595539093018\n",
      "\treg: 0.1\n",
      "\tphi.trace: tensor(2.8720, grad_fn=<TraceBackward>)\n"
     ]
    }
   ],
   "source": [
    "ass = MouseInitialisedLinearInvariantRiskMinimization(environment_datasets, val_dataset, test_dataset, LIRM_args, initial_weights)"
   ]
  },
  {
   "cell_type": "code",
   "execution_count": 21,
   "id": "76278bd8",
   "metadata": {},
   "outputs": [],
   "source": [
    "import torch"
   ]
  },
  {
   "cell_type": "code",
   "execution_count": 23,
   "id": "50450e08",
   "metadata": {},
   "outputs": [
    {
     "data": {
      "text/plain": [
       "False"
      ]
     },
     "execution_count": 23,
     "metadata": {},
     "output_type": "execute_result"
    }
   ],
   "source": []
  },
  {
   "cell_type": "code",
   "execution_count": 10,
   "id": "96a069ad",
   "metadata": {},
   "outputs": [
    {
     "data": {
      "text/plain": [
       "tensor([[1.],\n",
       "        [1.],\n",
       "        [1.],\n",
       "        [1.],\n",
       "        [1.]], requires_grad=True)"
      ]
     },
     "execution_count": 10,
     "metadata": {},
     "output_type": "execute_result"
    }
   ],
   "source": [
    "lirm.w\n",
    "# I think the test logits are the things you need to mouse-initialise here."
   ]
  },
  {
   "cell_type": "code",
   "execution_count": 11,
   "id": "e7eb9314",
   "metadata": {},
   "outputs": [
    {
     "data": {
      "text/plain": [
       "tensor([[ 0.7885, -0.2382, -0.2136, -0.2192, -0.1973],\n",
       "        [ 0.0844,  0.8118, -0.0023,  0.0131,  0.1613],\n",
       "        [-0.2093, -0.2198,  0.7903, -0.2175, -0.1949],\n",
       "        [-0.2116, -0.2398, -0.2137,  0.7812, -0.1965],\n",
       "        [-0.1837, -0.1961, -0.1864, -0.1901,  0.7792]],\n",
       "       grad_fn=<CloneBackward>)"
      ]
     },
     "execution_count": 11,
     "metadata": {},
     "output_type": "execute_result"
    }
   ],
   "source": []
  },
  {
   "cell_type": "code",
   "execution_count": 49,
   "id": "794c3940",
   "metadata": {},
   "outputs": [
    {
     "name": "stdout",
     "output_type": "stream",
     "text": [
      "dict_keys(['test_logits', 'test_acc', 'test_nll', 'test_probs', 'test_labels', 'feature_coeffients', 'to_bucket'])\n"
     ]
    },
    {
     "data": {
      "text/plain": [
       "('acc/r2:', tensor(0.2576))"
      ]
     },
     "execution_count": 49,
     "metadata": {},
     "output_type": "execute_result"
    }
   ],
   "source": [
    "print(results.get(n_example).keys())\n",
    "\"acc/r2:\", results.get(n_example).get(\"test_acc\")"
   ]
  },
  {
   "cell_type": "code",
   "execution_count": 51,
   "id": "f4d17019",
   "metadata": {},
   "outputs": [
    {
     "data": {
      "text/plain": [
       "[('Causal_2', 28.2161705493927),\n",
       " ('Causal_1', 26.71197199821472),\n",
       " ('Causal_0', 26.41683316230774),\n",
       " ('Causal_3', 21.73872461915016),\n",
       " ('Non_causal_7', 2.7639010846614838),\n",
       " ('Non_causal_5', 2.7266255617141724),\n",
       " ('Non_causal_2', 2.3941598534584045),\n",
       " ('Non_causal_8', 2.0637218952178955),\n",
       " ('Non_causal_6', 1.5529405996203423),\n",
       " ('Non_causal_4', 1.2595409452915192),\n",
       " ('Non_causal_3', 1.1885599195957184),\n",
       " ('Non_causal_9', 0.9855049755424261),\n",
       " ('Non_causal_1', 0.6325856596231461),\n",
       " ('Non_causal_0', 0.30464520677924156)]"
      ]
     },
     "execution_count": 51,
     "metadata": {},
     "output_type": "execute_result"
    }
   ],
   "source": [
    "result = results.get(n_example).get(\"to_bucket\")\n",
    "\n",
    "if output_data_regime == \"multi-class\":\n",
    "    r = sorted(zip(result.get(\"features\"), np.abs(result.get(\"coefficients\")).sum(axis=1)), key=lambda x: x[1], reverse=True)\n",
    "else:\n",
    "    r = sorted(zip(result.get(\"features\"), result.get(\"coefficients\")), key=lambda x: abs(x[1]), reverse=True)\n",
    "r"
   ]
  },
  {
   "cell_type": "code",
   "execution_count": null,
   "id": "d2357238",
   "metadata": {},
   "outputs": [],
   "source": []
  }
 ],
 "metadata": {
  "environment": {
   "name": "common-cu100.m73",
   "type": "gcloud",
   "uri": "gcr.io/deeplearning-platform-release/base-cu100:m73"
  },
  "kernelspec": {
   "display_name": "Python [conda env:root] *",
   "language": "python",
   "name": "conda-root-py"
  },
  "language_info": {
   "codemirror_mode": {
    "name": "ipython",
    "version": 3
   },
   "file_extension": ".py",
   "mimetype": "text/x-python",
   "name": "python",
   "nbconvert_exporter": "python",
   "pygments_lexer": "ipython3",
   "version": "3.7.10"
  },
  "widgets": {
   "application/vnd.jupyter.widget-state+json": {
    "state": {},
    "version_major": 2,
    "version_minor": 0
   }
  }
 },
 "nbformat": 4,
 "nbformat_minor": 5
}

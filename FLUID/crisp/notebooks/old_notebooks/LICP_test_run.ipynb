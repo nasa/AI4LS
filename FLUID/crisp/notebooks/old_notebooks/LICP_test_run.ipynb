{
 "cells": [
  {
   "cell_type": "code",
   "execution_count": 1,
   "id": "29a12c53",
   "metadata": {},
   "outputs": [],
   "source": [
    "import sys\n",
    "sys.path.insert(1, '/home/jupyter/crisp')"
   ]
  },
  {
   "cell_type": "code",
   "execution_count": 2,
   "id": "e8ecdb3e",
   "metadata": {},
   "outputs": [],
   "source": [
    "from models.LinearInvariantCausalPrediction import *\n",
    "from models.TorchLinearInvariantCausalPrediction import *\n",
    "from dataio.DataFrameDataset import *\n",
    "from dataio.datasets import *"
   ]
  },
  {
   "cell_type": "code",
   "execution_count": 3,
   "id": "fa36839c",
   "metadata": {},
   "outputs": [],
   "source": [
    "# from synthetic.synthetic_generator import synthetic_generator\n",
    "# df = synthetic_generator()\n",
    "# df.to_pickle(\"../data/test.pkl\")"
   ]
  },
  {
   "cell_type": "code",
   "execution_count": 4,
   "id": "5df67c85",
   "metadata": {},
   "outputs": [],
   "source": [
    "import pandas as pd\n",
    "import pickle\n",
    "with open(\"../data/test.pkl\",'rb') as file:\n",
    "    df = pickle.load(file)"
   ]
  },
  {
   "cell_type": "code",
   "execution_count": 5,
   "id": "865d99e1",
   "metadata": {},
   "outputs": [],
   "source": [
    "config = {\n",
    "    \"name\": \"Example Experiment for AH casual ensemble\",\n",
    "    \"short_name\": \"ah_experiment_notebook\",\n",
    "    \"bucket_project\": \"fdl-us-astronaut-health\",\n",
    "    \"bucket_name\": \"ah_21_data\",\n",
    "    \"bucket_path\": \"gs://ah_21_data\",\n",
    "    \"verbose\": 1,\n",
    "    \"test_val_split\": [0.1, 0.1],\n",
    "    \"per_variant_experiment\": False,\n",
    "    \"data_options\": {\n",
    "        'dataset_fp': '../data/test.pkl',\n",
    "        'subject_keys': 'Subj_ID',\n",
    "        'targets': ['Target'],\n",
    "#         'predictors': ['All'],\n",
    "        'predictors': list(df.columns[0:10]),\n",
    "        'environments': ['env_split'],\n",
    "        'exclude': ['Subj_ID']\n",
    "    },\n",
    "    \"feature_selection_options\": {\n",
    "        \"max_features\": 20,\n",
    "        \"verbose\": 0,\n",
    "        \"seed\": 12\n",
    "    },\n",
    "    \"ensemble_options\": {\n",
    "        \"models\": [\"ERM\", \"RF\", \"ICP\", \"IRM\", \"DCF\", \"ITE\", \"LIRM\", \"NLICP\"]\n",
    "    },\n",
    "    \"use_cloud\":False,\n",
    "    \"results_directory\": \"results/\"\n",
    "}\n",
    "data_config = config['data_options']"
   ]
  },
  {
   "cell_type": "code",
   "execution_count": 6,
   "id": "66806dee",
   "metadata": {},
   "outputs": [
    {
     "name": "stdout",
     "output_type": "stream",
     "text": [
      "Running a per sample experiment\n",
      "Loaded  2  train environments\n",
      "Env  0  has  33  samples\n",
      "X shape  (33, 10)  y shape  (33, 1)\n",
      "Env  1  has  39  samples\n",
      "X shape  (39, 10)  y shape  (39, 1)\n",
      "Loaded val set, X shape: (11, 10)  y shape:  (11, 1)\n",
      "Loaded test set, X shape: (17, 10)  y shape:  (17, 1)\n"
     ]
    }
   ],
   "source": [
    "environment_datasets, val_dataset, test_dataset = get_datasets_for_experiment(config)"
   ]
  },
  {
   "cell_type": "code",
   "execution_count": 7,
   "id": "4fb92f1c",
   "metadata": {},
   "outputs": [
    {
     "name": "stdout",
     "output_type": "stream",
     "text": [
      "Testing  56  permutations with max set size:  2\n",
      "No intersection, trying defining sets\n",
      "Pruning defining set trees\n",
      "Found the defining sets!\n",
      "{'solution': True, 'intersection': False, 'test_acc': 0.23529411852359772, 'test_nll': tensor(0.7438), 'test_probs': tensor([[-0.1297],\n",
      "        [-0.0145],\n",
      "        [-0.5948],\n",
      "        [-0.6871],\n",
      "        [-1.0297],\n",
      "        [-0.0989],\n",
      "        [ 1.0037],\n",
      "        [ 0.3690],\n",
      "        [ 0.6871],\n",
      "        [ 1.6079],\n",
      "        [ 0.0169],\n",
      "        [ 0.2661],\n",
      "        [-0.0661],\n",
      "        [-0.0774],\n",
      "        [-0.3619],\n",
      "        [-0.0436],\n",
      "        [-0.3973]]), 'test_labels': tensor([1., 1., 1., 1., 1., 1., 1., 1., 0., 0., 0., 0., 0., 1., 1., 1., 1.]), 'feature_coeffients': array([[ 0.03330465, -0.146639  ,  0.12274949,  0.06694975, -0.26345703,\n",
      "         0.02608589,  0.26986283,  0.26995686, -0.14337632,  0.17462766]],\n",
      "      dtype=float32), 'selected_features': array(['Non_causal_0', 'Non_causal_1', 'Non_causal_2', 'Non_causal_3',\n",
      "       'Non_causal_4', 'Non_causal_5', 'Non_causal_6', 'Causal_0',\n",
      "       'Non_causal_7', 'Non_causal_8'], dtype='<U12'), 'selected_feature_indices': [0, 1, 2, 3, 4, 5, 6, 7, 8, 9], 'to_bucket': {'method': 'Linear ICP', 'features': ['Non_causal_0', 'Non_causal_1', 'Non_causal_2', 'Non_causal_3', 'Non_causal_4', 'Non_causal_5', 'Non_causal_6', 'Causal_0', 'Non_causal_7', 'Non_causal_8'], 'coefficients': [[0.033304646611213684, -0.14663900434970856, 0.12274948507547379, 0.0669497475028038, -0.2634570300579071, 0.02608588896691799, 0.2698628306388855, 0.2699568569660187, -0.14337632060050964, 0.1746276617050171]], 'pvals': 3.6056103221831783, 'test_acc': 0.23529411852359772, 'test_acc_std': 0.43723732233047485}}\n",
      "Finished ICP\n"
     ]
    }
   ],
   "source": [
    "icp_solution = False\n",
    "# run linear and nonlinear ICP\n",
    "ICP_args = {\n",
    "    \"max_set_size\": 2,\n",
    "    \"alpha\": 0.05,\n",
    "    \"seed\": 12,\n",
    "    \"verbose\": 0\n",
    "}\n",
    "\n",
    "# Initialise Linear ICP and run (train and test called internally)\n",
    "ICPmod = TorchInvariantCausalPrediction(environment_datasets, val_dataset, test_dataset, ICP_args)\n",
    "# Get results on test_dataset\n",
    "torch_ICP_results_dict = ICPmod.results()\n",
    "icp_solution = torch_ICP_results_dict['solution']\n",
    "\n",
    "# ICP_results_dict['original_feature_indices'] = keep_columns_indices_to_original_features[ICP_results_dict['selected_feature_indices']]\n",
    "\n",
    "if config['verbose']:\n",
    "    print(torch_ICP_results_dict)\n",
    "\n",
    "print(\"Finished ICP\")\n"
   ]
  },
  {
   "cell_type": "code",
   "execution_count": 10,
   "id": "9746ca5c",
   "metadata": {},
   "outputs": [
    {
     "name": "stdout",
     "output_type": "stream",
     "text": [
      "Testing  56  permutations with max set size:  2\n",
      "No intersection, trying defining sets\n",
      "Pruning defining set trees\n",
      "Found the defining sets!\n",
      "{'solution': True, 'intersection': False, 'test_acc': 0.7647058963775635, 'test_nll': tensor(0.5426), 'test_probs': tensor([[0.3965, 0.6035],\n",
      "        [0.1129, 0.8871],\n",
      "        [0.5126, 0.4874],\n",
      "        [0.3247, 0.6753],\n",
      "        [0.2692, 0.7308],\n",
      "        [0.2445, 0.7555],\n",
      "        [0.5088, 0.4912],\n",
      "        [0.2737, 0.7263],\n",
      "        [0.7425, 0.2575],\n",
      "        [0.2586, 0.7414],\n",
      "        [0.5807, 0.4193],\n",
      "        [0.4545, 0.5455],\n",
      "        [0.7371, 0.2629],\n",
      "        [0.4596, 0.5404],\n",
      "        [0.3347, 0.6653],\n",
      "        [0.1863, 0.8137],\n",
      "        [0.3071, 0.6929]]), 'test_labels': tensor([1., 1., 1., 1., 1., 1., 1., 1., 0., 0., 0., 0., 0., 1., 1., 1., 1.]), 'feature_coeffients': array([ 0.39099739,  0.10415593,  0.        ,  0.01191579, -0.05776088,\n",
      "        0.        , -0.17892409,  0.56978604,  0.        , -0.18202654]), 'selected_features': array(['Non_causal_0', 'Non_causal_1', 'Non_causal_2', 'Non_causal_3',\n",
      "       'Non_causal_4', 'Non_causal_5', 'Non_causal_6', 'Causal_0',\n",
      "       'Non_causal_7', 'Non_causal_8'], dtype='<U12'), 'selected_feature_indices': [0, 1, 2, 3, 4, 5, 6, 7, 8, 9], 'to_bucket': {'method': 'Linear ICP', 'features': ['Non_causal_0', 'Non_causal_1', 'Non_causal_2', 'Non_causal_3', 'Non_causal_4', 'Non_causal_5', 'Non_causal_6', 'Causal_0', 'Non_causal_7', 'Non_causal_8'], 'coefficients': [0.39099739222241925, 0.10415592576798541, 0.0, 0.011915787504561013, -0.05776087584767122, 0.0, -0.1789240879063672, 0.5697860378293264, 0.0, -0.18202654398418047], 'pvals': 1.247821725985947, 'test_acc': 0.7647058963775635, 'test_acc_std': 0.43723732233047485}}\n",
      "Finished ICP\n"
     ]
    },
    {
     "name": "stderr",
     "output_type": "stream",
     "text": [
      "/opt/conda/lib/python3.7/site-packages/sklearn/utils/validation.py:63: DataConversionWarning: A column-vector y was passed when a 1d array was expected. Please change the shape of y to (n_samples, ), for example using ravel().\n",
      "  return f(*args, **kwargs)\n"
     ]
    }
   ],
   "source": [
    "icp_solution = False\n",
    "# run linear and nonlinear ICP\n",
    "ICP_args = {\n",
    "    \"max_set_size\": 2,\n",
    "    \"alpha\": 0.05,\n",
    "    \"seed\": 12,\n",
    "    \"verbose\": 0\n",
    "}\n",
    "\n",
    "# Initialise Linear ICP and run (train and test called internally)\n",
    "ICPmod = InvariantCausalPrediction(environment_datasets, val_dataset, test_dataset, ICP_args)\n",
    "# Get results on test_dataset\n",
    "ICP_results_dict = ICPmod.results()\n",
    "icp_solution = ICP_results_dict['solution']\n",
    "\n",
    "# ICP_results_dict['original_feature_indices'] = keep_columns_indices_to_original_features[ICP_results_dict['selected_feature_indices']]\n",
    "\n",
    "if config['verbose']:\n",
    "    print(ICP_results_dict)\n",
    "\n",
    "print(\"Finished ICP\")\n",
    "\n"
   ]
  },
  {
   "cell_type": "code",
   "execution_count": 17,
   "id": "ca3adf2a",
   "metadata": {},
   "outputs": [
    {
     "data": {
      "text/plain": [
       "array(['Non_causal_0', 'Non_causal_1', 'Non_causal_2', 'Non_causal_3',\n",
       "       'Non_causal_4', 'Non_causal_5', 'Non_causal_6', 'Causal_0',\n",
       "       'Non_causal_7', 'Non_causal_8'], dtype='<U12')"
      ]
     },
     "execution_count": 17,
     "metadata": {},
     "output_type": "execute_result"
    }
   ],
   "source": [
    "torch_ICP_results_dict['selected_features']"
   ]
  },
  {
   "cell_type": "code",
   "execution_count": null,
   "id": "907b4857",
   "metadata": {},
   "outputs": [],
   "source": []
  }
 ],
 "metadata": {
  "environment": {
   "name": "pytorch-gpu.1-9.m74",
   "type": "gcloud",
   "uri": "gcr.io/deeplearning-platform-release/pytorch-gpu.1-9:m74"
  },
  "kernelspec": {
   "display_name": "Python 3",
   "language": "python",
   "name": "python3"
  },
  "language_info": {
   "codemirror_mode": {
    "name": "ipython",
    "version": 3
   },
   "file_extension": ".py",
   "mimetype": "text/x-python",
   "name": "python",
   "nbconvert_exporter": "python",
   "pygments_lexer": "ipython3",
   "version": "3.7.10"
  },
  "widgets": {
   "application/vnd.jupyter.widget-state+json": {
    "state": {},
    "version_major": 2,
    "version_minor": 0
   }
  }
 },
 "nbformat": 4,
 "nbformat_minor": 5
}

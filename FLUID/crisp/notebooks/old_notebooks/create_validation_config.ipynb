{
 "cells": [
  {
   "cell_type": "code",
   "execution_count": 1,
   "metadata": {},
   "outputs": [
    {
     "data": {
      "text/plain": [
       "'/home/jupyter/crisp'"
      ]
     },
     "execution_count": 1,
     "metadata": {},
     "output_type": "execute_result"
    }
   ],
   "source": [
    "import json\n",
    "import os\n",
    "os.chdir(\"../..\")\n",
    "%pwd"
   ]
  },
  {
   "cell_type": "code",
   "execution_count": 2,
   "metadata": {},
   "outputs": [],
   "source": [
    "config = {\"Example1\" : {\"n_inv\" : 6,\n",
    "                       \"n_spu\" : 6,\n",
    "                        \"n_unc\" : 50,\n",
    "                       \"n_ex_train\" : 1000,\n",
    "                       \"n_ex_test\" : 500,\n",
    "                       \"n_env\" : 5,\n",
    "                       \"output_data_regime\" : \"real-valued\"},\n",
    "          \"Example0a\" : {\"n_inv\" : 5,\n",
    "                       \"n_spu\" : 5,\n",
    "                        \"n_unc\" : 0,\n",
    "                       \"n_ex_train\" : 3000,\n",
    "                       \"n_ex_test\" : 500,\n",
    "                       \"n_env\" : 3,\n",
    "                       \"output_data_regime\" : \"real-valued\"},\n",
    "          \"Example2\" : {\"n_inv\" : 6,\n",
    "                       \"n_spu\" : 6,\n",
    "                        \"n_unc\" : 500,\n",
    "                       \"n_ex_train\" : 1000,\n",
    "                       \"n_ex_test\" : 500,\n",
    "                       \"n_env\" : 5,\n",
    "                        \"output_data_regime\" : \"binary\"},\n",
    "          \"Example0b\" : {\"n_inv\" : 5,\n",
    "                       \"n_spu\" : 5,\n",
    "                        \"n_unc\" : 0,\n",
    "                       \"n_ex_train\" : 3000,\n",
    "                       \"n_ex_test\" : 500,\n",
    "                       \"n_env\" : 3,\n",
    "                        \"output_data_regime\" : \"binary\"},\n",
    "          \"Example3\" : {\"n_inv\" : 6,\n",
    "                       \"n_spu\" : 6,\n",
    "                        \"n_unc\" : 500,\n",
    "                       \"n_ex_train\" : 1000,\n",
    "                       \"n_ex_test\" : 500,\n",
    "                       \"n_env\" : 5,\n",
    "                        \"output_data_regime\" : \"binary\"},\n",
    "          \"Example4\" : {\"n_inv\" : (3,3),\n",
    "                          \"n_spu\" : (3,3),\n",
    "                        \"n_unc\" : 500,\n",
    "                          \"n_ex_train\" : 500,\n",
    "                          \"n_ex_test\" : 500,\n",
    "                          \"n_env\" : 5,\n",
    "                        \"output_data_regime\" : \"real-valued\"},\n",
    "          \"Example5\" : {\"n_inv\" : 6,\n",
    "                       \"n_spu\" : 6,\n",
    "                        \"n_unc\" : 500,\n",
    "                       \"n_ex_train\" : 500,\n",
    "                       \"n_ex_test\" : 500,\n",
    "                       \"n_env\" : 5,\n",
    "                        \"output_data_regime\" : \"multi-class\"},\n",
    "          \"Example6\" : {\"n_inv\" : 6,\n",
    "                       \"n_spu\" : 6,\n",
    "                        \"n_unc\" : 50,\n",
    "                       \"n_ex_train\" : 1000,\n",
    "                       \"n_ex_test\" : 500,\n",
    "                       \"n_env\" : 5,\n",
    "                       \"output_data_regime\" : \"real-valued\"},\n",
    "          \"Example_Confounder\" : {\"n_inv\" : 6,\n",
    "                       \"n_spu\" : 6,\n",
    "                       \"n_unc\" : 500,\n",
    "                       \"n_ex_train\" : 500,\n",
    "                       \"n_ex_test\" : 500,\n",
    "                       \"n_env\" : 5,\n",
    "                        \"output_data_regime\" : \"real-valued\"},\n",
    "          \"Example_Nonlinear\" : {\"n_inv\" : 6,\n",
    "                       \"n_spu\" : 6,\n",
    "                       \"n_unc\" : 500,\n",
    "                       \"n_ex_train\" : 500,\n",
    "                       \"n_ex_test\" : 500,\n",
    "                       \"n_env\" : 5,\n",
    "                                \"output_data_regime\" : \"real-valued\"},\n",
    "         }"
   ]
  },
  {
   "cell_type": "code",
   "execution_count": 3,
   "metadata": {},
   "outputs": [],
   "source": [
    "with open(\"experiment_configs/synthetic_experiments_config.json\", 'w') as f:\n",
    "    json.dump(config, f)"
   ]
  },
  {
   "cell_type": "code",
   "execution_count": null,
   "metadata": {},
   "outputs": [],
   "source": []
  }
 ],
 "metadata": {
  "environment": {
   "name": "pytorch-gpu.1-8.m73",
   "type": "gcloud",
   "uri": "gcr.io/deeplearning-platform-release/pytorch-gpu.1-8:m73"
  },
  "kernelspec": {
   "display_name": "Python 3",
   "language": "python",
   "name": "python3"
  },
  "language_info": {
   "codemirror_mode": {
    "name": "ipython",
    "version": 3
   },
   "file_extension": ".py",
   "mimetype": "text/x-python",
   "name": "python",
   "nbconvert_exporter": "python",
   "pygments_lexer": "ipython3",
   "version": "3.7.10"
  },
  "widgets": {
   "application/vnd.jupyter.widget-state+json": {
    "state": {},
    "version_major": 2,
    "version_minor": 0
   }
  }
 },
 "nbformat": 4,
 "nbformat_minor": 4
}

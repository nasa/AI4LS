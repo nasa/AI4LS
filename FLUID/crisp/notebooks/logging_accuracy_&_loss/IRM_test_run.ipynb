{
 "cells": [
  {
   "cell_type": "code",
   "execution_count": 1,
   "id": "3199fc98",
   "metadata": {},
   "outputs": [],
   "source": [
    "# import sys\n",
    "#sys.path.insert(1, '/home/linus/projects/fdl/crisp')"
   ]
  },
  {
   "cell_type": "code",
   "execution_count": 2,
   "id": "fa4cc5cd",
   "metadata": {},
   "outputs": [
    {
     "data": {
      "text/plain": [
       "'/home/jupyter/crisp'"
      ]
     },
     "execution_count": 2,
     "metadata": {},
     "output_type": "execute_result"
    }
   ],
   "source": [
    "import os\n",
    "import pandas as pd\n",
    "while os.getcwd() != '/home/jupyter/crisp':\n",
    "    os.chdir(\"..\")\n",
    "%pwd"
   ]
  },
  {
   "cell_type": "code",
   "execution_count": 3,
   "id": "638d5dc3",
   "metadata": {},
   "outputs": [],
   "source": [
    "from models.LinearInvariantRiskMinimization import LinearInvariantRiskMinimization\n",
    "from dataio.DataFrameDataset import *\n",
    "from dataio.datasets import *"
   ]
  },
  {
   "cell_type": "code",
   "execution_count": 4,
   "id": "15b9a6e0",
   "metadata": {},
   "outputs": [],
   "source": [
    "from synthetic.facebook_synthetic_data_generator import generator_example\n",
    "\n",
    "dim_inv = 2\n",
    "dim_spu = 2\n",
    "n_exp_train = 6 #int(2e2)\n",
    "n_exp_test = 6\n",
    "n_env = 3\n",
    "save_dir = 'data/synthetic'"
   ]
  },
  {
   "cell_type": "code",
   "execution_count": 5,
   "id": "a221aec1",
   "metadata": {},
   "outputs": [],
   "source": [
    "config = {\n",
    "    \"name\": \"Example Experiment for AH casual ensemble\",\n",
    "    \"short_name\": \"ah_experiment_notebook\",\n",
    "    \"bucket_project\": \"fdl-us-astronaut-health\",\n",
    "    \"bucket_name\": \"ah_21_data\",\n",
    "    \"bucket_path\": \"gs://ah_21_data\",\n",
    "    \"verbose\": 1,\n",
    "    \"test_val_split\": [0.1, 0.1],\n",
    "    \"per_variant_experiment\": False,\n",
    "    \"data_options\": {\n",
    "        #'dataset_fp': '../data/test_multiclass.pkl',\n",
    "        'dataset_fp' : None,\n",
    "        'output_data_regime' : [\"real-valued\", \"binary\", \"binary\", \"real-valued\", \"multi-class\"],\n",
    "        'subject_keys': 'Subj_ID',\n",
    "        'targets': ['Target'],\n",
    " #        'predictors': ['All'],\n",
    "        'predictors': None,\n",
    "        'environments': ['env_split'],\n",
    "        'exclude': ['Subj_ID'],\n",
    "        'synthetic_train_test_split' : True,\n",
    "    },\n",
    "    \"feature_selection_options\": {\n",
    "        \"max_features\": 20,\n",
    "        \"verbose\": 0,\n",
    "        \"seed\": 12\n",
    "    },\n",
    "    \"ensemble_options\": {\n",
    "        \"models\": [\"ERM\", \"RF\", \"ICP\", \"IRM\", \"DCF\", \"ITE\", \"LIRM\", \"NLICP\"]\n",
    "    },\n",
    "    \"use_cloud\":False,\n",
    "    \"results_directory\": \"results/\"\n",
    "}\n",
    "data_config = config['data_options']"
   ]
  },
  {
   "cell_type": "code",
   "execution_count": 6,
   "id": "f06c2264",
   "metadata": {},
   "outputs": [],
   "source": [
    "LIRM_options = config.get(\"ensemble_options\").get('LIRM', {})\n",
    "LIRM_args = {\n",
    "            \"use_icp_initialization\": False,\n",
    "            \"verbose\": 0,\n",
    "            \"n_iterations\": 3000, # 1000\n",
    "            \"seed\": 0,\n",
    "            \"lr\": 0.005, # 0.001\n",
    "            \"cuda\": False\n",
    "        }\n",
    "LIRM_args.update(LIRM_options)"
   ]
  },
  {
   "cell_type": "code",
   "execution_count": 7,
   "id": "f3dc8922",
   "metadata": {},
   "outputs": [],
   "source": [
    "def get_dataset_for_synthetic_experiment(n_example, dim_inv, dim_spu, n_exp_train, n_exp_test, n_env, save_dir):\n",
    "    # training data\n",
    "    generator_example(n_example, dim_inv, dim_spu, n_exp_train, n_env ,save_dir, False)\n",
    "    outfile_train = os.path.join(save_dir,\"data_fb_example_%s_dim_inv_%s_dim_spu_%s_n_exp_%s_n_env_%s_test_%s.pickle\" %(n_example, dim_inv, dim_spu, n_exp_train, n_env, False))\n",
    "\n",
    "    # test data\n",
    "    generator_example(n_example, dim_inv, dim_spu, n_exp_test, n_env ,save_dir, True)\n",
    "    outfile_test = os.path.join(save_dir,\"data_fb_example_%s_dim_inv_%s_dim_spu_%s_n_exp_%s_n_env_%s_test_%s.pickle\" %(n_example, dim_inv, dim_spu, n_exp_test, n_env, True))\n",
    "    \n",
    "    return outfile_train, outfile_test"
   ]
  },
  {
   "cell_type": "code",
   "execution_count": 8,
   "id": "814c0ed5",
   "metadata": {},
   "outputs": [],
   "source": [
    "# lirm.loss_per_iteration"
   ]
  },
  {
   "cell_type": "code",
   "execution_count": 9,
   "id": "708c015a",
   "metadata": {},
   "outputs": [
    {
     "name": "stdout",
     "output_type": "stream",
     "text": [
      "\n",
      "\n",
      "n_example: 1 output_data_regime: real-valued \n",
      "\n",
      "\n",
      "Environments variables: {'E0': 0.1, 'E1': 1.5, 'E2': 2}\n",
      "Generated Synthetic Data according to the Facebook setup Example: 1\n",
      "     df with  4  columns\n",
      "Environments variables: {'E0': 0.1, 'E1': 1.5, 'E2': 2}\n",
      "Generated Synthetic Data according to the Facebook setup Example: 1\n",
      "     df with  4  columns\n",
      "Running a per sample experiment\n",
      "Using synthetic dataset train/test split\n",
      "Loaded  3  train environments\n",
      "Env  0  has  2  samples\n",
      "X shape  (2, 4)  y shape  (2, 1)\n",
      "Env  1  has  2  samples\n",
      "X shape  (2, 4)  y shape  (2, 1)\n",
      "Env  2  has  2  samples\n",
      "X shape  (2, 4)  y shape  (2, 1)\n",
      "Loaded test set, X shape: (6, 4)  y shape:  (6, 1)\n",
      "Start IRM training procedure with real-valued target\n"
     ]
    }
   ],
   "source": [
    "results = {}\n",
    "\n",
    "for n_example in [1]:#,2,3,4,5]:\n",
    "    output_data_regime = config[\"data_options\"][\"output_data_regime\"][n_example-1]\n",
    "    print(\"\\n\\nn_example:\", n_example, \"output_data_regime:\", output_data_regime, \"\\n\\n\")\n",
    "    \n",
    "    outfile_train, outfile_test = get_dataset_for_synthetic_experiment(n_example, dim_inv, dim_spu, n_exp_train, n_exp_test, n_env, save_dir)\n",
    "    df_train = pd.read_pickle(outfile_train)\n",
    "    df_test = pd.read_pickle(outfile_test)\n",
    "\n",
    "    config[\"data_options\"][\"dataset_fp_train\"] = outfile_train\n",
    "    config[\"data_options\"][\"dataset_fp_test\"] = outfile_test\n",
    "    config[\"data_options\"][\"predictors\"] = list(df_train.columns[0:dim_inv+dim_spu])\n",
    "    environment_datasets, val_dataset, test_dataset = get_datasets_for_experiment(config)\n",
    "\n",
    "    LIRM_args[\"target\"] = config[\"data_options\"][\"targets\"]\n",
    "    LIRM_args[\"output_data_regime\"] = output_data_regime\n",
    "    LIRM_args[\"columns\"] = test_dataset.predictor_columns\n",
    "\n",
    "    lirm = LinearInvariantRiskMinimization(environment_datasets, val_dataset, test_dataset, LIRM_args)\n",
    "    \n",
    "    lirm_results_dict = lirm.results()\n",
    "    results[n_example] = lirm_results_dict"
   ]
  },
  {
   "cell_type": "code",
   "execution_count": 19,
   "id": "b0b739b0",
   "metadata": {},
   "outputs": [
    {
     "data": {
      "text/plain": [
       "float"
      ]
     },
     "execution_count": 19,
     "metadata": {},
     "output_type": "execute_result"
    }
   ],
   "source": [
    "type([x.tolist() for x in lirm.loss_per_iteration][0])"
   ]
  },
  {
   "cell_type": "code",
   "execution_count": 20,
   "id": "7f92fb0b",
   "metadata": {},
   "outputs": [
    {
     "data": {
      "text/plain": [
       "float"
      ]
     },
     "execution_count": 20,
     "metadata": {},
     "output_type": "execute_result"
    }
   ],
   "source": [
    "type(float(lirm.acc_per_iteration[0]))"
   ]
  },
  {
   "cell_type": "code",
   "execution_count": 13,
   "id": "33f85075",
   "metadata": {},
   "outputs": [],
   "source": [
    "import torch\n",
    "dim_x = 6\n",
    "ass = torch.nn.Linear(dim_x, dim_x, bias=False)"
   ]
  },
  {
   "cell_type": "code",
   "execution_count": 14,
   "id": "59fdadb9",
   "metadata": {},
   "outputs": [],
   "source": [
    "opt = torch.optim.Adam(ass.parameters(), lr=1e-4)"
   ]
  },
  {
   "cell_type": "code",
   "execution_count": 15,
   "id": "ecaf1fe4",
   "metadata": {},
   "outputs": [
    {
     "data": {
      "text/plain": [
       "Linear(in_features=6, out_features=6, bias=False)"
      ]
     },
     "execution_count": 15,
     "metadata": {},
     "output_type": "execute_result"
    }
   ],
   "source": [
    "\n",
    "\n",
    "copy.deepcopy(ass)"
   ]
  },
  {
   "cell_type": "code",
   "execution_count": 49,
   "id": "8e8edac8",
   "metadata": {},
   "outputs": [
    {
     "name": "stdout",
     "output_type": "stream",
     "text": [
      "dict_keys(['test_logits', 'test_acc', 'test_nll', 'test_probs', 'test_labels', 'feature_coeffients', 'to_bucket'])\n"
     ]
    },
    {
     "data": {
      "text/plain": [
       "('acc/r2:', tensor(0.2576))"
      ]
     },
     "execution_count": 49,
     "metadata": {},
     "output_type": "execute_result"
    }
   ],
   "source": [
    "print(results.get(n_example).keys())\n",
    "\"acc/r2:\", results.get(n_example).get(\"test_acc\")"
   ]
  },
  {
   "cell_type": "code",
   "execution_count": 51,
   "id": "2dc53a5a",
   "metadata": {},
   "outputs": [
    {
     "data": {
      "text/plain": [
       "[('Causal_2', 28.2161705493927),\n",
       " ('Causal_1', 26.71197199821472),\n",
       " ('Causal_0', 26.41683316230774),\n",
       " ('Causal_3', 21.73872461915016),\n",
       " ('Non_causal_7', 2.7639010846614838),\n",
       " ('Non_causal_5', 2.7266255617141724),\n",
       " ('Non_causal_2', 2.3941598534584045),\n",
       " ('Non_causal_8', 2.0637218952178955),\n",
       " ('Non_causal_6', 1.5529405996203423),\n",
       " ('Non_causal_4', 1.2595409452915192),\n",
       " ('Non_causal_3', 1.1885599195957184),\n",
       " ('Non_causal_9', 0.9855049755424261),\n",
       " ('Non_causal_1', 0.6325856596231461),\n",
       " ('Non_causal_0', 0.30464520677924156)]"
      ]
     },
     "execution_count": 51,
     "metadata": {},
     "output_type": "execute_result"
    }
   ],
   "source": [
    "result = results.get(n_example).get(\"to_bucket\")\n",
    "\n",
    "if output_data_regime == \"multi-class\":\n",
    "    r = sorted(zip(result.get(\"features\"), np.abs(result.get(\"coefficients\")).sum(axis=1)), key=lambda x: x[1], reverse=True)\n",
    "else:\n",
    "    r = sorted(zip(result.get(\"features\"), result.get(\"coefficients\")), key=lambda x: abs(x[1]), reverse=True)\n",
    "r"
   ]
  },
  {
   "cell_type": "code",
   "execution_count": null,
   "id": "a214d4fa",
   "metadata": {},
   "outputs": [],
   "source": []
  }
 ],
 "metadata": {
  "environment": {
   "name": "common-cu100.m73",
   "type": "gcloud",
   "uri": "gcr.io/deeplearning-platform-release/base-cu100:m73"
  },
  "kernelspec": {
   "display_name": "Python 3",
   "language": "python",
   "name": "python3"
  },
  "language_info": {
   "codemirror_mode": {
    "name": "ipython",
    "version": 3
   },
   "file_extension": ".py",
   "mimetype": "text/x-python",
   "name": "python",
   "nbconvert_exporter": "python",
   "pygments_lexer": "ipython3",
   "version": "3.7.10"
  },
  "widgets": {
   "application/vnd.jupyter.widget-state+json": {
    "state": {},
    "version_major": 2,
    "version_minor": 0
   }
  }
 },
 "nbformat": 4,
 "nbformat_minor": 5
}

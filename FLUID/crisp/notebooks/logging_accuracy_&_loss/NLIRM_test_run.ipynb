{
 "cells": [
  {
   "cell_type": "code",
   "execution_count": 1,
   "id": "1e6bf37b",
   "metadata": {},
   "outputs": [],
   "source": [
    "import sys\n",
    "#sys.path.insert(1, '/home/linus/projects/fdl/crisp')"
   ]
  },
  {
   "cell_type": "code",
   "execution_count": 2,
   "id": "f4e49e11",
   "metadata": {},
   "outputs": [
    {
     "data": {
      "text/plain": [
       "'/home/jupyter/crisp'"
      ]
     },
     "execution_count": 2,
     "metadata": {},
     "output_type": "execute_result"
    }
   ],
   "source": [
    "import os\n",
    "import pandas as pd\n",
    "while os.getcwd() != '/home/jupyter/crisp':\n",
    "    os.chdir(\"..\")\n",
    "%pwd"
   ]
  },
  {
   "cell_type": "code",
   "execution_count": 3,
   "id": "5effd07f",
   "metadata": {},
   "outputs": [],
   "source": [
    "from models.SimpleNonLinearInvariantRiskMinimization import SimpleNonLinearInvariantRiskMinimization\n",
    "from dataio.DataFrameDataset import *\n",
    "from dataio.datasets import *"
   ]
  },
  {
   "cell_type": "code",
   "execution_count": 4,
   "id": "fa7459a3",
   "metadata": {},
   "outputs": [],
   "source": [
    "from synthetic.facebook_synthetic_data_generator import generator_example\n",
    "\n",
    "dim_inv = 2\n",
    "dim_spu = 2\n",
    "n_exp_train = 6 #int(2e2)\n",
    "n_exp_test = 6\n",
    "n_env = 3\n",
    "save_dir = 'data/synthetic'"
   ]
  },
  {
   "cell_type": "code",
   "execution_count": 5,
   "id": "a6f0a560",
   "metadata": {},
   "outputs": [],
   "source": [
    "config = {\n",
    "    \"name\": \"Example Experiment for AH casual ensemble\",\n",
    "    \"short_name\": \"ah_experiment_notebook\",\n",
    "    \"bucket_project\": \"fdl-us-astronaut-health\",\n",
    "    \"bucket_name\": \"ah_21_data\",\n",
    "    \"bucket_path\": \"gs://ah_21_data\",\n",
    "    \"verbose\": 1,\n",
    "    \"test_val_split\": [0.1, 0.1],\n",
    "    \"per_variant_experiment\": False,\n",
    "    \"data_options\": {\n",
    "        #'dataset_fp': '../data/test_multiclass.pkl',\n",
    "        'dataset_fp' : None,\n",
    "        'output_data_regime' : [\"real-valued\", \"binary\", \"binary\", \"real-valued\", \"multi-class\"],\n",
    "        'subject_keys': 'Subj_ID',\n",
    "        'targets': ['Target'],\n",
    " #        'predictors': ['All'],\n",
    "        'predictors': None,\n",
    "        'environments': ['env_split'],\n",
    "        'exclude': ['Subj_ID'],\n",
    "        'synthetic_train_test_split' : True,\n",
    "    },\n",
    "    \"feature_selection_options\": {\n",
    "        \"max_features\": 20,\n",
    "        \"verbose\": 0,\n",
    "        \"seed\": 12\n",
    "    },\n",
    "    \"ensemble_options\": {\n",
    "        \"models\": [\"ERM\", \"RF\", \"ICP\", \"IRM\", \"DCF\", \"ITE\", \"LIRM\", \"NLICP\"]\n",
    "    },\n",
    "    \"use_cloud\":False,\n",
    "    \"results_directory\": \"results/\"\n",
    "}\n",
    "data_config = config['data_options']"
   ]
  },
  {
   "cell_type": "code",
   "execution_count": 6,
   "id": "319886d1",
   "metadata": {},
   "outputs": [],
   "source": [
    "SNLIRM_options = config.get(\"ensemble_options\").get('LIRM', {})\n",
    "SNLIRM_args = {\n",
    "            \"use_icp_initialization\": False,\n",
    "            \"verbose\": 1,\n",
    "            \"n_iterations\": 3000, # 1000\n",
    "            \"seed\": 0,\n",
    "            \"lr\": 0.005, # 0.001\n",
    "            \"cuda\": False\n",
    "        }\n",
    "SNLIRM_args.update(SNLIRM_options)"
   ]
  },
  {
   "cell_type": "code",
   "execution_count": 7,
   "id": "ba70f6b4",
   "metadata": {},
   "outputs": [],
   "source": [
    "def get_dataset_for_synthetic_experiment(n_example, dim_inv, dim_spu, n_exp_train, n_exp_test, n_env, save_dir):\n",
    "    # training data\n",
    "    generator_example(n_example, dim_inv, dim_spu, n_exp_train, n_env ,save_dir, False)\n",
    "    outfile_train = os.path.join(save_dir,\"data_fb_example_%s_dim_inv_%s_dim_spu_%s_n_exp_%s_n_env_%s_test_%s.pickle\" %(n_example, dim_inv, dim_spu, n_exp_train, n_env, False))\n",
    "\n",
    "    # test data\n",
    "    generator_example(n_example, dim_inv, dim_spu, n_exp_test, n_env ,save_dir, True)\n",
    "    outfile_test = os.path.join(save_dir,\"data_fb_example_%s_dim_inv_%s_dim_spu_%s_n_exp_%s_n_env_%s_test_%s.pickle\" %(n_example, dim_inv, dim_spu, n_exp_test, n_env, True))\n",
    "    \n",
    "    return outfile_train, outfile_test"
   ]
  },
  {
   "cell_type": "code",
   "execution_count": 8,
   "id": "e4b9b747",
   "metadata": {},
   "outputs": [],
   "source": [
    "# lirm.loss_per_iteration"
   ]
  },
  {
   "cell_type": "code",
   "execution_count": 9,
   "id": "452bc53c",
   "metadata": {},
   "outputs": [
    {
     "name": "stdout",
     "output_type": "stream",
     "text": [
      "\n",
      "\n",
      "n_example: 1 output_data_regime: real-valued \n",
      "\n",
      "\n",
      "Environments variables: {'E0': 0.1, 'E1': 1.5, 'E2': 2}\n",
      "Generated Synthetic Data according to the Facebook setup Example: 1\n",
      "     df with  4  columns\n",
      "Environments variables: {'E0': 0.1, 'E1': 1.5, 'E2': 2}\n",
      "Generated Synthetic Data according to the Facebook setup Example: 1\n",
      "     df with  4  columns\n",
      "Running a per sample experiment\n",
      "Using synthetic dataset train/test split\n",
      "Loaded  3  train environments\n",
      "Env  0  has  2  samples\n",
      "X shape  (2, 4)  y shape  (2, 1)\n",
      "Env  1  has  2  samples\n",
      "X shape  (2, 4)  y shape  (2, 1)\n",
      "Env  2  has  2  samples\n",
      "X shape  (2, 4)  y shape  (2, 1)\n",
      "Loaded test set, X shape: (6, 4)  y shape:  (6, 1)\n",
      "Start simple nonlinear-IRM training procedure\n",
      "logging accuracy and loss\n",
      "logging accuracy and loss\n",
      "logging accuracy and loss\n",
      "logging accuracy and loss\n",
      "logging accuracy and loss\n",
      "logging accuracy and loss\n",
      "logging accuracy and loss\n",
      "logging accuracy and loss\n",
      "logging accuracy and loss\n",
      "logging accuracy and loss\n",
      "logging accuracy and loss\n",
      "logging accuracy and loss\n",
      "logging accuracy and loss\n",
      "logging accuracy and loss\n",
      "logging accuracy and loss\n",
      "IRM (reg=0.001) has 13.741 validation error.\n"
     ]
    }
   ],
   "source": [
    "results = {}\n",
    "\n",
    "for n_example in [1]:#,2,3,4,5]:\n",
    "    output_data_regime = config[\"data_options\"][\"output_data_regime\"][n_example-1]\n",
    "    print(\"\\n\\nn_example:\", n_example, \"output_data_regime:\", output_data_regime, \"\\n\\n\")\n",
    "    \n",
    "    outfile_train, outfile_test = get_dataset_for_synthetic_experiment(n_example, dim_inv, dim_spu, n_exp_train, n_exp_test, n_env, save_dir)\n",
    "    df_train = pd.read_pickle(outfile_train)\n",
    "    df_test = pd.read_pickle(outfile_test)\n",
    "\n",
    "    config[\"data_options\"][\"dataset_fp_train\"] = outfile_train\n",
    "    config[\"data_options\"][\"dataset_fp_test\"] = outfile_test\n",
    "    config[\"data_options\"][\"predictors\"] = list(df_train.columns[0:dim_inv+dim_spu])\n",
    "    environment_datasets, val_dataset, test_dataset = get_datasets_for_experiment(config)\n",
    "\n",
    "    SNLIRM_args[\"target\"] = config[\"data_options\"][\"targets\"]\n",
    "    SNLIRM_args[\"output_data_regime\"] = output_data_regime\n",
    "    SNLIRM_args[\"columns\"] = test_dataset.predictor_columns\n",
    "\n",
    "    lirm = SimpleNonLinearInvariantRiskMinimization(environment_datasets, val_dataset, test_dataset, SNLIRM_args)\n",
    "    \n",
    "    lirm_results_dict = lirm.results()\n",
    "    results[n_example] = lirm_results_dict"
   ]
  },
  {
   "cell_type": "code",
   "execution_count": 10,
   "id": "f1031854",
   "metadata": {},
   "outputs": [
    {
     "data": {
      "text/plain": [
       "[-0.0036234020948742174,\n",
       " -0.0938305036631597,\n",
       " -0.2195319438785115,\n",
       " -0.37758749177150386,\n",
       " -0.5646517629540619,\n",
       " -0.7776145254980265,\n",
       " -1.013761742132104,\n",
       " -1.2708345545173616,\n",
       " -1.5469940331625733,\n",
       " -1.8407467267443813,\n",
       " -2.15086656272024,\n",
       " -2.476309159635228,\n",
       " -2.81613405859363,\n",
       " -3.169445997436357,\n",
       " -3.535378601097494]"
      ]
     },
     "execution_count": 10,
     "metadata": {},
     "output_type": "execute_result"
    }
   ],
   "source": [
    "lirm.acc_per_iteration"
   ]
  },
  {
   "cell_type": "code",
   "execution_count": 11,
   "id": "9d842599",
   "metadata": {},
   "outputs": [
    {
     "data": {
      "text/plain": [
       "[tensor(64.4530, grad_fn=<DivBackward0>),\n",
       " tensor(62.8323, grad_fn=<DivBackward0>),\n",
       " tensor(61.1626, grad_fn=<DivBackward0>),\n",
       " tensor(59.4455, grad_fn=<DivBackward0>),\n",
       " tensor(57.6937, grad_fn=<DivBackward0>),\n",
       " tensor(55.9270, grad_fn=<DivBackward0>),\n",
       " tensor(54.1683, grad_fn=<DivBackward0>),\n",
       " tensor(52.4405, grad_fn=<DivBackward0>),\n",
       " tensor(50.7632, grad_fn=<DivBackward0>),\n",
       " tensor(49.1518, grad_fn=<DivBackward0>),\n",
       " tensor(47.6169, grad_fn=<DivBackward0>),\n",
       " tensor(46.1652, grad_fn=<DivBackward0>),\n",
       " tensor(44.8001, grad_fn=<DivBackward0>),\n",
       " tensor(43.5225, grad_fn=<DivBackward0>),\n",
       " tensor(42.3310, grad_fn=<DivBackward0>)]"
      ]
     },
     "execution_count": 11,
     "metadata": {},
     "output_type": "execute_result"
    }
   ],
   "source": [
    "lirm.loss_per_iteration"
   ]
  },
  {
   "cell_type": "code",
   "execution_count": null,
   "id": "395d4172",
   "metadata": {},
   "outputs": [],
   "source": []
  }
 ],
 "metadata": {
  "environment": {
   "name": "common-cu100.m73",
   "type": "gcloud",
   "uri": "gcr.io/deeplearning-platform-release/base-cu100:m73"
  },
  "kernelspec": {
   "display_name": "Python 3",
   "language": "python",
   "name": "python3"
  },
  "language_info": {
   "codemirror_mode": {
    "name": "ipython",
    "version": 3
   },
   "file_extension": ".py",
   "mimetype": "text/x-python",
   "name": "python",
   "nbconvert_exporter": "python",
   "pygments_lexer": "ipython3",
   "version": "3.7.10"
  },
  "widgets": {
   "application/vnd.jupyter.widget-state+json": {
    "state": {},
    "version_major": 2,
    "version_minor": 0
   }
  }
 },
 "nbformat": 4,
 "nbformat_minor": 5
}

{
 "cells": [
  {
   "cell_type": "code",
   "execution_count": 1,
   "id": "cc1bcfbd",
   "metadata": {},
   "outputs": [
    {
     "data": {
      "text/plain": [
       "'/home/paul/Software/FDL_2021/crisp/notebooks'"
      ]
     },
     "execution_count": 1,
     "metadata": {},
     "output_type": "execute_result"
    }
   ],
   "source": [
    "import os\n",
    "import pandas as pd\n",
    "import numpy as np\n",
    "%pwd\n"
   ]
  },
  {
   "cell_type": "code",
   "execution_count": 2,
   "id": "87df12ba",
   "metadata": {},
   "outputs": [],
   "source": [
    "os.chdir(\"..\")\n",
    "# %mkdir data"
   ]
  },
  {
   "cell_type": "code",
   "execution_count": 3,
   "id": "ce8fe32d",
   "metadata": {},
   "outputs": [],
   "source": [
    "# silence warnings\n",
    "import warnings\n",
    "warnings.filterwarnings(\"ignore\")\n"
   ]
  },
  {
   "cell_type": "code",
   "execution_count": 4,
   "id": "2e977b04",
   "metadata": {},
   "outputs": [],
   "source": [
    "from synthetic.facebook_synthetic_data_generator import generator_example\n"
   ]
  },
  {
   "cell_type": "markdown",
   "id": "b8458782-45e2-4bc4-9429-f2396eb57658",
   "metadata": {},
   "source": [
    "## TRAIN SET"
   ]
  },
  {
   "cell_type": "code",
   "execution_count": 45,
   "id": "34424c00",
   "metadata": {},
   "outputs": [],
   "source": [
    "n_example = 1\n",
    "dim_inv=6\n",
    "dim_spu=60\n",
    "n_exp=1000\n",
    "n_env=5\n",
    "\n",
    "save_dir= 'data'\n",
    "test=False \n",
    "\n",
    "if not os.path.exists(save_dir): os.mkdir(save_dir)"
   ]
  },
  {
   "cell_type": "code",
   "execution_count": 46,
   "id": "9c87e513-00a2-4d46-9625-53d894a1186f",
   "metadata": {},
   "outputs": [
    {
     "name": "stdout",
     "output_type": "stream",
     "text": [
      "Environments variables: {'E0': 0.1, 'E1': 1.5, 'E2': 2, 'E3': 0.30815539086172433, 'E4': 2.016811860476012}\n",
      "Generated Synthetic Data according to the Facebook setup Example: 1\n"
     ]
    }
   ],
   "source": [
    "generator_example(n_example, dim_inv, dim_spu, n_exp, n_env, save_dir, test)\n",
    "file = os.path.join(save_dir,\"data_fb_example_%s_dim_inv_%s_dim_spu_%s_n_exp_%s_n_env_%s_test_%s.pickle\" %(n_example, dim_inv, dim_spu, n_exp, n_env,test) )\n",
    "df_train = pd.read_pickle(file)"
   ]
  },
  {
   "cell_type": "code",
   "execution_count": 47,
   "id": "c6eb19ea-8cb4-4016-8eff-571abcc5e48a",
   "metadata": {},
   "outputs": [],
   "source": [
    "for i in range(n_env):\n",
    "    path = os.path.join(save_dir, \"col_%s\" %i, \"train\")\n",
    "    if not os.path.exists(path): \n",
    "        os.mkdir(os.path.join(save_dir, \"col_%s\" %i))\n",
    "        os.mkdir(path)\n",
    "    df = df_train[df_train[\"env_split\"] == i]\n",
    "    df = df.drop(columns=[\"env_split\", \"Subj_ID\"])\n",
    "    df.to_csv(os.path.join(path, \"data.csv\"), index=False)"
   ]
  },
  {
   "cell_type": "markdown",
   "id": "b4a1b48d-2bb1-4985-9a46-30d8ad1b0539",
   "metadata": {},
   "source": [
    "## TEST SET: "
   ]
  },
  {
   "cell_type": "code",
   "execution_count": 48,
   "id": "28fa0b19-7305-460a-b481-6b33f8775df3",
   "metadata": {},
   "outputs": [],
   "source": [
    "save_dir= 'data'\n",
    "test=True \n",
    "\n",
    "if not os.path.exists(save_dir): os.mkdir(save_dir)"
   ]
  },
  {
   "cell_type": "code",
   "execution_count": 49,
   "id": "88154197",
   "metadata": {},
   "outputs": [
    {
     "name": "stdout",
     "output_type": "stream",
     "text": [
      "Environments variables: {'E0': 0.1, 'E1': 1.5, 'E2': 2, 'E3': 0.30815539086172433, 'E4': 2.016811860476012}\n",
      "Generated Synthetic Data according to the Facebook setup Example: 1\n"
     ]
    }
   ],
   "source": [
    "generator_example(n_example, dim_inv, dim_spu, n_exp, n_env, save_dir, test)\n",
    "file = os.path.join(save_dir,\"data_fb_example_%s_dim_inv_%s_dim_spu_%s_n_exp_%s_n_env_%s_test_%s.pickle\" %(n_example, dim_inv, dim_spu, n_exp, n_env,test) )\n",
    "df_test = pd.read_pickle(file)"
   ]
  },
  {
   "cell_type": "code",
   "execution_count": 50,
   "id": "c65ec7a1",
   "metadata": {},
   "outputs": [],
   "source": [
    "# Output the individual env datasets into their data locations:"
   ]
  },
  {
   "cell_type": "code",
   "execution_count": 51,
   "id": "900a5cda",
   "metadata": {},
   "outputs": [],
   "source": [
    "for i in range(n_env):\n",
    "    path = os.path.join(save_dir, \"col_%s\" %i, \"test\")\n",
    "    if not os.path.exists(path): \n",
    "#         os.mkdir(os.path.join(save_dir, \"col_%s\" %i))\n",
    "        os.mkdir(path)  # probably data/col is already created\n",
    "    df = df_test[df_test[\"env_split\"] == i]\n",
    "    df = df.drop(columns=[\"env_split\", \"Subj_ID\"])\n",
    "    df.to_csv(os.path.join(path, \"data.csv\"), index=False)"
   ]
  },
  {
   "cell_type": "code",
   "execution_count": null,
   "id": "f6f8f060-3566-489d-8f14-d38c29bf2422",
   "metadata": {},
   "outputs": [],
   "source": []
  }
 ],
 "metadata": {
  "environment": {
   "name": "tf2-gpu.2-3.m74",
   "type": "gcloud",
   "uri": "gcr.io/deeplearning-platform-release/tf2-gpu.2-3:m74"
  },
  "kernelspec": {
   "display_name": "Python 3",
   "language": "python",
   "name": "python3"
  },
  "language_info": {
   "codemirror_mode": {
    "name": "ipython",
    "version": 3
   },
   "file_extension": ".py",
   "mimetype": "text/x-python",
   "name": "python",
   "nbconvert_exporter": "python",
   "pygments_lexer": "ipython3",
   "version": "3.8.10"
  }
 },
 "nbformat": 4,
 "nbformat_minor": 5
}

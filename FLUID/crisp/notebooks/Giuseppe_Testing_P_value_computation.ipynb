{
 "cells": [
  {
   "cell_type": "code",
   "execution_count": 1,
   "id": "52877932",
   "metadata": {},
   "outputs": [
    {
     "data": {
      "text/plain": [
       "'/home/jupyter/crisp'"
      ]
     },
     "execution_count": 1,
     "metadata": {},
     "output_type": "execute_result"
    }
   ],
   "source": [
    "import os\n",
    "import numpy as np\n",
    "os.chdir(\"..\")\n",
    "\n",
    "from utils.get_synthetic_data_for_validation import get_datasets\n",
    "from utils.vm_helpers import save_dict_to_json\n",
    "from utils.gcp_helpers import save_json_to_bucket\n",
    "from models.CausalNex import CausalNexClass\n",
    "import pandas as pd\n",
    "\n",
    "%pwd"
   ]
  },
  {
   "cell_type": "code",
   "execution_count": 2,
   "id": "4b17c735",
   "metadata": {},
   "outputs": [],
   "source": [
    "from causalnex.structure import StructureModel\n",
    "from IPython.display import Image\n",
    "from causalnex.plots import plot_structure, NODE_STYLE, EDGE_STYLE"
   ]
  },
  {
   "cell_type": "code",
   "execution_count": 8,
   "id": "420a7fd9",
   "metadata": {},
   "outputs": [
    {
     "name": "stdout",
     "output_type": "stream",
     "text": [
      "Example1  seed  0\n",
      "Environments variables: {'E0': 0.1, 'E1': 1.5, 'E2': 2, 'E3': 0.30815539086172433, 'E4': 2.016811860476012}\n",
      "Generated Synthetic Data according to the Facebook setup Example: 1\n",
      "     df with  62  columns\n",
      "Environments variables: {'E0': 0.1, 'E1': 1.5, 'E2': 2, 'E3': 0.30815539086172433, 'E4': 2.016811860476012}\n",
      "Generated Synthetic Data according to the Facebook setup Example: 1\n",
      "     df with  62  columns\n",
      "Running a per sample experiment\n",
      "Using synthetic dataset train/test split\n",
      "['Causal_0', 'Causal_1', 'Causal_2', 'Causal_3', 'Causal_4', 'Causal_5', 'Non_causal_0', 'Non_causal_1', 'Non_causal_2', 'Non_causal_3', 'Non_causal_4', 'Non_causal_5', 'Uncorrelated_0', 'Uncorrelated_1', 'Uncorrelated_2', 'Uncorrelated_3', 'Uncorrelated_4', 'Uncorrelated_5', 'Uncorrelated_6', 'Uncorrelated_7', 'Uncorrelated_8', 'Uncorrelated_9', 'Uncorrelated_10', 'Uncorrelated_11', 'Uncorrelated_12', 'Uncorrelated_13', 'Uncorrelated_14', 'Uncorrelated_15', 'Uncorrelated_16', 'Uncorrelated_17', 'Uncorrelated_18', 'Uncorrelated_19', 'Uncorrelated_20', 'Uncorrelated_21', 'Uncorrelated_22', 'Uncorrelated_23', 'Uncorrelated_24', 'Uncorrelated_25', 'Uncorrelated_26', 'Uncorrelated_27', 'Uncorrelated_28', 'Uncorrelated_29', 'Uncorrelated_30', 'Uncorrelated_31', 'Uncorrelated_32', 'Uncorrelated_33', 'Uncorrelated_34', 'Uncorrelated_35', 'Uncorrelated_36', 'Uncorrelated_37', 'Uncorrelated_38', 'Uncorrelated_39', 'Uncorrelated_40', 'Uncorrelated_41', 'Uncorrelated_42', 'Uncorrelated_43', 'Uncorrelated_44', 'Uncorrelated_45', 'Uncorrelated_46', 'Uncorrelated_47', 'Uncorrelated_48', 'Uncorrelated_49']\n",
      "['Causal_0', 'Causal_1', 'Causal_2', 'Causal_3', 'Causal_4', 'Causal_5', 'Non_causal_0', 'Non_causal_1', 'Non_causal_2', 'Non_causal_3', 'Non_causal_4', 'Non_causal_5', 'Uncorrelated_0', 'Uncorrelated_1', 'Uncorrelated_2', 'Uncorrelated_3', 'Uncorrelated_4', 'Uncorrelated_5', 'Uncorrelated_6', 'Uncorrelated_7', 'Uncorrelated_8', 'Uncorrelated_9', 'Uncorrelated_10', 'Uncorrelated_11', 'Uncorrelated_12', 'Uncorrelated_13', 'Uncorrelated_14', 'Uncorrelated_15', 'Uncorrelated_16', 'Uncorrelated_17', 'Uncorrelated_18', 'Uncorrelated_19', 'Uncorrelated_20', 'Uncorrelated_21', 'Uncorrelated_22', 'Uncorrelated_23', 'Uncorrelated_24', 'Uncorrelated_25', 'Uncorrelated_26', 'Uncorrelated_27', 'Uncorrelated_28', 'Uncorrelated_29', 'Uncorrelated_30', 'Uncorrelated_31', 'Uncorrelated_32', 'Uncorrelated_33', 'Uncorrelated_34', 'Uncorrelated_35', 'Uncorrelated_36', 'Uncorrelated_37', 'Uncorrelated_38', 'Uncorrelated_39', 'Uncorrelated_40', 'Uncorrelated_41', 'Uncorrelated_42', 'Uncorrelated_43', 'Uncorrelated_44', 'Uncorrelated_45', 'Uncorrelated_46', 'Uncorrelated_47', 'Uncorrelated_48', 'Uncorrelated_49']\n",
      "Loaded  5  train environments\n",
      "Env  0  has  2000  samples\n",
      "X shape  (2000, 62)  y shape  (2000, 1)\n",
      "Env  1  has  2000  samples\n",
      "X shape  (2000, 62)  y shape  (2000, 1)\n",
      "Env  2  has  2000  samples\n",
      "X shape  (2000, 62)  y shape  (2000, 1)\n",
      "Env  3  has  2000  samples\n",
      "X shape  (2000, 62)  y shape  (2000, 1)\n",
      "Env  4  has  2000  samples\n",
      "X shape  (2000, 62)  y shape  (2000, 1)\n",
      "Loaded test set, X shape: (500, 62)  y shape:  (500, 1)\n"
     ]
    }
   ],
   "source": [
    "examples = [\"Example1\"]#, \"Example2\", \"Example3\", \"Example4\", \"Example_Confounder\", \"Example_Nonlinear\"]\n",
    "n_seeds = 1\n",
    "for example in examples:            \n",
    "    results = {}\n",
    "            \n",
    "    for seed in range(n_seeds):\n",
    "        print(example, ' seed ', int(seed))\n",
    "        environment_datasets, val_dataset, test_dataset, config =  get_datasets(example, seed=seed)\n",
    "\n",
    "        csnx = CausalNexClass(environment_datasets, val_dataset, test_dataset, {})\n",
    "        results[seed] = csnx.results()\n",
    "        results[seed][\"seed\"] = seed\n",
    "            \n",
    "#     result_file = \"results/validation/CSNX_\" + example + \".json\"\n",
    "\n",
    "#     save_dict_to_json(results, result_file)"
   ]
  },
  {
   "cell_type": "code",
   "execution_count": 9,
   "id": "5d9341bd",
   "metadata": {},
   "outputs": [],
   "source": [
    "ordered_names = results.get(0)[\"to_bucket\"]['features']"
   ]
  },
  {
   "cell_type": "code",
   "execution_count": 10,
   "id": "b824cbff",
   "metadata": {},
   "outputs": [],
   "source": [
    "coeffs = results.get(0)[\"to_bucket\"]['coefficients']"
   ]
  },
  {
   "cell_type": "code",
   "execution_count": 11,
   "id": "5392d1a1",
   "metadata": {},
   "outputs": [],
   "source": [
    "original_names = test_dataset.predictor_columns"
   ]
  },
  {
   "cell_type": "code",
   "execution_count": 12,
   "id": "672c3152",
   "metadata": {},
   "outputs": [
    {
     "data": {
      "text/plain": [
       "['Uncorrelated_12',\n",
       " 'Causal_4',\n",
       " 'Non_causal_2',\n",
       " 'Causal_1',\n",
       " 'Non_causal_5',\n",
       " 'Non_causal_0',\n",
       " 'Non_causal_3',\n",
       " 'Causal_0',\n",
       " 'Uncorrelated_0',\n",
       " 'Uncorrelated_1',\n",
       " 'Uncorrelated_39',\n",
       " 'Uncorrelated_31',\n",
       " 'Causal_5',\n",
       " 'Uncorrelated_14',\n",
       " 'Causal_3',\n",
       " 'Non_causal_1',\n",
       " 'Non_causal_4',\n",
       " 'Uncorrelated_43',\n",
       " 'Uncorrelated_26',\n",
       " 'Uncorrelated_42',\n",
       " 'Uncorrelated_35',\n",
       " 'Uncorrelated_38',\n",
       " 'Uncorrelated_32',\n",
       " 'Uncorrelated_13',\n",
       " 'Uncorrelated_2',\n",
       " 'Uncorrelated_37',\n",
       " 'Uncorrelated_33',\n",
       " 'Uncorrelated_29',\n",
       " 'Uncorrelated_40',\n",
       " 'Uncorrelated_4',\n",
       " 'Uncorrelated_22',\n",
       " 'Uncorrelated_30',\n",
       " 'Uncorrelated_44',\n",
       " 'Uncorrelated_23',\n",
       " 'Uncorrelated_11',\n",
       " 'Uncorrelated_18',\n",
       " 'Uncorrelated_21',\n",
       " 'Uncorrelated_19',\n",
       " 'Causal_2',\n",
       " 'Uncorrelated_27',\n",
       " 'Uncorrelated_7',\n",
       " 'Uncorrelated_45',\n",
       " 'Uncorrelated_46',\n",
       " 'Uncorrelated_9',\n",
       " 'Uncorrelated_16',\n",
       " 'Uncorrelated_34',\n",
       " 'Uncorrelated_48',\n",
       " 'Uncorrelated_24',\n",
       " 'Uncorrelated_5',\n",
       " 'Uncorrelated_41',\n",
       " 'Uncorrelated_10',\n",
       " 'Uncorrelated_8',\n",
       " 'Uncorrelated_15',\n",
       " 'Uncorrelated_28',\n",
       " 'Uncorrelated_3',\n",
       " 'Uncorrelated_25',\n",
       " 'Uncorrelated_20',\n",
       " 'Uncorrelated_36',\n",
       " 'Uncorrelated_47',\n",
       " 'Uncorrelated_17',\n",
       " 'Uncorrelated_49',\n",
       " 'Uncorrelated_6']"
      ]
     },
     "execution_count": 12,
     "metadata": {},
     "output_type": "execute_result"
    }
   ],
   "source": [
    "ordered_names"
   ]
  },
  {
   "cell_type": "code",
   "execution_count": 13,
   "id": "8c253a42",
   "metadata": {},
   "outputs": [],
   "source": [
    "bool_names = []\n",
    "for original_name in original_names:\n",
    "    if original_name in ordered_names[:10]:\n",
    "        bool_names.append(True)\n",
    "    else:\n",
    "        bool_names.append(False)"
   ]
  },
  {
   "cell_type": "code",
   "execution_count": 14,
   "id": "56ddbcd2",
   "metadata": {},
   "outputs": [],
   "source": [
    "# from itertools import compress\n",
    "# first_ten = list(compress(original_names,bool_names))\n",
    "# from itertools import chain, combinations, compress\n",
    "# import numpy as np\n",
    "# import torch\n",
    "# from scipy.stats import f as fdist\n",
    "# from scipy.stats import ttest_ind\n",
    "\n",
    "# from models.TorchModelZoo import TorchLinearRegressionModule, TorchLogisticRegressionModule\n",
    "# from torch.nn import BCEWithLogitsLoss, CrossEntropyLoss\n",
    "# import pickle"
   ]
  },
  {
   "cell_type": "code",
   "execution_count": 15,
   "id": "37311bbe",
   "metadata": {},
   "outputs": [],
   "source": [
    "from utils.p_values_invariance import computing_p_values, euristic_ICP"
   ]
  },
  {
   "cell_type": "code",
   "execution_count": 16,
   "id": "f5948196",
   "metadata": {
    "collapsed": true,
    "jupyter": {
     "outputs_hidden": true
    }
   },
   "outputs": [
    {
     "name": "stdout",
     "output_type": "stream",
     "text": [
      "0.016129032258064516\n",
      "0.03225806451612903\n",
      "0.04838709677419355\n",
      "0.06451612903225806\n",
      "0.08064516129032258\n",
      "0.0967741935483871\n",
      "0.11290322580645161\n",
      "0.12903225806451613\n",
      "0.14516129032258066\n",
      "0.16129032258064516\n",
      "0.1774193548387097\n",
      "0.1935483870967742\n",
      "0.20967741935483872\n",
      "0.22580645161290322\n",
      "0.24193548387096775\n",
      "0.25806451612903225\n",
      "0.27419354838709675\n",
      "0.2903225806451613\n",
      "0.3064516129032258\n",
      "0.3225806451612903\n",
      "0.3387096774193548\n",
      "0.3548387096774194\n",
      "0.3709677419354839\n",
      "0.3870967741935484\n",
      "0.4032258064516129\n",
      "0.41935483870967744\n",
      "0.43548387096774194\n",
      "0.45161290322580644\n",
      "0.46774193548387094\n",
      "0.4838709677419355\n",
      "0.5\n",
      "0.5161290322580645\n",
      "0.532258064516129\n",
      "0.5483870967741935\n",
      "0.5645161290322581\n",
      "0.5806451612903226\n",
      "0.5967741935483871\n",
      "0.6129032258064516\n",
      "0.6290322580645161\n",
      "0.6451612903225806\n",
      "0.6612903225806451\n",
      "0.6774193548387096\n",
      "0.6935483870967742\n",
      "0.7096774193548387\n",
      "0.7258064516129032\n",
      "0.7419354838709677\n",
      "0.7580645161290323\n",
      "0.7741935483870968\n",
      "0.7903225806451613\n",
      "0.8064516129032258\n",
      "0.8225806451612904\n",
      "0.8387096774193549\n",
      "0.8548387096774194\n",
      "0.8709677419354839\n",
      "0.8870967741935484\n",
      "0.9032258064516129\n",
      "0.9193548387096774\n",
      "0.9354838709677419\n",
      "0.9516129032258065\n",
      "0.967741935483871\n",
      "0.9838709677419355\n"
     ]
    }
   ],
   "source": [
    "p_vals = computing_p_values(ordered_names, original_names, environment_datasets, first_n_elems = 62)"
   ]
  },
  {
   "cell_type": "code",
   "execution_count": 17,
   "id": "f139fac4",
   "metadata": {},
   "outputs": [],
   "source": [
    "import matplotlib.pyplot as plt\n"
   ]
  },
  {
   "cell_type": "code",
   "execution_count": 18,
   "id": "a4da7850",
   "metadata": {},
   "outputs": [],
   "source": [
    "CDFs = []\n",
    "Causal_of_selected = []\n",
    "count = 0\n",
    "for j in range(1,len(p_vals)):\n",
    "    if 'Causal' in ordered_names[j]:\n",
    "        count+=1\n",
    "    CDFs.append(count)\n",
    "    Causal_of_selected.append(CDFs[-1]/j)"
   ]
  },
  {
   "cell_type": "code",
   "execution_count": 19,
   "id": "e3f9d931",
   "metadata": {},
   "outputs": [
    {
     "data": {
      "text/plain": [
       "<matplotlib.legend.Legend at 0x7f78f3c1a2d0>"
      ]
     },
     "execution_count": 19,
     "metadata": {},
     "output_type": "execute_result"
    },
    {
     "data": {
      "image/png": "[encoded data removed]",
      "text/plain": [
       "<Figure size 432x288 with 1 Axes>"
      ]
     },
     "metadata": {
      "needs_background": "light"
     },
     "output_type": "display_data"
    }
   ],
   "source": [
    "plt.plot(p_vals, label='p_values')\n",
    "plt.plot(CDFs, label='CDFs')\n",
    "plt.plot(Causal_of_selected, label='Causal_Fraction')\n",
    "plt.legend()"
   ]
  },
  {
   "cell_type": "code",
   "execution_count": 27,
   "id": "3d640f75",
   "metadata": {},
   "outputs": [],
   "source": [
    " from utils.gcp_helpers import save_json_to_bucket, get_json_from_bucket"
   ]
  },
  {
   "cell_type": "code",
   "execution_count": 26,
   "id": "56fa90ad",
   "metadata": {},
   "outputs": [
    {
     "data": {
      "text/plain": [
       "1"
      ]
     },
     "execution_count": 26,
     "metadata": {},
     "output_type": "execute_result"
    }
   ],
   "source": [
    "save_json_to_bucket(CDFs, \"test/test_CFDs.json\",\"ah21_data\",\"ah21_data\")"
   ]
  },
  {
   "cell_type": "code",
   "execution_count": 28,
   "id": "f271186d",
   "metadata": {},
   "outputs": [],
   "source": [
    "CDFs_2 = get_json_from_bucket(\"test/test_CFDs.json\",\"ah21_data\",\"ah21_data\")"
   ]
  },
  {
   "cell_type": "code",
   "execution_count": 29,
   "id": "c0ec854a",
   "metadata": {},
   "outputs": [
    {
     "data": {
      "text/plain": [
       "[<matplotlib.lines.Line2D at 0x7fd70267b290>]"
      ]
     },
     "execution_count": 29,
     "metadata": {},
     "output_type": "execute_result"
    },
    {
     "data": {
      "image/png": "[encoded data removed]",
      "text/plain": [
       "<Figure size 432x288 with 1 Axes>"
      ]
     },
     "metadata": {
      "needs_background": "light"
     },
     "output_type": "display_data"
    }
   ],
   "source": [
    "plt.plot(CDFs_2)"
   ]
  },
  {
   "cell_type": "code",
   "execution_count": 26,
   "id": "1fe19855",
   "metadata": {
    "collapsed": true,
    "jupyter": {
     "outputs_hidden": true
    }
   },
   "outputs": [
    {
     "name": "stdout",
     "output_type": "stream",
     "text": [
      "0.016129032258064516\n",
      "0.03225806451612903\n",
      "0.04838709677419355\n",
      "0.06451612903225806\n",
      "0.08064516129032258\n",
      "0.0967741935483871\n",
      "0.11290322580645161\n",
      "0.12903225806451613\n",
      "0.14516129032258066\n",
      "0.16129032258064516\n",
      "0.1774193548387097\n",
      "0.1935483870967742\n",
      "0.20967741935483872\n",
      "0.22580645161290322\n",
      "0.24193548387096775\n",
      "0.25806451612903225\n",
      "0.27419354838709675\n",
      "0.2903225806451613\n",
      "0.3064516129032258\n",
      "0.3225806451612903\n",
      "0.3387096774193548\n",
      "0.3548387096774194\n",
      "0.3709677419354839\n",
      "0.3870967741935484\n",
      "0.4032258064516129\n",
      "0.41935483870967744\n",
      "0.43548387096774194\n",
      "0.45161290322580644\n",
      "0.46774193548387094\n",
      "0.4838709677419355\n",
      "0.5\n",
      "0.5161290322580645\n",
      "0.532258064516129\n",
      "0.5483870967741935\n",
      "0.5645161290322581\n",
      "0.5806451612903226\n",
      "0.5967741935483871\n",
      "0.6129032258064516\n",
      "0.6290322580645161\n",
      "0.6451612903225806\n",
      "0.6612903225806451\n",
      "0.6774193548387096\n",
      "0.6935483870967742\n",
      "0.7096774193548387\n",
      "0.7258064516129032\n",
      "0.7419354838709677\n",
      "0.7580645161290323\n",
      "0.7741935483870968\n",
      "0.7903225806451613\n",
      "0.8064516129032258\n",
      "0.8225806451612904\n",
      "0.8387096774193549\n",
      "0.8548387096774194\n",
      "0.8709677419354839\n",
      "0.8870967741935484\n",
      "0.9032258064516129\n",
      "0.9193548387096774\n",
      "0.9354838709677419\n",
      "0.9516129032258065\n",
      "0.967741935483871\n",
      "0.9838709677419355\n"
     ]
    }
   ],
   "source": [
    "p_vals_ideal = computing_p_values(original_names, original_names, environment_datasets, first_n_elems = 62)"
   ]
  },
  {
   "cell_type": "code",
   "execution_count": 29,
   "id": "446c5e53",
   "metadata": {},
   "outputs": [
    {
     "data": {
      "text/plain": [
       "[4.270686981833194e-07,\n",
       " 0.0008870085089252022,\n",
       " 0.0009080548859063953,\n",
       " 0.0023324620166387255,\n",
       " 1.2141235847106473,\n",
       " 1.2287717925443233,\n",
       " 1.1286093072035488,\n",
       " 1.0007747395496116,\n",
       " 0.949463103215523,\n",
       " 0.8800784086325582,\n",
       " 0.8924964587418753,\n",
       " 0.8654274312361588,\n",
       " 0.8371336800647791,\n",
       " 0.8403953299619981,\n",
       " 0.8225677852131202,\n",
       " 0.8281988886828541,\n",
       " 0.9460919655217799,\n",
       " 0.9467781905653292,\n",
       " 0.8430002219815877,\n",
       " 0.7517781284966213,\n",
       " 0.796457747658442,\n",
       " 0.8513102379126082,\n",
       " 0.8360614706403435,\n",
       " 0.8334407426262035,\n",
       " 0.811631845007219,\n",
       " 0.869710815736478,\n",
       " 0.7619877047300295,\n",
       " 0.7887476889400137,\n",
       " 0.7769709868630585,\n",
       " 0.8344341032617963,\n",
       " 0.8241277658533823,\n",
       " 0.7062662833844312,\n",
       " 0.8063641498739338,\n",
       " 0.830852741655415,\n",
       " 0.8472186029248026,\n",
       " 0.8215048984461866,\n",
       " 0.7268921294818819,\n",
       " 0.8328303051536444,\n",
       " 0.850390027835516,\n",
       " 0.7998389682188911,\n",
       " 0.9714418234096038,\n",
       " 0.8512714302928257,\n",
       " 0.8049554927424046,\n",
       " 0.8476284967936933,\n",
       " 0.8374754616559958,\n",
       " 0.7206824316099302,\n",
       " 0.7080509963347765,\n",
       " 0.6593151669770148,\n",
       " 0.7062411729919276,\n",
       " 0.6753920863885905,\n",
       " 0.695276088536692,\n",
       " 0.8007767274398316,\n",
       " 0.693502267383999,\n",
       " 0.7776299201181893,\n",
       " 0.6734602631650708,\n",
       " 0.6714396687083293,\n",
       " 0.7903315842346212,\n",
       " 0.7145755774680023,\n",
       " 0.6719857041832034,\n",
       " 0.7533531369790037,\n",
       " 0.7320774322409006]"
      ]
     },
     "execution_count": 29,
     "metadata": {},
     "output_type": "execute_result"
    }
   ],
   "source": [
    "p_vals_ideal"
   ]
  },
  {
   "cell_type": "code",
   "execution_count": 27,
   "id": "ea402a11",
   "metadata": {},
   "outputs": [
    {
     "data": {
      "text/plain": [
       "[<matplotlib.lines.Line2D at 0x7f78f3e8f050>]"
      ]
     },
     "execution_count": 27,
     "metadata": {},
     "output_type": "execute_result"
    },
    {
     "data": {
      "image/png": "[encoded data removed]",
      "text/plain": [
       "<Figure size 432x288 with 1 Axes>"
      ]
     },
     "metadata": {
      "needs_background": "light"
     },
     "output_type": "display_data"
    }
   ],
   "source": [
    "plt.plot(p_vals_ideal)"
   ]
  },
  {
   "cell_type": "code",
   "execution_count": 30,
   "id": "db26b7c0",
   "metadata": {
    "collapsed": true,
    "jupyter": {
     "outputs_hidden": true
    }
   },
   "outputs": [
    {
     "name": "stdout",
     "output_type": "stream",
     "text": [
      "0.0\n",
      "0.016129032258064516\n",
      "0.03225806451612903\n",
      "0.04838709677419355\n",
      "0.06451612903225806\n",
      "0.08064516129032258\n",
      "0.0967741935483871\n",
      "0.11290322580645161\n",
      "0.12903225806451613\n",
      "0.14516129032258066\n",
      "0.16129032258064516\n",
      "0.1774193548387097\n",
      "0.1935483870967742\n",
      "0.20967741935483872\n",
      "0.22580645161290322\n",
      "0.24193548387096775\n",
      "0.25806451612903225\n",
      "0.27419354838709675\n",
      "0.2903225806451613\n",
      "0.3064516129032258\n",
      "0.3225806451612903\n",
      "0.3387096774193548\n",
      "0.3548387096774194\n",
      "0.3709677419354839\n",
      "0.3870967741935484\n",
      "0.4032258064516129\n",
      "0.41935483870967744\n",
      "0.43548387096774194\n",
      "0.45161290322580644\n",
      "0.46774193548387094\n",
      "0.4838709677419355\n",
      "0.5\n",
      "0.5161290322580645\n",
      "0.532258064516129\n",
      "0.5483870967741935\n",
      "0.5645161290322581\n",
      "0.5806451612903226\n",
      "0.5967741935483871\n",
      "0.6129032258064516\n",
      "0.6290322580645161\n",
      "0.6451612903225806\n",
      "0.6612903225806451\n",
      "0.6774193548387096\n",
      "0.6935483870967742\n",
      "0.7096774193548387\n",
      "0.7258064516129032\n",
      "0.7419354838709677\n",
      "0.7580645161290323\n",
      "0.7741935483870968\n",
      "0.7903225806451613\n"
     ]
    }
   ],
   "source": [
    "eICP = euristic_ICP(original_names, original_names, environment_datasets, first_n_elems=50)"
   ]
  },
  {
   "cell_type": "code",
   "execution_count": 31,
   "id": "f8785e4e",
   "metadata": {},
   "outputs": [
    {
     "data": {
      "text/plain": [
       "13"
      ]
     },
     "execution_count": 31,
     "metadata": {},
     "output_type": "execute_result"
    }
   ],
   "source": [
    "len(eICP)"
   ]
  },
  {
   "cell_type": "code",
   "execution_count": 32,
   "id": "bd6120f0",
   "metadata": {},
   "outputs": [
    {
     "data": {
      "text/plain": [
       "['Causal_0',\n",
       " 'Causal_1',\n",
       " 'Causal_2',\n",
       " 'Causal_3',\n",
       " 'Causal_4',\n",
       " 'Causal_5',\n",
       " 'Non_causal_4',\n",
       " 'Uncorrelated_0',\n",
       " 'Uncorrelated_1',\n",
       " 'Uncorrelated_4',\n",
       " 'Uncorrelated_6',\n",
       " 'Uncorrelated_15',\n",
       " 'Uncorrelated_29']"
      ]
     },
     "execution_count": 32,
     "metadata": {},
     "output_type": "execute_result"
    }
   ],
   "source": [
    "eICP"
   ]
  },
  {
   "cell_type": "code",
   "execution_count": 24,
   "id": "f849c4bd",
   "metadata": {},
   "outputs": [
    {
     "data": {
      "text/plain": [
       "['Uncorrelated_12',\n",
       " 'Causal_4',\n",
       " 'Non_causal_2',\n",
       " 'Causal_1',\n",
       " 'Non_causal_5',\n",
       " 'Non_causal_0',\n",
       " 'Non_causal_3',\n",
       " 'Causal_0',\n",
       " 'Uncorrelated_0',\n",
       " 'Uncorrelated_1',\n",
       " 'Uncorrelated_39',\n",
       " 'Uncorrelated_31',\n",
       " 'Causal_5',\n",
       " 'Uncorrelated_14',\n",
       " 'Causal_3',\n",
       " 'Non_causal_1',\n",
       " 'Non_causal_4',\n",
       " 'Uncorrelated_43',\n",
       " 'Uncorrelated_26',\n",
       " 'Uncorrelated_42',\n",
       " 'Uncorrelated_35',\n",
       " 'Uncorrelated_38',\n",
       " 'Uncorrelated_32',\n",
       " 'Uncorrelated_13',\n",
       " 'Uncorrelated_2',\n",
       " 'Uncorrelated_37',\n",
       " 'Uncorrelated_33',\n",
       " 'Uncorrelated_29',\n",
       " 'Uncorrelated_40',\n",
       " 'Uncorrelated_4',\n",
       " 'Uncorrelated_22',\n",
       " 'Uncorrelated_30',\n",
       " 'Uncorrelated_44',\n",
       " 'Uncorrelated_23',\n",
       " 'Uncorrelated_11',\n",
       " 'Uncorrelated_18',\n",
       " 'Uncorrelated_21',\n",
       " 'Uncorrelated_19',\n",
       " 'Causal_2',\n",
       " 'Uncorrelated_27',\n",
       " 'Uncorrelated_7',\n",
       " 'Uncorrelated_45',\n",
       " 'Uncorrelated_46',\n",
       " 'Uncorrelated_9',\n",
       " 'Uncorrelated_16',\n",
       " 'Uncorrelated_34',\n",
       " 'Uncorrelated_48',\n",
       " 'Uncorrelated_24',\n",
       " 'Uncorrelated_5',\n",
       " 'Uncorrelated_41',\n",
       " 'Uncorrelated_10',\n",
       " 'Uncorrelated_8',\n",
       " 'Uncorrelated_15',\n",
       " 'Uncorrelated_28',\n",
       " 'Uncorrelated_3',\n",
       " 'Uncorrelated_25',\n",
       " 'Uncorrelated_20',\n",
       " 'Uncorrelated_36',\n",
       " 'Uncorrelated_47',\n",
       " 'Uncorrelated_17',\n",
       " 'Uncorrelated_49',\n",
       " 'Uncorrelated_6']"
      ]
     },
     "execution_count": 24,
     "metadata": {},
     "output_type": "execute_result"
    }
   ],
   "source": [
    "ordered_names"
   ]
  },
  {
   "cell_type": "code",
   "execution_count": null,
   "id": "704db688",
   "metadata": {},
   "outputs": [],
   "source": []
  }
 ],
 "metadata": {
  "environment": {
   "name": "pytorch-gpu.1-8.m73",
   "type": "gcloud",
   "uri": "gcr.io/deeplearning-platform-release/pytorch-gpu.1-8:m73"
  },
  "kernelspec": {
   "display_name": "Python 3",
   "language": "python",
   "name": "python3"
  },
  "language_info": {
   "codemirror_mode": {
    "name": "ipython",
    "version": 3
   },
   "file_extension": ".py",
   "mimetype": "text/x-python",
   "name": "python",
   "nbconvert_exporter": "python",
   "pygments_lexer": "ipython3",
   "version": "3.7.10"
  }
 },
 "nbformat": 4,
 "nbformat_minor": 5
}

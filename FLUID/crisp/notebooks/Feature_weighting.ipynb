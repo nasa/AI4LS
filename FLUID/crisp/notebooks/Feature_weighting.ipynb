{
 "cells": [
  {
   "cell_type": "code",
   "execution_count": 1,
   "id": "aa838f65",
   "metadata": {},
   "outputs": [],
   "source": [
    "#1, pull the new feature_gradients code - DONE\n",
    "#2, run a model with feature gradients \n",
    "#3, implement the current CRISP loop"
   ]
  },
  {
   "cell_type": "code",
   "execution_count": 2,
   "id": "15cfb4d1",
   "metadata": {},
   "outputs": [
    {
     "data": {
      "text/plain": [
       "'/home/jupyter/crisp'"
      ]
     },
     "execution_count": 2,
     "metadata": {},
     "output_type": "execute_result"
    }
   ],
   "source": [
    "import os\n",
    "import pandas as pd\n",
    "while os.getcwd() != '/home/jupyter/crisp':\n",
    "    os.chdir(\"..\")\n",
    "%pwd"
   ]
  },
  {
   "cell_type": "code",
   "execution_count": 3,
   "id": "2b821cba",
   "metadata": {},
   "outputs": [],
   "source": [
    "from models.SimpleNonLinearInvariantRiskMinimization import SimpleNonLinearInvariantRiskMinimization\n",
    "from dataio.DataFrameDataset import *\n",
    "from dataio.datasets import *"
   ]
  },
  {
   "cell_type": "code",
   "execution_count": 4,
   "id": "d6bfcb0e",
   "metadata": {},
   "outputs": [],
   "source": [
    "from models.LinearInvariantRiskMinimization import LinearInvariantRiskMinimization\n"
   ]
  },
  {
   "cell_type": "code",
   "execution_count": 5,
   "id": "2eb07487",
   "metadata": {},
   "outputs": [],
   "source": [
    "from synthetic.facebook_synthetic_data_generator import generator_example\n",
    "\n",
    "dim_inv = 6\n",
    "dim_spu = 60\n",
    "n_exp_train = 1000 #int(2e2)\n",
    "n_exp_test = 300\n",
    "n_env = 5\n",
    "save_dir = 'data/synthetic'"
   ]
  },
  {
   "cell_type": "code",
   "execution_count": 6,
   "id": "5f82ca71",
   "metadata": {},
   "outputs": [],
   "source": [
    "config = {\n",
    "    \"name\": \"Example Experiment for AH casual ensemble\",\n",
    "    \"short_name\": \"ah_experiment_notebook\",\n",
    "    \"bucket_project\": \"fdl-us-astronaut-health\",\n",
    "    \"bucket_name\": \"ah_21_data\",\n",
    "    \"bucket_path\": \"gs://ah_21_data\",\n",
    "    \"verbose\": 1,\n",
    "    \"test_val_split\": [0.1, 0.1],\n",
    "    \"per_variant_experiment\": False,\n",
    "    \"data_options\": {\n",
    "        #'dataset_fp': '../data/test_multiclass.pkl',\n",
    "        'dataset_fp' : None,\n",
    "        'output_data_regime' : [\"real-valued\", \"binary\", \"binary\", \"real-valued\", \"multi-class\"],\n",
    "        'subject_keys': 'Subj_ID',\n",
    "        'targets': ['Target'],\n",
    " #        'predictors': ['All'],\n",
    "        'predictors': None,\n",
    "        'environments': ['env_split'],\n",
    "        'exclude': ['Subj_ID'],\n",
    "        'synthetic_train_test_split' : True,\n",
    "    },\n",
    "    \"feature_selection_options\": {\n",
    "        \"max_features\": 20,\n",
    "        \"verbose\": 0,\n",
    "        \"seed\": 12\n",
    "    },\n",
    "    \"ensemble_options\": {\n",
    "        \"models\": [\"ERM\", \"RF\", \"ICP\", \"IRM\", \"DCF\", \"ITE\", \"LIRM\", \"NLICP\"]\n",
    "    },\n",
    "    \"use_cloud\":False,\n",
    "    \"results_directory\": \"results/\"\n",
    "}\n",
    "data_config = config['data_options']"
   ]
  },
  {
   "cell_type": "code",
   "execution_count": 7,
   "id": "ce30a102",
   "metadata": {},
   "outputs": [],
   "source": [
    "LIRM_options = config.get(\"ensemble_options\").get('LIRM', {})\n",
    "LIRM_args = {\n",
    "            \"use_icp_initialization\": False,\n",
    "            \"verbose\": 0,\n",
    "            \"n_iterations\": 100, # 1000\n",
    "            \"seed\": 1,\n",
    "            \"lr\": 0.005, # 0.001\n",
    "            \"cuda\": False\n",
    "        }\n",
    "LIRM_args.update(LIRM_options)"
   ]
  },
  {
   "cell_type": "code",
   "execution_count": 8,
   "id": "6b16aa59",
   "metadata": {},
   "outputs": [],
   "source": [
    "def get_dataset_for_synthetic_experiment(n_example, dim_inv, dim_spu, n_exp_train, n_exp_test, n_env, save_dir):\n",
    "    # training data\n",
    "    generator_example(n_example, dim_inv, dim_spu, n_exp_train, n_env ,save_dir, False)\n",
    "    outfile_train = os.path.join(save_dir,\"data_fb_example_%s_dim_inv_%s_dim_spu_%s_n_exp_%s_n_env_%s_test_%s.pickle\" %(n_example, dim_inv, dim_spu, n_exp_train, n_env, False))\n",
    "\n",
    "    # test data\n",
    "    generator_example(n_example, dim_inv, dim_spu, n_exp_test, n_env ,save_dir, True)\n",
    "    outfile_test = os.path.join(save_dir,\"data_fb_example_%s_dim_inv_%s_dim_spu_%s_n_exp_%s_n_env_%s_test_%s.pickle\" %(n_example, dim_inv, dim_spu, n_exp_test, n_env, True))\n",
    "    \n",
    "    return outfile_train, outfile_test"
   ]
  },
  {
   "cell_type": "code",
   "execution_count": 9,
   "id": "e9187ffb",
   "metadata": {},
   "outputs": [
    {
     "name": "stdout",
     "output_type": "stream",
     "text": [
      "\n",
      "\n",
      "n_example: 1 output_data_regime: real-valued \n",
      "\n",
      "\n",
      "Environments variables: {'E0': 0.1, 'E1': 1.5, 'E2': 2, 'E3': 0.30815539086172433, 'E4': 2.016811860476012}\n",
      "Generated Synthetic Data according to the Facebook setup Example: 1\n",
      "     df with  66  columns\n",
      "Environments variables: {'E0': 0.1, 'E1': 1.5, 'E2': 2, 'E3': 0.30815539086172433, 'E4': 2.016811860476012}\n",
      "Generated Synthetic Data according to the Facebook setup Example: 1\n",
      "     df with  66  columns\n",
      "Running a per sample experiment\n",
      "Using synthetic dataset train/test split\n",
      "Loaded  5  train environments\n",
      "Env  0  has  200  samples\n",
      "X shape  (200, 66)  y shape  (200, 1)\n",
      "Env  1  has  200  samples\n",
      "X shape  (200, 66)  y shape  (200, 1)\n",
      "Env  2  has  200  samples\n",
      "X shape  (200, 66)  y shape  (200, 1)\n",
      "Env  3  has  200  samples\n",
      "X shape  (200, 66)  y shape  (200, 1)\n",
      "Env  4  has  200  samples\n",
      "X shape  (200, 66)  y shape  (200, 1)\n",
      "Loaded test set, X shape: (300, 66)  y shape:  (300, 1)\n",
      "Start simple nonlinear-IRM training procedure\n",
      "input_gradients: torch.Size([1000, 66])\n"
     ]
    }
   ],
   "source": [
    "snlirm_results = {}\n",
    "\n",
    "for n_example in [1]:#,2,3,4,5]:\n",
    "    output_data_regime = config[\"data_options\"][\"output_data_regime\"][n_example-1]\n",
    "    print(\"\\n\\nn_example:\", n_example, \"output_data_regime:\", output_data_regime, \"\\n\\n\")\n",
    "    \n",
    "    outfile_train, outfile_test = get_dataset_for_synthetic_experiment(n_example, dim_inv, dim_spu, n_exp_train, n_exp_test, n_env, save_dir)\n",
    "    df_train = pd.read_pickle(outfile_train)\n",
    "    df_test = pd.read_pickle(outfile_test)\n",
    "\n",
    "    config[\"data_options\"][\"dataset_fp_train\"] = outfile_train\n",
    "    config[\"data_options\"][\"dataset_fp_test\"] = outfile_test\n",
    "    config[\"data_options\"][\"predictors\"] = list(df_train.columns[0:dim_inv+dim_spu])\n",
    "    environment_datasets, val_dataset, test_dataset = get_datasets_for_experiment(config)\n",
    "\n",
    "    LIRM_args[\"target\"] = config[\"data_options\"][\"targets\"]\n",
    "    LIRM_args[\"output_data_regime\"] = output_data_regime\n",
    "    LIRM_args[\"columns\"] = test_dataset.predictor_columns\n",
    "    LIRM_args['output_dim'] = 1\n",
    "    \n",
    "    snlirm = SimpleNonLinearInvariantRiskMinimization(environment_datasets, val_dataset, test_dataset, LIRM_args)\n",
    "    \n",
    "    snlirm_results_dict = snlirm.results()\n",
    "    snlirm_results[n_example] = snlirm_results_dict"
   ]
  },
  {
   "cell_type": "code",
   "execution_count": 10,
   "id": "969a4463",
   "metadata": {},
   "outputs": [
    {
     "name": "stdout",
     "output_type": "stream",
     "text": [
      "\n",
      "\n",
      "n_example: 1 output_data_regime: real-valued \n",
      "\n",
      "\n",
      "Environments variables: {'E0': 0.1, 'E1': 1.5, 'E2': 2, 'E3': 0.30815539086172433, 'E4': 2.016811860476012}\n",
      "Generated Synthetic Data according to the Facebook setup Example: 1\n",
      "     df with  66  columns\n",
      "Environments variables: {'E0': 0.1, 'E1': 1.5, 'E2': 2, 'E3': 0.30815539086172433, 'E4': 2.016811860476012}\n",
      "Generated Synthetic Data according to the Facebook setup Example: 1\n",
      "     df with  66  columns\n",
      "Running a per sample experiment\n",
      "Using synthetic dataset train/test split\n",
      "Loaded  5  train environments\n",
      "Env  0  has  200  samples\n",
      "X shape  (200, 66)  y shape  (200, 1)\n",
      "Env  1  has  200  samples\n",
      "X shape  (200, 66)  y shape  (200, 1)\n",
      "Env  2  has  200  samples\n",
      "X shape  (200, 66)  y shape  (200, 1)\n",
      "Env  3  has  200  samples\n",
      "X shape  (200, 66)  y shape  (200, 1)\n",
      "Env  4  has  200  samples\n",
      "X shape  (200, 66)  y shape  (200, 1)\n",
      "Loaded test set, X shape: (300, 66)  y shape:  (300, 1)\n",
      "Start IRM training procedure with real-valued target\n",
      "input_gradients: torch.Size([1000, 66])\n"
     ]
    }
   ],
   "source": [
    "lirm_results = {}\n",
    "\n",
    "for n_example in [1]:#,2,3,4,5]:\n",
    "    output_data_regime = config[\"data_options\"][\"output_data_regime\"][n_example-1]\n",
    "    print(\"\\n\\nn_example:\", n_example, \"output_data_regime:\", output_data_regime, \"\\n\\n\")\n",
    "    \n",
    "    outfile_train, outfile_test = get_dataset_for_synthetic_experiment(n_example, dim_inv, dim_spu, n_exp_train, n_exp_test, n_env, save_dir)\n",
    "    df_train = pd.read_pickle(outfile_train)\n",
    "    df_test = pd.read_pickle(outfile_test)\n",
    "\n",
    "    config[\"data_options\"][\"dataset_fp_train\"] = outfile_train\n",
    "    config[\"data_options\"][\"dataset_fp_test\"] = outfile_test\n",
    "    config[\"data_options\"][\"predictors\"] = list(df_train.columns[0:dim_inv+dim_spu])\n",
    "    environment_datasets, val_dataset, test_dataset = get_datasets_for_experiment(config)\n",
    "\n",
    "    LIRM_args[\"target\"] = config[\"data_options\"][\"targets\"]\n",
    "    LIRM_args[\"output_data_regime\"] = output_data_regime\n",
    "    LIRM_args[\"columns\"] = test_dataset.predictor_columns\n",
    "    LIRM_args['output_dim'] = 1\n",
    "    \n",
    "    lirm = LinearInvariantRiskMinimization(environment_datasets, val_dataset, test_dataset, LIRM_args)\n",
    "    \n",
    "    lirm_results_dict = lirm.results()\n",
    "    lirm_results[n_example] = lirm_results_dict"
   ]
  },
  {
   "cell_type": "code",
   "execution_count": 11,
   "id": "e29eb800",
   "metadata": {},
   "outputs": [
    {
     "name": "stdout",
     "output_type": "stream",
     "text": [
      "input_gradients: torch.Size([1000, 66])\n"
     ]
    },
    {
     "data": {
      "text/plain": [
       "'Simple Non-Linear IRM'"
      ]
     },
     "execution_count": 11,
     "metadata": {},
     "output_type": "execute_result"
    }
   ],
   "source": [
    "snlirm.results()['to_bucket']['method']"
   ]
  },
  {
   "cell_type": "code",
   "execution_count": 12,
   "id": "dcb5738e",
   "metadata": {},
   "outputs": [
    {
     "name": "stdout",
     "output_type": "stream",
     "text": [
      "input_gradients: torch.Size([1000, 66])\n"
     ]
    },
    {
     "data": {
      "text/plain": [
       "'Linear IRM'"
      ]
     },
     "execution_count": 12,
     "metadata": {},
     "output_type": "execute_result"
    }
   ],
   "source": [
    "lirm.results()['to_bucket']['method']"
   ]
  },
  {
   "cell_type": "code",
   "execution_count": 13,
   "id": "5c01bde9",
   "metadata": {},
   "outputs": [],
   "source": [
    "# snlirm.results()['to_bucket']['coefficients']"
   ]
  },
  {
   "cell_type": "code",
   "execution_count": 14,
   "id": "2fd01ce9",
   "metadata": {},
   "outputs": [],
   "source": [
    "# snlirm.results()['to_bucket']['features']"
   ]
  },
  {
   "cell_type": "code",
   "execution_count": 15,
   "id": "71c50be4",
   "metadata": {},
   "outputs": [],
   "source": [
    "# snlirm.results()['to_bucket']['feature_gradients']"
   ]
  },
  {
   "cell_type": "code",
   "execution_count": 16,
   "id": "e9da9516",
   "metadata": {},
   "outputs": [],
   "source": [
    "# lirm.results()['to_bucket']['feature_gradients']"
   ]
  },
  {
   "cell_type": "code",
   "execution_count": 17,
   "id": "1a97572f",
   "metadata": {},
   "outputs": [],
   "source": [
    "from utils.new_get_ensemble_results import get_ensemble_results"
   ]
  },
  {
   "cell_type": "code",
   "execution_count": 18,
   "id": "d3196925",
   "metadata": {},
   "outputs": [
    {
     "name": "stdout",
     "output_type": "stream",
     "text": [
      "input_gradients: torch.Size([1000, 66])\n",
      "input_gradients: torch.Size([1000, 66])\n",
      "input_gradients: torch.Size([1000, 66])\n",
      "input_gradients: torch.Size([1000, 66])\n"
     ]
    },
    {
     "name": "stderr",
     "output_type": "stream",
     "text": [
      "/home/jupyter/crisp/utils/new_get_ensemble_results.py:49: SettingWithCopyWarning: \n",
      "A value is trying to be set on a copy of a slice from a DataFrame\n",
      "\n",
      "See the caveats in the documentation: https://pandas.pydata.org/pandas-docs/stable/user_guide/indexing.html#returning-a-view-versus-a-copy\n",
      "  feature_weight_df[method][feat_df['feature']] = feat_df['coefficient'].values\n",
      "/opt/conda/lib/python3.7/site-packages/pandas/core/indexing.py:1637: SettingWithCopyWarning: \n",
      "A value is trying to be set on a copy of a slice from a DataFrame\n",
      "\n",
      "See the caveats in the documentation: https://pandas.pydata.org/pandas-docs/stable/user_guide/indexing.html#returning-a-view-versus-a-copy\n",
      "  self._setitem_single_block(indexer, value, name)\n",
      "/home/jupyter/crisp/utils/new_get_ensemble_results.py:49: SettingWithCopyWarning: \n",
      "A value is trying to be set on a copy of a slice from a DataFrame\n",
      "\n",
      "See the caveats in the documentation: https://pandas.pydata.org/pandas-docs/stable/user_guide/indexing.html#returning-a-view-versus-a-copy\n",
      "  feature_weight_df[method][feat_df['feature']] = feat_df['coefficient'].values\n",
      "/opt/conda/lib/python3.7/site-packages/pandas/core/indexing.py:1637: SettingWithCopyWarning: \n",
      "A value is trying to be set on a copy of a slice from a DataFrame\n",
      "\n",
      "See the caveats in the documentation: https://pandas.pydata.org/pandas-docs/stable/user_guide/indexing.html#returning-a-view-versus-a-copy\n",
      "  self._setitem_single_block(indexer, value, name)\n"
     ]
    }
   ],
   "source": [
    "coef_method = get_ensemble_results([snlirm.results()['to_bucket'],lirm.results()['to_bucket']], use_feature_gradients = True)\n",
    "grad_method = get_ensemble_results([snlirm.results()['to_bucket'],lirm.results()['to_bucket']], use_feature_gradients = False)"
   ]
  },
  {
   "cell_type": "code",
   "execution_count": 19,
   "id": "9cb062d9",
   "metadata": {},
   "outputs": [
    {
     "data": {
      "text/html": [
       "<div>\n",
       "<style scoped>\n",
       "    .dataframe tbody tr th:only-of-type {\n",
       "        vertical-align: middle;\n",
       "    }\n",
       "\n",
       "    .dataframe tbody tr th {\n",
       "        vertical-align: top;\n",
       "    }\n",
       "\n",
       "    .dataframe thead th {\n",
       "        text-align: right;\n",
       "    }\n",
       "</style>\n",
       "<table border=\"1\" class=\"dataframe\">\n",
       "  <thead>\n",
       "    <tr style=\"text-align: right;\">\n",
       "      <th></th>\n",
       "      <th>Simple Non-Linear IRM</th>\n",
       "      <th>Linear IRM</th>\n",
       "      <th>count_models</th>\n",
       "      <th>selected</th>\n",
       "      <th>weighted_coefficient</th>\n",
       "      <th>feature</th>\n",
       "    </tr>\n",
       "  </thead>\n",
       "  <tbody>\n",
       "    <tr>\n",
       "      <th>Causal_4</th>\n",
       "      <td>0.010992</td>\n",
       "      <td>0.984473</td>\n",
       "      <td>2</td>\n",
       "      <td>1.0</td>\n",
       "      <td>0.497732</td>\n",
       "      <td>Causal_4</td>\n",
       "    </tr>\n",
       "    <tr>\n",
       "      <th>Causal_0</th>\n",
       "      <td>0.008992</td>\n",
       "      <td>0.582916</td>\n",
       "      <td>2</td>\n",
       "      <td>1.0</td>\n",
       "      <td>0.295954</td>\n",
       "      <td>Causal_0</td>\n",
       "    </tr>\n",
       "    <tr>\n",
       "      <th>Non_causal_34</th>\n",
       "      <td>0.007892</td>\n",
       "      <td>0.562575</td>\n",
       "      <td>2</td>\n",
       "      <td>1.0</td>\n",
       "      <td>0.285234</td>\n",
       "      <td>Non_causal_34</td>\n",
       "    </tr>\n",
       "    <tr>\n",
       "      <th>Non_causal_39</th>\n",
       "      <td>0.007512</td>\n",
       "      <td>0.561235</td>\n",
       "      <td>2</td>\n",
       "      <td>1.0</td>\n",
       "      <td>0.284373</td>\n",
       "      <td>Non_causal_39</td>\n",
       "    </tr>\n",
       "    <tr>\n",
       "      <th>Causal_1</th>\n",
       "      <td>0.006719</td>\n",
       "      <td>0.537797</td>\n",
       "      <td>2</td>\n",
       "      <td>1.0</td>\n",
       "      <td>0.272258</td>\n",
       "      <td>Causal_1</td>\n",
       "    </tr>\n",
       "    <tr>\n",
       "      <th>...</th>\n",
       "      <td>...</td>\n",
       "      <td>...</td>\n",
       "      <td>...</td>\n",
       "      <td>...</td>\n",
       "      <td>...</td>\n",
       "      <td>...</td>\n",
       "    </tr>\n",
       "    <tr>\n",
       "      <th>Non_causal_45</th>\n",
       "      <td>0.011547</td>\n",
       "      <td>0.010685</td>\n",
       "      <td>2</td>\n",
       "      <td>1.0</td>\n",
       "      <td>0.011116</td>\n",
       "      <td>Non_causal_45</td>\n",
       "    </tr>\n",
       "    <tr>\n",
       "      <th>Non_causal_13</th>\n",
       "      <td>0.008486</td>\n",
       "      <td>0.006094</td>\n",
       "      <td>2</td>\n",
       "      <td>1.0</td>\n",
       "      <td>0.007290</td>\n",
       "      <td>Non_causal_13</td>\n",
       "    </tr>\n",
       "    <tr>\n",
       "      <th>Non_causal_46</th>\n",
       "      <td>0.006731</td>\n",
       "      <td>0.006018</td>\n",
       "      <td>2</td>\n",
       "      <td>1.0</td>\n",
       "      <td>0.006375</td>\n",
       "      <td>Non_causal_46</td>\n",
       "    </tr>\n",
       "    <tr>\n",
       "      <th>Non_causal_28</th>\n",
       "      <td>0.007246</td>\n",
       "      <td>0.005409</td>\n",
       "      <td>2</td>\n",
       "      <td>1.0</td>\n",
       "      <td>0.006328</td>\n",
       "      <td>Non_causal_28</td>\n",
       "    </tr>\n",
       "    <tr>\n",
       "      <th>Non_causal_9</th>\n",
       "      <td>0.009413</td>\n",
       "      <td>0.001151</td>\n",
       "      <td>2</td>\n",
       "      <td>1.0</td>\n",
       "      <td>0.005282</td>\n",
       "      <td>Non_causal_9</td>\n",
       "    </tr>\n",
       "  </tbody>\n",
       "</table>\n",
       "<p>66 rows × 6 columns</p>\n",
       "</div>"
      ],
      "text/plain": [
       "               Simple Non-Linear IRM  Linear IRM  count_models  selected  \\\n",
       "Causal_4                    0.010992    0.984473             2       1.0   \n",
       "Causal_0                    0.008992    0.582916             2       1.0   \n",
       "Non_causal_34               0.007892    0.562575             2       1.0   \n",
       "Non_causal_39               0.007512    0.561235             2       1.0   \n",
       "Causal_1                    0.006719    0.537797             2       1.0   \n",
       "...                              ...         ...           ...       ...   \n",
       "Non_causal_45               0.011547    0.010685             2       1.0   \n",
       "Non_causal_13               0.008486    0.006094             2       1.0   \n",
       "Non_causal_46               0.006731    0.006018             2       1.0   \n",
       "Non_causal_28               0.007246    0.005409             2       1.0   \n",
       "Non_causal_9                0.009413    0.001151             2       1.0   \n",
       "\n",
       "               weighted_coefficient        feature  \n",
       "Causal_4                   0.497732       Causal_4  \n",
       "Causal_0                   0.295954       Causal_0  \n",
       "Non_causal_34              0.285234  Non_causal_34  \n",
       "Non_causal_39              0.284373  Non_causal_39  \n",
       "Causal_1                   0.272258       Causal_1  \n",
       "...                             ...            ...  \n",
       "Non_causal_45              0.011116  Non_causal_45  \n",
       "Non_causal_13              0.007290  Non_causal_13  \n",
       "Non_causal_46              0.006375  Non_causal_46  \n",
       "Non_causal_28              0.006328  Non_causal_28  \n",
       "Non_causal_9               0.005282   Non_causal_9  \n",
       "\n",
       "[66 rows x 6 columns]"
      ]
     },
     "execution_count": 19,
     "metadata": {},
     "output_type": "execute_result"
    }
   ],
   "source": [
    "coef_method.sort_values('weighted_coefficient', ascending = False)"
   ]
  },
  {
   "cell_type": "code",
   "execution_count": 20,
   "id": "d1e99d9d",
   "metadata": {},
   "outputs": [
    {
     "data": {
      "text/html": [
       "<div>\n",
       "<style scoped>\n",
       "    .dataframe tbody tr th:only-of-type {\n",
       "        vertical-align: middle;\n",
       "    }\n",
       "\n",
       "    .dataframe tbody tr th {\n",
       "        vertical-align: top;\n",
       "    }\n",
       "\n",
       "    .dataframe thead th {\n",
       "        text-align: right;\n",
       "    }\n",
       "</style>\n",
       "<table border=\"1\" class=\"dataframe\">\n",
       "  <thead>\n",
       "    <tr style=\"text-align: right;\">\n",
       "      <th></th>\n",
       "      <th>Simple Non-Linear IRM</th>\n",
       "      <th>Linear IRM</th>\n",
       "      <th>count_models</th>\n",
       "      <th>selected</th>\n",
       "      <th>weighted_coefficient</th>\n",
       "      <th>feature</th>\n",
       "    </tr>\n",
       "  </thead>\n",
       "  <tbody>\n",
       "    <tr>\n",
       "      <th>Non_causal_31</th>\n",
       "      <td>2.020267</td>\n",
       "      <td>-0.168912</td>\n",
       "      <td>2</td>\n",
       "      <td>1.0</td>\n",
       "      <td>0.925677</td>\n",
       "      <td>Non_causal_31</td>\n",
       "    </tr>\n",
       "    <tr>\n",
       "      <th>Non_causal_35</th>\n",
       "      <td>1.466698</td>\n",
       "      <td>0.301430</td>\n",
       "      <td>2</td>\n",
       "      <td>1.0</td>\n",
       "      <td>0.884064</td>\n",
       "      <td>Non_causal_35</td>\n",
       "    </tr>\n",
       "    <tr>\n",
       "      <th>Non_causal_38</th>\n",
       "      <td>1.740356</td>\n",
       "      <td>-0.393637</td>\n",
       "      <td>2</td>\n",
       "      <td>1.0</td>\n",
       "      <td>0.673360</td>\n",
       "      <td>Non_causal_38</td>\n",
       "    </tr>\n",
       "    <tr>\n",
       "      <th>Non_causal_36</th>\n",
       "      <td>1.324082</td>\n",
       "      <td>-0.045449</td>\n",
       "      <td>2</td>\n",
       "      <td>1.0</td>\n",
       "      <td>0.639316</td>\n",
       "      <td>Non_causal_36</td>\n",
       "    </tr>\n",
       "    <tr>\n",
       "      <th>Non_causal_54</th>\n",
       "      <td>1.408693</td>\n",
       "      <td>-0.182924</td>\n",
       "      <td>2</td>\n",
       "      <td>1.0</td>\n",
       "      <td>0.612885</td>\n",
       "      <td>Non_causal_54</td>\n",
       "    </tr>\n",
       "    <tr>\n",
       "      <th>...</th>\n",
       "      <td>...</td>\n",
       "      <td>...</td>\n",
       "      <td>...</td>\n",
       "      <td>...</td>\n",
       "      <td>...</td>\n",
       "      <td>...</td>\n",
       "    </tr>\n",
       "    <tr>\n",
       "      <th>Non_causal_32</th>\n",
       "      <td>-1.034278</td>\n",
       "      <td>-0.164048</td>\n",
       "      <td>2</td>\n",
       "      <td>1.0</td>\n",
       "      <td>-0.599163</td>\n",
       "      <td>Non_causal_32</td>\n",
       "    </tr>\n",
       "    <tr>\n",
       "      <th>Non_causal_45</th>\n",
       "      <td>-1.457965</td>\n",
       "      <td>0.087595</td>\n",
       "      <td>2</td>\n",
       "      <td>1.0</td>\n",
       "      <td>-0.685185</td>\n",
       "      <td>Non_causal_45</td>\n",
       "    </tr>\n",
       "    <tr>\n",
       "      <th>Non_causal_30</th>\n",
       "      <td>-2.013245</td>\n",
       "      <td>0.443916</td>\n",
       "      <td>2</td>\n",
       "      <td>1.0</td>\n",
       "      <td>-0.784665</td>\n",
       "      <td>Non_causal_30</td>\n",
       "    </tr>\n",
       "    <tr>\n",
       "      <th>Non_causal_37</th>\n",
       "      <td>-2.619317</td>\n",
       "      <td>0.948573</td>\n",
       "      <td>2</td>\n",
       "      <td>1.0</td>\n",
       "      <td>-0.835372</td>\n",
       "      <td>Non_causal_37</td>\n",
       "    </tr>\n",
       "    <tr>\n",
       "      <th>Non_causal_19</th>\n",
       "      <td>-1.169150</td>\n",
       "      <td>-0.522056</td>\n",
       "      <td>2</td>\n",
       "      <td>1.0</td>\n",
       "      <td>-0.845603</td>\n",
       "      <td>Non_causal_19</td>\n",
       "    </tr>\n",
       "  </tbody>\n",
       "</table>\n",
       "<p>66 rows × 6 columns</p>\n",
       "</div>"
      ],
      "text/plain": [
       "               Simple Non-Linear IRM  Linear IRM  count_models  selected  \\\n",
       "Non_causal_31               2.020267   -0.168912             2       1.0   \n",
       "Non_causal_35               1.466698    0.301430             2       1.0   \n",
       "Non_causal_38               1.740356   -0.393637             2       1.0   \n",
       "Non_causal_36               1.324082   -0.045449             2       1.0   \n",
       "Non_causal_54               1.408693   -0.182924             2       1.0   \n",
       "...                              ...         ...           ...       ...   \n",
       "Non_causal_32              -1.034278   -0.164048             2       1.0   \n",
       "Non_causal_45              -1.457965    0.087595             2       1.0   \n",
       "Non_causal_30              -2.013245    0.443916             2       1.0   \n",
       "Non_causal_37              -2.619317    0.948573             2       1.0   \n",
       "Non_causal_19              -1.169150   -0.522056             2       1.0   \n",
       "\n",
       "               weighted_coefficient        feature  \n",
       "Non_causal_31              0.925677  Non_causal_31  \n",
       "Non_causal_35              0.884064  Non_causal_35  \n",
       "Non_causal_38              0.673360  Non_causal_38  \n",
       "Non_causal_36              0.639316  Non_causal_36  \n",
       "Non_causal_54              0.612885  Non_causal_54  \n",
       "...                             ...            ...  \n",
       "Non_causal_32             -0.599163  Non_causal_32  \n",
       "Non_causal_45             -0.685185  Non_causal_45  \n",
       "Non_causal_30             -0.784665  Non_causal_30  \n",
       "Non_causal_37             -0.835372  Non_causal_37  \n",
       "Non_causal_19             -0.845603  Non_causal_19  \n",
       "\n",
       "[66 rows x 6 columns]"
      ]
     },
     "execution_count": 20,
     "metadata": {},
     "output_type": "execute_result"
    }
   ],
   "source": [
    "grad_method.sort_values('weighted_coefficient', ascending = False)"
   ]
  },
  {
   "cell_type": "code",
   "execution_count": 21,
   "id": "826ca5db",
   "metadata": {},
   "outputs": [
    {
     "data": {
      "text/plain": [
       "Non_causal_9     0.347204\n",
       "Non_causal_53    0.437957\n",
       "Non_causal_5     0.343801\n",
       "Non_causal_33   -0.033820\n",
       "Non_causal_27    0.186899\n",
       "                   ...   \n",
       "Non_causal_24    0.529471\n",
       "Non_causal_18   -0.144560\n",
       "Non_causal_25    0.446420\n",
       "Non_causal_8    -0.617945\n",
       "Non_causal_26    0.045246\n",
       "Name: weighted_coefficient, Length: 66, dtype: float64"
      ]
     },
     "execution_count": 21,
     "metadata": {},
     "output_type": "execute_result"
    }
   ],
   "source": [
    "grad_method.weighted_coefficient / grad_method.weighted_coefficient.abs().max()"
   ]
  },
  {
   "cell_type": "code",
   "execution_count": 29,
   "id": "94c98c0a",
   "metadata": {},
   "outputs": [],
   "source": [
    "dry_run = lirm.test_dataset.get_all()[0]\n",
    "inputs = torch.cat((torch.ones(dry_run.size(0), 1), dry_run), 1)"
   ]
  },
  {
   "cell_type": "code",
   "execution_count": 50,
   "id": "03a0c764",
   "metadata": {},
   "outputs": [
    {
     "data": {
      "text/plain": [
       "torch.Size([100, 67])"
      ]
     },
     "execution_count": 50,
     "metadata": {},
     "output_type": "execute_result"
    }
   ],
   "source": [
    "lirm.phi(inputs[0:100]).shape"
   ]
  },
  {
   "cell_type": "code",
   "execution_count": 84,
   "id": "cdd11803",
   "metadata": {},
   "outputs": [
    {
     "ename": "TypeError",
     "evalue": "matmul(): argument 'input' (position 1) must be Tensor, not Linear",
     "output_type": "error",
     "traceback": [
      "\u001b[0;31m---------------------------------------------------------------------------\u001b[0m",
      "\u001b[0;31mTypeError\u001b[0m                                 Traceback (most recent call last)",
      "\u001b[0;32m<ipython-input-84-373fa8a8593d>\u001b[0m in \u001b[0;36m<module>\u001b[0;34m\u001b[0m\n\u001b[0;32m----> 1\u001b[0;31m \u001b[0mpred_function\u001b[0m \u001b[0;34m=\u001b[0m \u001b[0mtorch\u001b[0m\u001b[0;34m.\u001b[0m\u001b[0mmatmul\u001b[0m\u001b[0;34m(\u001b[0m\u001b[0mlirm\u001b[0m\u001b[0;34m.\u001b[0m\u001b[0mphi\u001b[0m\u001b[0;34m,\u001b[0m\u001b[0mlirm\u001b[0m\u001b[0;34m.\u001b[0m\u001b[0mw\u001b[0m\u001b[0;34m)\u001b[0m\u001b[0;34m\u001b[0m\u001b[0;34m\u001b[0m\u001b[0m\n\u001b[0m",
      "\u001b[0;31mTypeError\u001b[0m: matmul(): argument 'input' (position 1) must be Tensor, not Linear"
     ]
    }
   ],
   "source": [
    "pred_function = torch.matmul(lirm.phi,lirm.w)"
   ]
  },
  {
   "cell_type": "code",
   "execution_count": 78,
   "id": "86dd0ca3",
   "metadata": {},
   "outputs": [
    {
     "ename": "AssertionError",
     "evalue": "<class 'function'> is not currently a supported model type!",
     "output_type": "error",
     "traceback": [
      "\u001b[0;31m---------------------------------------------------------------------------\u001b[0m",
      "\u001b[0;31mAssertionError\u001b[0m                            Traceback (most recent call last)",
      "\u001b[0;32m<ipython-input-78-dd8c1a1f12b8>\u001b[0m in \u001b[0;36m<module>\u001b[0;34m\u001b[0m\n\u001b[0;32m----> 1\u001b[0;31m \u001b[0me\u001b[0m \u001b[0;34m=\u001b[0m \u001b[0mshap\u001b[0m\u001b[0;34m.\u001b[0m\u001b[0mDeepExplainer\u001b[0m\u001b[0;34m(\u001b[0m\u001b[0mpred_function\u001b[0m\u001b[0;34m,\u001b[0m \u001b[0minputs\u001b[0m\u001b[0;34m[\u001b[0m\u001b[0;36m0\u001b[0m\u001b[0;34m:\u001b[0m\u001b[0;36m200\u001b[0m\u001b[0;34m]\u001b[0m\u001b[0;34m)\u001b[0m\u001b[0;34m\u001b[0m\u001b[0;34m\u001b[0m\u001b[0m\n\u001b[0m",
      "\u001b[0;32m/opt/conda/lib/python3.7/site-packages/shap/explainers/_deep/__init__.py\u001b[0m in \u001b[0;36m__init__\u001b[0;34m(self, model, data, session, learning_phase_flags)\u001b[0m\n\u001b[1;32m     82\u001b[0m \u001b[0;34m\u001b[0m\u001b[0m\n\u001b[1;32m     83\u001b[0m         \u001b[0;32mif\u001b[0m \u001b[0mframework\u001b[0m \u001b[0;34m==\u001b[0m \u001b[0;34m'tensorflow'\u001b[0m\u001b[0;34m:\u001b[0m\u001b[0;34m\u001b[0m\u001b[0;34m\u001b[0m\u001b[0m\n\u001b[0;32m---> 84\u001b[0;31m             \u001b[0mself\u001b[0m\u001b[0;34m.\u001b[0m\u001b[0mexplainer\u001b[0m \u001b[0;34m=\u001b[0m \u001b[0mTFDeep\u001b[0m\u001b[0;34m(\u001b[0m\u001b[0mmodel\u001b[0m\u001b[0;34m,\u001b[0m \u001b[0mdata\u001b[0m\u001b[0;34m,\u001b[0m \u001b[0msession\u001b[0m\u001b[0;34m,\u001b[0m \u001b[0mlearning_phase_flags\u001b[0m\u001b[0;34m)\u001b[0m\u001b[0;34m\u001b[0m\u001b[0;34m\u001b[0m\u001b[0m\n\u001b[0m\u001b[1;32m     85\u001b[0m         \u001b[0;32melif\u001b[0m \u001b[0mframework\u001b[0m \u001b[0;34m==\u001b[0m \u001b[0;34m'pytorch'\u001b[0m\u001b[0;34m:\u001b[0m\u001b[0;34m\u001b[0m\u001b[0;34m\u001b[0m\u001b[0m\n\u001b[1;32m     86\u001b[0m             \u001b[0mself\u001b[0m\u001b[0;34m.\u001b[0m\u001b[0mexplainer\u001b[0m \u001b[0;34m=\u001b[0m \u001b[0mPyTorchDeep\u001b[0m\u001b[0;34m(\u001b[0m\u001b[0mmodel\u001b[0m\u001b[0;34m,\u001b[0m \u001b[0mdata\u001b[0m\u001b[0;34m)\u001b[0m\u001b[0;34m\u001b[0m\u001b[0;34m\u001b[0m\u001b[0m\n",
      "\u001b[0;32m/opt/conda/lib/python3.7/site-packages/shap/explainers/_deep/deep_tf.py\u001b[0m in \u001b[0;36m__init__\u001b[0;34m(self, model, data, session, learning_phase_flags)\u001b[0m\n\u001b[1;32m     97\u001b[0m \u001b[0;34m\u001b[0m\u001b[0m\n\u001b[1;32m     98\u001b[0m         \u001b[0;31m# determine the model inputs and outputs\u001b[0m\u001b[0;34m\u001b[0m\u001b[0;34m\u001b[0m\u001b[0;34m\u001b[0m\u001b[0m\n\u001b[0;32m---> 99\u001b[0;31m         \u001b[0mself\u001b[0m\u001b[0;34m.\u001b[0m\u001b[0mmodel_inputs\u001b[0m \u001b[0;34m=\u001b[0m \u001b[0m_get_model_inputs\u001b[0m\u001b[0;34m(\u001b[0m\u001b[0mmodel\u001b[0m\u001b[0;34m)\u001b[0m\u001b[0;34m\u001b[0m\u001b[0;34m\u001b[0m\u001b[0m\n\u001b[0m\u001b[1;32m    100\u001b[0m         \u001b[0mself\u001b[0m\u001b[0;34m.\u001b[0m\u001b[0mmodel_output\u001b[0m \u001b[0;34m=\u001b[0m \u001b[0m_get_model_output\u001b[0m\u001b[0;34m(\u001b[0m\u001b[0mmodel\u001b[0m\u001b[0;34m)\u001b[0m\u001b[0;34m\u001b[0m\u001b[0;34m\u001b[0m\u001b[0m\n\u001b[1;32m    101\u001b[0m         \u001b[0;32massert\u001b[0m \u001b[0mtype\u001b[0m\u001b[0;34m(\u001b[0m\u001b[0mself\u001b[0m\u001b[0;34m.\u001b[0m\u001b[0mmodel_output\u001b[0m\u001b[0;34m)\u001b[0m \u001b[0;34m!=\u001b[0m \u001b[0mlist\u001b[0m\u001b[0;34m,\u001b[0m \u001b[0;34m\"The model output to be explained must be a single tensor!\"\u001b[0m\u001b[0;34m\u001b[0m\u001b[0;34m\u001b[0m\u001b[0m\n",
      "\u001b[0;32m/opt/conda/lib/python3.7/site-packages/shap/explainers/tf_utils.py\u001b[0m in \u001b[0;36m_get_model_inputs\u001b[0;34m(model)\u001b[0m\n\u001b[1;32m     66\u001b[0m         \u001b[0;32mreturn\u001b[0m \u001b[0mmodel\u001b[0m\u001b[0;34m[\u001b[0m\u001b[0;36m0\u001b[0m\u001b[0;34m]\u001b[0m\u001b[0;34m\u001b[0m\u001b[0;34m\u001b[0m\u001b[0m\n\u001b[1;32m     67\u001b[0m     \u001b[0;32melse\u001b[0m\u001b[0;34m:\u001b[0m\u001b[0;34m\u001b[0m\u001b[0;34m\u001b[0m\u001b[0m\n\u001b[0;32m---> 68\u001b[0;31m         \u001b[0;32massert\u001b[0m \u001b[0;32mFalse\u001b[0m\u001b[0;34m,\u001b[0m \u001b[0mstr\u001b[0m\u001b[0;34m(\u001b[0m\u001b[0mtype\u001b[0m\u001b[0;34m(\u001b[0m\u001b[0mmodel\u001b[0m\u001b[0;34m)\u001b[0m\u001b[0;34m)\u001b[0m \u001b[0;34m+\u001b[0m \u001b[0;34m\" is not currently a supported model type!\"\u001b[0m\u001b[0;34m\u001b[0m\u001b[0;34m\u001b[0m\u001b[0m\n\u001b[0m\u001b[1;32m     69\u001b[0m \u001b[0;34m\u001b[0m\u001b[0m\n\u001b[1;32m     70\u001b[0m \u001b[0;32mdef\u001b[0m \u001b[0m_get_model_output\u001b[0m\u001b[0;34m(\u001b[0m\u001b[0mmodel\u001b[0m\u001b[0;34m)\u001b[0m\u001b[0;34m:\u001b[0m\u001b[0;34m\u001b[0m\u001b[0;34m\u001b[0m\u001b[0m\n",
      "\u001b[0;31mAssertionError\u001b[0m: <class 'function'> is not currently a supported model type!"
     ]
    }
   ],
   "source": [
    "e = shap.DeepExplainer(pred_function, inputs[0:200])"
   ]
  },
  {
   "cell_type": "code",
   "execution_count": 72,
   "id": "97d2a13e",
   "metadata": {},
   "outputs": [],
   "source": [
    "e = shap.DeepExplainer(lirm.phi, inputs[0:200])"
   ]
  },
  {
   "cell_type": "code",
   "execution_count": 73,
   "id": "759f9dbf",
   "metadata": {},
   "outputs": [
    {
     "name": "stdout",
     "output_type": "stream",
     "text": [
      "100\n"
     ]
    },
    {
     "name": "stderr",
     "output_type": "stream",
     "text": [
      "Using a non-full backward hook when the forward contains multiple autograd Nodes is deprecated and will be removed in future versions. This hook will be missing some grad_input. Please use register_full_backward_hook to get the documented behavior.\n"
     ]
    }
   ],
   "source": [
    "x_samples = inputs[200:300]\n",
    "print(len(x_samples))\n",
    "shap_values = e.shap_values(x_samples)"
   ]
  },
  {
   "cell_type": "code",
   "execution_count": 57,
   "id": "130748e6",
   "metadata": {},
   "outputs": [],
   "source": [
    "# (lirm.results()['to_bucket']['features'][0:60])"
   ]
  },
  {
   "cell_type": "code",
   "execution_count": 75,
   "id": "bd5dcb96",
   "metadata": {},
   "outputs": [
    {
     "name": "stdout",
     "output_type": "stream",
     "text": [
      "input_gradients: torch.Size([1000, 66])\n"
     ]
    },
    {
     "data": {
      "image/png": "[encoded data removed]",
      "text/plain": [
       "<Figure size 576x684 with 1 Axes>"
      ]
     },
     "metadata": {
      "needs_background": "light"
     },
     "output_type": "display_data"
    }
   ],
   "source": [
    "shap.summary_plot(shap_values, features=x_samples, feature_names=lirm.results()['to_bucket']['features'])"
   ]
  },
  {
   "cell_type": "code",
   "execution_count": null,
   "id": "7dec494c",
   "metadata": {},
   "outputs": [],
   "source": []
  }
 ],
 "metadata": {
  "environment": {
   "name": "common-cu100.m73",
   "type": "gcloud",
   "uri": "gcr.io/deeplearning-platform-release/base-cu100:m73"
  },
  "kernelspec": {
   "display_name": "Python 3",
   "language": "python",
   "name": "python3"
  },
  "language_info": {
   "codemirror_mode": {
    "name": "ipython",
    "version": 3
   },
   "file_extension": ".py",
   "mimetype": "text/x-python",
   "name": "python",
   "nbconvert_exporter": "python",
   "pygments_lexer": "ipython3",
   "version": "3.7.10"
  }
 },
 "nbformat": 4,
 "nbformat_minor": 5
}
